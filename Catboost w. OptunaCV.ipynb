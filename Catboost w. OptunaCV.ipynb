{
 "cells": [
  {
   "cell_type": "markdown",
   "metadata": {},
   "source": [
    "# Imports"
   ]
  },
  {
   "cell_type": "code",
   "execution_count": 70,
   "metadata": {},
   "outputs": [],
   "source": [
    "import pandas as pd\n",
    "import matplotlib\n",
    "matplotlib.use('TkAgg')\n",
    "import matplotlib.pyplot as plt\n",
    "import seaborn as sns\n",
    "from sklearn.pipeline import Pipeline\n",
    "import numpy as np\n",
    "%matplotlib inline"
   ]
  },
  {
   "cell_type": "code",
   "execution_count": 4,
   "metadata": {},
   "outputs": [],
   "source": [
    "from sklearn.impute import SimpleImputer\n",
    "from sklearn.preprocessing import StandardScaler\n",
    "from sklearn.preprocessing import MinMaxScaler\n",
    "from sklearn.preprocessing import OneHotEncoder\n",
    "from sklearn.compose import ColumnTransformer"
   ]
  },
  {
   "cell_type": "code",
   "execution_count": 5,
   "metadata": {},
   "outputs": [],
   "source": [
    "from sklearn.model_selection import train_test_split\n",
    "from sklearn.model_selection import cross_val_score\n",
    "from sklearn.metrics import accuracy_score, recall_score, f1_score, precision_score\n",
    "from sklearn.metrics import roc_auc_score\n",
    "from sklearn.metrics import plot_confusion_matrix\n",
    "from sklearn.metrics import plot_roc_curve\n",
    "from sklearn.metrics import roc_curve, auc"
   ]
  },
  {
   "cell_type": "code",
   "execution_count": 164,
   "metadata": {},
   "outputs": [],
   "source": [
    "from catboost import CatBoostClassifier\n",
    "from catboost import Pool, cv\n",
    "import optuna\n",
    "import pandas_profiling as pp"
   ]
  },
  {
   "cell_type": "markdown",
   "metadata": {},
   "source": [
    "# Load Data"
   ]
  },
  {
   "cell_type": "code",
   "execution_count": 7,
   "metadata": {},
   "outputs": [],
   "source": [
    "train = pd.read_csv('data/training_set_features.csv', index_col='respondent_id')"
   ]
  },
  {
   "cell_type": "code",
   "execution_count": 8,
   "metadata": {},
   "outputs": [],
   "source": [
    "labels = pd.read_csv('data/training_set_labels.csv', index_col='respondent_id')"
   ]
  },
  {
   "cell_type": "code",
   "execution_count": 9,
   "metadata": {},
   "outputs": [],
   "source": [
    "num_cols = train.select_dtypes('number').columns"
   ]
  },
  {
   "cell_type": "code",
   "execution_count": 10,
   "metadata": {},
   "outputs": [],
   "source": [
    "cat_cols = ['race', 'sex', 'marital_status', 'rent_or_own',  'hhs_geo_region','census_msa', 'employment_industry', 'employment_occupation']"
   ]
  },
  {
   "cell_type": "code",
   "execution_count": 11,
   "metadata": {},
   "outputs": [],
   "source": [
    "ord_cols = ['age_group', 'education',  'income_poverty','employment_status']"
   ]
  },
  {
   "cell_type": "markdown",
   "metadata": {},
   "source": [
    "# Cleaning Data"
   ]
  },
  {
   "cell_type": "code",
   "execution_count": 12,
   "metadata": {},
   "outputs": [],
   "source": [
    "for col in (cat_cols+ord_cols):\n",
    "    train[col] = train[col].fillna(value='None')"
   ]
  },
  {
   "cell_type": "code",
   "execution_count": 13,
   "metadata": {},
   "outputs": [],
   "source": [
    "for col in num_cols:\n",
    "    train[col] = train[col].fillna(value=-1)"
   ]
  },
  {
   "cell_type": "code",
   "execution_count": 17,
   "metadata": {},
   "outputs": [],
   "source": [
    "for col in (cat_cols+ord_cols):\n",
    "    test[col] = test[col].fillna(value='None')"
   ]
  },
  {
   "cell_type": "code",
   "execution_count": 18,
   "metadata": {},
   "outputs": [],
   "source": [
    "for col in num_cols:\n",
    "    test[col] = test[col].fillna(value=-1)"
   ]
  },
  {
   "cell_type": "markdown",
   "metadata": {},
   "source": [
    "# Train Test Split"
   ]
  },
  {
   "cell_type": "code",
   "execution_count": 60,
   "metadata": {},
   "outputs": [],
   "source": [
    "X_train, X_test, y_train, y_test = train_test_split(train, labels, test_size=0.3, random_state=10)"
   ]
  },
  {
   "cell_type": "markdown",
   "metadata": {},
   "source": [
    "# Optuna Optimization with Cross Validation"
   ]
  },
  {
   "cell_type": "code",
   "execution_count": 61,
   "metadata": {},
   "outputs": [
    {
     "data": {
      "text/plain": [
       "array([21, 22, 23, 24, 25, 26, 27, 28, 29, 30, 33, 34], dtype=int64)"
      ]
     },
     "execution_count": 61,
     "metadata": {},
     "output_type": "execute_result"
    }
   ],
   "source": [
    "categorical_features_indices = np.where(X_train.dtypes != np.float)[0]\n",
    "categorical_features_indices"
   ]
  },
  {
   "cell_type": "code",
   "execution_count": 62,
   "metadata": {},
   "outputs": [],
   "source": [
    "train_dataset = Pool(data=X_train,\n",
    "                     label=y_train.h1n1_vaccine,\n",
    "                     cat_features = categorical_features_indices)"
   ]
  },
  {
   "cell_type": "markdown",
   "metadata": {},
   "source": [
    "### H1N1 Vaccine"
   ]
  },
  {
   "cell_type": "code",
   "execution_count": 114,
   "metadata": {},
   "outputs": [],
   "source": [
    "def objective(trial):\n",
    "    param = {\n",
    "        'iterations':trial.suggest_categorical('iterations', [300,500,1000,1200,1500]),\n",
    "        'learning_rate':trial.suggest_float('learning_rate', 0.001, 0.3),\n",
    "        'random_strength':trial.suggest_int('random_strength', 1,10),\n",
    "        'bagging_temperature':trial.suggest_int('bagging_temperature', 0,10),\n",
    "        'max_bin':trial.suggest_categorical('max_bin', [4,5,6,8,10]),\n",
    "        'grow_policy':trial.suggest_categorical('grow_policy', ['SymmetricTree']),\n",
    "        'od_type' : \"Iter\",\n",
    "        'od_wait' : 100,\n",
    "        'depth': trial.suggest_int('max_depth', 2,10),\n",
    "        'l2_leaf_reg': trial.suggest_loguniform('l2_leaf_reg', 1e-8, 100),\n",
    "        'one_hot_max_size':trial.suggest_categorical('one_hot_max_size', [5,10,12,100,500,1024]),\n",
    "        'custom_metric' : ['AUC'],\n",
    "        'loss_function': 'Logloss',\n",
    "        'auto_class_weights':trial.suggest_categorical('auto_class_weights', ['Balanced']),\n",
    "        }\n",
    "\n",
    "    scores = cv(train_dataset,\n",
    "            param,\n",
    "            fold_count=5, \n",
    "            early_stopping_rounds=10,         \n",
    "            plot=False, verbose=False)\n",
    "\n",
    "    return scores['test-AUC-mean'].max()"
   ]
  },
  {
   "cell_type": "code",
   "execution_count": 117,
   "metadata": {
    "scrolled": true
   },
   "outputs": [
    {
     "name": "stderr",
     "output_type": "stream",
     "text": [
      "\u001b[32m[I 2022-01-26 23:51:35,013]\u001b[0m A new study created in memory with name: no-name-679d1a3b-561c-49ba-b88e-3c77b018b5c1\u001b[0m\n"
     ]
    },
    {
     "name": "stdout",
     "output_type": "stream",
     "text": [
      "Training on fold [0/5]\n",
      "\n",
      "bestTest = 0.4800267194\n",
      "bestIteration = 138\n",
      "\n",
      "Training on fold [1/5]\n",
      "\n",
      "bestTest = 0.4803565075\n",
      "bestIteration = 88\n",
      "\n",
      "Training on fold [2/5]\n",
      "\n",
      "bestTest = 0.4557125946\n",
      "bestIteration = 165\n",
      "\n",
      "Training on fold [3/5]\n",
      "\n",
      "bestTest = 0.4558662431\n",
      "bestIteration = 142\n",
      "\n",
      "Training on fold [4/5]\n"
     ]
    },
    {
     "name": "stderr",
     "output_type": "stream",
     "text": [
      "\u001b[32m[I 2022-01-26 23:52:12,942]\u001b[0m Trial 0 finished with value: 0.859674522897232 and parameters: {'iterations': 1500, 'learning_rate': 0.08961999953042239, 'random_strength': 9, 'bagging_temperature': 1, 'max_bin': 10, 'grow_policy': 'SymmetricTree', 'max_depth': 6, 'l2_leaf_reg': 0.0011812125446097113, 'one_hot_max_size': 5, 'auto_class_weights': 'Balanced'}. Best is trial 0 with value: 0.859674522897232.\u001b[0m\n"
     ]
    },
    {
     "name": "stdout",
     "output_type": "stream",
     "text": [
      "\n",
      "bestTest = 0.4685838925\n",
      "bestIteration = 156\n",
      "\n",
      "Training on fold [0/5]\n",
      "\n",
      "bestTest = 0.471572776\n",
      "bestIteration = 87\n",
      "\n",
      "Training on fold [1/5]\n",
      "\n",
      "bestTest = 0.466209224\n",
      "bestIteration = 101\n",
      "\n",
      "Training on fold [2/5]\n",
      "\n",
      "bestTest = 0.4580139837\n",
      "bestIteration = 90\n",
      "\n",
      "Training on fold [3/5]\n",
      "\n",
      "bestTest = 0.4461810667\n",
      "bestIteration = 96\n",
      "\n",
      "Training on fold [4/5]\n"
     ]
    },
    {
     "name": "stderr",
     "output_type": "stream",
     "text": [
      "\u001b[32m[I 2022-01-26 23:52:15,345]\u001b[0m Trial 1 finished with value: 0.863289970742208 and parameters: {'iterations': 1000, 'learning_rate': 0.2957047309441607, 'random_strength': 8, 'bagging_temperature': 6, 'max_bin': 8, 'grow_policy': 'SymmetricTree', 'max_depth': 2, 'l2_leaf_reg': 0.001354720669824658, 'one_hot_max_size': 100, 'auto_class_weights': 'Balanced'}. Best is trial 1 with value: 0.863289970742208.\u001b[0m\n"
     ]
    },
    {
     "name": "stdout",
     "output_type": "stream",
     "text": [
      "\n",
      "bestTest = 0.4605350918\n",
      "bestIteration = 91\n",
      "\n",
      "Training on fold [0/5]\n",
      "\n",
      "bestTest = 0.4715355548\n",
      "bestIteration = 168\n",
      "\n",
      "Training on fold [1/5]\n",
      "\n",
      "bestTest = 0.4676619506\n",
      "bestIteration = 196\n",
      "\n",
      "Training on fold [2/5]\n",
      "\n",
      "bestTest = 0.4542013256\n",
      "bestIteration = 231\n",
      "\n",
      "Training on fold [3/5]\n",
      "\n",
      "bestTest = 0.4486095209\n",
      "bestIteration = 182\n",
      "\n",
      "Training on fold [4/5]\n"
     ]
    },
    {
     "name": "stderr",
     "output_type": "stream",
     "text": [
      "\u001b[32m[I 2022-01-26 23:52:19,844]\u001b[0m Trial 2 finished with value: 0.8632956759850922 and parameters: {'iterations': 1200, 'learning_rate': 0.1371525795360902, 'random_strength': 8, 'bagging_temperature': 10, 'max_bin': 8, 'grow_policy': 'SymmetricTree', 'max_depth': 2, 'l2_leaf_reg': 0.0048185425547954824, 'one_hot_max_size': 500, 'auto_class_weights': 'Balanced'}. Best is trial 2 with value: 0.8632956759850922.\u001b[0m\n"
     ]
    },
    {
     "name": "stdout",
     "output_type": "stream",
     "text": [
      "\n",
      "bestTest = 0.4648767151\n",
      "bestIteration = 153\n",
      "\n",
      "Training on fold [0/5]\n",
      "\n",
      "bestTest = 0.5016222563\n",
      "bestIteration = 156\n",
      "\n",
      "Training on fold [1/5]\n",
      "\n",
      "bestTest = 0.4997414344\n",
      "bestIteration = 130\n",
      "\n",
      "Training on fold [2/5]\n",
      "\n",
      "bestTest = 0.4939671192\n",
      "bestIteration = 132\n",
      "\n",
      "Training on fold [3/5]\n",
      "\n",
      "bestTest = 0.48390452\n",
      "bestIteration = 146\n",
      "\n",
      "Training on fold [4/5]\n"
     ]
    },
    {
     "name": "stderr",
     "output_type": "stream",
     "text": [
      "\u001b[32m[I 2022-01-26 23:53:14,916]\u001b[0m Trial 3 finished with value: 0.8442722380592821 and parameters: {'iterations': 300, 'learning_rate': 0.026623822549052163, 'random_strength': 10, 'bagging_temperature': 7, 'max_bin': 6, 'grow_policy': 'SymmetricTree', 'max_depth': 10, 'l2_leaf_reg': 1.9008463722440555e-07, 'one_hot_max_size': 10, 'auto_class_weights': 'Balanced'}. Best is trial 2 with value: 0.8632956759850922.\u001b[0m\n"
     ]
    },
    {
     "name": "stdout",
     "output_type": "stream",
     "text": [
      "\n",
      "bestTest = 0.5044996904\n",
      "bestIteration = 100\n",
      "\n",
      "Training on fold [0/5]\n",
      "\n",
      "bestTest = 0.4811616152\n",
      "bestIteration = 995\n",
      "\n",
      "Training on fold [1/5]\n",
      "\n",
      "bestTest = 0.4779160529\n",
      "bestIteration = 960\n",
      "\n",
      "Training on fold [2/5]\n",
      "\n",
      "bestTest = 0.4654556267\n",
      "bestIteration = 999\n",
      "\n",
      "Training on fold [3/5]\n",
      "\n",
      "bestTest = 0.4572221802\n",
      "bestIteration = 997\n",
      "\n",
      "Training on fold [4/5]\n"
     ]
    },
    {
     "name": "stderr",
     "output_type": "stream",
     "text": [
      "\u001b[32m[I 2022-01-26 23:53:50,148]\u001b[0m Trial 4 finished with value: 0.8603224232889767 and parameters: {'iterations': 1000, 'learning_rate': 0.007101034052723374, 'random_strength': 6, 'bagging_temperature': 2, 'max_bin': 5, 'grow_policy': 'SymmetricTree', 'max_depth': 6, 'l2_leaf_reg': 0.005827202489296445, 'one_hot_max_size': 500, 'auto_class_weights': 'Balanced'}. Best is trial 2 with value: 0.8632956759850922.\u001b[0m\n"
     ]
    },
    {
     "name": "stdout",
     "output_type": "stream",
     "text": [
      "\n",
      "bestTest = 0.468480216\n",
      "bestIteration = 999\n",
      "\n",
      "Training on fold [0/5]\n",
      "\n",
      "bestTest = 0.4713926445\n",
      "bestIteration = 91\n",
      "\n",
      "Training on fold [1/5]\n",
      "\n",
      "bestTest = 0.4630923856\n",
      "bestIteration = 141\n",
      "\n",
      "Training on fold [2/5]\n",
      "\n",
      "bestTest = 0.4526810883\n",
      "bestIteration = 123\n",
      "\n",
      "Training on fold [3/5]\n",
      "\n",
      "bestTest = 0.4502733145\n",
      "bestIteration = 65\n",
      "\n",
      "Training on fold [4/5]\n"
     ]
    },
    {
     "name": "stderr",
     "output_type": "stream",
     "text": [
      "\u001b[32m[I 2022-01-26 23:53:53,003]\u001b[0m Trial 5 finished with value: 0.8632519878692669 and parameters: {'iterations': 1500, 'learning_rate': 0.2964430813582234, 'random_strength': 2, 'bagging_temperature': 9, 'max_bin': 10, 'grow_policy': 'SymmetricTree', 'max_depth': 2, 'l2_leaf_reg': 1.7622702261668875e-07, 'one_hot_max_size': 100, 'auto_class_weights': 'Balanced'}. Best is trial 2 with value: 0.8632956759850922.\u001b[0m\n"
     ]
    },
    {
     "name": "stdout",
     "output_type": "stream",
     "text": [
      "\n",
      "bestTest = 0.4618003787\n",
      "bestIteration = 83\n",
      "\n",
      "Training on fold [0/5]\n",
      "\n",
      "bestTest = 0.4676575901\n",
      "bestIteration = 67\n",
      "\n",
      "Training on fold [1/5]\n",
      "\n",
      "bestTest = 0.465812894\n",
      "bestIteration = 57\n",
      "\n",
      "Training on fold [2/5]\n",
      "\n",
      "bestTest = 0.4473531453\n",
      "bestIteration = 79\n",
      "\n",
      "Training on fold [3/5]\n",
      "\n",
      "bestTest = 0.4382620002\n",
      "bestIteration = 85\n",
      "\n",
      "Training on fold [4/5]\n"
     ]
    },
    {
     "name": "stderr",
     "output_type": "stream",
     "text": [
      "\u001b[32m[I 2022-01-26 23:54:16,820]\u001b[0m Trial 6 finished with value: 0.867348172022281 and parameters: {'iterations': 300, 'learning_rate': 0.22423670437233847, 'random_strength': 6, 'bagging_temperature': 2, 'max_bin': 10, 'grow_policy': 'SymmetricTree', 'max_depth': 6, 'l2_leaf_reg': 23.41661191676168, 'one_hot_max_size': 5, 'auto_class_weights': 'Balanced'}. Best is trial 6 with value: 0.867348172022281.\u001b[0m\n"
     ]
    },
    {
     "name": "stdout",
     "output_type": "stream",
     "text": [
      "\n",
      "bestTest = 0.4524437104\n",
      "bestIteration = 88\n",
      "\n",
      "Training on fold [0/5]\n",
      "\n",
      "bestTest = 0.5501944566\n",
      "bestIteration = 11\n",
      "\n",
      "Training on fold [1/5]\n",
      "\n",
      "bestTest = 0.5406959924\n",
      "bestIteration = 21\n",
      "\n",
      "Training on fold [2/5]\n",
      "\n",
      "bestTest = 0.5285141666\n",
      "bestIteration = 15\n",
      "\n",
      "Training on fold [3/5]\n",
      "\n",
      "bestTest = 0.5065933923\n",
      "bestIteration = 19\n",
      "\n",
      "Training on fold [4/5]\n"
     ]
    },
    {
     "name": "stderr",
     "output_type": "stream",
     "text": [
      "\u001b[32m[I 2022-01-26 23:54:19,400]\u001b[0m Trial 7 finished with value: 0.8216979088544699 and parameters: {'iterations': 1500, 'learning_rate': 0.1253699635699981, 'random_strength': 7, 'bagging_temperature': 8, 'max_bin': 4, 'grow_policy': 'SymmetricTree', 'max_depth': 10, 'l2_leaf_reg': 2.8307160689696775e-06, 'one_hot_max_size': 1024, 'auto_class_weights': 'Balanced'}. Best is trial 6 with value: 0.867348172022281.\u001b[0m\n"
     ]
    },
    {
     "name": "stdout",
     "output_type": "stream",
     "text": [
      "\n",
      "bestTest = 0.5265408955\n",
      "bestIteration = 13\n",
      "\n",
      "Training on fold [0/5]\n",
      "\n",
      "bestTest = 0.5034953617\n",
      "bestIteration = 146\n",
      "\n",
      "Training on fold [1/5]\n",
      "\n",
      "bestTest = 0.5004125661\n",
      "bestIteration = 129\n",
      "\n",
      "Training on fold [2/5]\n",
      "\n",
      "bestTest = 0.4835811153\n",
      "bestIteration = 187\n",
      "\n",
      "Training on fold [3/5]\n",
      "\n",
      "bestTest = 0.4813393829\n",
      "bestIteration = 168\n",
      "\n",
      "Training on fold [4/5]\n"
     ]
    },
    {
     "name": "stderr",
     "output_type": "stream",
     "text": [
      "\u001b[32m[I 2022-01-26 23:54:36,623]\u001b[0m Trial 8 finished with value: 0.8498436346793505 and parameters: {'iterations': 1000, 'learning_rate': 0.00957473821190967, 'random_strength': 1, 'bagging_temperature': 3, 'max_bin': 5, 'grow_policy': 'SymmetricTree', 'max_depth': 10, 'l2_leaf_reg': 0.0003332900472045444, 'one_hot_max_size': 500, 'auto_class_weights': 'Balanced'}. Best is trial 6 with value: 0.867348172022281.\u001b[0m\n"
     ]
    },
    {
     "name": "stdout",
     "output_type": "stream",
     "text": [
      "\n",
      "bestTest = 0.4860642251\n",
      "bestIteration = 162\n",
      "\n",
      "Training on fold [0/5]\n",
      "\n",
      "bestTest = 0.537475882\n",
      "bestIteration = 4\n",
      "\n",
      "Training on fold [1/5]\n",
      "\n",
      "bestTest = 0.5236289784\n",
      "bestIteration = 4\n",
      "\n",
      "Training on fold [2/5]\n",
      "\n",
      "bestTest = 0.5352038461\n",
      "bestIteration = 3\n",
      "\n",
      "Training on fold [3/5]\n",
      "\n",
      "bestTest = 0.5203430866\n",
      "bestIteration = 6\n",
      "\n",
      "Training on fold [4/5]\n"
     ]
    },
    {
     "name": "stderr",
     "output_type": "stream",
     "text": [
      "\u001b[32m[I 2022-01-26 23:54:38,150]\u001b[0m Trial 9 finished with value: 0.827011333664655 and parameters: {'iterations': 1000, 'learning_rate': 0.2301364835144914, 'random_strength': 2, 'bagging_temperature': 4, 'max_bin': 4, 'grow_policy': 'SymmetricTree', 'max_depth': 10, 'l2_leaf_reg': 0.0013398579507442577, 'one_hot_max_size': 100, 'auto_class_weights': 'Balanced'}. Best is trial 6 with value: 0.867348172022281.\u001b[0m\n"
     ]
    },
    {
     "name": "stdout",
     "output_type": "stream",
     "text": [
      "\n",
      "bestTest = 0.5153978829\n",
      "bestIteration = 6\n",
      "\n",
      "Training on fold [0/5]\n",
      "\n",
      "bestTest = 0.46363464\n",
      "bestIteration = 100\n",
      "\n",
      "Training on fold [1/5]\n",
      "\n",
      "bestTest = 0.4652581738\n",
      "bestIteration = 83\n",
      "\n",
      "Training on fold [2/5]\n",
      "\n",
      "bestTest = 0.4470167104\n",
      "bestIteration = 114\n",
      "\n",
      "Training on fold [3/5]\n",
      "\n",
      "bestTest = 0.4376276767\n",
      "bestIteration = 121\n",
      "\n",
      "Training on fold [4/5]\n"
     ]
    },
    {
     "name": "stderr",
     "output_type": "stream",
     "text": [
      "\u001b[32m[I 2022-01-26 23:54:57,035]\u001b[0m Trial 10 finished with value: 0.8674106123410841 and parameters: {'iterations': 300, 'learning_rate': 0.21210578031115196, 'random_strength': 4, 'bagging_temperature': 0, 'max_bin': 10, 'grow_policy': 'SymmetricTree', 'max_depth': 4, 'l2_leaf_reg': 67.55513953843523, 'one_hot_max_size': 5, 'auto_class_weights': 'Balanced'}. Best is trial 10 with value: 0.8674106123410841.\u001b[0m\n"
     ]
    },
    {
     "name": "stdout",
     "output_type": "stream",
     "text": [
      "\n",
      "bestTest = 0.4585905996\n",
      "bestIteration = 90\n",
      "\n",
      "Training on fold [0/5]\n",
      "\n",
      "bestTest = 0.4637750331\n",
      "bestIteration = 175\n",
      "\n",
      "Training on fold [1/5]\n",
      "\n",
      "bestTest = 0.4659120898\n",
      "bestIteration = 90\n",
      "\n",
      "Training on fold [2/5]\n",
      "\n",
      "bestTest = 0.4462770785\n",
      "bestIteration = 110\n",
      "\n",
      "Training on fold [3/5]\n",
      "\n",
      "bestTest = 0.4346071656\n",
      "bestIteration = 144\n",
      "\n",
      "Training on fold [4/5]\n"
     ]
    },
    {
     "name": "stderr",
     "output_type": "stream",
     "text": [
      "\u001b[32m[I 2022-01-26 23:55:20,676]\u001b[0m Trial 11 finished with value: 0.867960051987005 and parameters: {'iterations': 300, 'learning_rate': 0.21179272225527906, 'random_strength': 4, 'bagging_temperature': 0, 'max_bin': 10, 'grow_policy': 'SymmetricTree', 'max_depth': 4, 'l2_leaf_reg': 34.56103765349822, 'one_hot_max_size': 5, 'auto_class_weights': 'Balanced'}. Best is trial 11 with value: 0.867960051987005.\u001b[0m\n"
     ]
    },
    {
     "name": "stdout",
     "output_type": "stream",
     "text": [
      "\n",
      "bestTest = 0.4577913998\n",
      "bestIteration = 112\n",
      "\n",
      "Training on fold [0/5]\n",
      "\n",
      "bestTest = 0.4650659812\n",
      "bestIteration = 144\n",
      "\n",
      "Training on fold [1/5]\n",
      "\n",
      "bestTest = 0.4662131978\n",
      "bestIteration = 112\n",
      "\n",
      "Training on fold [2/5]\n",
      "\n",
      "bestTest = 0.4511952229\n",
      "bestIteration = 82\n",
      "\n",
      "Training on fold [3/5]\n",
      "\n",
      "bestTest = 0.4355559885\n",
      "bestIteration = 131\n",
      "\n",
      "Training on fold [4/5]\n"
     ]
    },
    {
     "name": "stderr",
     "output_type": "stream",
     "text": [
      "\u001b[32m[I 2022-01-26 23:55:42,234]\u001b[0m Trial 12 finished with value: 0.8668662876894737 and parameters: {'iterations': 300, 'learning_rate': 0.21371183387618528, 'random_strength': 4, 'bagging_temperature': 0, 'max_bin': 10, 'grow_policy': 'SymmetricTree', 'max_depth': 4, 'l2_leaf_reg': 95.0310408809215, 'one_hot_max_size': 5, 'auto_class_weights': 'Balanced'}. Best is trial 11 with value: 0.867960051987005.\u001b[0m\n"
     ]
    },
    {
     "name": "stdout",
     "output_type": "stream",
     "text": [
      "\n",
      "bestTest = 0.4576871031\n",
      "bestIteration = 112\n",
      "\n",
      "Training on fold [0/5]\n",
      "\n",
      "bestTest = 0.4639874638\n",
      "bestIteration = 108\n",
      "\n",
      "Training on fold [1/5]\n",
      "\n",
      "bestTest = 0.4689434821\n",
      "bestIteration = 77\n",
      "\n",
      "Training on fold [2/5]\n",
      "\n",
      "bestTest = 0.4483762098\n",
      "bestIteration = 118\n",
      "\n",
      "Training on fold [3/5]\n",
      "\n",
      "bestTest = 0.442906767\n",
      "bestIteration = 101\n",
      "\n",
      "Training on fold [4/5]\n"
     ]
    },
    {
     "name": "stderr",
     "output_type": "stream",
     "text": [
      "\u001b[32m[I 2022-01-26 23:56:00,498]\u001b[0m Trial 13 finished with value: 0.8655921647279602 and parameters: {'iterations': 500, 'learning_rate': 0.1836821261830615, 'random_strength': 4, 'bagging_temperature': 0, 'max_bin': 10, 'grow_policy': 'SymmetricTree', 'max_depth': 4, 'l2_leaf_reg': 1.293189787628666, 'one_hot_max_size': 12, 'auto_class_weights': 'Balanced'}. Best is trial 11 with value: 0.867960051987005.\u001b[0m\n"
     ]
    },
    {
     "name": "stdout",
     "output_type": "stream",
     "text": [
      "\n",
      "bestTest = 0.4622519583\n",
      "bestIteration = 79\n",
      "\n",
      "Training on fold [0/5]\n",
      "\n",
      "bestTest = 0.4658527384\n",
      "bestIteration = 120\n",
      "\n",
      "Training on fold [1/5]\n",
      "\n",
      "bestTest = 0.4650350552\n",
      "bestIteration = 113\n",
      "\n",
      "Training on fold [2/5]\n",
      "\n",
      "bestTest = 0.4470709225\n",
      "bestIteration = 122\n",
      "\n",
      "Training on fold [3/5]\n",
      "\n",
      "bestTest = 0.4384258144\n",
      "bestIteration = 135\n",
      "\n",
      "Training on fold [4/5]\n"
     ]
    },
    {
     "name": "stderr",
     "output_type": "stream",
     "text": [
      "\u001b[32m[I 2022-01-26 23:56:19,230]\u001b[0m Trial 14 finished with value: 0.8669943879966576 and parameters: {'iterations': 300, 'learning_rate': 0.18241430488443391, 'random_strength': 4, 'bagging_temperature': 5, 'max_bin': 6, 'grow_policy': 'SymmetricTree', 'max_depth': 4, 'l2_leaf_reg': 0.6021265533288196, 'one_hot_max_size': 5, 'auto_class_weights': 'Balanced'}. Best is trial 11 with value: 0.867960051987005.\u001b[0m\n"
     ]
    },
    {
     "name": "stdout",
     "output_type": "stream",
     "text": [
      "\n",
      "bestTest = 0.4586302426\n",
      "bestIteration = 94\n",
      "\n",
      "Training on fold [0/5]\n",
      "\n",
      "bestTest = 0.479887537\n",
      "bestIteration = 32\n",
      "\n",
      "Training on fold [1/5]\n",
      "\n",
      "bestTest = 0.4785047375\n",
      "bestIteration = 31\n",
      "\n",
      "Training on fold [2/5]\n",
      "\n",
      "bestTest = 0.463966688\n",
      "bestIteration = 35\n",
      "\n",
      "Training on fold [3/5]\n",
      "\n",
      "bestTest = 0.4562164525\n",
      "bestIteration = 28\n",
      "\n",
      "Training on fold [4/5]\n"
     ]
    },
    {
     "name": "stderr",
     "output_type": "stream",
     "text": [
      "\u001b[32m[I 2022-01-26 23:56:35,849]\u001b[0m Trial 15 finished with value: 0.8586652640584596 and parameters: {'iterations': 300, 'learning_rate': 0.2549106738246301, 'random_strength': 3, 'bagging_temperature': 0, 'max_bin': 10, 'grow_policy': 'SymmetricTree', 'max_depth': 8, 'l2_leaf_reg': 0.8549315771643822, 'one_hot_max_size': 5, 'auto_class_weights': 'Balanced'}. Best is trial 11 with value: 0.867960051987005.\u001b[0m\n"
     ]
    },
    {
     "name": "stdout",
     "output_type": "stream",
     "text": [
      "\n",
      "bestTest = 0.4649236262\n",
      "bestIteration = 31\n",
      "\n",
      "Training on fold [0/5]\n",
      "\n",
      "bestTest = 0.46622272\n",
      "bestIteration = 98\n",
      "\n",
      "Training on fold [1/5]\n",
      "\n",
      "bestTest = 0.4690424527\n",
      "bestIteration = 92\n",
      "\n",
      "Training on fold [2/5]\n",
      "\n",
      "bestTest = 0.4515788725\n",
      "bestIteration = 88\n",
      "\n",
      "Training on fold [3/5]\n",
      "\n",
      "bestTest = 0.4414120433\n",
      "bestIteration = 112\n",
      "\n",
      "Training on fold [4/5]\n"
     ]
    },
    {
     "name": "stderr",
     "output_type": "stream",
     "text": [
      "\u001b[32m[I 2022-01-26 23:57:00,500]\u001b[0m Trial 16 finished with value: 0.8654367088660271 and parameters: {'iterations': 1200, 'learning_rate': 0.1773384227926434, 'random_strength': 5, 'bagging_temperature': 2, 'max_bin': 10, 'grow_policy': 'SymmetricTree', 'max_depth': 5, 'l2_leaf_reg': 7.995973902506912, 'one_hot_max_size': 12, 'auto_class_weights': 'Balanced'}. Best is trial 11 with value: 0.867960051987005.\u001b[0m\n"
     ]
    },
    {
     "name": "stdout",
     "output_type": "stream",
     "text": [
      "\n",
      "bestTest = 0.458204169\n",
      "bestIteration = 95\n",
      "\n",
      "Training on fold [0/5]\n",
      "\n",
      "bestTest = 0.4702420824\n",
      "bestIteration = 58\n",
      "\n",
      "Training on fold [1/5]\n",
      "\n",
      "bestTest = 0.4670042477\n",
      "bestIteration = 85\n",
      "\n",
      "Training on fold [2/5]\n",
      "\n",
      "bestTest = 0.4498976441\n",
      "bestIteration = 89\n",
      "\n",
      "Training on fold [3/5]\n",
      "\n",
      "bestTest = 0.4449690167\n",
      "bestIteration = 103\n",
      "\n",
      "Training on fold [4/5]\n"
     ]
    },
    {
     "name": "stderr",
     "output_type": "stream",
     "text": [
      "\u001b[32m[I 2022-01-26 23:57:11,458]\u001b[0m Trial 17 finished with value: 0.8643413279432368 and parameters: {'iterations': 500, 'learning_rate': 0.25475797341100803, 'random_strength': 5, 'bagging_temperature': 4, 'max_bin': 10, 'grow_policy': 'SymmetricTree', 'max_depth': 3, 'l2_leaf_reg': 0.06306159710746394, 'one_hot_max_size': 10, 'auto_class_weights': 'Balanced'}. Best is trial 11 with value: 0.867960051987005.\u001b[0m\n"
     ]
    },
    {
     "name": "stdout",
     "output_type": "stream",
     "text": [
      "\n",
      "bestTest = 0.4604964384\n",
      "bestIteration = 91\n",
      "\n",
      "Training on fold [0/5]\n",
      "\n",
      "bestTest = 0.4971344226\n",
      "bestIteration = 53\n",
      "\n",
      "Training on fold [1/5]\n",
      "\n",
      "bestTest = 0.5035116352\n",
      "bestIteration = 21\n",
      "\n",
      "Training on fold [2/5]\n",
      "\n",
      "bestTest = 0.4834361053\n",
      "bestIteration = 37\n",
      "\n",
      "Training on fold [3/5]\n",
      "\n",
      "bestTest = 0.4842337446\n",
      "bestIteration = 44\n",
      "\n",
      "Training on fold [4/5]\n"
     ]
    },
    {
     "name": "stderr",
     "output_type": "stream",
     "text": [
      "\u001b[32m[I 2022-01-26 23:57:14,200]\u001b[0m Trial 18 finished with value: 0.8462466701753548 and parameters: {'iterations': 300, 'learning_rate': 0.08253977991457023, 'random_strength': 3, 'bagging_temperature': 1, 'max_bin': 6, 'grow_policy': 'SymmetricTree', 'max_depth': 8, 'l2_leaf_reg': 2.8479737297402608e-05, 'one_hot_max_size': 1024, 'auto_class_weights': 'Balanced'}. Best is trial 11 with value: 0.867960051987005.\u001b[0m\n"
     ]
    },
    {
     "name": "stdout",
     "output_type": "stream",
     "text": [
      "\n",
      "bestTest = 0.4843504744\n",
      "bestIteration = 58\n",
      "\n",
      "Training on fold [0/5]\n",
      "\n",
      "bestTest = 0.4737875375\n",
      "bestIteration = 41\n",
      "\n",
      "Training on fold [1/5]\n",
      "\n",
      "bestTest = 0.4721432524\n",
      "bestIteration = 78\n",
      "\n",
      "Training on fold [2/5]\n",
      "\n",
      "bestTest = 0.4496738577\n",
      "bestIteration = 91\n",
      "\n",
      "Training on fold [3/5]\n",
      "\n",
      "bestTest = 0.4360977162\n",
      "bestIteration = 84\n",
      "\n",
      "Training on fold [4/5]\n"
     ]
    },
    {
     "name": "stderr",
     "output_type": "stream",
     "text": [
      "\u001b[32m[I 2022-01-26 23:57:31,588]\u001b[0m Trial 19 finished with value: 0.8649588999181332 and parameters: {'iterations': 300, 'learning_rate': 0.1560323824455655, 'random_strength': 1, 'bagging_temperature': 3, 'max_bin': 8, 'grow_policy': 'SymmetricTree', 'max_depth': 5, 'l2_leaf_reg': 0.0856345075555827, 'one_hot_max_size': 5, 'auto_class_weights': 'Balanced'}. Best is trial 11 with value: 0.867960051987005.\u001b[0m\n"
     ]
    },
    {
     "name": "stdout",
     "output_type": "stream",
     "text": [
      "\n",
      "bestTest = 0.4611109304\n",
      "bestIteration = 53\n",
      "\n",
      "Training on fold [0/5]\n",
      "\n",
      "bestTest = 0.4663968529\n",
      "bestIteration = 93\n",
      "\n",
      "Training on fold [1/5]\n",
      "\n",
      "bestTest = 0.4659351425\n",
      "bestIteration = 94\n",
      "\n",
      "Training on fold [2/5]\n",
      "\n",
      "bestTest = 0.4510832329\n",
      "bestIteration = 63\n",
      "\n",
      "Training on fold [3/5]\n",
      "\n",
      "bestTest = 0.4419513566\n",
      "bestIteration = 96\n",
      "\n",
      "Training on fold [4/5]\n"
     ]
    },
    {
     "name": "stderr",
     "output_type": "stream",
     "text": [
      "\u001b[32m[I 2022-01-26 23:57:43,839]\u001b[0m Trial 20 finished with value: 0.8659678174922438 and parameters: {'iterations': 300, 'learning_rate': 0.264209881402545, 'random_strength': 3, 'bagging_temperature': 1, 'max_bin': 5, 'grow_policy': 'SymmetricTree', 'max_depth': 3, 'l2_leaf_reg': 77.61336989410746, 'one_hot_max_size': 5, 'auto_class_weights': 'Balanced'}. Best is trial 11 with value: 0.867960051987005.\u001b[0m\n"
     ]
    },
    {
     "name": "stdout",
     "output_type": "stream",
     "text": [
      "\n",
      "bestTest = 0.4579689748\n",
      "bestIteration = 105\n",
      "\n",
      "Training on fold [0/5]\n",
      "\n",
      "bestTest = 0.4785641579\n",
      "bestIteration = 41\n",
      "\n",
      "Training on fold [1/5]\n",
      "\n",
      "bestTest = 0.4698544955\n",
      "bestIteration = 52\n",
      "\n",
      "Training on fold [2/5]\n",
      "\n",
      "bestTest = 0.4508920577\n",
      "bestIteration = 67\n",
      "\n",
      "Training on fold [3/5]\n",
      "\n",
      "bestTest = 0.4428345296\n",
      "bestIteration = 63\n",
      "\n",
      "Training on fold [4/5]\n"
     ]
    },
    {
     "name": "stderr",
     "output_type": "stream",
     "text": [
      "\u001b[32m[I 2022-01-26 23:58:06,005]\u001b[0m Trial 21 finished with value: 0.863406934532984 and parameters: {'iterations': 300, 'learning_rate': 0.21082492056123503, 'random_strength': 6, 'bagging_temperature': 2, 'max_bin': 10, 'grow_policy': 'SymmetricTree', 'max_depth': 7, 'l2_leaf_reg': 11.178248201032774, 'one_hot_max_size': 5, 'auto_class_weights': 'Balanced'}. Best is trial 11 with value: 0.867960051987005.\u001b[0m\n"
     ]
    },
    {
     "name": "stdout",
     "output_type": "stream",
     "text": [
      "\n",
      "bestTest = 0.4592847751\n",
      "bestIteration = 67\n",
      "\n",
      "Training on fold [0/5]\n",
      "\n",
      "bestTest = 0.4637043983\n",
      "bestIteration = 73\n",
      "\n",
      "Training on fold [1/5]\n",
      "\n",
      "bestTest = 0.4653046749\n",
      "bestIteration = 66\n",
      "\n",
      "Training on fold [2/5]\n",
      "\n",
      "bestTest = 0.4490854129\n",
      "bestIteration = 93\n",
      "\n",
      "Training on fold [3/5]\n",
      "\n",
      "bestTest = 0.4379979197\n",
      "bestIteration = 83\n",
      "\n",
      "Training on fold [4/5]\n"
     ]
    },
    {
     "name": "stderr",
     "output_type": "stream",
     "text": [
      "\u001b[32m[I 2022-01-26 23:58:24,662]\u001b[0m Trial 22 finished with value: 0.8669982009037763 and parameters: {'iterations': 300, 'learning_rate': 0.22697725352490358, 'random_strength': 7, 'bagging_temperature': 0, 'max_bin': 10, 'grow_policy': 'SymmetricTree', 'max_depth': 5, 'l2_leaf_reg': 17.4112617465734, 'one_hot_max_size': 5, 'auto_class_weights': 'Balanced'}. Best is trial 11 with value: 0.867960051987005.\u001b[0m\n"
     ]
    },
    {
     "name": "stdout",
     "output_type": "stream",
     "text": [
      "\n",
      "bestTest = 0.4598277684\n",
      "bestIteration = 70\n",
      "\n",
      "Training on fold [0/5]\n",
      "\n",
      "bestTest = 0.4724173939\n",
      "bestIteration = 59\n",
      "\n",
      "Training on fold [1/5]\n",
      "\n",
      "bestTest = 0.4691326151\n",
      "bestIteration = 55\n",
      "\n",
      "Training on fold [2/5]\n",
      "\n",
      "bestTest = 0.4533752945\n",
      "bestIteration = 64\n",
      "\n",
      "Training on fold [3/5]\n",
      "\n",
      "bestTest = 0.4377204914\n",
      "bestIteration = 70\n",
      "\n",
      "Training on fold [4/5]\n"
     ]
    },
    {
     "name": "stderr",
     "output_type": "stream",
     "text": [
      "\u001b[32m[I 2022-01-26 23:58:48,123]\u001b[0m Trial 23 finished with value: 0.8645392856780658 and parameters: {'iterations': 300, 'learning_rate': 0.19981500032010918, 'random_strength': 5, 'bagging_temperature': 1, 'max_bin': 10, 'grow_policy': 'SymmetricTree', 'max_depth': 7, 'l2_leaf_reg': 3.7174919929890318, 'one_hot_max_size': 5, 'auto_class_weights': 'Balanced'}. Best is trial 11 with value: 0.867960051987005.\u001b[0m\n"
     ]
    },
    {
     "name": "stdout",
     "output_type": "stream",
     "text": [
      "\n",
      "bestTest = 0.460813464\n",
      "bestIteration = 67\n",
      "\n",
      "Training on fold [0/5]\n",
      "\n",
      "bestTest = 0.4681655409\n",
      "bestIteration = 80\n",
      "\n",
      "Training on fold [1/5]\n",
      "\n",
      "bestTest = 0.4640281722\n",
      "bestIteration = 102\n",
      "\n",
      "Training on fold [2/5]\n",
      "\n",
      "bestTest = 0.4481196445\n",
      "bestIteration = 81\n",
      "\n",
      "Training on fold [3/5]\n",
      "\n",
      "bestTest = 0.4431376287\n",
      "bestIteration = 78\n",
      "\n",
      "Training on fold [4/5]\n"
     ]
    },
    {
     "name": "stderr",
     "output_type": "stream",
     "text": [
      "\u001b[32m[I 2022-01-26 23:59:00,821]\u001b[0m Trial 24 finished with value: 0.8661912941917554 and parameters: {'iterations': 500, 'learning_rate': 0.24565688129910673, 'random_strength': 6, 'bagging_temperature': 3, 'max_bin': 10, 'grow_policy': 'SymmetricTree', 'max_depth': 3, 'l2_leaf_reg': 0.1444419042507601, 'one_hot_max_size': 5, 'auto_class_weights': 'Balanced'}. Best is trial 11 with value: 0.867960051987005.\u001b[0m\n"
     ]
    },
    {
     "name": "stdout",
     "output_type": "stream",
     "text": [
      "\n",
      "bestTest = 0.4574062094\n",
      "bestIteration = 163\n",
      "\n",
      "Training on fold [0/5]\n",
      "\n",
      "bestTest = 0.4678809451\n",
      "bestIteration = 57\n",
      "\n",
      "Training on fold [1/5]\n",
      "\n",
      "bestTest = 0.4679127858\n",
      "bestIteration = 56\n",
      "\n",
      "Training on fold [2/5]\n",
      "\n",
      "bestTest = 0.4468153613\n",
      "bestIteration = 74\n",
      "\n",
      "Training on fold [3/5]\n",
      "\n",
      "bestTest = 0.4388436838\n",
      "bestIteration = 88\n",
      "\n",
      "Training on fold [4/5]\n"
     ]
    },
    {
     "name": "stderr",
     "output_type": "stream",
     "text": [
      "\u001b[32m[I 2022-01-26 23:59:18,093]\u001b[0m Trial 25 finished with value: 0.8659603661408593 and parameters: {'iterations': 1200, 'learning_rate': 0.27431952223791756, 'random_strength': 4, 'bagging_temperature': 2, 'max_bin': 4, 'grow_policy': 'SymmetricTree', 'max_depth': 5, 'l2_leaf_reg': 91.73489550576943, 'one_hot_max_size': 5, 'auto_class_weights': 'Balanced'}. Best is trial 11 with value: 0.867960051987005.\u001b[0m\n"
     ]
    },
    {
     "name": "stdout",
     "output_type": "stream",
     "text": [
      "\n",
      "bestTest = 0.4593276849\n",
      "bestIteration = 79\n",
      "\n",
      "Training on fold [0/5]\n",
      "\n",
      "bestTest = 0.468695692\n",
      "bestIteration = 72\n",
      "\n",
      "Training on fold [1/5]\n",
      "\n",
      "bestTest = 0.4646645434\n",
      "bestIteration = 68\n",
      "\n",
      "Training on fold [2/5]\n",
      "\n",
      "bestTest = 0.4495941228\n",
      "bestIteration = 68\n",
      "\n",
      "Training on fold [3/5]\n",
      "\n",
      "bestTest = 0.4415535944\n",
      "bestIteration = 78\n",
      "\n",
      "Training on fold [4/5]\n"
     ]
    },
    {
     "name": "stderr",
     "output_type": "stream",
     "text": [
      "\u001b[32m[I 2022-01-26 23:59:43,722]\u001b[0m Trial 26 finished with value: 0.8655372165904207 and parameters: {'iterations': 300, 'learning_rate': 0.2031896271857559, 'random_strength': 7, 'bagging_temperature': 0, 'max_bin': 10, 'grow_policy': 'SymmetricTree', 'max_depth': 7, 'l2_leaf_reg': 24.1680862544522, 'one_hot_max_size': 10, 'auto_class_weights': 'Balanced'}. Best is trial 11 with value: 0.867960051987005.\u001b[0m\n"
     ]
    },
    {
     "name": "stdout",
     "output_type": "stream",
     "text": [
      "\n",
      "bestTest = 0.4619253331\n",
      "bestIteration = 72\n",
      "\n",
      "Training on fold [0/5]\n",
      "\n",
      "bestTest = 0.466024284\n",
      "bestIteration = 88\n",
      "\n",
      "Training on fold [1/5]\n",
      "\n",
      "bestTest = 0.4689380367\n",
      "bestIteration = 102\n",
      "\n",
      "Training on fold [2/5]\n",
      "\n",
      "bestTest = 0.4504688586\n",
      "bestIteration = 84\n",
      "\n",
      "Training on fold [3/5]\n",
      "\n",
      "bestTest = 0.4415545331\n",
      "bestIteration = 83\n",
      "\n",
      "Training on fold [4/5]\n"
     ]
    },
    {
     "name": "stderr",
     "output_type": "stream",
     "text": [
      "\u001b[32m[I 2022-01-27 00:00:08,413]\u001b[0m Trial 27 finished with value: 0.8657309561373261 and parameters: {'iterations': 300, 'learning_rate': 0.15720264436462683, 'random_strength': 5, 'bagging_temperature': 1, 'max_bin': 10, 'grow_policy': 'SymmetricTree', 'max_depth': 6, 'l2_leaf_reg': 2.5669558901552656, 'one_hot_max_size': 12, 'auto_class_weights': 'Balanced'}. Best is trial 11 with value: 0.867960051987005.\u001b[0m\n"
     ]
    },
    {
     "name": "stdout",
     "output_type": "stream",
     "text": [
      "\n",
      "bestTest = 0.4591635148\n",
      "bestIteration = 85\n",
      "\n",
      "Training on fold [0/5]\n",
      "\n",
      "bestTest = 0.4803977067\n",
      "bestIteration = 52\n",
      "\n",
      "Training on fold [1/5]\n",
      "\n",
      "bestTest = 0.4739775597\n",
      "bestIteration = 58\n",
      "\n",
      "Training on fold [2/5]\n",
      "\n",
      "bestTest = 0.4584491261\n",
      "bestIteration = 50\n",
      "\n",
      "Training on fold [3/5]\n",
      "\n",
      "bestTest = 0.4475288338\n",
      "bestIteration = 57\n",
      "\n",
      "Training on fold [4/5]\n"
     ]
    },
    {
     "name": "stderr",
     "output_type": "stream",
     "text": [
      "\u001b[32m[I 2022-01-27 00:00:10,338]\u001b[0m Trial 28 finished with value: 0.8615255859518017 and parameters: {'iterations': 300, 'learning_rate': 0.23512416914721398, 'random_strength': 3, 'bagging_temperature': 4, 'max_bin': 10, 'grow_policy': 'SymmetricTree', 'max_depth': 4, 'l2_leaf_reg': 1.0595003544247859e-08, 'one_hot_max_size': 1024, 'auto_class_weights': 'Balanced'}. Best is trial 11 with value: 0.867960051987005.\u001b[0m\n"
     ]
    },
    {
     "name": "stdout",
     "output_type": "stream",
     "text": [
      "\n",
      "bestTest = 0.4661947025\n",
      "bestIteration = 52\n",
      "\n",
      "Training on fold [0/5]\n",
      "\n",
      "bestTest = 0.4712137079\n",
      "bestIteration = 102\n",
      "\n",
      "Training on fold [1/5]\n",
      "\n",
      "bestTest = 0.4726545035\n",
      "bestIteration = 96\n",
      "\n",
      "Training on fold [2/5]\n",
      "\n",
      "bestTest = 0.4495505435\n",
      "bestIteration = 114\n",
      "\n",
      "Training on fold [3/5]\n",
      "\n",
      "bestTest = 0.4371759778\n",
      "bestIteration = 124\n",
      "\n",
      "Training on fold [4/5]\n"
     ]
    },
    {
     "name": "stderr",
     "output_type": "stream",
     "text": [
      "\u001b[32m[I 2022-01-27 00:00:41,663]\u001b[0m Trial 29 finished with value: 0.8645130727215132 and parameters: {'iterations': 1500, 'learning_rate': 0.09890030562289924, 'random_strength': 2, 'bagging_temperature': 1, 'max_bin': 10, 'grow_policy': 'SymmetricTree', 'max_depth': 6, 'l2_leaf_reg': 0.2396908593731499, 'one_hot_max_size': 5, 'auto_class_weights': 'Balanced'}. Best is trial 11 with value: 0.867960051987005.\u001b[0m\n"
     ]
    },
    {
     "name": "stdout",
     "output_type": "stream",
     "text": [
      "\n",
      "bestTest = 0.4661528899\n",
      "bestIteration = 63\n",
      "\n",
      "Training on fold [0/5]\n",
      "\n",
      "bestTest = 0.4641770014\n",
      "bestIteration = 195\n",
      "\n",
      "Training on fold [1/5]\n",
      "\n",
      "bestTest = 0.466117631\n",
      "bestIteration = 160\n",
      "\n",
      "Training on fold [2/5]\n",
      "\n",
      "bestTest = 0.449667364\n",
      "bestIteration = 174\n",
      "\n",
      "Training on fold [3/5]\n",
      "\n",
      "bestTest = 0.442289172\n",
      "bestIteration = 166\n",
      "\n",
      "Training on fold [4/5]\n"
     ]
    },
    {
     "name": "stderr",
     "output_type": "stream",
     "text": [
      "\u001b[32m[I 2022-01-27 00:01:03,719]\u001b[0m Trial 30 finished with value: 0.8662879507038135 and parameters: {'iterations': 300, 'learning_rate': 0.17422953878109648, 'random_strength': 8, 'bagging_temperature': 2, 'max_bin': 6, 'grow_policy': 'SymmetricTree', 'max_depth': 3, 'l2_leaf_reg': 24.997520819215154, 'one_hot_max_size': 5, 'auto_class_weights': 'Balanced'}. Best is trial 11 with value: 0.867960051987005.\u001b[0m\n"
     ]
    },
    {
     "name": "stdout",
     "output_type": "stream",
     "text": [
      "\n",
      "bestTest = 0.4585977371\n",
      "bestIteration = 154\n",
      "\n",
      "Training on fold [0/5]\n",
      "\n",
      "bestTest = 0.4657892018\n",
      "bestIteration = 121\n",
      "\n",
      "Training on fold [1/5]\n",
      "\n",
      "bestTest = 0.4703785661\n",
      "bestIteration = 51\n",
      "\n",
      "Training on fold [2/5]\n",
      "\n",
      "bestTest = 0.4505460005\n",
      "bestIteration = 61\n",
      "\n",
      "Training on fold [3/5]\n",
      "\n",
      "bestTest = 0.4380395573\n",
      "bestIteration = 68\n",
      "\n",
      "Training on fold [4/5]\n"
     ]
    },
    {
     "name": "stderr",
     "output_type": "stream",
     "text": [
      "\u001b[32m[I 2022-01-27 00:01:23,570]\u001b[0m Trial 31 finished with value: 0.8658908246151791 and parameters: {'iterations': 300, 'learning_rate': 0.23049472574666863, 'random_strength': 7, 'bagging_temperature': 0, 'max_bin': 10, 'grow_policy': 'SymmetricTree', 'max_depth': 5, 'l2_leaf_reg': 12.980081539793053, 'one_hot_max_size': 5, 'auto_class_weights': 'Balanced'}. Best is trial 11 with value: 0.867960051987005.\u001b[0m\n"
     ]
    },
    {
     "name": "stdout",
     "output_type": "stream",
     "text": [
      "\n",
      "bestTest = 0.4588007231\n",
      "bestIteration = 90\n",
      "\n",
      "Training on fold [0/5]\n",
      "\n",
      "bestTest = 0.466873226\n",
      "bestIteration = 93\n",
      "\n",
      "Training on fold [1/5]\n",
      "\n",
      "bestTest = 0.466726214\n",
      "bestIteration = 68\n",
      "\n",
      "Training on fold [2/5]\n",
      "\n",
      "bestTest = 0.4502270791\n",
      "bestIteration = 82\n",
      "\n",
      "Training on fold [3/5]\n",
      "\n",
      "bestTest = 0.4403343383\n",
      "bestIteration = 83\n",
      "\n",
      "Training on fold [4/5]\n"
     ]
    },
    {
     "name": "stderr",
     "output_type": "stream",
     "text": [
      "\u001b[32m[I 2022-01-27 00:01:43,305]\u001b[0m Trial 32 finished with value: 0.8656858712739922 and parameters: {'iterations': 300, 'learning_rate': 0.22034512410590537, 'random_strength': 9, 'bagging_temperature': 0, 'max_bin': 10, 'grow_policy': 'SymmetricTree', 'max_depth': 5, 'l2_leaf_reg': 3.6396574692688795, 'one_hot_max_size': 5, 'auto_class_weights': 'Balanced'}. Best is trial 11 with value: 0.867960051987005.\u001b[0m\n"
     ]
    },
    {
     "name": "stdout",
     "output_type": "stream",
     "text": [
      "\n",
      "bestTest = 0.4598211305\n",
      "bestIteration = 82\n",
      "\n",
      "Training on fold [0/5]\n",
      "\n",
      "bestTest = 0.4681393306\n",
      "bestIteration = 58\n",
      "\n",
      "Training on fold [1/5]\n",
      "\n",
      "bestTest = 0.4650738002\n",
      "bestIteration = 75\n",
      "\n",
      "Training on fold [2/5]\n",
      "\n",
      "bestTest = 0.4523268117\n",
      "bestIteration = 63\n",
      "\n",
      "Training on fold [3/5]\n",
      "\n",
      "bestTest = 0.4436716922\n",
      "bestIteration = 59\n",
      "\n",
      "Training on fold [4/5]\n"
     ]
    },
    {
     "name": "stderr",
     "output_type": "stream",
     "text": [
      "\u001b[32m[I 2022-01-27 00:01:55,182]\u001b[0m Trial 33 finished with value: 0.8643496866929812 and parameters: {'iterations': 300, 'learning_rate': 0.27833558393044217, 'random_strength': 6, 'bagging_temperature': 1, 'max_bin': 8, 'grow_policy': 'SymmetricTree', 'max_depth': 4, 'l2_leaf_reg': 0.018609862466869263, 'one_hot_max_size': 5, 'auto_class_weights': 'Balanced'}. Best is trial 11 with value: 0.867960051987005.\u001b[0m\n"
     ]
    },
    {
     "name": "stdout",
     "output_type": "stream",
     "text": [
      "\n",
      "bestTest = 0.4616599144\n",
      "bestIteration = 74\n",
      "\n",
      "Training on fold [0/5]\n",
      "\n",
      "bestTest = 0.4658686333\n",
      "bestIteration = 75\n",
      "\n",
      "Training on fold [1/5]\n",
      "\n",
      "bestTest = 0.4650703383\n",
      "bestIteration = 78\n",
      "\n",
      "Training on fold [2/5]\n",
      "\n",
      "bestTest = 0.4526888603\n",
      "bestIteration = 78\n",
      "\n",
      "Training on fold [3/5]\n",
      "\n",
      "bestTest = 0.4406109523\n",
      "bestIteration = 79\n",
      "\n",
      "Training on fold [4/5]\n"
     ]
    },
    {
     "name": "stderr",
     "output_type": "stream",
     "text": [
      "\u001b[32m[I 2022-01-27 00:01:58,495]\u001b[0m Trial 34 finished with value: 0.8668158520806291 and parameters: {'iterations': 1200, 'learning_rate': 0.19456537137918203, 'random_strength': 8, 'bagging_temperature': 0, 'max_bin': 10, 'grow_policy': 'SymmetricTree', 'max_depth': 6, 'l2_leaf_reg': 22.387162900376115, 'one_hot_max_size': 100, 'auto_class_weights': 'Balanced'}. Best is trial 11 with value: 0.867960051987005.\u001b[0m\n"
     ]
    },
    {
     "name": "stdout",
     "output_type": "stream",
     "text": [
      "\n",
      "bestTest = 0.4540418904\n",
      "bestIteration = 81\n",
      "\n",
      "Training on fold [0/5]\n",
      "\n",
      "bestTest = 0.4738454381\n",
      "bestIteration = 56\n",
      "\n",
      "Training on fold [1/5]\n",
      "\n",
      "bestTest = 0.4670379991\n",
      "bestIteration = 59\n",
      "\n",
      "Training on fold [2/5]\n",
      "\n",
      "bestTest = 0.4529909893\n",
      "bestIteration = 63\n",
      "\n",
      "Training on fold [3/5]\n",
      "\n",
      "bestTest = 0.4480904389\n",
      "bestIteration = 57\n",
      "\n",
      "Training on fold [4/5]\n"
     ]
    },
    {
     "name": "stderr",
     "output_type": "stream",
     "text": [
      "\u001b[32m[I 2022-01-27 00:02:00,909]\u001b[0m Trial 35 finished with value: 0.8633827942659277 and parameters: {'iterations': 300, 'learning_rate': 0.2354105527311116, 'random_strength': 7, 'bagging_temperature': 0, 'max_bin': 5, 'grow_policy': 'SymmetricTree', 'max_depth': 5, 'l2_leaf_reg': 0.47230055820807965, 'one_hot_max_size': 500, 'auto_class_weights': 'Balanced'}. Best is trial 11 with value: 0.867960051987005.\u001b[0m\n"
     ]
    },
    {
     "name": "stdout",
     "output_type": "stream",
     "text": [
      "\n",
      "bestTest = 0.4615051937\n",
      "bestIteration = 64\n",
      "\n",
      "Training on fold [0/5]\n",
      "\n",
      "bestTest = 0.4662226987\n",
      "bestIteration = 148\n",
      "\n",
      "Training on fold [1/5]\n",
      "\n",
      "bestTest = 0.4656303751\n",
      "bestIteration = 148\n",
      "\n",
      "Training on fold [2/5]\n",
      "\n",
      "bestTest = 0.4493837454\n",
      "bestIteration = 154\n",
      "\n",
      "Training on fold [3/5]\n",
      "\n",
      "bestTest = 0.4421381904\n",
      "bestIteration = 129\n",
      "\n",
      "Training on fold [4/5]\n"
     ]
    },
    {
     "name": "stderr",
     "output_type": "stream",
     "text": [
      "\u001b[32m[I 2022-01-27 00:02:25,072]\u001b[0m Trial 36 finished with value: 0.8667277346430271 and parameters: {'iterations': 1500, 'learning_rate': 0.1367458576958752, 'random_strength': 9, 'bagging_temperature': 6, 'max_bin': 8, 'grow_policy': 'SymmetricTree', 'max_depth': 4, 'l2_leaf_reg': 4.545625512939078, 'one_hot_max_size': 5, 'auto_class_weights': 'Balanced'}. Best is trial 11 with value: 0.867960051987005.\u001b[0m\n"
     ]
    },
    {
     "name": "stdout",
     "output_type": "stream",
     "text": [
      "\n",
      "bestTest = 0.4547131643\n",
      "bestIteration = 182\n",
      "\n",
      "Training on fold [0/5]\n",
      "\n",
      "bestTest = 0.4631575389\n",
      "bestIteration = 193\n",
      "\n",
      "Training on fold [1/5]\n",
      "\n",
      "bestTest = 0.4648506943\n",
      "bestIteration = 143\n",
      "\n",
      "Training on fold [2/5]\n",
      "\n",
      "bestTest = 0.4523254759\n",
      "bestIteration = 110\n",
      "\n",
      "Training on fold [3/5]\n",
      "\n",
      "bestTest = 0.4428925604\n",
      "bestIteration = 127\n",
      "\n",
      "Training on fold [4/5]\n"
     ]
    },
    {
     "name": "stderr",
     "output_type": "stream",
     "text": [
      "\u001b[32m[I 2022-01-27 00:02:38,789]\u001b[0m Trial 37 finished with value: 0.8660364814802222 and parameters: {'iterations': 1000, 'learning_rate': 0.2743243131167927, 'random_strength': 6, 'bagging_temperature': 1, 'max_bin': 10, 'grow_policy': 'SymmetricTree', 'max_depth': 2, 'l2_leaf_reg': 41.34234390799533, 'one_hot_max_size': 10, 'auto_class_weights': 'Balanced'}. Best is trial 11 with value: 0.867960051987005.\u001b[0m\n"
     ]
    },
    {
     "name": "stdout",
     "output_type": "stream",
     "text": [
      "\n",
      "bestTest = 0.4615679538\n",
      "bestIteration = 137\n",
      "\n",
      "Training on fold [0/5]\n",
      "\n",
      "bestTest = 0.476072126\n",
      "bestIteration = 62\n",
      "\n",
      "Training on fold [1/5]\n",
      "\n",
      "bestTest = 0.4815491089\n",
      "bestIteration = 37\n",
      "\n",
      "Training on fold [2/5]\n",
      "\n",
      "bestTest = 0.4544833733\n",
      "bestIteration = 84\n",
      "\n",
      "Training on fold [3/5]\n",
      "\n",
      "bestTest = 0.4505219095\n",
      "bestIteration = 64\n",
      "\n",
      "Training on fold [4/5]\n"
     ]
    },
    {
     "name": "stderr",
     "output_type": "stream",
     "text": [
      "\u001b[32m[I 2022-01-27 00:02:58,703]\u001b[0m Trial 38 finished with value: 0.8601300009772357 and parameters: {'iterations': 300, 'learning_rate': 0.16606875178637548, 'random_strength': 5, 'bagging_temperature': 2, 'max_bin': 4, 'grow_policy': 'SymmetricTree', 'max_depth': 6, 'l2_leaf_reg': 0.02406526650121267, 'one_hot_max_size': 5, 'auto_class_weights': 'Balanced'}. Best is trial 11 with value: 0.867960051987005.\u001b[0m\n"
     ]
    },
    {
     "name": "stdout",
     "output_type": "stream",
     "text": [
      "\n",
      "bestTest = 0.4661276234\n",
      "bestIteration = 73\n",
      "\n",
      "Training on fold [0/5]\n",
      "\n",
      "bestTest = 0.4834518894\n",
      "bestIteration = 29\n",
      "\n",
      "Training on fold [1/5]\n",
      "\n",
      "bestTest = 0.48163922\n",
      "bestIteration = 30\n",
      "\n",
      "Training on fold [2/5]\n",
      "\n",
      "bestTest = 0.4671798357\n",
      "bestIteration = 27\n",
      "\n",
      "Training on fold [3/5]\n",
      "\n",
      "bestTest = 0.4543430199\n",
      "bestIteration = 40\n",
      "\n",
      "Training on fold [4/5]\n"
     ]
    },
    {
     "name": "stderr",
     "output_type": "stream",
     "text": [
      "\u001b[32m[I 2022-01-27 00:03:00,897]\u001b[0m Trial 39 finished with value: 0.8557828180583427 and parameters: {'iterations': 500, 'learning_rate': 0.2967009267368923, 'random_strength': 4, 'bagging_temperature': 10, 'max_bin': 10, 'grow_policy': 'SymmetricTree', 'max_depth': 8, 'l2_leaf_reg': 1.6859198231848194, 'one_hot_max_size': 500, 'auto_class_weights': 'Balanced'}. Best is trial 11 with value: 0.867960051987005.\u001b[0m\n"
     ]
    },
    {
     "name": "stdout",
     "output_type": "stream",
     "text": [
      "\n",
      "bestTest = 0.4718679794\n",
      "bestIteration = 31\n",
      "\n",
      "Training on fold [0/5]\n",
      "\n",
      "bestTest = 0.4691227735\n",
      "bestIteration = 166\n",
      "\n",
      "Training on fold [1/5]\n",
      "\n",
      "bestTest = 0.4685782244\n",
      "bestIteration = 147\n",
      "\n",
      "Training on fold [2/5]\n",
      "\n",
      "bestTest = 0.4568571929\n",
      "bestIteration = 172\n",
      "\n",
      "Training on fold [3/5]\n",
      "\n",
      "bestTest = 0.4487774916\n",
      "bestIteration = 167\n",
      "\n",
      "Training on fold [4/5]\n"
     ]
    },
    {
     "name": "stderr",
     "output_type": "stream",
     "text": [
      "\u001b[32m[I 2022-01-27 00:03:05,150]\u001b[0m Trial 40 finished with value: 0.8637960140884127 and parameters: {'iterations': 1000, 'learning_rate': 0.11680326002743302, 'random_strength': 8, 'bagging_temperature': 3, 'max_bin': 5, 'grow_policy': 'SymmetricTree', 'max_depth': 3, 'l2_leaf_reg': 0.0005363093146290373, 'one_hot_max_size': 100, 'auto_class_weights': 'Balanced'}. Best is trial 11 with value: 0.867960051987005.\u001b[0m\n"
     ]
    },
    {
     "name": "stdout",
     "output_type": "stream",
     "text": [
      "\n",
      "bestTest = 0.4601547567\n",
      "bestIteration = 163\n",
      "\n",
      "Training on fold [0/5]\n",
      "\n",
      "bestTest = 0.4651780839\n",
      "bestIteration = 120\n",
      "\n",
      "Training on fold [1/5]\n",
      "\n",
      "bestTest = 0.4675563293\n",
      "bestIteration = 72\n",
      "\n",
      "Training on fold [2/5]\n",
      "\n",
      "bestTest = 0.4493135952\n",
      "bestIteration = 108\n",
      "\n",
      "Training on fold [3/5]\n",
      "\n",
      "bestTest = 0.4397720935\n",
      "bestIteration = 96\n",
      "\n",
      "Training on fold [4/5]\n"
     ]
    },
    {
     "name": "stderr",
     "output_type": "stream",
     "text": [
      "\u001b[32m[I 2022-01-27 00:03:23,720]\u001b[0m Trial 41 finished with value: 0.8661403766336331 and parameters: {'iterations': 300, 'learning_rate': 0.18938409614718532, 'random_strength': 4, 'bagging_temperature': 6, 'max_bin': 6, 'grow_policy': 'SymmetricTree', 'max_depth': 4, 'l2_leaf_reg': 11.555329640454849, 'one_hot_max_size': 5, 'auto_class_weights': 'Balanced'}. Best is trial 11 with value: 0.867960051987005.\u001b[0m\n"
     ]
    },
    {
     "name": "stdout",
     "output_type": "stream",
     "text": [
      "\n",
      "bestTest = 0.4585026345\n",
      "bestIteration = 101\n",
      "\n",
      "Training on fold [0/5]\n",
      "\n",
      "bestTest = 0.4650996884\n",
      "bestIteration = 85\n",
      "\n",
      "Training on fold [1/5]\n",
      "\n",
      "bestTest = 0.4644616502\n",
      "bestIteration = 81\n",
      "\n",
      "Training on fold [2/5]\n",
      "\n",
      "bestTest = 0.4474824299\n",
      "bestIteration = 86\n",
      "\n",
      "Training on fold [3/5]\n",
      "\n",
      "bestTest = 0.4425317774\n",
      "bestIteration = 69\n",
      "\n",
      "Training on fold [4/5]\n"
     ]
    },
    {
     "name": "stderr",
     "output_type": "stream",
     "text": [
      "\u001b[32m[I 2022-01-27 00:03:37,883]\u001b[0m Trial 42 finished with value: 0.866319959181682 and parameters: {'iterations': 300, 'learning_rate': 0.21879547294277607, 'random_strength': 4, 'bagging_temperature': 6, 'max_bin': 6, 'grow_policy': 'SymmetricTree', 'max_depth': 4, 'l2_leaf_reg': 0.6252946601391584, 'one_hot_max_size': 5, 'auto_class_weights': 'Balanced'}. Best is trial 11 with value: 0.867960051987005.\u001b[0m\n"
     ]
    },
    {
     "name": "stdout",
     "output_type": "stream",
     "text": [
      "\n",
      "bestTest = 0.4580927828\n",
      "bestIteration = 75\n",
      "\n",
      "Training on fold [0/5]\n",
      "\n",
      "bestTest = 0.4660494539\n",
      "bestIteration = 299\n",
      "\n",
      "Training on fold [1/5]\n",
      "\n",
      "bestTest = 0.4666141073\n",
      "bestIteration = 279\n",
      "\n",
      "Training on fold [2/5]\n",
      "\n",
      "bestTest = 0.4493668855\n",
      "bestIteration = 295\n",
      "\n",
      "Training on fold [3/5]\n",
      "\n",
      "bestTest = 0.4410791564\n",
      "bestIteration = 299\n",
      "\n",
      "Training on fold [4/5]\n"
     ]
    },
    {
     "name": "stderr",
     "output_type": "stream",
     "text": [
      "\u001b[32m[I 2022-01-27 00:04:50,291]\u001b[0m Trial 43 finished with value: 0.8670940722169211 and parameters: {'iterations': 300, 'learning_rate': 0.052215192966043836, 'random_strength': 7, 'bagging_temperature': 8, 'max_bin': 6, 'grow_policy': 'SymmetricTree', 'max_depth': 5, 'l2_leaf_reg': 37.93071779827098, 'one_hot_max_size': 5, 'auto_class_weights': 'Balanced'}. Best is trial 11 with value: 0.867960051987005.\u001b[0m\n"
     ]
    },
    {
     "name": "stdout",
     "output_type": "stream",
     "text": [
      "\n",
      "bestTest = 0.4567978107\n",
      "bestIteration = 296\n",
      "\n",
      "Training on fold [0/5]\n",
      "\n",
      "bestTest = 0.4656768562\n",
      "bestIteration = 292\n",
      "\n",
      "Training on fold [1/5]\n",
      "\n",
      "bestTest = 0.4631844906\n",
      "bestIteration = 299\n",
      "\n",
      "Training on fold [2/5]\n",
      "\n",
      "bestTest = 0.4502150868\n",
      "bestIteration = 298\n",
      "\n",
      "Training on fold [3/5]\n",
      "\n",
      "bestTest = 0.4390865122\n",
      "bestIteration = 297\n",
      "\n",
      "Training on fold [4/5]\n"
     ]
    },
    {
     "name": "stderr",
     "output_type": "stream",
     "text": [
      "\u001b[32m[I 2022-01-27 00:05:00,532]\u001b[0m Trial 44 finished with value: 0.8677263643934425 and parameters: {'iterations': 300, 'learning_rate': 0.04976923956082879, 'random_strength': 7, 'bagging_temperature': 8, 'max_bin': 6, 'grow_policy': 'SymmetricTree', 'max_depth': 6, 'l2_leaf_reg': 41.78212650290884, 'one_hot_max_size': 1024, 'auto_class_weights': 'Balanced'}. Best is trial 11 with value: 0.867960051987005.\u001b[0m\n"
     ]
    },
    {
     "name": "stdout",
     "output_type": "stream",
     "text": [
      "\n",
      "bestTest = 0.456122768\n",
      "bestIteration = 299\n",
      "\n",
      "Training on fold [0/5]\n",
      "\n",
      "bestTest = 0.4646839497\n",
      "bestIteration = 376\n",
      "\n",
      "Training on fold [1/5]\n",
      "\n",
      "bestTest = 0.4635588413\n",
      "bestIteration = 294\n",
      "\n",
      "Training on fold [2/5]\n",
      "\n",
      "bestTest = 0.4493078688\n",
      "bestIteration = 340\n",
      "\n",
      "Training on fold [3/5]\n",
      "\n",
      "bestTest = 0.4371461551\n",
      "bestIteration = 431\n",
      "\n",
      "Training on fold [4/5]\n"
     ]
    },
    {
     "name": "stderr",
     "output_type": "stream",
     "text": [
      "\u001b[32m[I 2022-01-27 00:05:13,584]\u001b[0m Trial 45 finished with value: 0.8681868853552839 and parameters: {'iterations': 1500, 'learning_rate': 0.05065936715455327, 'random_strength': 7, 'bagging_temperature': 9, 'max_bin': 6, 'grow_policy': 'SymmetricTree', 'max_depth': 6, 'l2_leaf_reg': 95.2215985039836, 'one_hot_max_size': 1024, 'auto_class_weights': 'Balanced'}. Best is trial 45 with value: 0.8681868853552839.\u001b[0m\n"
     ]
    },
    {
     "name": "stdout",
     "output_type": "stream",
     "text": [
      "\n",
      "bestTest = 0.4538620766\n",
      "bestIteration = 345\n",
      "\n",
      "Training on fold [0/5]\n",
      "\n",
      "bestTest = 0.4901394131\n",
      "bestIteration = 105\n",
      "\n",
      "Training on fold [1/5]\n",
      "\n",
      "bestTest = 0.4962075869\n",
      "bestIteration = 123\n",
      "\n",
      "Training on fold [2/5]\n",
      "\n",
      "bestTest = 0.4761872063\n",
      "bestIteration = 129\n",
      "\n",
      "Training on fold [3/5]\n",
      "\n",
      "bestTest = 0.4735426856\n",
      "bestIteration = 91\n",
      "\n",
      "Training on fold [4/5]\n"
     ]
    },
    {
     "name": "stderr",
     "output_type": "stream",
     "text": [
      "\u001b[32m[I 2022-01-27 00:05:18,540]\u001b[0m Trial 46 finished with value: 0.85154716803395 and parameters: {'iterations': 1500, 'learning_rate': 0.05222825573047723, 'random_strength': 10, 'bagging_temperature': 8, 'max_bin': 6, 'grow_policy': 'SymmetricTree', 'max_depth': 7, 'l2_leaf_reg': 4.97890891784383e-05, 'one_hot_max_size': 1024, 'auto_class_weights': 'Balanced'}. Best is trial 45 with value: 0.8681868853552839.\u001b[0m\n"
     ]
    },
    {
     "name": "stdout",
     "output_type": "stream",
     "text": [
      "\n",
      "bestTest = 0.480398756\n",
      "bestIteration = 117\n",
      "\n",
      "Training on fold [0/5]\n",
      "\n",
      "bestTest = 0.4665402124\n",
      "bestIteration = 484\n",
      "\n",
      "Training on fold [1/5]\n",
      "\n",
      "bestTest = 0.4630101028\n",
      "bestIteration = 501\n",
      "\n",
      "Training on fold [2/5]\n",
      "\n",
      "bestTest = 0.4482685767\n",
      "bestIteration = 490\n",
      "\n",
      "Training on fold [3/5]\n",
      "\n",
      "bestTest = 0.4364321474\n",
      "bestIteration = 560\n",
      "\n",
      "Training on fold [4/5]\n"
     ]
    },
    {
     "name": "stderr",
     "output_type": "stream",
     "text": [
      "\u001b[32m[I 2022-01-27 00:05:47,427]\u001b[0m Trial 47 finished with value: 0.8693769108956586 and parameters: {'iterations': 1500, 'learning_rate': 0.03036282719263887, 'random_strength': 9, 'bagging_temperature': 9, 'max_bin': 6, 'grow_policy': 'SymmetricTree', 'max_depth': 9, 'l2_leaf_reg': 78.42889923574863, 'one_hot_max_size': 1024, 'auto_class_weights': 'Balanced'}. Best is trial 47 with value: 0.8693769108956586.\u001b[0m\n"
     ]
    },
    {
     "name": "stdout",
     "output_type": "stream",
     "text": [
      "\n",
      "bestTest = 0.4494886571\n",
      "bestIteration = 578\n",
      "\n",
      "Training on fold [0/5]\n",
      "\n",
      "bestTest = 0.4674839612\n",
      "bestIteration = 478\n",
      "\n",
      "Training on fold [1/5]\n",
      "\n",
      "bestTest = 0.4623806437\n",
      "bestIteration = 474\n",
      "\n",
      "Training on fold [2/5]\n",
      "\n",
      "bestTest = 0.4475865711\n",
      "bestIteration = 502\n",
      "\n",
      "Training on fold [3/5]\n",
      "\n",
      "bestTest = 0.4384161399\n",
      "bestIteration = 490\n",
      "\n",
      "Training on fold [4/5]\n"
     ]
    },
    {
     "name": "stderr",
     "output_type": "stream",
     "text": [
      "\u001b[32m[I 2022-01-27 00:06:14,396]\u001b[0m Trial 48 finished with value: 0.8690052072251481 and parameters: {'iterations': 1500, 'learning_rate': 0.030985508296150818, 'random_strength': 9, 'bagging_temperature': 9, 'max_bin': 6, 'grow_policy': 'SymmetricTree', 'max_depth': 9, 'l2_leaf_reg': 98.86726441454996, 'one_hot_max_size': 1024, 'auto_class_weights': 'Balanced'}. Best is trial 47 with value: 0.8693769108956586.\u001b[0m\n"
     ]
    },
    {
     "name": "stdout",
     "output_type": "stream",
     "text": [
      "\n",
      "bestTest = 0.4509753524\n",
      "bestIteration = 494\n",
      "\n",
      "Training on fold [0/5]\n",
      "\n",
      "bestTest = 0.4732131109\n",
      "bestIteration = 304\n",
      "\n",
      "Training on fold [1/5]\n",
      "\n",
      "bestTest = 0.4706121049\n",
      "bestIteration = 326\n",
      "\n",
      "Training on fold [2/5]\n",
      "\n",
      "bestTest = 0.4531240726\n",
      "bestIteration = 331\n",
      "\n",
      "Training on fold [3/5]\n",
      "\n",
      "bestTest = 0.4414425947\n",
      "bestIteration = 421\n",
      "\n",
      "Training on fold [4/5]\n"
     ]
    },
    {
     "name": "stderr",
     "output_type": "stream",
     "text": [
      "\u001b[32m[I 2022-01-27 00:06:34,388]\u001b[0m Trial 49 finished with value: 0.8659036964740002 and parameters: {'iterations': 1500, 'learning_rate': 0.033769668116398914, 'random_strength': 10, 'bagging_temperature': 9, 'max_bin': 6, 'grow_policy': 'SymmetricTree', 'max_depth': 9, 'l2_leaf_reg': 5.904317755768122, 'one_hot_max_size': 1024, 'auto_class_weights': 'Balanced'}. Best is trial 47 with value: 0.8693769108956586.\u001b[0m\n"
     ]
    },
    {
     "name": "stdout",
     "output_type": "stream",
     "text": [
      "\n",
      "bestTest = 0.4565703175\n",
      "bestIteration = 358\n",
      "\n",
      "Training on fold [0/5]\n",
      "\n",
      "bestTest = 0.4674807269\n",
      "bestIteration = 726\n",
      "\n",
      "Training on fold [1/5]\n",
      "\n",
      "bestTest = 0.4635130019\n",
      "bestIteration = 709\n",
      "\n",
      "Training on fold [2/5]\n",
      "\n",
      "bestTest = 0.4484139235\n",
      "bestIteration = 722\n",
      "\n",
      "Training on fold [3/5]\n",
      "\n",
      "bestTest = 0.4360466312\n",
      "bestIteration = 798\n",
      "\n",
      "Training on fold [4/5]\n"
     ]
    },
    {
     "name": "stderr",
     "output_type": "stream",
     "text": [
      "\u001b[32m[I 2022-01-27 00:07:16,647]\u001b[0m Trial 50 finished with value: 0.8692247229040347 and parameters: {'iterations': 1500, 'learning_rate': 0.019046247999709314, 'random_strength': 9, 'bagging_temperature': 9, 'max_bin': 6, 'grow_policy': 'SymmetricTree', 'max_depth': 9, 'l2_leaf_reg': 41.25332850781915, 'one_hot_max_size': 1024, 'auto_class_weights': 'Balanced'}. Best is trial 47 with value: 0.8693769108956586.\u001b[0m\n"
     ]
    },
    {
     "name": "stdout",
     "output_type": "stream",
     "text": [
      "\n",
      "bestTest = 0.4506905398\n",
      "bestIteration = 795\n",
      "\n",
      "Training on fold [0/5]\n",
      "\n",
      "bestTest = 0.4661949749\n",
      "bestIteration = 754\n",
      "\n",
      "Training on fold [1/5]\n",
      "\n",
      "bestTest = 0.4610489942\n",
      "bestIteration = 808\n",
      "\n",
      "Training on fold [2/5]\n",
      "\n",
      "bestTest = 0.4475001524\n",
      "bestIteration = 778\n",
      "\n",
      "Training on fold [3/5]\n",
      "\n",
      "bestTest = 0.4353216713\n",
      "bestIteration = 904\n",
      "\n",
      "Training on fold [4/5]\n"
     ]
    },
    {
     "name": "stderr",
     "output_type": "stream",
     "text": [
      "\u001b[32m[I 2022-01-27 00:08:02,831]\u001b[0m Trial 51 finished with value: 0.8698232780507448 and parameters: {'iterations': 1500, 'learning_rate': 0.01956984506655486, 'random_strength': 9, 'bagging_temperature': 9, 'max_bin': 6, 'grow_policy': 'SymmetricTree', 'max_depth': 9, 'l2_leaf_reg': 88.24841331715501, 'one_hot_max_size': 1024, 'auto_class_weights': 'Balanced'}. Best is trial 51 with value: 0.8698232780507448.\u001b[0m\n"
     ]
    },
    {
     "name": "stdout",
     "output_type": "stream",
     "text": [
      "\n",
      "bestTest = 0.4504867133\n",
      "bestIteration = 817\n",
      "\n",
      "Training on fold [0/5]\n",
      "\n",
      "bestTest = 0.4675887558\n",
      "bestIteration = 952\n",
      "\n",
      "Training on fold [1/5]\n",
      "\n",
      "bestTest = 0.461641208\n",
      "bestIteration = 950\n",
      "\n",
      "Training on fold [2/5]\n",
      "\n",
      "bestTest = 0.4482665259\n",
      "bestIteration = 960\n",
      "\n",
      "Training on fold [3/5]\n",
      "\n",
      "bestTest = 0.4359658209\n",
      "bestIteration = 1069\n",
      "\n",
      "Training on fold [4/5]\n"
     ]
    },
    {
     "name": "stderr",
     "output_type": "stream",
     "text": [
      "\u001b[32m[I 2022-01-27 00:08:57,527]\u001b[0m Trial 52 finished with value: 0.869320926747091 and parameters: {'iterations': 1500, 'learning_rate': 0.015862048527496515, 'random_strength': 9, 'bagging_temperature': 9, 'max_bin': 6, 'grow_policy': 'SymmetricTree', 'max_depth': 9, 'l2_leaf_reg': 92.32538386713922, 'one_hot_max_size': 1024, 'auto_class_weights': 'Balanced'}. Best is trial 51 with value: 0.8698232780507448.\u001b[0m\n"
     ]
    },
    {
     "name": "stdout",
     "output_type": "stream",
     "text": [
      "\n",
      "bestTest = 0.4509094752\n",
      "bestIteration = 968\n",
      "\n",
      "Training on fold [0/5]\n",
      "\n",
      "bestTest = 0.4761992545\n",
      "bestIteration = 1499\n",
      "\n",
      "Training on fold [1/5]\n",
      "\n",
      "bestTest = 0.4713152696\n",
      "bestIteration = 1499\n",
      "\n",
      "Training on fold [2/5]\n",
      "\n",
      "bestTest = 0.4595351986\n",
      "bestIteration = 1499\n",
      "\n",
      "Training on fold [3/5]\n",
      "\n",
      "bestTest = 0.4520171702\n",
      "bestIteration = 1499\n",
      "\n",
      "Training on fold [4/5]\n"
     ]
    },
    {
     "name": "stderr",
     "output_type": "stream",
     "text": [
      "\u001b[32m[I 2022-01-27 00:10:16,617]\u001b[0m Trial 53 finished with value: 0.8638985560519901 and parameters: {'iterations': 1500, 'learning_rate': 0.005807324007125608, 'random_strength': 9, 'bagging_temperature': 9, 'max_bin': 6, 'grow_policy': 'SymmetricTree', 'max_depth': 9, 'l2_leaf_reg': 95.12842478054846, 'one_hot_max_size': 1024, 'auto_class_weights': 'Balanced'}. Best is trial 51 with value: 0.8698232780507448.\u001b[0m\n"
     ]
    },
    {
     "name": "stdout",
     "output_type": "stream",
     "text": [
      "\n",
      "bestTest = 0.4635567147\n",
      "bestIteration = 1499\n",
      "\n",
      "Training on fold [0/5]\n",
      "\n",
      "bestTest = 0.4667989886\n",
      "bestIteration = 789\n",
      "\n",
      "Training on fold [1/5]\n",
      "\n",
      "bestTest = 0.4609918904\n",
      "bestIteration = 774\n",
      "\n",
      "Training on fold [2/5]\n",
      "\n",
      "bestTest = 0.4474551704\n",
      "bestIteration = 832\n",
      "\n",
      "Training on fold [3/5]\n",
      "\n",
      "bestTest = 0.4378093597\n",
      "bestIteration = 862\n",
      "\n",
      "Training on fold [4/5]\n"
     ]
    },
    {
     "name": "stderr",
     "output_type": "stream",
     "text": [
      "\u001b[32m[I 2022-01-27 00:11:02,192]\u001b[0m Trial 54 finished with value: 0.8694390833100947 and parameters: {'iterations': 1500, 'learning_rate': 0.0187787205563527, 'random_strength': 10, 'bagging_temperature': 10, 'max_bin': 6, 'grow_policy': 'SymmetricTree', 'max_depth': 9, 'l2_leaf_reg': 96.56334439180789, 'one_hot_max_size': 1024, 'auto_class_weights': 'Balanced'}. Best is trial 51 with value: 0.8698232780507448.\u001b[0m\n"
     ]
    },
    {
     "name": "stdout",
     "output_type": "stream",
     "text": [
      "\n",
      "bestTest = 0.450834887\n",
      "bestIteration = 834\n",
      "\n",
      "Training on fold [0/5]\n",
      "\n",
      "bestTest = 0.4712005117\n",
      "bestIteration = 526\n",
      "\n",
      "Training on fold [1/5]\n",
      "\n",
      "bestTest = 0.4690933124\n",
      "bestIteration = 553\n",
      "\n",
      "Training on fold [2/5]\n",
      "\n",
      "bestTest = 0.4513529551\n",
      "bestIteration = 575\n",
      "\n",
      "Training on fold [3/5]\n",
      "\n",
      "bestTest = 0.4388603268\n",
      "bestIteration = 596\n",
      "\n",
      "Training on fold [4/5]\n"
     ]
    },
    {
     "name": "stderr",
     "output_type": "stream",
     "text": [
      "\u001b[32m[I 2022-01-27 00:11:33,732]\u001b[0m Trial 55 finished with value: 0.8672253323272712 and parameters: {'iterations': 1500, 'learning_rate': 0.022296832492324784, 'random_strength': 10, 'bagging_temperature': 10, 'max_bin': 6, 'grow_policy': 'SymmetricTree', 'max_depth': 9, 'l2_leaf_reg': 7.880420598106504, 'one_hot_max_size': 1024, 'auto_class_weights': 'Balanced'}. Best is trial 51 with value: 0.8698232780507448.\u001b[0m\n"
     ]
    },
    {
     "name": "stdout",
     "output_type": "stream",
     "text": [
      "\n",
      "bestTest = 0.4554914836\n",
      "bestIteration = 545\n",
      "\n",
      "Training on fold [0/5]\n",
      "\n",
      "bestTest = 0.46766543\n",
      "bestIteration = 625\n",
      "\n",
      "Training on fold [1/5]\n",
      "\n",
      "bestTest = 0.4642507013\n",
      "bestIteration = 595\n",
      "\n",
      "Training on fold [2/5]\n",
      "\n",
      "bestTest = 0.4485617793\n",
      "bestIteration = 646\n",
      "\n",
      "Training on fold [3/5]\n",
      "\n",
      "bestTest = 0.4373955608\n",
      "bestIteration = 709\n",
      "\n",
      "Training on fold [4/5]\n"
     ]
    },
    {
     "name": "stderr",
     "output_type": "stream",
     "text": [
      "\u001b[32m[I 2022-01-27 00:12:29,313]\u001b[0m Trial 56 finished with value: 0.8688658326188511 and parameters: {'iterations': 1500, 'learning_rate': 0.021119001530179177, 'random_strength': 9, 'bagging_temperature': 10, 'max_bin': 6, 'grow_policy': 'SymmetricTree', 'max_depth': 10, 'l2_leaf_reg': 40.89194597746163, 'one_hot_max_size': 1024, 'auto_class_weights': 'Balanced'}. Best is trial 51 with value: 0.8698232780507448.\u001b[0m\n"
     ]
    },
    {
     "name": "stdout",
     "output_type": "stream",
     "text": [
      "\n",
      "bestTest = 0.4525431953\n",
      "bestIteration = 663\n",
      "\n",
      "Training on fold [0/5]\n",
      "\n",
      "bestTest = 0.4784366501\n",
      "bestIteration = 206\n",
      "\n",
      "Training on fold [1/5]\n",
      "\n",
      "bestTest = 0.4734972671\n",
      "bestIteration = 215\n",
      "\n",
      "Training on fold [2/5]\n",
      "\n",
      "bestTest = 0.4614627429\n",
      "bestIteration = 258\n",
      "\n",
      "Training on fold [3/5]\n",
      "\n",
      "bestTest = 0.4473333592\n",
      "bestIteration = 258\n",
      "\n",
      "Training on fold [4/5]\n"
     ]
    },
    {
     "name": "stderr",
     "output_type": "stream",
     "text": [
      "\u001b[32m[I 2022-01-27 00:12:43,134]\u001b[0m Trial 57 finished with value: 0.8627871837167096 and parameters: {'iterations': 1500, 'learning_rate': 0.040480621690801646, 'random_strength': 10, 'bagging_temperature': 7, 'max_bin': 6, 'grow_policy': 'SymmetricTree', 'max_depth': 9, 'l2_leaf_reg': 2.0774809627342385, 'one_hot_max_size': 1024, 'auto_class_weights': 'Balanced'}. Best is trial 51 with value: 0.8698232780507448.\u001b[0m\n"
     ]
    },
    {
     "name": "stdout",
     "output_type": "stream",
     "text": [
      "\n",
      "bestTest = 0.4616562813\n",
      "bestIteration = 262\n",
      "\n",
      "Training on fold [0/5]\n",
      "\n",
      "bestTest = 0.4964070146\n",
      "bestIteration = 89\n",
      "\n",
      "Training on fold [1/5]\n",
      "\n",
      "bestTest = 0.4937048512\n",
      "bestIteration = 62\n",
      "\n",
      "Training on fold [2/5]\n",
      "\n",
      "bestTest = 0.4743084962\n",
      "bestIteration = 115\n",
      "\n",
      "Training on fold [3/5]\n",
      "\n",
      "bestTest = 0.4686669603\n",
      "bestIteration = 76\n",
      "\n",
      "Training on fold [4/5]\n"
     ]
    },
    {
     "name": "stderr",
     "output_type": "stream",
     "text": [
      "\u001b[32m[I 2022-01-27 00:12:47,813]\u001b[0m Trial 58 finished with value: 0.8494697226840525 and parameters: {'iterations': 1500, 'learning_rate': 0.06776018954435455, 'random_strength': 9, 'bagging_temperature': 9, 'max_bin': 6, 'grow_policy': 'SymmetricTree', 'max_depth': 8, 'l2_leaf_reg': 0.003231636331063662, 'one_hot_max_size': 1024, 'auto_class_weights': 'Balanced'}. Best is trial 51 with value: 0.8698232780507448.\u001b[0m\n"
     ]
    },
    {
     "name": "stdout",
     "output_type": "stream",
     "text": [
      "\n",
      "bestTest = 0.4873743664\n",
      "bestIteration = 78\n",
      "\n",
      "Training on fold [0/5]\n",
      "\n",
      "bestTest = 0.4734754805\n",
      "bestIteration = 525\n",
      "\n",
      "Training on fold [1/5]\n",
      "\n",
      "bestTest = 0.4684810238\n",
      "bestIteration = 586\n",
      "\n",
      "Training on fold [2/5]\n",
      "\n",
      "bestTest = 0.4518654246\n",
      "bestIteration = 767\n",
      "\n",
      "Training on fold [3/5]\n",
      "\n",
      "bestTest = 0.4386205235\n",
      "bestIteration = 805\n",
      "\n",
      "Training on fold [4/5]\n"
     ]
    },
    {
     "name": "stderr",
     "output_type": "stream",
     "text": [
      "\u001b[32m[I 2022-01-27 00:13:25,720]\u001b[0m Trial 59 finished with value: 0.8666770307525671 and parameters: {'iterations': 1500, 'learning_rate': 0.016283955059958277, 'random_strength': 8, 'bagging_temperature': 10, 'max_bin': 6, 'grow_policy': 'SymmetricTree', 'max_depth': 9, 'l2_leaf_reg': 14.908046785004869, 'one_hot_max_size': 1024, 'auto_class_weights': 'Balanced'}. Best is trial 51 with value: 0.8698232780507448.\u001b[0m\n"
     ]
    },
    {
     "name": "stdout",
     "output_type": "stream",
     "text": [
      "\n",
      "bestTest = 0.4555195655\n",
      "bestIteration = 769\n",
      "\n",
      "Training on fold [0/5]\n",
      "\n",
      "bestTest = 0.5345238619\n",
      "bestIteration = 38\n",
      "\n",
      "Training on fold [1/5]\n",
      "\n",
      "bestTest = 0.5242816643\n",
      "bestIteration = 37\n",
      "\n",
      "Training on fold [2/5]\n",
      "\n",
      "bestTest = 0.5066556706\n",
      "bestIteration = 42\n",
      "\n",
      "Training on fold [3/5]\n",
      "\n",
      "bestTest = 0.507796212\n",
      "bestIteration = 36\n",
      "\n",
      "Training on fold [4/5]\n"
     ]
    },
    {
     "name": "stderr",
     "output_type": "stream",
     "text": [
      "\u001b[32m[I 2022-01-27 00:13:29,715]\u001b[0m Trial 60 finished with value: 0.8299161823404344 and parameters: {'iterations': 1500, 'learning_rate': 0.06733280226182523, 'random_strength': 9, 'bagging_temperature': 7, 'max_bin': 6, 'grow_policy': 'SymmetricTree', 'max_depth': 10, 'l2_leaf_reg': 9.085327875056237e-07, 'one_hot_max_size': 1024, 'auto_class_weights': 'Balanced'}. Best is trial 51 with value: 0.8698232780507448.\u001b[0m\n"
     ]
    },
    {
     "name": "stdout",
     "output_type": "stream",
     "text": [
      "\n",
      "bestTest = 0.5154786708\n",
      "bestIteration = 37\n",
      "\n",
      "Training on fold [0/5]\n",
      "\n",
      "bestTest = 0.4882597237\n",
      "bestIteration = 1499\n",
      "\n",
      "Training on fold [1/5]\n",
      "\n",
      "bestTest = 0.483482828\n",
      "bestIteration = 1499\n",
      "\n",
      "Training on fold [2/5]\n",
      "\n",
      "bestTest = 0.474444801\n",
      "bestIteration = 1499\n",
      "\n",
      "Training on fold [3/5]\n",
      "\n",
      "bestTest = 0.4675732644\n",
      "bestIteration = 1499\n",
      "\n",
      "Training on fold [4/5]\n"
     ]
    },
    {
     "name": "stderr",
     "output_type": "stream",
     "text": [
      "\u001b[32m[I 2022-01-27 00:15:28,919]\u001b[0m Trial 61 finished with value: 0.8605450874245602 and parameters: {'iterations': 1500, 'learning_rate': 0.0026728730090749345, 'random_strength': 9, 'bagging_temperature': 10, 'max_bin': 6, 'grow_policy': 'SymmetricTree', 'max_depth': 10, 'l2_leaf_reg': 44.53613748792341, 'one_hot_max_size': 1024, 'auto_class_weights': 'Balanced'}. Best is trial 51 with value: 0.8698232780507448.\u001b[0m\n"
     ]
    },
    {
     "name": "stdout",
     "output_type": "stream",
     "text": [
      "\n",
      "bestTest = 0.4778991167\n",
      "bestIteration = 1499\n",
      "\n",
      "Training on fold [0/5]\n",
      "\n",
      "bestTest = 0.4671415252\n",
      "bestIteration = 531\n",
      "\n",
      "Training on fold [1/5]\n",
      "\n",
      "bestTest = 0.4621507428\n",
      "bestIteration = 550\n",
      "\n",
      "Training on fold [2/5]\n",
      "\n",
      "bestTest = 0.4479480863\n",
      "bestIteration = 525\n",
      "\n",
      "Training on fold [3/5]\n",
      "\n",
      "bestTest = 0.4371852675\n",
      "bestIteration = 590\n",
      "\n",
      "Training on fold [4/5]\n"
     ]
    },
    {
     "name": "stderr",
     "output_type": "stream",
     "text": [
      "\u001b[32m[I 2022-01-27 00:16:01,076]\u001b[0m Trial 62 finished with value: 0.8693367275040689 and parameters: {'iterations': 1500, 'learning_rate': 0.027431873974294023, 'random_strength': 10, 'bagging_temperature': 8, 'max_bin': 6, 'grow_policy': 'SymmetricTree', 'max_depth': 9, 'l2_leaf_reg': 46.55101349163321, 'one_hot_max_size': 1024, 'auto_class_weights': 'Balanced'}. Best is trial 51 with value: 0.8698232780507448.\u001b[0m\n"
     ]
    },
    {
     "name": "stdout",
     "output_type": "stream",
     "text": [
      "\n",
      "bestTest = 0.4510126512\n",
      "bestIteration = 609\n",
      "\n",
      "Training on fold [0/5]\n",
      "\n",
      "bestTest = 0.4708903781\n",
      "bestIteration = 372\n",
      "\n",
      "Training on fold [1/5]\n",
      "\n",
      "bestTest = 0.4670542008\n",
      "bestIteration = 432\n",
      "\n",
      "Training on fold [2/5]\n",
      "\n",
      "bestTest = 0.4487174185\n",
      "bestIteration = 437\n",
      "\n",
      "Training on fold [3/5]\n",
      "\n",
      "bestTest = 0.4389674833\n",
      "bestIteration = 450\n",
      "\n",
      "Training on fold [4/5]\n"
     ]
    },
    {
     "name": "stderr",
     "output_type": "stream",
     "text": [
      "\u001b[32m[I 2022-01-27 00:16:20,606]\u001b[0m Trial 63 finished with value: 0.8675018506962531 and parameters: {'iterations': 1500, 'learning_rate': 0.03358907091350506, 'random_strength': 10, 'bagging_temperature': 9, 'max_bin': 6, 'grow_policy': 'SymmetricTree', 'max_depth': 8, 'l2_leaf_reg': 7.5513312078135435, 'one_hot_max_size': 1024, 'auto_class_weights': 'Balanced'}. Best is trial 51 with value: 0.8698232780507448.\u001b[0m\n"
     ]
    },
    {
     "name": "stdout",
     "output_type": "stream",
     "text": [
      "\n",
      "bestTest = 0.4549764154\n",
      "bestIteration = 366\n",
      "\n",
      "Training on fold [0/5]\n",
      "\n",
      "bestTest = 0.4668331678\n",
      "bestIteration = 1117\n",
      "\n",
      "Training on fold [1/5]\n",
      "\n",
      "bestTest = 0.4605662663\n",
      "bestIteration = 1141\n",
      "\n",
      "Training on fold [2/5]\n",
      "\n",
      "bestTest = 0.4478184263\n",
      "bestIteration = 1111\n",
      "\n",
      "Training on fold [3/5]\n",
      "\n",
      "bestTest = 0.4363289063\n",
      "bestIteration = 1267\n",
      "\n",
      "Training on fold [4/5]\n"
     ]
    },
    {
     "name": "stderr",
     "output_type": "stream",
     "text": [
      "\u001b[32m[I 2022-01-27 00:17:28,962]\u001b[0m Trial 64 finished with value: 0.8697231175399291 and parameters: {'iterations': 1500, 'learning_rate': 0.013159266411693259, 'random_strength': 10, 'bagging_temperature': 9, 'max_bin': 6, 'grow_policy': 'SymmetricTree', 'max_depth': 9, 'l2_leaf_reg': 99.71107713402304, 'one_hot_max_size': 1024, 'auto_class_weights': 'Balanced'}. Best is trial 51 with value: 0.8698232780507448.\u001b[0m\n"
     ]
    },
    {
     "name": "stdout",
     "output_type": "stream",
     "text": [
      "\n",
      "bestTest = 0.4508923181\n",
      "bestIteration = 1219\n",
      "\n",
      "Training on fold [0/5]\n",
      "\n",
      "bestTest = 0.4686994532\n",
      "bestIteration = 949\n",
      "\n",
      "Training on fold [1/5]\n",
      "\n",
      "bestTest = 0.4699730445\n",
      "bestIteration = 664\n",
      "\n",
      "Training on fold [2/5]\n",
      "\n",
      "bestTest = 0.4499721645\n",
      "bestIteration = 1004\n",
      "\n",
      "Training on fold [3/5]\n",
      "\n",
      "bestTest = 0.4369797832\n",
      "bestIteration = 1042\n",
      "\n",
      "Training on fold [4/5]\n"
     ]
    },
    {
     "name": "stderr",
     "output_type": "stream",
     "text": [
      "\u001b[32m[I 2022-01-27 00:18:22,884]\u001b[0m Trial 65 finished with value: 0.8678162584386234 and parameters: {'iterations': 1500, 'learning_rate': 0.013894155429838857, 'random_strength': 10, 'bagging_temperature': 8, 'max_bin': 6, 'grow_policy': 'SymmetricTree', 'max_depth': 9, 'l2_leaf_reg': 19.85266805797494, 'one_hot_max_size': 1024, 'auto_class_weights': 'Balanced'}. Best is trial 51 with value: 0.8698232780507448.\u001b[0m\n"
     ]
    },
    {
     "name": "stdout",
     "output_type": "stream",
     "text": [
      "\n",
      "bestTest = 0.4537889781\n",
      "bestIteration = 954\n",
      "\n",
      "Training on fold [0/5]\n",
      "\n",
      "bestTest = 0.4671341612\n",
      "bestIteration = 365\n",
      "\n",
      "Training on fold [1/5]\n",
      "\n",
      "bestTest = 0.4628473603\n",
      "bestIteration = 366\n",
      "\n",
      "Training on fold [2/5]\n",
      "\n",
      "bestTest = 0.4468815932\n",
      "bestIteration = 358\n",
      "\n",
      "Training on fold [3/5]\n",
      "\n",
      "bestTest = 0.4390727644\n",
      "bestIteration = 420\n",
      "\n",
      "Training on fold [4/5]\n"
     ]
    },
    {
     "name": "stderr",
     "output_type": "stream",
     "text": [
      "\u001b[32m[I 2022-01-27 00:18:42,173]\u001b[0m Trial 66 finished with value: 0.8684725575684379 and parameters: {'iterations': 1500, 'learning_rate': 0.041406379772283286, 'random_strength': 10, 'bagging_temperature': 8, 'max_bin': 6, 'grow_policy': 'SymmetricTree', 'max_depth': 8, 'l2_leaf_reg': 47.426147887378434, 'one_hot_max_size': 1024, 'auto_class_weights': 'Balanced'}. Best is trial 51 with value: 0.8698232780507448.\u001b[0m\n"
     ]
    },
    {
     "name": "stdout",
     "output_type": "stream",
     "text": [
      "\n",
      "bestTest = 0.4527031274\n",
      "bestIteration = 376\n",
      "\n",
      "Training on fold [0/5]\n",
      "\n",
      "bestTest = 0.4796889363\n",
      "bestIteration = 124\n",
      "\n",
      "Training on fold [1/5]\n",
      "\n",
      "bestTest = 0.4757702432\n",
      "bestIteration = 134\n",
      "\n",
      "Training on fold [2/5]\n",
      "\n",
      "bestTest = 0.4525853495\n",
      "bestIteration = 179\n",
      "\n",
      "Training on fold [3/5]\n",
      "\n",
      "bestTest = 0.4545321165\n",
      "bestIteration = 129\n",
      "\n",
      "Training on fold [4/5]\n"
     ]
    },
    {
     "name": "stderr",
     "output_type": "stream",
     "text": [
      "\u001b[32m[I 2022-01-27 00:19:50,199]\u001b[0m Trial 67 finished with value: 0.8612656180773659 and parameters: {'iterations': 1500, 'learning_rate': 0.06882518188327261, 'random_strength': 10, 'bagging_temperature': 9, 'max_bin': 4, 'grow_policy': 'SymmetricTree', 'max_depth': 9, 'l2_leaf_reg': 1.099216227362658, 'one_hot_max_size': 12, 'auto_class_weights': 'Balanced'}. Best is trial 51 with value: 0.8698232780507448.\u001b[0m\n"
     ]
    },
    {
     "name": "stdout",
     "output_type": "stream",
     "text": [
      "\n",
      "bestTest = 0.465474636\n",
      "bestIteration = 141\n",
      "\n",
      "Training on fold [0/5]\n",
      "\n",
      "bestTest = 0.4721200709\n",
      "bestIteration = 812\n",
      "\n",
      "Training on fold [1/5]\n",
      "\n",
      "bestTest = 0.4698452328\n",
      "bestIteration = 708\n",
      "\n",
      "Training on fold [2/5]\n",
      "\n",
      "bestTest = 0.4619640638\n",
      "bestIteration = 524\n",
      "\n",
      "Training on fold [3/5]\n",
      "\n",
      "bestTest = 0.4388684577\n",
      "bestIteration = 1113\n",
      "\n",
      "Training on fold [4/5]\n"
     ]
    },
    {
     "name": "stderr",
     "output_type": "stream",
     "text": [
      "\u001b[32m[I 2022-01-27 00:21:02,509]\u001b[0m Trial 68 finished with value: 0.8658248484926805 and parameters: {'iterations': 1500, 'learning_rate': 0.011687463898332223, 'random_strength': 8, 'bagging_temperature': 10, 'max_bin': 6, 'grow_policy': 'SymmetricTree', 'max_depth': 10, 'l2_leaf_reg': 17.01951280547982, 'one_hot_max_size': 1024, 'auto_class_weights': 'Balanced'}. Best is trial 51 with value: 0.8698232780507448.\u001b[0m\n"
     ]
    },
    {
     "name": "stdout",
     "output_type": "stream",
     "text": [
      "\n",
      "bestTest = 0.4581568066\n",
      "bestIteration = 800\n",
      "\n",
      "Training on fold [0/5]\n",
      "\n",
      "bestTest = 0.514271042\n",
      "bestIteration = 1499\n",
      "\n",
      "Training on fold [1/5]\n",
      "\n",
      "bestTest = 0.5108390632\n",
      "bestIteration = 1499\n",
      "\n",
      "Training on fold [2/5]\n",
      "\n",
      "bestTest = 0.5037379866\n",
      "bestIteration = 1499\n",
      "\n",
      "Training on fold [3/5]\n",
      "\n",
      "bestTest = 0.5010007006\n",
      "bestIteration = 1499\n",
      "\n",
      "Training on fold [4/5]\n"
     ]
    },
    {
     "name": "stderr",
     "output_type": "stream",
     "text": [
      "\u001b[32m[I 2022-01-27 00:23:11,502]\u001b[0m Trial 69 finished with value: 0.8562967345776263 and parameters: {'iterations': 1500, 'learning_rate': 0.0011363271584126419, 'random_strength': 9, 'bagging_temperature': 8, 'max_bin': 6, 'grow_policy': 'SymmetricTree', 'max_depth': 10, 'l2_leaf_reg': 4.253743169478783, 'one_hot_max_size': 1024, 'auto_class_weights': 'Balanced'}. Best is trial 51 with value: 0.8698232780507448.\u001b[0m\n"
     ]
    },
    {
     "name": "stdout",
     "output_type": "stream",
     "text": [
      "\n",
      "bestTest = 0.5058314899\n",
      "bestIteration = 1499\n",
      "\n",
      "Training on fold [0/5]\n",
      "\n",
      "bestTest = 0.466815592\n",
      "bestIteration = 652\n",
      "\n",
      "Training on fold [1/5]\n",
      "\n",
      "bestTest = 0.4604398622\n",
      "bestIteration = 707\n",
      "\n",
      "Training on fold [2/5]\n",
      "\n",
      "bestTest = 0.4473981613\n",
      "bestIteration = 654\n",
      "\n",
      "Training on fold [3/5]\n",
      "\n",
      "bestTest = 0.4370840908\n",
      "bestIteration = 699\n",
      "\n",
      "Training on fold [4/5]\n"
     ]
    },
    {
     "name": "stderr",
     "output_type": "stream",
     "text": [
      "\u001b[32m[I 2022-01-27 00:23:44,833]\u001b[0m Trial 70 finished with value: 0.8692337073636975 and parameters: {'iterations': 1200, 'learning_rate': 0.023668234028706076, 'random_strength': 10, 'bagging_temperature': 9, 'max_bin': 8, 'grow_policy': 'SymmetricTree', 'max_depth': 8, 'l2_leaf_reg': 61.77788029866629, 'one_hot_max_size': 1024, 'auto_class_weights': 'Balanced'}. Best is trial 51 with value: 0.8698232780507448.\u001b[0m\n"
     ]
    },
    {
     "name": "stdout",
     "output_type": "stream",
     "text": [
      "\n",
      "bestTest = 0.4517254913\n",
      "bestIteration = 625\n",
      "\n",
      "Training on fold [0/5]\n",
      "\n",
      "bestTest = 0.4692371487\n",
      "bestIteration = 548\n",
      "\n",
      "Training on fold [1/5]\n",
      "\n",
      "bestTest = 0.4624291391\n",
      "bestIteration = 590\n",
      "\n",
      "Training on fold [2/5]\n",
      "\n",
      "bestTest = 0.4487148238\n",
      "bestIteration = 575\n",
      "\n",
      "Training on fold [3/5]\n",
      "\n",
      "bestTest = 0.4367266833\n",
      "bestIteration = 610\n",
      "\n",
      "Training on fold [4/5]\n"
     ]
    },
    {
     "name": "stderr",
     "output_type": "stream",
     "text": [
      "\u001b[32m[I 2022-01-27 00:24:19,504]\u001b[0m Trial 71 finished with value: 0.8687590548817731 and parameters: {'iterations': 1200, 'learning_rate': 0.02519255774863091, 'random_strength': 10, 'bagging_temperature': 9, 'max_bin': 8, 'grow_policy': 'SymmetricTree', 'max_depth': 9, 'l2_leaf_reg': 57.082337241930766, 'one_hot_max_size': 1024, 'auto_class_weights': 'Balanced'}. Best is trial 51 with value: 0.8698232780507448.\u001b[0m\n"
     ]
    },
    {
     "name": "stdout",
     "output_type": "stream",
     "text": [
      "\n",
      "bestTest = 0.4512150085\n",
      "bestIteration = 575\n",
      "\n",
      "Training on fold [0/5]\n",
      "\n",
      "bestTest = 0.4680474293\n",
      "bestIteration = 377\n",
      "\n",
      "Training on fold [1/5]\n",
      "\n",
      "bestTest = 0.4644483219\n",
      "bestIteration = 361\n",
      "\n",
      "Training on fold [2/5]\n",
      "\n",
      "bestTest = 0.4494423164\n",
      "bestIteration = 369\n",
      "\n",
      "Training on fold [3/5]\n",
      "\n",
      "bestTest = 0.4397568201\n",
      "bestIteration = 379\n",
      "\n",
      "Training on fold [4/5]\n"
     ]
    },
    {
     "name": "stderr",
     "output_type": "stream",
     "text": [
      "\u001b[32m[I 2022-01-27 00:24:38,008]\u001b[0m Trial 72 finished with value: 0.8678202466791678 and parameters: {'iterations': 1200, 'learning_rate': 0.03976152050690686, 'random_strength': 10, 'bagging_temperature': 10, 'max_bin': 6, 'grow_policy': 'SymmetricTree', 'max_depth': 8, 'l2_leaf_reg': 26.76230175340876, 'one_hot_max_size': 1024, 'auto_class_weights': 'Balanced'}. Best is trial 51 with value: 0.8698232780507448.\u001b[0m\n"
     ]
    },
    {
     "name": "stdout",
     "output_type": "stream",
     "text": [
      "\n",
      "bestTest = 0.4543407362\n",
      "bestIteration = 347\n",
      "\n",
      "Training on fold [0/5]\n",
      "\n",
      "bestTest = 0.4719472144\n",
      "bestIteration = 494\n",
      "\n",
      "Training on fold [1/5]\n",
      "\n",
      "bestTest = 0.4726905392\n",
      "bestIteration = 363\n",
      "\n",
      "Training on fold [2/5]\n",
      "\n",
      "bestTest = 0.4498204403\n",
      "bestIteration = 615\n",
      "\n",
      "Training on fold [3/5]\n",
      "\n",
      "bestTest = 0.437124474\n",
      "bestIteration = 665\n",
      "\n",
      "Training on fold [4/5]\n"
     ]
    },
    {
     "name": "stderr",
     "output_type": "stream",
     "text": [
      "\u001b[32m[I 2022-01-27 00:25:09,958]\u001b[0m Trial 73 finished with value: 0.8672024015184272 and parameters: {'iterations': 1200, 'learning_rate': 0.021083189379809693, 'random_strength': 9, 'bagging_temperature': 9, 'max_bin': 8, 'grow_policy': 'SymmetricTree', 'max_depth': 9, 'l2_leaf_reg': 11.594448537875618, 'one_hot_max_size': 1024, 'auto_class_weights': 'Balanced'}. Best is trial 51 with value: 0.8698232780507448.\u001b[0m\n"
     ]
    },
    {
     "name": "stdout",
     "output_type": "stream",
     "text": [
      "\n",
      "bestTest = 0.4533924581\n",
      "bestIteration = 666\n",
      "\n",
      "Training on fold [0/5]\n",
      "\n",
      "bestTest = 0.4686752087\n",
      "bestIteration = 249\n",
      "\n",
      "Training on fold [1/5]\n",
      "\n",
      "bestTest = 0.464825141\n",
      "bestIteration = 221\n",
      "\n",
      "Training on fold [2/5]\n",
      "\n",
      "bestTest = 0.4487074357\n",
      "bestIteration = 246\n",
      "\n",
      "Training on fold [3/5]\n",
      "\n",
      "bestTest = 0.4377224668\n",
      "bestIteration = 282\n",
      "\n",
      "Training on fold [4/5]\n"
     ]
    },
    {
     "name": "stderr",
     "output_type": "stream",
     "text": [
      "\u001b[32m[I 2022-01-27 00:25:22,479]\u001b[0m Trial 74 finished with value: 0.8678152184229587 and parameters: {'iterations': 1500, 'learning_rate': 0.06128808317111053, 'random_strength': 10, 'bagging_temperature': 9, 'max_bin': 8, 'grow_policy': 'SymmetricTree', 'max_depth': 8, 'l2_leaf_reg': 53.51108754607427, 'one_hot_max_size': 1024, 'auto_class_weights': 'Balanced'}. Best is trial 51 with value: 0.8698232780507448.\u001b[0m\n"
     ]
    },
    {
     "name": "stdout",
     "output_type": "stream",
     "text": [
      "\n",
      "bestTest = 0.452933496\n",
      "bestIteration = 248\n",
      "\n",
      "Training on fold [0/5]\n",
      "\n",
      "bestTest = 0.4678848547\n",
      "bestIteration = 898\n",
      "\n",
      "Training on fold [1/5]\n",
      "\n",
      "bestTest = 0.4688759699\n",
      "bestIteration = 782\n",
      "\n",
      "Training on fold [2/5]\n",
      "\n",
      "bestTest = 0.4469510403\n",
      "bestIteration = 1174\n",
      "\n",
      "Training on fold [3/5]\n",
      "\n",
      "bestTest = 0.4388227024\n",
      "bestIteration = 1122\n",
      "\n",
      "Training on fold [4/5]\n"
     ]
    },
    {
     "name": "stderr",
     "output_type": "stream",
     "text": [
      "\u001b[32m[I 2022-01-27 00:32:48,174]\u001b[0m Trial 75 finished with value: 0.8680463180057781 and parameters: {'iterations': 1200, 'learning_rate': 0.011757417858526322, 'random_strength': 8, 'bagging_temperature': 10, 'max_bin': 8, 'grow_policy': 'SymmetricTree', 'max_depth': 9, 'l2_leaf_reg': 27.597348676649872, 'one_hot_max_size': 10, 'auto_class_weights': 'Balanced'}. Best is trial 51 with value: 0.8698232780507448.\u001b[0m\n"
     ]
    },
    {
     "name": "stdout",
     "output_type": "stream",
     "text": [
      "\n",
      "bestTest = 0.4545881671\n",
      "bestIteration = 1114\n",
      "\n",
      "Training on fold [0/5]\n",
      "\n",
      "bestTest = 0.4749999451\n",
      "bestIteration = 86\n",
      "\n",
      "Training on fold [1/5]\n",
      "\n",
      "bestTest = 0.474292701\n",
      "bestIteration = 142\n",
      "\n",
      "Training on fold [2/5]\n",
      "\n",
      "bestTest = 0.4568039132\n",
      "bestIteration = 130\n",
      "\n",
      "Training on fold [3/5]\n",
      "\n",
      "bestTest = 0.4507232845\n",
      "bestIteration = 96\n",
      "\n",
      "Training on fold [4/5]\n"
     ]
    },
    {
     "name": "stderr",
     "output_type": "stream",
     "text": [
      "\u001b[32m[I 2022-01-27 00:32:58,801]\u001b[0m Trial 76 finished with value: 0.862939631081084 and parameters: {'iterations': 500, 'learning_rate': 0.08514313137633765, 'random_strength': 9, 'bagging_temperature': 8, 'max_bin': 5, 'grow_policy': 'SymmetricTree', 'max_depth': 10, 'l2_leaf_reg': 7.143381059858592, 'one_hot_max_size': 500, 'auto_class_weights': 'Balanced'}. Best is trial 51 with value: 0.8698232780507448.\u001b[0m\n"
     ]
    },
    {
     "name": "stdout",
     "output_type": "stream",
     "text": [
      "\n",
      "bestTest = 0.4666976698\n",
      "bestIteration = 75\n",
      "\n",
      "Training on fold [0/5]\n",
      "\n",
      "bestTest = 0.4659417923\n",
      "bestIteration = 495\n",
      "\n",
      "Training on fold [1/5]\n",
      "\n",
      "bestTest = 0.4627037756\n",
      "bestIteration = 460\n",
      "\n",
      "Training on fold [2/5]\n",
      "\n",
      "bestTest = 0.4469456835\n",
      "bestIteration = 539\n",
      "\n",
      "Training on fold [3/5]\n",
      "\n",
      "bestTest = 0.4378047925\n",
      "bestIteration = 548\n",
      "\n",
      "Training on fold [4/5]\n"
     ]
    },
    {
     "name": "stderr",
     "output_type": "stream",
     "text": [
      "\u001b[32m[I 2022-01-27 00:33:30,307]\u001b[0m Trial 77 finished with value: 0.8691855205032523 and parameters: {'iterations': 1500, 'learning_rate': 0.03091441358303372, 'random_strength': 10, 'bagging_temperature': 9, 'max_bin': 6, 'grow_policy': 'SymmetricTree', 'max_depth': 9, 'l2_leaf_reg': 98.94673752481202, 'one_hot_max_size': 100, 'auto_class_weights': 'Balanced'}. Best is trial 51 with value: 0.8698232780507448.\u001b[0m\n"
     ]
    },
    {
     "name": "stdout",
     "output_type": "stream",
     "text": [
      "\n",
      "bestTest = 0.4507828294\n",
      "bestIteration = 570\n",
      "\n",
      "Training on fold [0/5]\n",
      "\n",
      "bestTest = 0.4748506406\n",
      "bestIteration = 518\n",
      "\n",
      "Training on fold [1/5]\n",
      "\n",
      "bestTest = 0.4753603324\n",
      "bestIteration = 438\n",
      "\n",
      "Training on fold [2/5]\n",
      "\n",
      "bestTest = 0.4552409157\n",
      "bestIteration = 621\n",
      "\n",
      "Training on fold [3/5]\n",
      "\n",
      "bestTest = 0.4445100098\n",
      "bestIteration = 656\n",
      "\n",
      "Training on fold [4/5]\n"
     ]
    },
    {
     "name": "stderr",
     "output_type": "stream",
     "text": [
      "\u001b[32m[I 2022-01-27 00:33:59,525]\u001b[0m Trial 78 finished with value: 0.8645868248901503 and parameters: {'iterations': 1000, 'learning_rate': 0.01715483803130381, 'random_strength': 9, 'bagging_temperature': 10, 'max_bin': 6, 'grow_policy': 'SymmetricTree', 'max_depth': 8, 'l2_leaf_reg': 2.510067732111048, 'one_hot_max_size': 1024, 'auto_class_weights': 'Balanced'}. Best is trial 51 with value: 0.8698232780507448.\u001b[0m\n"
     ]
    },
    {
     "name": "stdout",
     "output_type": "stream",
     "text": [
      "\n",
      "bestTest = 0.4560012525\n",
      "bestIteration = 771\n",
      "\n",
      "Training on fold [0/5]\n",
      "\n",
      "bestTest = 0.4694708939\n",
      "bestIteration = 292\n",
      "\n",
      "Training on fold [1/5]\n",
      "\n",
      "bestTest = 0.4659688695\n",
      "bestIteration = 267\n",
      "\n",
      "Training on fold [2/5]\n",
      "\n",
      "bestTest = 0.4526736343\n",
      "bestIteration = 272\n",
      "\n",
      "Training on fold [3/5]\n",
      "\n",
      "bestTest = 0.4409165369\n",
      "bestIteration = 293\n",
      "\n",
      "Training on fold [4/5]\n"
     ]
    },
    {
     "name": "stderr",
     "output_type": "stream",
     "text": [
      "\u001b[32m[I 2022-01-27 00:34:27,228]\u001b[0m Trial 79 finished with value: 0.8675939287772316 and parameters: {'iterations': 1500, 'learning_rate': 0.04326682167144996, 'random_strength': 10, 'bagging_temperature': 7, 'max_bin': 4, 'grow_policy': 'SymmetricTree', 'max_depth': 10, 'l2_leaf_reg': 23.40535894479601, 'one_hot_max_size': 1024, 'auto_class_weights': 'Balanced'}. Best is trial 51 with value: 0.8698232780507448.\u001b[0m\n"
     ]
    },
    {
     "name": "stdout",
     "output_type": "stream",
     "text": [
      "\n",
      "bestTest = 0.4535147048\n",
      "bestIteration = 323\n",
      "\n",
      "Training on fold [0/5]\n",
      "\n",
      "bestTest = 0.4678519931\n",
      "bestIteration = 131\n",
      "\n",
      "Training on fold [1/5]\n",
      "\n",
      "bestTest = 0.4635182869\n",
      "bestIteration = 145\n",
      "\n",
      "Training on fold [2/5]\n",
      "\n",
      "bestTest = 0.4465280341\n",
      "bestIteration = 166\n",
      "\n",
      "Training on fold [3/5]\n",
      "\n",
      "bestTest = 0.438847982\n",
      "bestIteration = 178\n",
      "\n",
      "Training on fold [4/5]\n"
     ]
    },
    {
     "name": "stderr",
     "output_type": "stream",
     "text": [
      "\u001b[32m[I 2022-01-27 00:35:43,725]\u001b[0m Trial 80 finished with value: 0.8679166144801611 and parameters: {'iterations': 1500, 'learning_rate': 0.09899918784732237, 'random_strength': 8, 'bagging_temperature': 8, 'max_bin': 8, 'grow_policy': 'SymmetricTree', 'max_depth': 9, 'l2_leaf_reg': 60.76279357038796, 'one_hot_max_size': 12, 'auto_class_weights': 'Balanced'}. Best is trial 51 with value: 0.8698232780507448.\u001b[0m\n"
     ]
    },
    {
     "name": "stdout",
     "output_type": "stream",
     "text": [
      "\n",
      "bestTest = 0.4558395466\n",
      "bestIteration = 146\n",
      "\n",
      "Training on fold [0/5]\n",
      "\n",
      "bestTest = 0.4671073527\n",
      "bestIteration = 508\n",
      "\n",
      "Training on fold [1/5]\n",
      "\n",
      "bestTest = 0.4635486446\n",
      "bestIteration = 471\n",
      "\n",
      "Training on fold [2/5]\n",
      "\n",
      "bestTest = 0.448222949\n",
      "bestIteration = 537\n",
      "\n",
      "Training on fold [3/5]\n",
      "\n",
      "bestTest = 0.4389320395\n",
      "bestIteration = 514\n",
      "\n",
      "Training on fold [4/5]\n"
     ]
    },
    {
     "name": "stderr",
     "output_type": "stream",
     "text": [
      "\u001b[32m[I 2022-01-27 00:36:13,869]\u001b[0m Trial 81 finished with value: 0.8689692696766882 and parameters: {'iterations': 1500, 'learning_rate': 0.02909189123579444, 'random_strength': 10, 'bagging_temperature': 9, 'max_bin': 6, 'grow_policy': 'SymmetricTree', 'max_depth': 9, 'l2_leaf_reg': 97.04770504381273, 'one_hot_max_size': 100, 'auto_class_weights': 'Balanced'}. Best is trial 51 with value: 0.8698232780507448.\u001b[0m\n"
     ]
    },
    {
     "name": "stdout",
     "output_type": "stream",
     "text": [
      "\n",
      "bestTest = 0.4487222938\n",
      "bestIteration = 583\n",
      "\n",
      "Training on fold [0/5]\n",
      "\n",
      "bestTest = 0.4697414797\n",
      "bestIteration = 479\n",
      "\n",
      "Training on fold [1/5]\n",
      "\n",
      "bestTest = 0.4730220591\n",
      "bestIteration = 277\n",
      "\n",
      "Training on fold [2/5]\n",
      "\n",
      "bestTest = 0.4512181077\n",
      "bestIteration = 504\n",
      "\n",
      "Training on fold [3/5]\n",
      "\n",
      "bestTest = 0.4376570874\n",
      "bestIteration = 528\n",
      "\n",
      "Training on fold [4/5]\n"
     ]
    },
    {
     "name": "stderr",
     "output_type": "stream",
     "text": [
      "\u001b[32m[I 2022-01-27 00:36:39,822]\u001b[0m Trial 82 finished with value: 0.8671424879800579 and parameters: {'iterations': 1500, 'learning_rate': 0.027811762407671806, 'random_strength': 9, 'bagging_temperature': 9, 'max_bin': 6, 'grow_policy': 'SymmetricTree', 'max_depth': 9, 'l2_leaf_reg': 14.76198134367874, 'one_hot_max_size': 100, 'auto_class_weights': 'Balanced'}. Best is trial 51 with value: 0.8698232780507448.\u001b[0m\n"
     ]
    },
    {
     "name": "stdout",
     "output_type": "stream",
     "text": [
      "\n",
      "bestTest = 0.4544846805\n",
      "bestIteration = 487\n",
      "\n",
      "Training on fold [0/5]\n",
      "\n",
      "bestTest = 0.4690637993\n",
      "bestIteration = 259\n",
      "\n",
      "Training on fold [1/5]\n",
      "\n",
      "bestTest = 0.4637780887\n",
      "bestIteration = 239\n",
      "\n",
      "Training on fold [2/5]\n",
      "\n",
      "bestTest = 0.4491586609\n",
      "bestIteration = 255\n",
      "\n",
      "Training on fold [3/5]\n",
      "\n",
      "bestTest = 0.4385015867\n",
      "bestIteration = 291\n",
      "\n",
      "Training on fold [4/5]\n"
     ]
    },
    {
     "name": "stderr",
     "output_type": "stream",
     "text": [
      "\u001b[32m[I 2022-01-27 00:36:53,135]\u001b[0m Trial 83 finished with value: 0.8676112721897727 and parameters: {'iterations': 1500, 'learning_rate': 0.05988833127008446, 'random_strength': 10, 'bagging_temperature': 9, 'max_bin': 6, 'grow_policy': 'SymmetricTree', 'max_depth': 8, 'l2_leaf_reg': 62.207556132174226, 'one_hot_max_size': 100, 'auto_class_weights': 'Balanced'}. Best is trial 51 with value: 0.8698232780507448.\u001b[0m\n"
     ]
    },
    {
     "name": "stdout",
     "output_type": "stream",
     "text": [
      "\n",
      "bestTest = 0.4529918923\n",
      "bestIteration = 301\n",
      "\n",
      "Training on fold [0/5]\n",
      "\n",
      "bestTest = 0.4694192212\n",
      "bestIteration = 341\n",
      "\n",
      "Training on fold [1/5]\n",
      "\n",
      "bestTest = 0.4653960961\n",
      "bestIteration = 350\n",
      "\n",
      "Training on fold [2/5]\n",
      "\n",
      "bestTest = 0.448181092\n",
      "bestIteration = 355\n",
      "\n",
      "Training on fold [3/5]\n",
      "\n",
      "bestTest = 0.4375299994\n",
      "bestIteration = 410\n",
      "\n",
      "Training on fold [4/5]\n"
     ]
    },
    {
     "name": "stderr",
     "output_type": "stream",
     "text": [
      "\u001b[32m[I 2022-01-27 00:37:14,072]\u001b[0m Trial 84 finished with value: 0.8683897048056843 and parameters: {'iterations': 1500, 'learning_rate': 0.036962473502815466, 'random_strength': 10, 'bagging_temperature': 10, 'max_bin': 6, 'grow_policy': 'SymmetricTree', 'max_depth': 9, 'l2_leaf_reg': 29.500958939034525, 'one_hot_max_size': 100, 'auto_class_weights': 'Balanced'}. Best is trial 51 with value: 0.8698232780507448.\u001b[0m\n"
     ]
    },
    {
     "name": "stdout",
     "output_type": "stream",
     "text": [
      "\n",
      "bestTest = 0.4521010041\n",
      "bestIteration = 370\n",
      "\n",
      "Training on fold [0/5]\n",
      "\n",
      "bestTest = 0.4783353121\n",
      "bestIteration = 1199\n",
      "\n",
      "Training on fold [1/5]\n",
      "\n",
      "bestTest = 0.4738000907\n",
      "bestIteration = 1199\n",
      "\n",
      "Training on fold [2/5]\n",
      "\n",
      "bestTest = 0.4619492115\n",
      "bestIteration = 1199\n",
      "\n",
      "Training on fold [3/5]\n",
      "\n",
      "bestTest = 0.4521905185\n",
      "bestIteration = 1199\n",
      "\n",
      "Training on fold [4/5]\n"
     ]
    },
    {
     "name": "stderr",
     "output_type": "stream",
     "text": [
      "\u001b[32m[I 2022-01-27 00:38:19,634]\u001b[0m Trial 85 finished with value: 0.8635563678861702 and parameters: {'iterations': 1200, 'learning_rate': 0.005430339856582705, 'random_strength': 9, 'bagging_temperature': 8, 'max_bin': 6, 'grow_policy': 'SymmetricTree', 'max_depth': 9, 'l2_leaf_reg': 9.369118659875816, 'one_hot_max_size': 1024, 'auto_class_weights': 'Balanced'}. Best is trial 51 with value: 0.8698232780507448.\u001b[0m\n"
     ]
    },
    {
     "name": "stdout",
     "output_type": "stream",
     "text": [
      "\n",
      "bestTest = 0.4649816371\n",
      "bestIteration = 1197\n",
      "\n",
      "Training on fold [0/5]\n",
      "\n",
      "bestTest = 0.4679043745\n",
      "bestIteration = 1255\n",
      "\n",
      "Training on fold [1/5]\n",
      "\n",
      "bestTest = 0.4628106175\n",
      "bestIteration = 1235\n",
      "\n",
      "Training on fold [2/5]\n",
      "\n",
      "bestTest = 0.4488966105\n",
      "bestIteration = 1331\n",
      "\n",
      "Training on fold [3/5]\n",
      "\n",
      "bestTest = 0.4373783733\n",
      "bestIteration = 1443\n",
      "\n",
      "Training on fold [4/5]\n"
     ]
    },
    {
     "name": "stderr",
     "output_type": "stream",
     "text": [
      "\u001b[32m[I 2022-01-27 00:40:19,725]\u001b[0m Trial 86 finished with value: 0.869144033805668 and parameters: {'iterations': 1500, 'learning_rate': 0.010572166135771078, 'random_strength': 10, 'bagging_temperature': 9, 'max_bin': 6, 'grow_policy': 'SymmetricTree', 'max_depth': 10, 'l2_leaf_reg': 55.74223632247953, 'one_hot_max_size': 1024, 'auto_class_weights': 'Balanced'}. Best is trial 51 with value: 0.8698232780507448.\u001b[0m\n"
     ]
    },
    {
     "name": "stdout",
     "output_type": "stream",
     "text": [
      "\n",
      "bestTest = 0.451581179\n",
      "bestIteration = 1407\n",
      "\n",
      "Training on fold [0/5]\n",
      "\n",
      "bestTest = 0.4674229287\n",
      "bestIteration = 320\n",
      "\n",
      "Training on fold [1/5]\n",
      "\n",
      "bestTest = 0.4639561906\n",
      "bestIteration = 359\n",
      "\n",
      "Training on fold [2/5]\n",
      "\n",
      "bestTest = 0.4479466101\n",
      "bestIteration = 373\n",
      "\n",
      "Training on fold [3/5]\n",
      "\n",
      "bestTest = 0.4372413243\n",
      "bestIteration = 357\n",
      "\n",
      "Training on fold [4/5]\n"
     ]
    },
    {
     "name": "stderr",
     "output_type": "stream",
     "text": [
      "\u001b[32m[I 2022-01-27 00:40:35,023]\u001b[0m Trial 87 finished with value: 0.8683543006573732 and parameters: {'iterations': 1500, 'learning_rate': 0.04651149919127536, 'random_strength': 10, 'bagging_temperature': 9, 'max_bin': 6, 'grow_policy': 'SymmetricTree', 'max_depth': 7, 'l2_leaf_reg': 31.34832692895476, 'one_hot_max_size': 1024, 'auto_class_weights': 'Balanced'}. Best is trial 51 with value: 0.8698232780507448.\u001b[0m\n"
     ]
    },
    {
     "name": "stdout",
     "output_type": "stream",
     "text": [
      "\n",
      "bestTest = 0.452164434\n",
      "bestIteration = 348\n",
      "\n",
      "Training on fold [0/5]\n",
      "\n",
      "bestTest = 0.4685403754\n",
      "bestIteration = 446\n",
      "\n",
      "Training on fold [1/5]\n",
      "\n",
      "bestTest = 0.4694749011\n",
      "bestIteration = 405\n",
      "\n",
      "Training on fold [2/5]\n",
      "\n",
      "bestTest = 0.4495200702\n",
      "bestIteration = 476\n",
      "\n",
      "Training on fold [3/5]\n",
      "\n",
      "bestTest = 0.4436314252\n",
      "bestIteration = 453\n",
      "\n",
      "Training on fold [4/5]\n"
     ]
    },
    {
     "name": "stderr",
     "output_type": "stream",
     "text": [
      "\u001b[32m[I 2022-01-27 00:43:33,863]\u001b[0m Trial 88 finished with value: 0.8666922683938336 and parameters: {'iterations': 500, 'learning_rate': 0.02644993260132404, 'random_strength': 9, 'bagging_temperature': 10, 'max_bin': 5, 'grow_policy': 'SymmetricTree', 'max_depth': 8, 'l2_leaf_reg': 4.512079437006635, 'one_hot_max_size': 10, 'auto_class_weights': 'Balanced'}. Best is trial 51 with value: 0.8698232780507448.\u001b[0m\n"
     ]
    },
    {
     "name": "stdout",
     "output_type": "stream",
     "text": [
      "\n",
      "bestTest = 0.4551925798\n",
      "bestIteration = 494\n",
      "\n",
      "Training on fold [0/5]\n",
      "\n",
      "bestTest = 0.4727447465\n",
      "bestIteration = 192\n",
      "\n",
      "Training on fold [1/5]\n",
      "\n",
      "bestTest = 0.4668010127\n",
      "bestIteration = 237\n",
      "\n",
      "Training on fold [2/5]\n",
      "\n",
      "bestTest = 0.4527225949\n",
      "bestIteration = 240\n",
      "\n",
      "Training on fold [3/5]\n",
      "\n",
      "bestTest = 0.4382543482\n",
      "bestIteration = 247\n",
      "\n",
      "Training on fold [4/5]\n"
     ]
    },
    {
     "name": "stderr",
     "output_type": "stream",
     "text": [
      "\u001b[32m[I 2022-01-27 00:43:47,402]\u001b[0m Trial 89 finished with value: 0.866589193697547 and parameters: {'iterations': 1500, 'learning_rate': 0.05675843159886984, 'random_strength': 9, 'bagging_temperature': 8, 'max_bin': 6, 'grow_policy': 'SymmetricTree', 'max_depth': 9, 'l2_leaf_reg': 16.883127183198607, 'one_hot_max_size': 500, 'auto_class_weights': 'Balanced'}. Best is trial 51 with value: 0.8698232780507448.\u001b[0m\n"
     ]
    },
    {
     "name": "stdout",
     "output_type": "stream",
     "text": [
      "\n",
      "bestTest = 0.4550574076\n",
      "bestIteration = 225\n",
      "\n",
      "Training on fold [0/5]\n",
      "\n",
      "bestTest = 0.5134682881\n",
      "bestIteration = 123\n",
      "\n",
      "Training on fold [1/5]\n",
      "\n",
      "bestTest = 0.5072901097\n",
      "bestIteration = 135\n",
      "\n",
      "Training on fold [2/5]\n",
      "\n",
      "bestTest = 0.4928753018\n",
      "bestIteration = 189\n",
      "\n",
      "Training on fold [3/5]\n",
      "\n",
      "bestTest = 0.4812402501\n",
      "bestIteration = 181\n",
      "\n",
      "Training on fold [4/5]\n"
     ]
    },
    {
     "name": "stderr",
     "output_type": "stream",
     "text": [
      "\u001b[32m[I 2022-01-27 00:44:02,268]\u001b[0m Trial 90 finished with value: 0.8446543455428461 and parameters: {'iterations': 1000, 'learning_rate': 0.018219903455457674, 'random_strength': 10, 'bagging_temperature': 7, 'max_bin': 6, 'grow_policy': 'SymmetricTree', 'max_depth': 10, 'l2_leaf_reg': 8.266044180046717e-05, 'one_hot_max_size': 100, 'auto_class_weights': 'Balanced'}. Best is trial 51 with value: 0.8698232780507448.\u001b[0m\n"
     ]
    },
    {
     "name": "stdout",
     "output_type": "stream",
     "text": [
      "\n",
      "bestTest = 0.495889977\n",
      "bestIteration = 182\n",
      "\n",
      "Training on fold [0/5]\n",
      "\n",
      "bestTest = 0.4677022249\n",
      "bestIteration = 1290\n",
      "\n",
      "Training on fold [1/5]\n",
      "\n",
      "bestTest = 0.4617446032\n",
      "bestIteration = 1394\n",
      "\n",
      "Training on fold [2/5]\n",
      "\n",
      "bestTest = 0.4482713614\n",
      "bestIteration = 1427\n",
      "\n",
      "Training on fold [3/5]\n",
      "\n",
      "bestTest = 0.4368746971\n",
      "bestIteration = 1493\n",
      "\n",
      "Training on fold [4/5]\n"
     ]
    },
    {
     "name": "stderr",
     "output_type": "stream",
     "text": [
      "\u001b[32m[I 2022-01-27 00:46:02,221]\u001b[0m Trial 91 finished with value: 0.8693751456055303 and parameters: {'iterations': 1500, 'learning_rate': 0.010306384468492835, 'random_strength': 10, 'bagging_temperature': 9, 'max_bin': 6, 'grow_policy': 'SymmetricTree', 'max_depth': 10, 'l2_leaf_reg': 66.63306078695214, 'one_hot_max_size': 1024, 'auto_class_weights': 'Balanced'}. Best is trial 51 with value: 0.8698232780507448.\u001b[0m\n"
     ]
    },
    {
     "name": "stdout",
     "output_type": "stream",
     "text": [
      "\n",
      "bestTest = 0.4513010086\n",
      "bestIteration = 1415\n",
      "\n",
      "Training on fold [0/5]\n",
      "\n",
      "bestTest = 0.467969948\n",
      "bestIteration = 458\n",
      "\n",
      "Training on fold [1/5]\n",
      "\n",
      "bestTest = 0.4623063611\n",
      "bestIteration = 460\n",
      "\n",
      "Training on fold [2/5]\n",
      "\n",
      "bestTest = 0.4480597204\n",
      "bestIteration = 500\n",
      "\n",
      "Training on fold [3/5]\n",
      "\n",
      "bestTest = 0.4369772156\n",
      "bestIteration = 544\n",
      "\n",
      "Training on fold [4/5]\n"
     ]
    },
    {
     "name": "stderr",
     "output_type": "stream",
     "text": [
      "\u001b[32m[I 2022-01-27 00:46:29,743]\u001b[0m Trial 92 finished with value: 0.8689377719930864 and parameters: {'iterations': 1500, 'learning_rate': 0.03211130553697824, 'random_strength': 10, 'bagging_temperature': 9, 'max_bin': 6, 'grow_policy': 'SymmetricTree', 'max_depth': 9, 'l2_leaf_reg': 86.51471079056304, 'one_hot_max_size': 1024, 'auto_class_weights': 'Balanced'}. Best is trial 51 with value: 0.8698232780507448.\u001b[0m\n"
     ]
    },
    {
     "name": "stdout",
     "output_type": "stream",
     "text": [
      "\n",
      "bestTest = 0.4508552671\n",
      "bestIteration = 478\n",
      "\n",
      "Training on fold [0/5]\n",
      "\n",
      "bestTest = 0.5197293857\n",
      "bestIteration = 1499\n",
      "\n",
      "Training on fold [1/5]\n",
      "\n",
      "bestTest = 0.5173778269\n",
      "bestIteration = 1499\n",
      "\n",
      "Training on fold [2/5]\n",
      "\n",
      "bestTest = 0.5111162615\n",
      "bestIteration = 1499\n",
      "\n",
      "Training on fold [3/5]\n",
      "\n",
      "bestTest = 0.5074080054\n",
      "bestIteration = 1499\n",
      "\n",
      "Training on fold [4/5]\n"
     ]
    },
    {
     "name": "stderr",
     "output_type": "stream",
     "text": [
      "\u001b[32m[I 2022-01-27 00:48:28,562]\u001b[0m Trial 93 finished with value: 0.855375314476982 and parameters: {'iterations': 1500, 'learning_rate': 0.0011024514721640361, 'random_strength': 9, 'bagging_temperature': 9, 'max_bin': 6, 'grow_policy': 'SymmetricTree', 'max_depth': 10, 'l2_leaf_reg': 35.22479140977672, 'one_hot_max_size': 1024, 'auto_class_weights': 'Balanced'}. Best is trial 51 with value: 0.8698232780507448.\u001b[0m\n"
     ]
    },
    {
     "name": "stdout",
     "output_type": "stream",
     "text": [
      "\n",
      "bestTest = 0.512427892\n",
      "bestIteration = 1499\n",
      "\n",
      "Training on fold [0/5]\n",
      "\n",
      "bestTest = 0.4678180048\n",
      "bestIteration = 1361\n",
      "\n",
      "Training on fold [1/5]\n",
      "\n",
      "bestTest = 0.4606719797\n",
      "bestIteration = 1499\n",
      "\n",
      "Training on fold [2/5]\n",
      "\n",
      "bestTest = 0.4477245891\n",
      "bestIteration = 1499\n",
      "\n",
      "Training on fold [3/5]\n",
      "\n",
      "bestTest = 0.4375899986\n",
      "bestIteration = 1499\n",
      "\n",
      "Training on fold [4/5]\n"
     ]
    },
    {
     "name": "stderr",
     "output_type": "stream",
     "text": [
      "\u001b[32m[I 2022-01-27 00:49:50,991]\u001b[0m Trial 94 finished with value: 0.8692712676894668 and parameters: {'iterations': 1500, 'learning_rate': 0.01011956472920879, 'random_strength': 10, 'bagging_temperature': 10, 'max_bin': 6, 'grow_policy': 'SymmetricTree', 'max_depth': 9, 'l2_leaf_reg': 97.39728984401451, 'one_hot_max_size': 1024, 'auto_class_weights': 'Balanced'}. Best is trial 51 with value: 0.8698232780507448.\u001b[0m\n"
     ]
    },
    {
     "name": "stdout",
     "output_type": "stream",
     "text": [
      "\n",
      "bestTest = 0.4521456582\n",
      "bestIteration = 1471\n",
      "\n",
      "Training on fold [0/5]\n",
      "\n",
      "bestTest = 0.5005106103\n",
      "bestIteration = 346\n",
      "\n",
      "Training on fold [1/5]\n",
      "\n",
      "bestTest = 0.5057054158\n",
      "bestIteration = 295\n",
      "\n",
      "Training on fold [2/5]\n",
      "\n",
      "bestTest = 0.4890586228\n",
      "bestIteration = 366\n",
      "\n",
      "Training on fold [3/5]\n",
      "\n",
      "bestTest = 0.4839414605\n",
      "bestIteration = 358\n",
      "\n",
      "Training on fold [4/5]\n"
     ]
    },
    {
     "name": "stderr",
     "output_type": "stream",
     "text": [
      "\u001b[32m[I 2022-01-27 00:50:11,464]\u001b[0m Trial 95 finished with value: 0.8487328646355715 and parameters: {'iterations': 1500, 'learning_rate': 0.009184867930571433, 'random_strength': 10, 'bagging_temperature': 10, 'max_bin': 6, 'grow_policy': 'SymmetricTree', 'max_depth': 9, 'l2_leaf_reg': 1.1016772632877045e-08, 'one_hot_max_size': 1024, 'auto_class_weights': 'Balanced'}. Best is trial 51 with value: 0.8698232780507448.\u001b[0m\n"
     ]
    },
    {
     "name": "stdout",
     "output_type": "stream",
     "text": [
      "\n",
      "bestTest = 0.488973058\n",
      "bestIteration = 381\n",
      "\n",
      "Training on fold [0/5]\n",
      "\n",
      "bestTest = 0.5106084113\n",
      "bestIteration = 106\n",
      "\n",
      "Training on fold [1/5]\n",
      "\n",
      "bestTest = 0.5125778228\n",
      "bestIteration = 102\n",
      "\n",
      "Training on fold [2/5]\n",
      "\n",
      "bestTest = 0.5007756962\n",
      "bestIteration = 109\n",
      "\n",
      "Training on fold [3/5]\n",
      "\n",
      "bestTest = 0.4895590421\n",
      "bestIteration = 118\n",
      "\n",
      "Training on fold [4/5]\n"
     ]
    },
    {
     "name": "stderr",
     "output_type": "stream",
     "text": [
      "\u001b[32m[I 2022-01-27 00:50:20,912]\u001b[0m Trial 96 finished with value: 0.8447559388428978 and parameters: {'iterations': 1500, 'learning_rate': 0.02334691809089042, 'random_strength': 9, 'bagging_temperature': 10, 'max_bin': 8, 'grow_policy': 'SymmetricTree', 'max_depth': 10, 'l2_leaf_reg': 9.558283372761856e-06, 'one_hot_max_size': 1024, 'auto_class_weights': 'Balanced'}. Best is trial 51 with value: 0.8698232780507448.\u001b[0m\n"
     ]
    },
    {
     "name": "stdout",
     "output_type": "stream",
     "text": [
      "\n",
      "bestTest = 0.4969865116\n",
      "bestIteration = 98\n",
      "\n",
      "Training on fold [0/5]\n",
      "\n",
      "bestTest = 0.4689202048\n",
      "bestIteration = 771\n",
      "\n",
      "Training on fold [1/5]\n",
      "\n",
      "bestTest = 0.4640562875\n",
      "bestIteration = 815\n",
      "\n",
      "Training on fold [2/5]\n",
      "\n",
      "bestTest = 0.4502694326\n",
      "bestIteration = 864\n",
      "\n",
      "Training on fold [3/5]\n",
      "\n",
      "bestTest = 0.4377642099\n",
      "bestIteration = 868\n",
      "\n",
      "Training on fold [4/5]\n"
     ]
    },
    {
     "name": "stderr",
     "output_type": "stream",
     "text": [
      "\u001b[32m[I 2022-01-27 00:51:01,824]\u001b[0m Trial 97 finished with value: 0.8680677491653708 and parameters: {'iterations': 1500, 'learning_rate': 0.0163413690773584, 'random_strength': 9, 'bagging_temperature': 5, 'max_bin': 6, 'grow_policy': 'SymmetricTree', 'max_depth': 8, 'l2_leaf_reg': 11.53773166599512, 'one_hot_max_size': 1024, 'auto_class_weights': 'Balanced'}. Best is trial 51 with value: 0.8698232780507448.\u001b[0m\n"
     ]
    },
    {
     "name": "stdout",
     "output_type": "stream",
     "text": [
      "\n",
      "bestTest = 0.4541575542\n",
      "bestIteration = 831\n",
      "\n",
      "Training on fold [0/5]\n",
      "\n",
      "bestTest = 0.467910735\n",
      "bestIteration = 394\n",
      "\n",
      "Training on fold [1/5]\n",
      "\n",
      "bestTest = 0.4623912266\n",
      "bestIteration = 441\n",
      "\n",
      "Training on fold [2/5]\n",
      "\n",
      "bestTest = 0.4487608907\n",
      "bestIteration = 379\n",
      "\n",
      "Training on fold [3/5]\n",
      "\n",
      "bestTest = 0.436932125\n",
      "bestIteration = 409\n",
      "\n",
      "Training on fold [4/5]\n"
     ]
    },
    {
     "name": "stderr",
     "output_type": "stream",
     "text": [
      "\u001b[32m[I 2022-01-27 00:51:26,647]\u001b[0m Trial 98 finished with value: 0.8690904493048401 and parameters: {'iterations': 1200, 'learning_rate': 0.03816334488316388, 'random_strength': 10, 'bagging_temperature': 10, 'max_bin': 4, 'grow_policy': 'SymmetricTree', 'max_depth': 9, 'l2_leaf_reg': 61.518585447632034, 'one_hot_max_size': 1024, 'auto_class_weights': 'Balanced'}. Best is trial 51 with value: 0.8698232780507448.\u001b[0m\n"
     ]
    },
    {
     "name": "stdout",
     "output_type": "stream",
     "text": [
      "\n",
      "bestTest = 0.450375787\n",
      "bestIteration = 418\n",
      "\n",
      "Training on fold [0/5]\n",
      "\n",
      "bestTest = 0.4732908259\n",
      "bestIteration = 1317\n",
      "\n",
      "Training on fold [1/5]\n",
      "\n",
      "bestTest = 0.467720863\n",
      "bestIteration = 1309\n",
      "\n",
      "Training on fold [2/5]\n",
      "\n",
      "bestTest = 0.4525152293\n",
      "bestIteration = 1499\n",
      "\n",
      "Training on fold [3/5]\n",
      "\n",
      "bestTest = 0.4438233909\n",
      "bestIteration = 1499\n",
      "\n",
      "Training on fold [4/5]\n"
     ]
    },
    {
     "name": "stderr",
     "output_type": "stream",
     "text": [
      "\u001b[32m[I 2022-01-27 00:52:45,294]\u001b[0m Trial 99 finished with value: 0.8664335282306264 and parameters: {'iterations': 1500, 'learning_rate': 0.00713835835880778, 'random_strength': 8, 'bagging_temperature': 8, 'max_bin': 6, 'grow_policy': 'SymmetricTree', 'max_depth': 9, 'l2_leaf_reg': 21.641556247675748, 'one_hot_max_size': 1024, 'auto_class_weights': 'Balanced'}. Best is trial 51 with value: 0.8698232780507448.\u001b[0m\n"
     ]
    },
    {
     "name": "stdout",
     "output_type": "stream",
     "text": [
      "\n",
      "bestTest = 0.457015459\n",
      "bestIteration = 1499\n",
      "\n"
     ]
    }
   ],
   "source": [
    "sampler = optuna.samplers.TPESampler(seed=68)\n",
    "study = optuna.create_study(direction=\"maximize\", sampler=sampler)\n",
    "study.optimize(objective, n_trials=100)"
   ]
  },
  {
   "cell_type": "code",
   "execution_count": 119,
   "metadata": {},
   "outputs": [
    {
     "name": "stdout",
     "output_type": "stream",
     "text": [
      "Number of finished trials: 100\n",
      "Best trial:\n",
      "  Value: 0.8698232780507448\n",
      "  Params: \n",
      "    iterations=1500,\n",
      "    learning_rate=0.01956984506655486,\n",
      "    random_strength=9,\n",
      "    bagging_temperature=9,\n",
      "    max_bin=6,\n",
      "    grow_policy=SymmetricTree,\n",
      "    max_depth=9,\n",
      "    l2_leaf_reg=88.24841331715501,\n",
      "    one_hot_max_size=1024,\n",
      "    auto_class_weights=Balanced,\n"
     ]
    }
   ],
   "source": [
    "print(\"Number of finished trials: {}\".format(len(study.trials)))\n",
    "print(\"Best trial:\")\n",
    "trial = study.best_trial\n",
    "print(\"  Value: {}\".format(trial.value))\n",
    "print(\"  Params: \")\n",
    "for key, value in trial.params.items():\n",
    "    print(\"    {}={},\".format(key, value))"
   ]
  },
  {
   "cell_type": "code",
   "execution_count": 63,
   "metadata": {},
   "outputs": [],
   "source": [
    "params = {'iterations':1200,\n",
    "         'learning_rate':0.032532364424905896,\n",
    "         'cat_features': categorical_features_indices,\n",
    "         'random_strength':7,\n",
    "         'depth':7,\n",
    "         'max_bin':8,\n",
    "         'grow_policy':'SymmetricTree',\n",
    "         'l2_leaf_reg':90.47412147528497,\n",
    "         'bagging_temperature':10,\n",
    "         'one_hot_max_size':500,\n",
    "         'eval_metric':'AUC',\n",
    "         'auto_class_weights':'Balanced',\n",
    "         'verbose':False,\n",
    "         }"
   ]
  },
  {
   "cell_type": "code",
   "execution_count": 64,
   "metadata": {},
   "outputs": [],
   "source": [
    "best_model_h1n1 = CatBoostClassifier(**params)"
   ]
  },
  {
   "cell_type": "code",
   "execution_count": 65,
   "metadata": {},
   "outputs": [
    {
     "data": {
      "application/vnd.jupyter.widget-view+json": {
       "model_id": "282eb09123014d2386a9a4c5d20b6edc",
       "version_major": 2,
       "version_minor": 0
      },
      "text/plain": [
       "MetricVisualizer(layout=Layout(align_self='stretch', height='500px'))"
      ]
     },
     "metadata": {},
     "output_type": "display_data"
    }
   ],
   "source": [
    "best_model_h1n1.fit(X_train, y_train.h1n1_vaccine, eval_set=(X_test, y_test.h1n1_vaccine), use_best_model=True, plot=True);"
   ]
  },
  {
   "cell_type": "code",
   "execution_count": 66,
   "metadata": {},
   "outputs": [],
   "source": [
    "best_pred_h1n1 = best_model_h1n1.predict_proba(X_test)"
   ]
  },
  {
   "cell_type": "code",
   "execution_count": 67,
   "metadata": {},
   "outputs": [],
   "source": [
    "best_pred_h1n1 = best_pred_h1n1[:,1].reshape(-1,1)"
   ]
  },
  {
   "cell_type": "code",
   "execution_count": 126,
   "metadata": {},
   "outputs": [
    {
     "data": {
      "text/plain": [
       "0.871348996570191"
      ]
     },
     "execution_count": 126,
     "metadata": {},
     "output_type": "execute_result"
    }
   ],
   "source": [
    "roc_auc_score(y_test.h1n1_vaccine, best_pred_h1n1)"
   ]
  },
  {
   "cell_type": "code",
   "execution_count": 120,
   "metadata": {},
   "outputs": [],
   "source": [
    "final_model_h1n1 = CatBoostClassifier(verbose=False,  cat_features=categorical_features_indices, **trial.params)"
   ]
  },
  {
   "cell_type": "code",
   "execution_count": 121,
   "metadata": {},
   "outputs": [
    {
     "data": {
      "text/plain": [
       "<catboost.core.CatBoostClassifier at 0x2db51d42160>"
      ]
     },
     "execution_count": 121,
     "metadata": {},
     "output_type": "execute_result"
    }
   ],
   "source": [
    "final_model_h1n1.fit(X_train, y_train.h1n1_vaccine)"
   ]
  },
  {
   "cell_type": "code",
   "execution_count": 122,
   "metadata": {},
   "outputs": [],
   "source": [
    "pred_h1n1 = final_model_h1n1.predict_proba(X_test)"
   ]
  },
  {
   "cell_type": "code",
   "execution_count": 123,
   "metadata": {},
   "outputs": [],
   "source": [
    "pred_h1n1 = pred_h1n1[:,1].reshape(-1,1)"
   ]
  },
  {
   "cell_type": "code",
   "execution_count": 124,
   "metadata": {},
   "outputs": [
    {
     "data": {
      "text/plain": [
       "0.8693448648058841"
      ]
     },
     "execution_count": 124,
     "metadata": {},
     "output_type": "execute_result"
    }
   ],
   "source": [
    "roc_auc_score(y_test.h1n1_vaccine, pred_h1n1)"
   ]
  },
  {
   "cell_type": "code",
   "execution_count": 152,
   "metadata": {},
   "outputs": [
    {
     "data": {
      "image/png": "[encoded data removed]",
      "text/plain": [
       "<Figure size 432x288 with 2 Axes>"
      ]
     },
     "metadata": {
      "needs_background": "light"
     },
     "output_type": "display_data"
    }
   ],
   "source": [
    "plot_confusion_matrix(best_model_h1n1, X_test, y_test.h1n1_vaccine)\n",
    "plt.title ='h1n1 vaccine confusion matrix'\n",
    "plt.show();"
   ]
  },
  {
   "cell_type": "code",
   "execution_count": 73,
   "metadata": {},
   "outputs": [],
   "source": [
    "def plot_roc(y_true, y_score, label_name, ax):\n",
    "    fpr, tpr, thresholds = roc_curve(y_true, y_score)\n",
    "    ax.plot(fpr, tpr)\n",
    "    ax.plot([0, 1], [0, 1], color='grey', linestyle='--')\n",
    "    ax.set_ylabel('TPR')\n",
    "    ax.set_xlabel('FPR')\n",
    "    ax.set_title(\n",
    "        f\"{label_name}: AUC = {roc_auc_score(y_true, y_score):.4f}\"\n",
    "    )"
   ]
  },
  {
   "cell_type": "code",
   "execution_count": 74,
   "metadata": {},
   "outputs": [
    {
     "data": {
      "image/png": "[encoded data removed]",
      "text/plain": [
       "<Figure size 720x576 with 1 Axes>"
      ]
     },
     "metadata": {
      "needs_background": "light"
     },
     "output_type": "display_data"
    }
   ],
   "source": [
    "fig, ax = plt.subplots(1, 1, figsize=(10, 8))\n",
    "plot_roc(\n",
    "    y_test['h1n1_vaccine'], \n",
    "    best_pred_h1n1, \n",
    "    'h1n1_vaccine',\n",
    "    ax=ax\n",
    ")"
   ]
  },
  {
   "cell_type": "markdown",
   "metadata": {},
   "source": [
    "### Seasonal Vaccine"
   ]
  },
  {
   "cell_type": "code",
   "execution_count": 75,
   "metadata": {},
   "outputs": [],
   "source": [
    "train_dataset_se = Pool(data=X_train,\n",
    "                     label=y_train.seasonal_vaccine,\n",
    "                     cat_features = categorical_features_indices)"
   ]
  },
  {
   "cell_type": "code",
   "execution_count": 76,
   "metadata": {},
   "outputs": [],
   "source": [
    "def objective2(trial):\n",
    "    param = {\n",
    "        'iterations':trial.suggest_categorical('iterations', [300,500,1000,1200,1500]),\n",
    "        'learning_rate':trial.suggest_float('learning_rate', 0.001, 0.3),\n",
    "        'random_strength':trial.suggest_int('random_strength', 1,10),\n",
    "        'bagging_temperature':trial.suggest_int('bagging_temperature', 0,10),\n",
    "        'max_bin':trial.suggest_categorical('max_bin', [4,5,6,8,10]),\n",
    "        'grow_policy':trial.suggest_categorical('grow_policy', ['SymmetricTree']),\n",
    "        'od_type' : \"Iter\",\n",
    "        'od_wait' : 100,\n",
    "        'depth': trial.suggest_int('max_depth', 2,10),\n",
    "        'l2_leaf_reg': trial.suggest_loguniform('l2_leaf_reg', 1e-8, 100),\n",
    "        'one_hot_max_size':trial.suggest_categorical('one_hot_max_size', [5,10,12,100,500,1024]),\n",
    "        'custom_metric' : ['AUC'],\n",
    "        'loss_function': 'Logloss',\n",
    "        'auto_class_weights':trial.suggest_categorical('auto_class_weights', ['Balanced']),\n",
    "        }\n",
    "\n",
    "    scores = cv(train_dataset_se,\n",
    "            param,\n",
    "            fold_count=5, \n",
    "            early_stopping_rounds=10,         \n",
    "            plot=False, verbose=False)\n",
    "\n",
    "    return scores['test-AUC-mean'].max()"
   ]
  },
  {
   "cell_type": "code",
   "execution_count": 80,
   "metadata": {
    "scrolled": true
   },
   "outputs": [
    {
     "name": "stderr",
     "output_type": "stream",
     "text": [
      "\u001b[32m[I 2022-01-26 22:11:12,181]\u001b[0m A new study created in memory with name: no-name-f14dc09b-1739-4471-a7a0-84026ef19b25\u001b[0m\n",
      "Custom logger is already specified. Specify more than one logger at same time is not thread safe."
     ]
    },
    {
     "name": "stdout",
     "output_type": "stream",
     "text": [
      "Training on fold [0/5]\n",
      "\n",
      "bestTest = 0.4789440281\n",
      "bestIteration = 169\n",
      "\n",
      "Training on fold [1/5]\n",
      "\n",
      "bestTest = 0.4682585941\n",
      "bestIteration = 193\n",
      "\n",
      "Training on fold [2/5]\n",
      "\n",
      "bestTest = 0.4703996968\n",
      "bestIteration = 156\n",
      "\n",
      "Training on fold [3/5]\n",
      "\n",
      "bestTest = 0.4556369312\n",
      "bestIteration = 180\n",
      "\n",
      "Training on fold [4/5]\n"
     ]
    },
    {
     "name": "stderr",
     "output_type": "stream",
     "text": [
      "\u001b[32m[I 2022-01-26 22:11:58,761]\u001b[0m Trial 0 finished with value: 0.8593868165076832 and parameters: {'iterations': 1500, 'learning_rate': 0.08961999953042239, 'random_strength': 9, 'bagging_temperature': 1, 'max_bin': 10, 'grow_policy': 'SymmetricTree', 'max_depth': 6, 'l2_leaf_reg': 0.0011812125446097113, 'one_hot_max_size': 5, 'auto_class_weights': 'Balanced'}. Best is trial 0 with value: 0.8593868165076832.\u001b[0m\n"
     ]
    },
    {
     "name": "stdout",
     "output_type": "stream",
     "text": [
      "\n",
      "bestTest = 0.4692511473\n",
      "bestIteration = 170\n",
      "\n",
      "Training on fold [0/5]\n",
      "\n",
      "bestTest = 0.4770890344\n",
      "bestIteration = 121\n",
      "\n",
      "Training on fold [1/5]\n",
      "\n",
      "bestTest = 0.465842965\n",
      "bestIteration = 141\n",
      "\n",
      "Training on fold [2/5]\n",
      "\n",
      "bestTest = 0.4684124025\n",
      "bestIteration = 80\n",
      "\n",
      "Training on fold [3/5]\n",
      "\n",
      "bestTest = 0.4579701636\n",
      "bestIteration = 113\n",
      "\n",
      "Training on fold [4/5]\n"
     ]
    },
    {
     "name": "stderr",
     "output_type": "stream",
     "text": [
      "\u001b[32m[I 2022-01-26 22:12:01,561]\u001b[0m Trial 1 finished with value: 0.860345874151206 and parameters: {'iterations': 1000, 'learning_rate': 0.2957047309441607, 'random_strength': 8, 'bagging_temperature': 6, 'max_bin': 8, 'grow_policy': 'SymmetricTree', 'max_depth': 2, 'l2_leaf_reg': 0.001354720669824658, 'one_hot_max_size': 100, 'auto_class_weights': 'Balanced'}. Best is trial 1 with value: 0.860345874151206.\u001b[0m\n"
     ]
    },
    {
     "name": "stdout",
     "output_type": "stream",
     "text": [
      "\n",
      "bestTest = 0.4662472659\n",
      "bestIteration = 117\n",
      "\n",
      "Training on fold [0/5]\n",
      "\n",
      "bestTest = 0.4754388824\n",
      "bestIteration = 351\n",
      "\n",
      "Training on fold [1/5]\n",
      "\n",
      "bestTest = 0.4683393546\n",
      "bestIteration = 216\n",
      "\n",
      "Training on fold [2/5]\n",
      "\n",
      "bestTest = 0.467979347\n",
      "bestIteration = 179\n",
      "\n",
      "Training on fold [3/5]\n",
      "\n",
      "bestTest = 0.4586970532\n",
      "bestIteration = 250\n",
      "\n",
      "Training on fold [4/5]\n"
     ]
    },
    {
     "name": "stderr",
     "output_type": "stream",
     "text": [
      "\u001b[32m[I 2022-01-26 22:12:07,220]\u001b[0m Trial 2 finished with value: 0.8606202389517286 and parameters: {'iterations': 1200, 'learning_rate': 0.1371525795360902, 'random_strength': 8, 'bagging_temperature': 10, 'max_bin': 8, 'grow_policy': 'SymmetricTree', 'max_depth': 2, 'l2_leaf_reg': 0.0048185425547954824, 'one_hot_max_size': 500, 'auto_class_weights': 'Balanced'}. Best is trial 2 with value: 0.8606202389517286.\u001b[0m\n"
     ]
    },
    {
     "name": "stdout",
     "output_type": "stream",
     "text": [
      "\n",
      "bestTest = 0.4663679471\n",
      "bestIteration = 281\n",
      "\n",
      "Training on fold [0/5]\n",
      "\n",
      "bestTest = 0.4948629497\n",
      "bestIteration = 196\n",
      "\n",
      "Training on fold [1/5]\n",
      "\n",
      "bestTest = 0.4815324874\n",
      "bestIteration = 216\n",
      "\n",
      "Training on fold [2/5]\n",
      "\n",
      "bestTest = 0.4825471884\n",
      "bestIteration = 235\n",
      "\n",
      "Training on fold [3/5]\n",
      "\n",
      "bestTest = 0.4826897365\n",
      "bestIteration = 174\n",
      "\n",
      "Training on fold [4/5]\n"
     ]
    },
    {
     "name": "stderr",
     "output_type": "stream",
     "text": [
      "\u001b[32m[I 2022-01-26 22:13:18,896]\u001b[0m Trial 3 finished with value: 0.849942102617159 and parameters: {'iterations': 300, 'learning_rate': 0.026623822549052163, 'random_strength': 10, 'bagging_temperature': 7, 'max_bin': 6, 'grow_policy': 'SymmetricTree', 'max_depth': 10, 'l2_leaf_reg': 1.9008463722440555e-07, 'one_hot_max_size': 10, 'auto_class_weights': 'Balanced'}. Best is trial 2 with value: 0.8606202389517286.\u001b[0m\n"
     ]
    },
    {
     "name": "stdout",
     "output_type": "stream",
     "text": [
      "\n",
      "bestTest = 0.4867178236\n",
      "bestIteration = 156\n",
      "\n",
      "Training on fold [0/5]\n",
      "\n",
      "bestTest = 0.4846899939\n",
      "bestIteration = 999\n",
      "\n",
      "Training on fold [1/5]\n",
      "\n",
      "bestTest = 0.4763366383\n",
      "bestIteration = 999\n",
      "\n",
      "Training on fold [2/5]\n",
      "\n",
      "bestTest = 0.4752090352\n",
      "bestIteration = 999\n",
      "\n",
      "Training on fold [3/5]\n",
      "\n",
      "bestTest = 0.4686157921\n",
      "bestIteration = 999\n",
      "\n",
      "Training on fold [4/5]\n"
     ]
    },
    {
     "name": "stderr",
     "output_type": "stream",
     "text": [
      "\u001b[32m[I 2022-01-26 22:13:50,553]\u001b[0m Trial 4 finished with value: 0.857837525117682 and parameters: {'iterations': 1000, 'learning_rate': 0.007101034052723374, 'random_strength': 6, 'bagging_temperature': 2, 'max_bin': 5, 'grow_policy': 'SymmetricTree', 'max_depth': 6, 'l2_leaf_reg': 0.005827202489296445, 'one_hot_max_size': 500, 'auto_class_weights': 'Balanced'}. Best is trial 2 with value: 0.8606202389517286.\u001b[0m\n"
     ]
    },
    {
     "name": "stdout",
     "output_type": "stream",
     "text": [
      "\n",
      "bestTest = 0.4746604878\n",
      "bestIteration = 999\n",
      "\n",
      "Training on fold [0/5]\n",
      "\n",
      "bestTest = 0.4791833139\n",
      "bestIteration = 81\n",
      "\n",
      "Training on fold [1/5]\n",
      "\n",
      "bestTest = 0.466493637\n",
      "bestIteration = 128\n",
      "\n",
      "Training on fold [2/5]\n",
      "\n",
      "bestTest = 0.4732777386\n",
      "bestIteration = 60\n",
      "\n",
      "Training on fold [3/5]\n",
      "\n",
      "bestTest = 0.4635296818\n",
      "bestIteration = 55\n",
      "\n",
      "Training on fold [4/5]\n"
     ]
    },
    {
     "name": "stderr",
     "output_type": "stream",
     "text": [
      "\u001b[32m[I 2022-01-26 22:13:52,531]\u001b[0m Trial 5 finished with value: 0.8587409941282133 and parameters: {'iterations': 1500, 'learning_rate': 0.2964430813582234, 'random_strength': 2, 'bagging_temperature': 9, 'max_bin': 10, 'grow_policy': 'SymmetricTree', 'max_depth': 2, 'l2_leaf_reg': 1.7622702261668875e-07, 'one_hot_max_size': 100, 'auto_class_weights': 'Balanced'}. Best is trial 2 with value: 0.8606202389517286.\u001b[0m\n"
     ]
    },
    {
     "name": "stdout",
     "output_type": "stream",
     "text": [
      "\n",
      "bestTest = 0.4674640727\n",
      "bestIteration = 96\n",
      "\n",
      "Training on fold [0/5]\n",
      "\n",
      "bestTest = 0.4756116044\n",
      "bestIteration = 66\n",
      "\n",
      "Training on fold [1/5]\n",
      "\n",
      "bestTest = 0.4644011601\n",
      "bestIteration = 93\n",
      "\n",
      "Training on fold [2/5]\n",
      "\n",
      "bestTest = 0.4648154748\n",
      "bestIteration = 72\n",
      "\n",
      "Training on fold [3/5]\n",
      "\n",
      "bestTest = 0.448930821\n",
      "bestIteration = 110\n",
      "\n",
      "Training on fold [4/5]\n"
     ]
    },
    {
     "name": "stderr",
     "output_type": "stream",
     "text": [
      "\u001b[32m[I 2022-01-26 22:14:16,765]\u001b[0m Trial 6 finished with value: 0.8618040497560353 and parameters: {'iterations': 300, 'learning_rate': 0.22423670437233847, 'random_strength': 6, 'bagging_temperature': 2, 'max_bin': 10, 'grow_policy': 'SymmetricTree', 'max_depth': 6, 'l2_leaf_reg': 23.41661191676168, 'one_hot_max_size': 5, 'auto_class_weights': 'Balanced'}. Best is trial 6 with value: 0.8618040497560353.\u001b[0m\n"
     ]
    },
    {
     "name": "stdout",
     "output_type": "stream",
     "text": [
      "\n",
      "bestTest = 0.4666766128\n",
      "bestIteration = 70\n",
      "\n",
      "Training on fold [0/5]\n",
      "\n",
      "bestTest = 0.5268494835\n",
      "bestIteration = 19\n",
      "\n",
      "Training on fold [1/5]\n",
      "\n",
      "bestTest = 0.521511019\n",
      "bestIteration = 18\n",
      "\n",
      "Training on fold [2/5]\n",
      "\n",
      "bestTest = 0.5116342999\n",
      "bestIteration = 20\n",
      "\n",
      "Training on fold [3/5]\n",
      "\n",
      "bestTest = 0.507380678\n",
      "bestIteration = 21\n",
      "\n",
      "Training on fold [4/5]\n"
     ]
    },
    {
     "name": "stderr",
     "output_type": "stream",
     "text": [
      "\u001b[32m[I 2022-01-26 22:14:19,383]\u001b[0m Trial 7 finished with value: 0.8317156841547483 and parameters: {'iterations': 1500, 'learning_rate': 0.1253699635699981, 'random_strength': 7, 'bagging_temperature': 8, 'max_bin': 4, 'grow_policy': 'SymmetricTree', 'max_depth': 10, 'l2_leaf_reg': 2.8307160689696775e-06, 'one_hot_max_size': 1024, 'auto_class_weights': 'Balanced'}. Best is trial 6 with value: 0.8618040497560353.\u001b[0m\n"
     ]
    },
    {
     "name": "stdout",
     "output_type": "stream",
     "text": [
      "\n",
      "bestTest = 0.5069147998\n",
      "bestIteration = 20\n",
      "\n",
      "Training on fold [0/5]\n",
      "\n",
      "bestTest = 0.4897138303\n",
      "bestIteration = 241\n",
      "\n",
      "Training on fold [1/5]\n",
      "\n",
      "bestTest = 0.4846576375\n",
      "bestIteration = 231\n",
      "\n",
      "Training on fold [2/5]\n",
      "\n",
      "bestTest = 0.4711461927\n",
      "bestIteration = 284\n",
      "\n",
      "Training on fold [3/5]\n",
      "\n",
      "bestTest = 0.4679942307\n",
      "bestIteration = 296\n",
      "\n",
      "Training on fold [4/5]\n"
     ]
    },
    {
     "name": "stderr",
     "output_type": "stream",
     "text": [
      "\u001b[32m[I 2022-01-26 22:14:44,893]\u001b[0m Trial 8 finished with value: 0.8537652773494571 and parameters: {'iterations': 1000, 'learning_rate': 0.00957473821190967, 'random_strength': 1, 'bagging_temperature': 3, 'max_bin': 5, 'grow_policy': 'SymmetricTree', 'max_depth': 10, 'l2_leaf_reg': 0.0003332900472045444, 'one_hot_max_size': 500, 'auto_class_weights': 'Balanced'}. Best is trial 6 with value: 0.8618040497560353.\u001b[0m\n"
     ]
    },
    {
     "name": "stdout",
     "output_type": "stream",
     "text": [
      "\n",
      "bestTest = 0.4778209095\n",
      "bestIteration = 315\n",
      "\n",
      "Training on fold [0/5]\n",
      "\n",
      "bestTest = 0.5156778663\n",
      "bestIteration = 8\n",
      "\n",
      "Training on fold [1/5]\n",
      "\n",
      "bestTest = 0.5251662295\n",
      "bestIteration = 6\n",
      "\n",
      "Training on fold [2/5]\n",
      "\n",
      "bestTest = 0.5104501024\n",
      "bestIteration = 7\n",
      "\n",
      "Training on fold [3/5]\n",
      "\n",
      "bestTest = 0.5055155111\n",
      "bestIteration = 8\n",
      "\n",
      "Training on fold [4/5]\n"
     ]
    },
    {
     "name": "stderr",
     "output_type": "stream",
     "text": [
      "\u001b[32m[I 2022-01-26 22:14:46,647]\u001b[0m Trial 9 finished with value: 0.8318933261145813 and parameters: {'iterations': 1000, 'learning_rate': 0.2301364835144914, 'random_strength': 2, 'bagging_temperature': 4, 'max_bin': 4, 'grow_policy': 'SymmetricTree', 'max_depth': 10, 'l2_leaf_reg': 0.0013398579507442577, 'one_hot_max_size': 100, 'auto_class_weights': 'Balanced'}. Best is trial 6 with value: 0.8618040497560353.\u001b[0m\n"
     ]
    },
    {
     "name": "stdout",
     "output_type": "stream",
     "text": [
      "\n",
      "bestTest = 0.5191401504\n",
      "bestIteration = 7\n",
      "\n",
      "Training on fold [0/5]\n",
      "\n",
      "bestTest = 0.474127904\n",
      "bestIteration = 150\n",
      "\n",
      "Training on fold [1/5]\n",
      "\n",
      "bestTest = 0.4637253015\n",
      "bestIteration = 100\n",
      "\n",
      "Training on fold [2/5]\n",
      "\n",
      "bestTest = 0.4641810146\n",
      "bestIteration = 119\n",
      "\n",
      "Training on fold [3/5]\n",
      "\n",
      "bestTest = 0.452585378\n",
      "bestIteration = 113\n",
      "\n",
      "Training on fold [4/5]\n"
     ]
    },
    {
     "name": "stderr",
     "output_type": "stream",
     "text": [
      "\u001b[32m[I 2022-01-26 22:15:05,144]\u001b[0m Trial 10 finished with value: 0.862359108942251 and parameters: {'iterations': 300, 'learning_rate': 0.21210578031115196, 'random_strength': 4, 'bagging_temperature': 0, 'max_bin': 10, 'grow_policy': 'SymmetricTree', 'max_depth': 4, 'l2_leaf_reg': 67.55513953843523, 'one_hot_max_size': 5, 'auto_class_weights': 'Balanced'}. Best is trial 10 with value: 0.862359108942251.\u001b[0m\n"
     ]
    },
    {
     "name": "stdout",
     "output_type": "stream",
     "text": [
      "\n",
      "bestTest = 0.4658360021\n",
      "bestIteration = 88\n",
      "\n",
      "Training on fold [0/5]\n",
      "\n",
      "bestTest = 0.4734393004\n",
      "bestIteration = 124\n",
      "\n",
      "Training on fold [1/5]\n",
      "\n",
      "bestTest = 0.4635596636\n",
      "bestIteration = 116\n",
      "\n",
      "Training on fold [2/5]\n",
      "\n",
      "bestTest = 0.4644007712\n",
      "bestIteration = 93\n",
      "\n",
      "Training on fold [3/5]\n",
      "\n",
      "bestTest = 0.4554069726\n",
      "bestIteration = 92\n",
      "\n",
      "Training on fold [4/5]\n"
     ]
    },
    {
     "name": "stderr",
     "output_type": "stream",
     "text": [
      "\u001b[32m[I 2022-01-26 22:15:22,396]\u001b[0m Trial 11 finished with value: 0.8622109059136738 and parameters: {'iterations': 300, 'learning_rate': 0.21179272225527906, 'random_strength': 4, 'bagging_temperature': 0, 'max_bin': 10, 'grow_policy': 'SymmetricTree', 'max_depth': 4, 'l2_leaf_reg': 34.56103765349822, 'one_hot_max_size': 5, 'auto_class_weights': 'Balanced'}. Best is trial 10 with value: 0.862359108942251.\u001b[0m\n"
     ]
    },
    {
     "name": "stdout",
     "output_type": "stream",
     "text": [
      "\n",
      "bestTest = 0.4646046968\n",
      "bestIteration = 88\n",
      "\n",
      "Training on fold [0/5]\n",
      "\n",
      "bestTest = 0.4724145308\n",
      "bestIteration = 152\n",
      "\n",
      "Training on fold [1/5]\n",
      "\n",
      "bestTest = 0.4662352134\n",
      "bestIteration = 98\n",
      "\n",
      "Training on fold [2/5]\n",
      "\n",
      "bestTest = 0.4631763699\n",
      "bestIteration = 120\n",
      "\n",
      "Training on fold [3/5]\n",
      "\n",
      "bestTest = 0.4523173227\n",
      "bestIteration = 121\n",
      "\n",
      "Training on fold [4/5]\n"
     ]
    },
    {
     "name": "stderr",
     "output_type": "stream",
     "text": [
      "\u001b[32m[I 2022-01-26 22:15:42,494]\u001b[0m Trial 12 finished with value: 0.8623405767694325 and parameters: {'iterations': 300, 'learning_rate': 0.21371183387618528, 'random_strength': 4, 'bagging_temperature': 0, 'max_bin': 10, 'grow_policy': 'SymmetricTree', 'max_depth': 4, 'l2_leaf_reg': 95.0310408809215, 'one_hot_max_size': 5, 'auto_class_weights': 'Balanced'}. Best is trial 10 with value: 0.862359108942251.\u001b[0m\n"
     ]
    },
    {
     "name": "stdout",
     "output_type": "stream",
     "text": [
      "\n",
      "bestTest = 0.4651785343\n",
      "bestIteration = 126\n",
      "\n",
      "Training on fold [0/5]\n",
      "\n",
      "bestTest = 0.4736496533\n",
      "bestIteration = 114\n",
      "\n",
      "Training on fold [1/5]\n",
      "\n",
      "bestTest = 0.4621568561\n",
      "bestIteration = 121\n",
      "\n",
      "Training on fold [2/5]\n",
      "\n",
      "bestTest = 0.4645777223\n",
      "bestIteration = 102\n",
      "\n",
      "Training on fold [3/5]\n",
      "\n",
      "bestTest = 0.4517520926\n",
      "bestIteration = 147\n",
      "\n",
      "Training on fold [4/5]\n"
     ]
    },
    {
     "name": "stderr",
     "output_type": "stream",
     "text": [
      "\u001b[32m[I 2022-01-26 22:16:00,581]\u001b[0m Trial 13 finished with value: 0.8623110694167042 and parameters: {'iterations': 500, 'learning_rate': 0.1836821261830615, 'random_strength': 4, 'bagging_temperature': 0, 'max_bin': 10, 'grow_policy': 'SymmetricTree', 'max_depth': 4, 'l2_leaf_reg': 0.8236334555490133, 'one_hot_max_size': 12, 'auto_class_weights': 'Balanced'}. Best is trial 10 with value: 0.862359108942251.\u001b[0m\n"
     ]
    },
    {
     "name": "stdout",
     "output_type": "stream",
     "text": [
      "\n",
      "bestTest = 0.4656831528\n",
      "bestIteration = 106\n",
      "\n",
      "Training on fold [0/5]\n",
      "\n",
      "bestTest = 0.4759603051\n",
      "bestIteration = 136\n",
      "\n",
      "Training on fold [1/5]\n",
      "\n",
      "bestTest = 0.4648820969\n",
      "bestIteration = 128\n",
      "\n",
      "Training on fold [2/5]\n",
      "\n",
      "bestTest = 0.4647245673\n",
      "bestIteration = 104\n",
      "\n",
      "Training on fold [3/5]\n",
      "\n",
      "bestTest = 0.4530818531\n",
      "bestIteration = 140\n",
      "\n",
      "Training on fold [4/5]\n"
     ]
    },
    {
     "name": "stderr",
     "output_type": "stream",
     "text": [
      "\u001b[32m[I 2022-01-26 22:16:19,464]\u001b[0m Trial 14 finished with value: 0.8611865259697262 and parameters: {'iterations': 300, 'learning_rate': 0.18241430488443391, 'random_strength': 4, 'bagging_temperature': 5, 'max_bin': 6, 'grow_policy': 'SymmetricTree', 'max_depth': 4, 'l2_leaf_reg': 0.5135319808098414, 'one_hot_max_size': 5, 'auto_class_weights': 'Balanced'}. Best is trial 10 with value: 0.862359108942251.\u001b[0m\n"
     ]
    },
    {
     "name": "stdout",
     "output_type": "stream",
     "text": [
      "\n",
      "bestTest = 0.4684204666\n",
      "bestIteration = 111\n",
      "\n",
      "Training on fold [0/5]\n",
      "\n",
      "bestTest = 0.4799253078\n",
      "bestIteration = 36\n",
      "\n",
      "Training on fold [1/5]\n",
      "\n",
      "bestTest = 0.4755874449\n",
      "bestIteration = 40\n",
      "\n",
      "Training on fold [2/5]\n",
      "\n",
      "bestTest = 0.4730591093\n",
      "bestIteration = 46\n",
      "\n",
      "Training on fold [3/5]\n",
      "\n",
      "bestTest = 0.462039807\n",
      "bestIteration = 48\n",
      "\n",
      "Training on fold [4/5]\n"
     ]
    },
    {
     "name": "stderr",
     "output_type": "stream",
     "text": [
      "\u001b[32m[I 2022-01-26 22:16:40,081]\u001b[0m Trial 15 finished with value: 0.8569542147767614 and parameters: {'iterations': 300, 'learning_rate': 0.2549106738246301, 'random_strength': 3, 'bagging_temperature': 0, 'max_bin': 10, 'grow_policy': 'SymmetricTree', 'max_depth': 8, 'l2_leaf_reg': 0.8549315771643822, 'one_hot_max_size': 5, 'auto_class_weights': 'Balanced'}. Best is trial 10 with value: 0.862359108942251.\u001b[0m\n"
     ]
    },
    {
     "name": "stdout",
     "output_type": "stream",
     "text": [
      "\n",
      "bestTest = 0.4682033068\n",
      "bestIteration = 49\n",
      "\n",
      "Training on fold [0/5]\n",
      "\n",
      "bestTest = 0.4737545929\n",
      "bestIteration = 124\n",
      "\n",
      "Training on fold [1/5]\n",
      "\n",
      "bestTest = 0.4675977573\n",
      "bestIteration = 100\n",
      "\n",
      "Training on fold [2/5]\n",
      "\n",
      "bestTest = 0.4645242261\n",
      "bestIteration = 114\n",
      "\n",
      "Training on fold [3/5]\n",
      "\n",
      "bestTest = 0.4526097288\n",
      "bestIteration = 103\n",
      "\n",
      "Training on fold [4/5]\n"
     ]
    },
    {
     "name": "stderr",
     "output_type": "stream",
     "text": [
      "\u001b[32m[I 2022-01-26 22:17:03,730]\u001b[0m Trial 16 finished with value: 0.8619107591073064 and parameters: {'iterations': 1200, 'learning_rate': 0.17311448365052856, 'random_strength': 5, 'bagging_temperature': 2, 'max_bin': 10, 'grow_policy': 'SymmetricTree', 'max_depth': 5, 'l2_leaf_reg': 64.67976006485286, 'one_hot_max_size': 12, 'auto_class_weights': 'Balanced'}. Best is trial 10 with value: 0.862359108942251.\u001b[0m\n"
     ]
    },
    {
     "name": "stdout",
     "output_type": "stream",
     "text": [
      "\n",
      "bestTest = 0.4649549376\n",
      "bestIteration = 105\n",
      "\n",
      "Training on fold [0/5]\n",
      "\n",
      "bestTest = 0.4752486402\n",
      "bestIteration = 96\n",
      "\n",
      "Training on fold [1/5]\n",
      "\n",
      "bestTest = 0.4664943218\n",
      "bestIteration = 102\n",
      "\n",
      "Training on fold [2/5]\n",
      "\n",
      "bestTest = 0.462831608\n",
      "bestIteration = 117\n",
      "\n",
      "Training on fold [3/5]\n",
      "\n",
      "bestTest = 0.4554305135\n",
      "bestIteration = 125\n",
      "\n",
      "Training on fold [4/5]\n"
     ]
    },
    {
     "name": "stderr",
     "output_type": "stream",
     "text": [
      "\u001b[32m[I 2022-01-26 22:17:16,205]\u001b[0m Trial 17 finished with value: 0.861413743262799 and parameters: {'iterations': 500, 'learning_rate': 0.255740718764043, 'random_strength': 5, 'bagging_temperature': 4, 'max_bin': 10, 'grow_policy': 'SymmetricTree', 'max_depth': 3, 'l2_leaf_reg': 0.06363366937413929, 'one_hot_max_size': 10, 'auto_class_weights': 'Balanced'}. Best is trial 10 with value: 0.862359108942251.\u001b[0m\n"
     ]
    },
    {
     "name": "stdout",
     "output_type": "stream",
     "text": [
      "\n",
      "bestTest = 0.4658359213\n",
      "bestIteration = 84\n",
      "\n",
      "Training on fold [0/5]\n",
      "\n",
      "bestTest = 0.4907250282\n",
      "bestIteration = 66\n",
      "\n",
      "Training on fold [1/5]\n",
      "\n",
      "bestTest = 0.4854224609\n",
      "bestIteration = 58\n",
      "\n",
      "Training on fold [2/5]\n",
      "\n",
      "bestTest = 0.4781286915\n",
      "bestIteration = 52\n",
      "\n",
      "Training on fold [3/5]\n",
      "\n",
      "bestTest = 0.4779452799\n",
      "bestIteration = 68\n",
      "\n",
      "Training on fold [4/5]\n"
     ]
    },
    {
     "name": "stderr",
     "output_type": "stream",
     "text": [
      "\u001b[32m[I 2022-01-26 22:17:19,657]\u001b[0m Trial 18 finished with value: 0.8496512072955854 and parameters: {'iterations': 300, 'learning_rate': 0.08253977991457023, 'random_strength': 3, 'bagging_temperature': 1, 'max_bin': 6, 'grow_policy': 'SymmetricTree', 'max_depth': 8, 'l2_leaf_reg': 2.8479737297402608e-05, 'one_hot_max_size': 1024, 'auto_class_weights': 'Balanced'}. Best is trial 10 with value: 0.862359108942251.\u001b[0m\n"
     ]
    },
    {
     "name": "stdout",
     "output_type": "stream",
     "text": [
      "\n",
      "bestTest = 0.4863535705\n",
      "bestIteration = 54\n",
      "\n",
      "Training on fold [0/5]\n",
      "\n",
      "bestTest = 0.473859996\n",
      "bestIteration = 63\n",
      "\n",
      "Training on fold [1/5]\n",
      "\n",
      "bestTest = 0.4648689527\n",
      "bestIteration = 59\n",
      "\n",
      "Training on fold [2/5]\n",
      "\n",
      "bestTest = 0.4635062108\n",
      "bestIteration = 81\n",
      "\n",
      "Training on fold [3/5]\n",
      "\n",
      "bestTest = 0.4545072142\n",
      "bestIteration = 77\n",
      "\n",
      "Training on fold [4/5]\n"
     ]
    },
    {
     "name": "stderr",
     "output_type": "stream",
     "text": [
      "\u001b[32m[I 2022-01-26 22:17:36,947]\u001b[0m Trial 19 finished with value: 0.8619257651561592 and parameters: {'iterations': 300, 'learning_rate': 0.2564310773921398, 'random_strength': 1, 'bagging_temperature': 3, 'max_bin': 8, 'grow_policy': 'SymmetricTree', 'max_depth': 5, 'l2_leaf_reg': 6.086419077213827, 'one_hot_max_size': 5, 'auto_class_weights': 'Balanced'}. Best is trial 10 with value: 0.862359108942251.\u001b[0m\n"
     ]
    },
    {
     "name": "stdout",
     "output_type": "stream",
     "text": [
      "\n",
      "bestTest = 0.4623460353\n",
      "bestIteration = 66\n",
      "\n",
      "Training on fold [0/5]\n",
      "\n",
      "bestTest = 0.474365839\n",
      "bestIteration = 134\n",
      "\n",
      "Training on fold [1/5]\n",
      "\n",
      "bestTest = 0.4622676553\n",
      "bestIteration = 196\n",
      "\n",
      "Training on fold [2/5]\n",
      "\n",
      "bestTest = 0.4665139645\n",
      "bestIteration = 93\n",
      "\n",
      "Training on fold [3/5]\n",
      "\n",
      "bestTest = 0.45527227\n",
      "bestIteration = 126\n",
      "\n",
      "Training on fold [4/5]\n"
     ]
    },
    {
     "name": "stderr",
     "output_type": "stream",
     "text": [
      "\u001b[32m[I 2022-01-26 22:17:54,648]\u001b[0m Trial 20 finished with value: 0.8621509160231033 and parameters: {'iterations': 300, 'learning_rate': 0.15754469939693322, 'random_strength': 3, 'bagging_temperature': 1, 'max_bin': 5, 'grow_policy': 'SymmetricTree', 'max_depth': 3, 'l2_leaf_reg': 0.11952211033300277, 'one_hot_max_size': 5, 'auto_class_weights': 'Balanced'}. Best is trial 10 with value: 0.862359108942251.\u001b[0m\n"
     ]
    },
    {
     "name": "stdout",
     "output_type": "stream",
     "text": [
      "\n",
      "bestTest = 0.4654623359\n",
      "bestIteration = 161\n",
      "\n",
      "Training on fold [0/5]\n",
      "\n",
      "bestTest = 0.4752490407\n",
      "bestIteration = 137\n",
      "\n",
      "Training on fold [1/5]\n",
      "\n",
      "bestTest = 0.4641212994\n",
      "bestIteration = 123\n",
      "\n",
      "Training on fold [2/5]\n",
      "\n",
      "bestTest = 0.4615573293\n",
      "bestIteration = 119\n",
      "\n",
      "Training on fold [3/5]\n",
      "\n",
      "bestTest = 0.4515070026\n",
      "bestIteration = 128\n",
      "\n",
      "Training on fold [4/5]\n"
     ]
    },
    {
     "name": "stderr",
     "output_type": "stream",
     "text": [
      "\u001b[32m[I 2022-01-26 22:18:15,225]\u001b[0m Trial 21 finished with value: 0.8625371458350231 and parameters: {'iterations': 500, 'learning_rate': 0.19633856469603955, 'random_strength': 4, 'bagging_temperature': 0, 'max_bin': 10, 'grow_policy': 'SymmetricTree', 'max_depth': 4, 'l2_leaf_reg': 1.9861187822429698, 'one_hot_max_size': 12, 'auto_class_weights': 'Balanced'}. Best is trial 21 with value: 0.8625371458350231.\u001b[0m\n"
     ]
    },
    {
     "name": "stdout",
     "output_type": "stream",
     "text": [
      "\n",
      "bestTest = 0.4652675697\n",
      "bestIteration = 134\n",
      "\n",
      "Training on fold [0/5]\n",
      "\n",
      "bestTest = 0.4722083514\n",
      "bestIteration = 80\n",
      "\n",
      "Training on fold [1/5]\n",
      "\n",
      "bestTest = 0.46381913\n",
      "bestIteration = 97\n",
      "\n",
      "Training on fold [2/5]\n",
      "\n",
      "bestTest = 0.4639542684\n",
      "bestIteration = 81\n",
      "\n",
      "Training on fold [3/5]\n",
      "\n",
      "bestTest = 0.4520840554\n",
      "bestIteration = 88\n",
      "\n",
      "Training on fold [4/5]\n"
     ]
    },
    {
     "name": "stderr",
     "output_type": "stream",
     "text": [
      "\u001b[32m[I 2022-01-26 22:18:35,059]\u001b[0m Trial 22 finished with value: 0.8623758963845708 and parameters: {'iterations': 500, 'learning_rate': 0.20394358387568873, 'random_strength': 5, 'bagging_temperature': 0, 'max_bin': 10, 'grow_policy': 'SymmetricTree', 'max_depth': 5, 'l2_leaf_reg': 4.238956285476524, 'one_hot_max_size': 12, 'auto_class_weights': 'Balanced'}. Best is trial 21 with value: 0.8625371458350231.\u001b[0m\n"
     ]
    },
    {
     "name": "stdout",
     "output_type": "stream",
     "text": [
      "\n",
      "bestTest = 0.4671527284\n",
      "bestIteration = 75\n",
      "\n",
      "Training on fold [0/5]\n",
      "\n",
      "bestTest = 0.4741395873\n",
      "bestIteration = 99\n",
      "\n",
      "Training on fold [1/5]\n",
      "\n",
      "bestTest = 0.4643522559\n",
      "bestIteration = 89\n",
      "\n",
      "Training on fold [2/5]\n",
      "\n",
      "bestTest = 0.4643941229\n",
      "bestIteration = 70\n",
      "\n",
      "Training on fold [3/5]\n",
      "\n",
      "bestTest = 0.4495901406\n",
      "bestIteration = 127\n",
      "\n",
      "Training on fold [4/5]\n"
     ]
    },
    {
     "name": "stderr",
     "output_type": "stream",
     "text": [
      "\u001b[32m[I 2022-01-26 22:18:56,359]\u001b[0m Trial 23 finished with value: 0.8623385488038722 and parameters: {'iterations': 500, 'learning_rate': 0.19576770120795792, 'random_strength': 5, 'bagging_temperature': 1, 'max_bin': 10, 'grow_policy': 'SymmetricTree', 'max_depth': 5, 'l2_leaf_reg': 5.32039186310088, 'one_hot_max_size': 12, 'auto_class_weights': 'Balanced'}. Best is trial 21 with value: 0.8625371458350231.\u001b[0m\n"
     ]
    },
    {
     "name": "stdout",
     "output_type": "stream",
     "text": [
      "\n",
      "bestTest = 0.4653729189\n",
      "bestIteration = 79\n",
      "\n",
      "Training on fold [0/5]\n",
      "\n",
      "bestTest = 0.4750487594\n",
      "bestIteration = 95\n",
      "\n",
      "Training on fold [1/5]\n",
      "\n",
      "bestTest = 0.4680362979\n",
      "bestIteration = 97\n",
      "\n",
      "Training on fold [2/5]\n",
      "\n",
      "bestTest = 0.4627039921\n",
      "bestIteration = 109\n",
      "\n",
      "Training on fold [3/5]\n",
      "\n",
      "bestTest = 0.4498001325\n",
      "bestIteration = 118\n",
      "\n",
      "Training on fold [4/5]\n"
     ]
    },
    {
     "name": "stderr",
     "output_type": "stream",
     "text": [
      "\u001b[32m[I 2022-01-26 22:19:33,637]\u001b[0m Trial 24 finished with value: 0.8619302258129098 and parameters: {'iterations': 500, 'learning_rate': 0.15279097276120915, 'random_strength': 6, 'bagging_temperature': 3, 'max_bin': 10, 'grow_policy': 'SymmetricTree', 'max_depth': 7, 'l2_leaf_reg': 4.322237703721421, 'one_hot_max_size': 12, 'auto_class_weights': 'Balanced'}. Best is trial 21 with value: 0.8625371458350231.\u001b[0m\n"
     ]
    },
    {
     "name": "stdout",
     "output_type": "stream",
     "text": [
      "\n",
      "bestTest = 0.4640874108\n",
      "bestIteration = 97\n",
      "\n",
      "Training on fold [0/5]\n",
      "\n",
      "bestTest = 0.4766597801\n",
      "bestIteration = 213\n",
      "\n",
      "Training on fold [1/5]\n",
      "\n",
      "bestTest = 0.4658741239\n",
      "bestIteration = 201\n",
      "\n",
      "Training on fold [2/5]\n",
      "\n",
      "bestTest = 0.4654708403\n",
      "bestIteration = 156\n",
      "\n",
      "Training on fold [3/5]\n",
      "\n",
      "bestTest = 0.4544610975\n",
      "bestIteration = 217\n",
      "\n",
      "Training on fold [4/5]\n"
     ]
    },
    {
     "name": "stderr",
     "output_type": "stream",
     "text": [
      "\u001b[32m[I 2022-01-26 22:19:57,105]\u001b[0m Trial 25 finished with value: 0.8615450751588153 and parameters: {'iterations': 500, 'learning_rate': 0.11082249099846167, 'random_strength': 7, 'bagging_temperature': 0, 'max_bin': 4, 'grow_policy': 'SymmetricTree', 'max_depth': 3, 'l2_leaf_reg': 0.06431677615949156, 'one_hot_max_size': 12, 'auto_class_weights': 'Balanced'}. Best is trial 21 with value: 0.8625371458350231.\u001b[0m\n"
     ]
    },
    {
     "name": "stdout",
     "output_type": "stream",
     "text": [
      "\n",
      "bestTest = 0.4662533325\n",
      "bestIteration = 221\n",
      "\n",
      "Training on fold [0/5]\n",
      "\n",
      "bestTest = 0.4769776443\n",
      "bestIteration = 51\n",
      "\n",
      "Training on fold [1/5]\n",
      "\n",
      "bestTest = 0.4644847636\n",
      "bestIteration = 60\n",
      "\n",
      "Training on fold [2/5]\n",
      "\n",
      "bestTest = 0.4634868635\n",
      "bestIteration = 74\n",
      "\n",
      "Training on fold [3/5]\n",
      "\n",
      "bestTest = 0.4515559099\n",
      "bestIteration = 80\n",
      "\n",
      "Training on fold [4/5]\n"
     ]
    },
    {
     "name": "stderr",
     "output_type": "stream",
     "text": [
      "\u001b[32m[I 2022-01-26 22:20:15,057]\u001b[0m Trial 26 finished with value: 0.861607261486092 and parameters: {'iterations': 500, 'learning_rate': 0.24808940056373904, 'random_strength': 2, 'bagging_temperature': 2, 'max_bin': 10, 'grow_policy': 'SymmetricTree', 'max_depth': 5, 'l2_leaf_reg': 4.3413749386691265, 'one_hot_max_size': 12, 'auto_class_weights': 'Balanced'}. Best is trial 21 with value: 0.8625371458350231.\u001b[0m\n"
     ]
    },
    {
     "name": "stdout",
     "output_type": "stream",
     "text": [
      "\n",
      "bestTest = 0.4657990262\n",
      "bestIteration = 100\n",
      "\n",
      "Training on fold [0/5]\n",
      "\n",
      "bestTest = 0.4850032684\n",
      "bestIteration = 33\n",
      "\n",
      "Training on fold [1/5]\n",
      "\n",
      "bestTest = 0.4743926682\n",
      "bestIteration = 61\n",
      "\n",
      "Training on fold [2/5]\n",
      "\n",
      "bestTest = 0.4686152357\n",
      "bestIteration = 53\n",
      "\n",
      "Training on fold [3/5]\n",
      "\n",
      "bestTest = 0.456894532\n",
      "bestIteration = 71\n",
      "\n",
      "Training on fold [4/5]\n"
     ]
    },
    {
     "name": "stderr",
     "output_type": "stream",
     "text": [
      "\u001b[32m[I 2022-01-26 22:20:36,298]\u001b[0m Trial 27 finished with value: 0.8574828036972983 and parameters: {'iterations': 500, 'learning_rate': 0.20105741689107434, 'random_strength': 5, 'bagging_temperature': 1, 'max_bin': 10, 'grow_policy': 'SymmetricTree', 'max_depth': 7, 'l2_leaf_reg': 0.18315139256737686, 'one_hot_max_size': 12, 'auto_class_weights': 'Balanced'}. Best is trial 21 with value: 0.8625371458350231.\u001b[0m\n"
     ]
    },
    {
     "name": "stdout",
     "output_type": "stream",
     "text": [
      "\n",
      "bestTest = 0.4722961422\n",
      "bestIteration = 50\n",
      "\n",
      "Training on fold [0/5]\n",
      "\n",
      "bestTest = 0.4764847312\n",
      "bestIteration = 115\n",
      "\n",
      "Training on fold [1/5]\n",
      "\n",
      "bestTest = 0.4677820207\n",
      "bestIteration = 102\n",
      "\n",
      "Training on fold [2/5]\n",
      "\n",
      "bestTest = 0.4644991156\n",
      "bestIteration = 117\n",
      "\n",
      "Training on fold [3/5]\n",
      "\n",
      "bestTest = 0.4547448802\n",
      "bestIteration = 136\n",
      "\n",
      "Training on fold [4/5]\n"
     ]
    },
    {
     "name": "stderr",
     "output_type": "stream",
     "text": [
      "\u001b[32m[I 2022-01-26 22:20:51,158]\u001b[0m Trial 28 finished with value: 0.8612570628464619 and parameters: {'iterations': 500, 'learning_rate': 0.1652384257078016, 'random_strength': 3, 'bagging_temperature': 4, 'max_bin': 10, 'grow_policy': 'SymmetricTree', 'max_depth': 3, 'l2_leaf_reg': 1.0595003544247859e-08, 'one_hot_max_size': 12, 'auto_class_weights': 'Balanced'}. Best is trial 21 with value: 0.8625371458350231.\u001b[0m\n"
     ]
    },
    {
     "name": "stdout",
     "output_type": "stream",
     "text": [
      "\n",
      "bestTest = 0.4659474265\n",
      "bestIteration = 130\n",
      "\n",
      "Training on fold [0/5]\n",
      "\n",
      "bestTest = 0.4835328235\n",
      "bestIteration = 93\n",
      "\n",
      "Training on fold [1/5]\n",
      "\n",
      "bestTest = 0.4693596781\n",
      "bestIteration = 115\n",
      "\n",
      "Training on fold [2/5]\n",
      "\n",
      "bestTest = 0.4672650349\n",
      "bestIteration = 149\n",
      "\n",
      "Training on fold [3/5]\n",
      "\n",
      "bestTest = 0.4581679633\n",
      "bestIteration = 146\n",
      "\n",
      "Training on fold [4/5]\n"
     ]
    },
    {
     "name": "stderr",
     "output_type": "stream",
     "text": [
      "\u001b[32m[I 2022-01-26 22:21:34,921]\u001b[0m Trial 29 finished with value: 0.8587868425602239 and parameters: {'iterations': 1200, 'learning_rate': 0.07792970912774126, 'random_strength': 4, 'bagging_temperature': 1, 'max_bin': 10, 'grow_policy': 'SymmetricTree', 'max_depth': 7, 'l2_leaf_reg': 0.013263638814600636, 'one_hot_max_size': 10, 'auto_class_weights': 'Balanced'}. Best is trial 21 with value: 0.8625371458350231.\u001b[0m\n"
     ]
    },
    {
     "name": "stdout",
     "output_type": "stream",
     "text": [
      "\n",
      "bestTest = 0.4716293234\n",
      "bestIteration = 116\n",
      "\n",
      "Training on fold [0/5]\n",
      "\n",
      "bestTest = 0.4757807796\n",
      "bestIteration = 66\n",
      "\n",
      "Training on fold [1/5]\n",
      "\n",
      "bestTest = 0.466152972\n",
      "bestIteration = 81\n",
      "\n",
      "Training on fold [2/5]\n",
      "\n",
      "bestTest = 0.4641652045\n",
      "bestIteration = 90\n",
      "\n",
      "Training on fold [3/5]\n",
      "\n",
      "bestTest = 0.4528152496\n",
      "bestIteration = 92\n",
      "\n",
      "Training on fold [4/5]\n"
     ]
    },
    {
     "name": "stderr",
     "output_type": "stream",
     "text": [
      "\u001b[32m[I 2022-01-26 22:21:37,896]\u001b[0m Trial 30 finished with value: 0.8614133058187605 and parameters: {'iterations': 1500, 'learning_rate': 0.23047588307538514, 'random_strength': 7, 'bagging_temperature': 0, 'max_bin': 4, 'grow_policy': 'SymmetricTree', 'max_depth': 5, 'l2_leaf_reg': 15.191284956146768, 'one_hot_max_size': 1024, 'auto_class_weights': 'Balanced'}. Best is trial 21 with value: 0.8625371458350231.\u001b[0m\n"
     ]
    },
    {
     "name": "stdout",
     "output_type": "stream",
     "text": [
      "\n",
      "bestTest = 0.4657784881\n",
      "bestIteration = 66\n",
      "\n",
      "Training on fold [0/5]\n",
      "\n",
      "bestTest = 0.4748213036\n",
      "bestIteration = 112\n",
      "\n",
      "Training on fold [1/5]\n",
      "\n",
      "bestTest = 0.4637492781\n",
      "bestIteration = 129\n",
      "\n",
      "Training on fold [2/5]\n",
      "\n",
      "bestTest = 0.4623764658\n",
      "bestIteration = 108\n",
      "\n",
      "Training on fold [3/5]\n",
      "\n",
      "bestTest = 0.4529385209\n",
      "bestIteration = 129\n",
      "\n",
      "Training on fold [4/5]\n"
     ]
    },
    {
     "name": "stderr",
     "output_type": "stream",
     "text": [
      "\u001b[32m[I 2022-01-26 22:21:57,475]\u001b[0m Trial 31 finished with value: 0.8624615143035902 and parameters: {'iterations': 500, 'learning_rate': 0.21104791284635674, 'random_strength': 4, 'bagging_temperature': 0, 'max_bin': 10, 'grow_policy': 'SymmetricTree', 'max_depth': 4, 'l2_leaf_reg': 75.21039098761982, 'one_hot_max_size': 5, 'auto_class_weights': 'Balanced'}. Best is trial 21 with value: 0.8625371458350231.\u001b[0m\n"
     ]
    },
    {
     "name": "stdout",
     "output_type": "stream",
     "text": [
      "\n",
      "bestTest = 0.464905422\n",
      "bestIteration = 134\n",
      "\n",
      "Training on fold [0/5]\n",
      "\n",
      "bestTest = 0.4748402231\n",
      "bestIteration = 96\n",
      "\n",
      "Training on fold [1/5]\n",
      "\n",
      "bestTest = 0.4634418873\n",
      "bestIteration = 119\n",
      "\n",
      "Training on fold [2/5]\n",
      "\n",
      "bestTest = 0.4633786926\n",
      "bestIteration = 95\n",
      "\n",
      "Training on fold [3/5]\n",
      "\n",
      "bestTest = 0.4530697379\n",
      "bestIteration = 113\n",
      "\n",
      "Training on fold [4/5]\n"
     ]
    },
    {
     "name": "stderr",
     "output_type": "stream",
     "text": [
      "\u001b[32m[I 2022-01-26 22:22:13,774]\u001b[0m Trial 32 finished with value: 0.8618352280373831 and parameters: {'iterations': 500, 'learning_rate': 0.19420818181589747, 'random_strength': 5, 'bagging_temperature': 0, 'max_bin': 10, 'grow_policy': 'SymmetricTree', 'max_depth': 4, 'l2_leaf_reg': 1.1968989291606147, 'one_hot_max_size': 5, 'auto_class_weights': 'Balanced'}. Best is trial 21 with value: 0.8625371458350231.\u001b[0m\n"
     ]
    },
    {
     "name": "stdout",
     "output_type": "stream",
     "text": [
      "\n",
      "bestTest = 0.4683583332\n",
      "bestIteration = 81\n",
      "\n",
      "Training on fold [0/5]\n",
      "\n",
      "bestTest = 0.4779616974\n",
      "bestIteration = 55\n",
      "\n",
      "Training on fold [1/5]\n",
      "\n",
      "bestTest = 0.4666361537\n",
      "bestIteration = 52\n",
      "\n",
      "Training on fold [2/5]\n",
      "\n",
      "bestTest = 0.4659810894\n",
      "bestIteration = 86\n",
      "\n",
      "Training on fold [3/5]\n",
      "\n",
      "bestTest = 0.4512103338\n",
      "bestIteration = 86\n",
      "\n",
      "Training on fold [4/5]\n"
     ]
    },
    {
     "name": "stderr",
     "output_type": "stream",
     "text": [
      "\u001b[32m[I 2022-01-26 22:22:33,580]\u001b[0m Trial 33 finished with value: 0.861581900684914 and parameters: {'iterations': 500, 'learning_rate': 0.2759459923287105, 'random_strength': 4, 'bagging_temperature': 2, 'max_bin': 8, 'grow_policy': 'SymmetricTree', 'max_depth': 6, 'l2_leaf_reg': 13.31281082870404, 'one_hot_max_size': 12, 'auto_class_weights': 'Balanced'}. Best is trial 21 with value: 0.8625371458350231.\u001b[0m\n"
     ]
    },
    {
     "name": "stdout",
     "output_type": "stream",
     "text": [
      "\n",
      "bestTest = 0.4609970969\n",
      "bestIteration = 92\n",
      "\n",
      "Training on fold [0/5]\n",
      "\n",
      "bestTest = 0.4757105838\n",
      "bestIteration = 89\n",
      "\n",
      "Training on fold [1/5]\n",
      "\n",
      "bestTest = 0.4655667557\n",
      "bestIteration = 109\n",
      "\n",
      "Training on fold [2/5]\n",
      "\n",
      "bestTest = 0.4636385011\n",
      "bestIteration = 94\n",
      "\n",
      "Training on fold [3/5]\n",
      "\n",
      "bestTest = 0.4504914379\n",
      "bestIteration = 158\n",
      "\n",
      "Training on fold [4/5]\n"
     ]
    },
    {
     "name": "stderr",
     "output_type": "stream",
     "text": [
      "\u001b[32m[I 2022-01-26 22:22:51,680]\u001b[0m Trial 34 finished with value: 0.8624224371585782 and parameters: {'iterations': 500, 'learning_rate': 0.23581295355775805, 'random_strength': 3, 'bagging_temperature': 6, 'max_bin': 10, 'grow_policy': 'SymmetricTree', 'max_depth': 4, 'l2_leaf_reg': 95.09855203161959, 'one_hot_max_size': 5, 'auto_class_weights': 'Balanced'}. Best is trial 21 with value: 0.8625371458350231.\u001b[0m\n"
     ]
    },
    {
     "name": "stdout",
     "output_type": "stream",
     "text": [
      "\n",
      "bestTest = 0.4642677652\n",
      "bestIteration = 117\n",
      "\n",
      "Training on fold [0/5]\n",
      "\n",
      "bestTest = 0.4784280392\n",
      "bestIteration = 88\n",
      "\n",
      "Training on fold [1/5]\n",
      "\n",
      "bestTest = 0.4680652845\n",
      "bestIteration = 106\n",
      "\n",
      "Training on fold [2/5]\n",
      "\n",
      "bestTest = 0.4692305107\n",
      "bestIteration = 75\n",
      "\n",
      "Training on fold [3/5]\n",
      "\n",
      "bestTest = 0.4560746088\n",
      "bestIteration = 155\n",
      "\n",
      "Training on fold [4/5]\n"
     ]
    },
    {
     "name": "stderr",
     "output_type": "stream",
     "text": [
      "\u001b[32m[I 2022-01-26 22:22:54,206]\u001b[0m Trial 35 finished with value: 0.8599873531989196 and parameters: {'iterations': 500, 'learning_rate': 0.276856726154167, 'random_strength': 3, 'bagging_temperature': 7, 'max_bin': 6, 'grow_policy': 'SymmetricTree', 'max_depth': 2, 'l2_leaf_reg': 1.8568003643811335, 'one_hot_max_size': 500, 'auto_class_weights': 'Balanced'}. Best is trial 21 with value: 0.8625371458350231.\u001b[0m\n"
     ]
    },
    {
     "name": "stdout",
     "output_type": "stream",
     "text": [
      "\n",
      "bestTest = 0.4680490852\n",
      "bestIteration = 95\n",
      "\n",
      "Training on fold [0/5]\n",
      "\n",
      "bestTest = 0.4758335499\n",
      "bestIteration = 127\n",
      "\n",
      "Training on fold [1/5]\n",
      "\n",
      "bestTest = 0.465450378\n",
      "bestIteration = 97\n",
      "\n",
      "Training on fold [2/5]\n",
      "\n",
      "bestTest = 0.4662217553\n",
      "bestIteration = 88\n",
      "\n",
      "Training on fold [3/5]\n",
      "\n",
      "bestTest = 0.4557942366\n",
      "bestIteration = 116\n",
      "\n",
      "Training on fold [4/5]\n"
     ]
    },
    {
     "name": "stderr",
     "output_type": "stream",
     "text": [
      "\u001b[32m[I 2022-01-26 22:22:56,999]\u001b[0m Trial 36 finished with value: 0.8610350869993244 and parameters: {'iterations': 500, 'learning_rate': 0.239897911469575, 'random_strength': 10, 'bagging_temperature': 6, 'max_bin': 8, 'grow_policy': 'SymmetricTree', 'max_depth': 3, 'l2_leaf_reg': 0.015729269447954015, 'one_hot_max_size': 100, 'auto_class_weights': 'Balanced'}. Best is trial 21 with value: 0.8625371458350231.\u001b[0m\n"
     ]
    },
    {
     "name": "stdout",
     "output_type": "stream",
     "text": [
      "\n",
      "bestTest = 0.466817057\n",
      "bestIteration = 94\n",
      "\n",
      "Training on fold [0/5]\n",
      "\n",
      "bestTest = 0.4732604505\n",
      "bestIteration = 149\n",
      "\n",
      "Training on fold [1/5]\n",
      "\n",
      "bestTest = 0.4658191321\n",
      "bestIteration = 151\n",
      "\n",
      "Training on fold [2/5]\n",
      "\n",
      "bestTest = 0.4614390413\n",
      "bestIteration = 137\n",
      "\n",
      "Training on fold [3/5]\n",
      "\n",
      "bestTest = 0.4498542531\n",
      "bestIteration = 212\n",
      "\n",
      "Training on fold [4/5]\n"
     ]
    },
    {
     "name": "stderr",
     "output_type": "stream",
     "text": [
      "\u001b[32m[I 2022-01-26 22:23:33,203]\u001b[0m Trial 37 finished with value: 0.8630247159638682 and parameters: {'iterations': 500, 'learning_rate': 0.13646409035069254, 'random_strength': 2, 'bagging_temperature': 6, 'max_bin': 5, 'grow_policy': 'SymmetricTree', 'max_depth': 5, 'l2_leaf_reg': 20.692141985760614, 'one_hot_max_size': 10, 'auto_class_weights': 'Balanced'}. Best is trial 37 with value: 0.8630247159638682.\u001b[0m\n"
     ]
    },
    {
     "name": "stdout",
     "output_type": "stream",
     "text": [
      "\n",
      "bestTest = 0.4623106214\n",
      "bestIteration = 175\n",
      "\n",
      "Training on fold [0/5]\n",
      "\n",
      "bestTest = 0.4725109488\n",
      "bestIteration = 131\n",
      "\n",
      "Training on fold [1/5]\n",
      "\n",
      "bestTest = 0.4616059512\n",
      "bestIteration = 133\n",
      "\n",
      "Training on fold [2/5]\n",
      "\n",
      "bestTest = 0.4636587257\n",
      "bestIteration = 96\n",
      "\n",
      "Training on fold [3/5]\n",
      "\n",
      "bestTest = 0.4518368722\n",
      "bestIteration = 128\n",
      "\n",
      "Training on fold [4/5]\n"
     ]
    },
    {
     "name": "stderr",
     "output_type": "stream",
     "text": [
      "\u001b[32m[I 2022-01-26 22:24:04,067]\u001b[0m Trial 38 finished with value: 0.8631716792116352 and parameters: {'iterations': 500, 'learning_rate': 0.13459058652284028, 'random_strength': 2, 'bagging_temperature': 6, 'max_bin': 5, 'grow_policy': 'SymmetricTree', 'max_depth': 6, 'l2_leaf_reg': 21.612879120617244, 'one_hot_max_size': 10, 'auto_class_weights': 'Balanced'}. Best is trial 38 with value: 0.8631716792116352.\u001b[0m\n"
     ]
    },
    {
     "name": "stdout",
     "output_type": "stream",
     "text": [
      "\n",
      "bestTest = 0.4643529935\n",
      "bestIteration = 103\n",
      "\n",
      "Training on fold [0/5]\n",
      "\n",
      "bestTest = 0.4838475421\n",
      "bestIteration = 78\n",
      "\n",
      "Training on fold [1/5]\n",
      "\n",
      "bestTest = 0.472451534\n",
      "bestIteration = 55\n",
      "\n",
      "Training on fold [2/5]\n",
      "\n",
      "bestTest = 0.4769224893\n",
      "bestIteration = 38\n",
      "\n",
      "Training on fold [3/5]\n",
      "\n",
      "bestTest = 0.4559423944\n",
      "bestIteration = 72\n",
      "\n",
      "Training on fold [4/5]\n"
     ]
    },
    {
     "name": "stderr",
     "output_type": "stream",
     "text": [
      "\u001b[32m[I 2022-01-26 22:24:22,389]\u001b[0m Trial 39 finished with value: 0.857154571502233 and parameters: {'iterations': 1200, 'learning_rate': 0.13771435206442664, 'random_strength': 2, 'bagging_temperature': 7, 'max_bin': 5, 'grow_policy': 'SymmetricTree', 'max_depth': 6, 'l2_leaf_reg': 0.00018184717357096306, 'one_hot_max_size': 10, 'auto_class_weights': 'Balanced'}. Best is trial 38 with value: 0.8631716792116352.\u001b[0m\n"
     ]
    },
    {
     "name": "stdout",
     "output_type": "stream",
     "text": [
      "\n",
      "bestTest = 0.4727389212\n",
      "bestIteration = 65\n",
      "\n",
      "Training on fold [0/5]\n",
      "\n",
      "bestTest = 0.4740263513\n",
      "bestIteration = 114\n",
      "\n",
      "Training on fold [1/5]\n",
      "\n",
      "bestTest = 0.4626868072\n",
      "bestIteration = 146\n",
      "\n",
      "Training on fold [2/5]\n",
      "\n",
      "bestTest = 0.4628949788\n",
      "bestIteration = 99\n",
      "\n",
      "Training on fold [3/5]\n",
      "\n",
      "bestTest = 0.4522808997\n",
      "bestIteration = 113\n",
      "\n",
      "Training on fold [4/5]\n"
     ]
    },
    {
     "name": "stderr",
     "output_type": "stream",
     "text": [
      "\u001b[32m[I 2022-01-26 22:24:56,369]\u001b[0m Trial 40 finished with value: 0.8628220023892869 and parameters: {'iterations': 1500, 'learning_rate': 0.10427514319116662, 'random_strength': 1, 'bagging_temperature': 10, 'max_bin': 5, 'grow_policy': 'SymmetricTree', 'max_depth': 6, 'l2_leaf_reg': 16.795134709223134, 'one_hot_max_size': 10, 'auto_class_weights': 'Balanced'}. Best is trial 38 with value: 0.8631716792116352.\u001b[0m\n"
     ]
    },
    {
     "name": "stdout",
     "output_type": "stream",
     "text": [
      "\n",
      "bestTest = 0.463967646\n",
      "bestIteration = 173\n",
      "\n",
      "Training on fold [0/5]\n",
      "\n",
      "bestTest = 0.4725953915\n",
      "bestIteration = 243\n",
      "\n",
      "Training on fold [1/5]\n",
      "\n",
      "bestTest = 0.4649207105\n",
      "bestIteration = 204\n",
      "\n",
      "Training on fold [2/5]\n",
      "\n",
      "bestTest = 0.4618654034\n",
      "bestIteration = 234\n",
      "\n",
      "Training on fold [3/5]\n",
      "\n",
      "bestTest = 0.4496385323\n",
      "bestIteration = 269\n",
      "\n",
      "Training on fold [4/5]\n"
     ]
    },
    {
     "name": "stderr",
     "output_type": "stream",
     "text": [
      "\u001b[32m[I 2022-01-26 22:25:59,346]\u001b[0m Trial 41 finished with value: 0.8634317044476256 and parameters: {'iterations': 1500, 'learning_rate': 0.05965219894190976, 'random_strength': 1, 'bagging_temperature': 10, 'max_bin': 5, 'grow_policy': 'SymmetricTree', 'max_depth': 6, 'l2_leaf_reg': 18.8047896890382, 'one_hot_max_size': 10, 'auto_class_weights': 'Balanced'}. Best is trial 41 with value: 0.8634317044476256.\u001b[0m\n"
     ]
    },
    {
     "name": "stdout",
     "output_type": "stream",
     "text": [
      "\n",
      "bestTest = 0.4628543839\n",
      "bestIteration = 297\n",
      "\n",
      "Training on fold [0/5]\n",
      "\n",
      "bestTest = 0.4743644856\n",
      "bestIteration = 186\n",
      "\n",
      "Training on fold [1/5]\n",
      "\n",
      "bestTest = 0.4644729696\n",
      "bestIteration = 212\n",
      "\n",
      "Training on fold [2/5]\n",
      "\n",
      "bestTest = 0.4634026586\n",
      "bestIteration = 196\n",
      "\n",
      "Training on fold [3/5]\n",
      "\n",
      "bestTest = 0.4490740813\n",
      "bestIteration = 329\n",
      "\n",
      "Training on fold [4/5]\n"
     ]
    },
    {
     "name": "stderr",
     "output_type": "stream",
     "text": [
      "\u001b[32m[I 2022-01-26 22:26:55,647]\u001b[0m Trial 42 finished with value: 0.8630118439488559 and parameters: {'iterations': 1500, 'learning_rate': 0.060821120296359804, 'random_strength': 1, 'bagging_temperature': 10, 'max_bin': 5, 'grow_policy': 'SymmetricTree', 'max_depth': 6, 'l2_leaf_reg': 20.009304441456738, 'one_hot_max_size': 10, 'auto_class_weights': 'Balanced'}. Best is trial 41 with value: 0.8634317044476256.\u001b[0m\n"
     ]
    },
    {
     "name": "stdout",
     "output_type": "stream",
     "text": [
      "\n",
      "bestTest = 0.4636198673\n",
      "bestIteration = 201\n",
      "\n",
      "Training on fold [0/5]\n",
      "\n",
      "bestTest = 0.4739176528\n",
      "bestIteration = 163\n",
      "\n",
      "Training on fold [1/5]\n",
      "\n",
      "bestTest = 0.4634630468\n",
      "bestIteration = 255\n",
      "\n",
      "Training on fold [2/5]\n",
      "\n",
      "bestTest = 0.461332811\n",
      "bestIteration = 187\n",
      "\n",
      "Training on fold [3/5]\n",
      "\n",
      "bestTest = 0.4497053642\n",
      "bestIteration = 270\n",
      "\n",
      "Training on fold [4/5]\n"
     ]
    },
    {
     "name": "stderr",
     "output_type": "stream",
     "text": [
      "\u001b[32m[I 2022-01-26 22:27:53,973]\u001b[0m Trial 43 finished with value: 0.8633710226658928 and parameters: {'iterations': 1500, 'learning_rate': 0.05880421006840924, 'random_strength': 1, 'bagging_temperature': 10, 'max_bin': 5, 'grow_policy': 'SymmetricTree', 'max_depth': 6, 'l2_leaf_reg': 18.845132807689296, 'one_hot_max_size': 10, 'auto_class_weights': 'Balanced'}. Best is trial 41 with value: 0.8634317044476256.\u001b[0m\n"
     ]
    },
    {
     "name": "stdout",
     "output_type": "stream",
     "text": [
      "\n",
      "bestTest = 0.4639629724\n",
      "bestIteration = 257\n",
      "\n",
      "Training on fold [0/5]\n",
      "\n",
      "bestTest = 0.472941223\n",
      "bestIteration = 196\n",
      "\n",
      "Training on fold [1/5]\n",
      "\n",
      "bestTest = 0.462544954\n",
      "bestIteration = 249\n",
      "\n",
      "Training on fold [2/5]\n",
      "\n",
      "bestTest = 0.4621003645\n",
      "bestIteration = 177\n",
      "\n",
      "Training on fold [3/5]\n",
      "\n",
      "bestTest = 0.4526004215\n",
      "bestIteration = 170\n",
      "\n",
      "Training on fold [4/5]\n"
     ]
    },
    {
     "name": "stderr",
     "output_type": "stream",
     "text": [
      "\u001b[32m[I 2022-01-26 22:29:03,994]\u001b[0m Trial 44 finished with value: 0.8629465085177508 and parameters: {'iterations': 1500, 'learning_rate': 0.06149335611342682, 'random_strength': 1, 'bagging_temperature': 9, 'max_bin': 5, 'grow_policy': 'SymmetricTree', 'max_depth': 7, 'l2_leaf_reg': 25.86792055406844, 'one_hot_max_size': 10, 'auto_class_weights': 'Balanced'}. Best is trial 41 with value: 0.8634317044476256.\u001b[0m\n"
     ]
    },
    {
     "name": "stdout",
     "output_type": "stream",
     "text": [
      "\n",
      "bestTest = 0.465193223\n",
      "bestIteration = 161\n",
      "\n",
      "Training on fold [0/5]\n",
      "\n",
      "bestTest = 0.4802425391\n",
      "bestIteration = 142\n",
      "\n",
      "Training on fold [1/5]\n",
      "\n",
      "bestTest = 0.4648041128\n",
      "bestIteration = 205\n",
      "\n",
      "Training on fold [2/5]\n",
      "\n",
      "bestTest = 0.4655802862\n",
      "bestIteration = 177\n",
      "\n",
      "Training on fold [3/5]\n",
      "\n",
      "bestTest = 0.4572141967\n",
      "bestIteration = 207\n",
      "\n",
      "Training on fold [4/5]\n"
     ]
    },
    {
     "name": "stderr",
     "output_type": "stream",
     "text": [
      "\u001b[32m[I 2022-01-26 22:30:26,935]\u001b[0m Trial 45 finished with value: 0.8599694292060232 and parameters: {'iterations': 1500, 'learning_rate': 0.04594823140583779, 'random_strength': 2, 'bagging_temperature': 9, 'max_bin': 5, 'grow_policy': 'SymmetricTree', 'max_depth': 8, 'l2_leaf_reg': 0.26207994694957665, 'one_hot_max_size': 10, 'auto_class_weights': 'Balanced'}. Best is trial 41 with value: 0.8634317044476256.\u001b[0m\n"
     ]
    },
    {
     "name": "stdout",
     "output_type": "stream",
     "text": [
      "\n",
      "bestTest = 0.4705964351\n",
      "bestIteration = 167\n",
      "\n",
      "Training on fold [0/5]\n",
      "\n",
      "bestTest = 0.4729060104\n",
      "bestIteration = 375\n",
      "\n",
      "Training on fold [1/5]\n",
      "\n",
      "bestTest = 0.4646033444\n",
      "bestIteration = 340\n",
      "\n",
      "Training on fold [2/5]\n",
      "\n",
      "bestTest = 0.4614954697\n",
      "bestIteration = 401\n",
      "\n",
      "Training on fold [3/5]\n",
      "\n",
      "bestTest = 0.4504062937\n",
      "bestIteration = 431\n",
      "\n",
      "Training on fold [4/5]\n"
     ]
    },
    {
     "name": "stderr",
     "output_type": "stream",
     "text": [
      "\u001b[32m[I 2022-01-26 22:31:58,037]\u001b[0m Trial 46 finished with value: 0.8631249173838296 and parameters: {'iterations': 1500, 'learning_rate': 0.03351026240031679, 'random_strength': 1, 'bagging_temperature': 8, 'max_bin': 5, 'grow_policy': 'SymmetricTree', 'max_depth': 6, 'l2_leaf_reg': 8.153980826375557, 'one_hot_max_size': 10, 'auto_class_weights': 'Balanced'}. Best is trial 41 with value: 0.8634317044476256.\u001b[0m\n"
     ]
    },
    {
     "name": "stdout",
     "output_type": "stream",
     "text": [
      "\n",
      "bestTest = 0.4649265784\n",
      "bestIteration = 304\n",
      "\n",
      "Training on fold [0/5]\n",
      "\n",
      "bestTest = 0.4741986662\n",
      "bestIteration = 505\n",
      "\n",
      "Training on fold [1/5]\n",
      "\n",
      "bestTest = 0.4621495276\n",
      "bestIteration = 547\n",
      "\n",
      "Training on fold [2/5]\n",
      "\n",
      "bestTest = 0.4617748714\n",
      "bestIteration = 514\n",
      "\n",
      "Training on fold [3/5]\n",
      "\n",
      "bestTest = 0.4507308515\n",
      "bestIteration = 531\n",
      "\n",
      "Training on fold [4/5]\n"
     ]
    },
    {
     "name": "stderr",
     "output_type": "stream",
     "text": [
      "\u001b[32m[I 2022-01-26 22:34:47,417]\u001b[0m Trial 47 finished with value: 0.8631508283778698 and parameters: {'iterations': 1500, 'learning_rate': 0.02455783163003157, 'random_strength': 2, 'bagging_temperature': 8, 'max_bin': 5, 'grow_policy': 'SymmetricTree', 'max_depth': 7, 'l2_leaf_reg': 9.603328652198144, 'one_hot_max_size': 10, 'auto_class_weights': 'Balanced'}. Best is trial 41 with value: 0.8634317044476256.\u001b[0m\n"
     ]
    },
    {
     "name": "stdout",
     "output_type": "stream",
     "text": [
      "\n",
      "bestTest = 0.4658259969\n",
      "bestIteration = 442\n",
      "\n",
      "Training on fold [0/5]\n",
      "\n",
      "bestTest = 0.4781074837\n",
      "bestIteration = 245\n",
      "\n",
      "Training on fold [1/5]\n",
      "\n",
      "bestTest = 0.469645306\n",
      "bestIteration = 299\n",
      "\n",
      "Training on fold [2/5]\n",
      "\n",
      "bestTest = 0.4644553116\n",
      "bestIteration = 241\n",
      "\n",
      "Training on fold [3/5]\n",
      "\n",
      "bestTest = 0.4533957704\n",
      "bestIteration = 305\n",
      "\n",
      "Training on fold [4/5]\n"
     ]
    },
    {
     "name": "stderr",
     "output_type": "stream",
     "text": [
      "\u001b[32m[I 2022-01-26 22:37:03,279]\u001b[0m Trial 48 finished with value: 0.8603325603895644 and parameters: {'iterations': 1500, 'learning_rate': 0.023669076910498604, 'random_strength': 1, 'bagging_temperature': 8, 'max_bin': 5, 'grow_policy': 'SymmetricTree', 'max_depth': 9, 'l2_leaf_reg': 0.463306045621743, 'one_hot_max_size': 10, 'auto_class_weights': 'Balanced'}. Best is trial 41 with value: 0.8634317044476256.\u001b[0m\n"
     ]
    },
    {
     "name": "stdout",
     "output_type": "stream",
     "text": [
      "\n",
      "bestTest = 0.4695731351\n",
      "bestIteration = 228\n",
      "\n",
      "Training on fold [0/5]\n",
      "\n",
      "bestTest = 0.4765396211\n",
      "bestIteration = 262\n",
      "\n",
      "Training on fold [1/5]\n",
      "\n",
      "bestTest = 0.4646021056\n",
      "bestIteration = 340\n",
      "\n",
      "Training on fold [2/5]\n",
      "\n",
      "bestTest = 0.4628467587\n",
      "bestIteration = 262\n",
      "\n",
      "Training on fold [3/5]\n",
      "\n",
      "bestTest = 0.4513680435\n",
      "bestIteration = 379\n",
      "\n",
      "Training on fold [4/5]\n"
     ]
    },
    {
     "name": "stderr",
     "output_type": "stream",
     "text": [
      "\u001b[32m[I 2022-01-26 22:38:51,379]\u001b[0m Trial 49 finished with value: 0.8622774998524741 and parameters: {'iterations': 1500, 'learning_rate': 0.03541089943075911, 'random_strength': 2, 'bagging_temperature': 8, 'max_bin': 5, 'grow_policy': 'SymmetricTree', 'max_depth': 7, 'l2_leaf_reg': 2.247031059483696, 'one_hot_max_size': 10, 'auto_class_weights': 'Balanced'}. Best is trial 41 with value: 0.8634317044476256.\u001b[0m\n"
     ]
    },
    {
     "name": "stdout",
     "output_type": "stream",
     "text": [
      "\n",
      "bestTest = 0.4662830354\n",
      "bestIteration = 300\n",
      "\n",
      "Training on fold [0/5]\n",
      "\n",
      "bestTest = 0.4726188862\n",
      "bestIteration = 1095\n",
      "\n",
      "Training on fold [1/5]\n",
      "\n",
      "bestTest = 0.4649965376\n",
      "bestIteration = 803\n",
      "\n",
      "Training on fold [2/5]\n",
      "\n",
      "bestTest = 0.4612841009\n",
      "bestIteration = 1017\n",
      "\n",
      "Training on fold [3/5]\n",
      "\n",
      "bestTest = 0.4512880479\n",
      "bestIteration = 969\n",
      "\n",
      "Training on fold [4/5]\n"
     ]
    },
    {
     "name": "stderr",
     "output_type": "stream",
     "text": [
      "\u001b[32m[I 2022-01-26 22:42:48,750]\u001b[0m Trial 50 finished with value: 0.8631432009017675 and parameters: {'iterations': 1500, 'learning_rate': 0.012350340084815094, 'random_strength': 1, 'bagging_temperature': 10, 'max_bin': 5, 'grow_policy': 'SymmetricTree', 'max_depth': 6, 'l2_leaf_reg': 8.559002993548935, 'one_hot_max_size': 10, 'auto_class_weights': 'Balanced'}. Best is trial 41 with value: 0.8634317044476256.\u001b[0m\n"
     ]
    },
    {
     "name": "stdout",
     "output_type": "stream",
     "text": [
      "\n",
      "bestTest = 0.4659661627\n",
      "bestIteration = 801\n",
      "\n",
      "Training on fold [0/5]\n",
      "\n",
      "bestTest = 0.4732658105\n",
      "bestIteration = 1063\n",
      "\n",
      "Training on fold [1/5]\n",
      "\n",
      "bestTest = 0.464299195\n",
      "bestIteration = 924\n",
      "\n",
      "Training on fold [2/5]\n",
      "\n",
      "bestTest = 0.4626607305\n",
      "bestIteration = 884\n",
      "\n",
      "Training on fold [3/5]\n",
      "\n",
      "bestTest = 0.4502524215\n",
      "bestIteration = 1263\n",
      "\n",
      "Training on fold [4/5]\n"
     ]
    },
    {
     "name": "stderr",
     "output_type": "stream",
     "text": [
      "\u001b[32m[I 2022-01-26 22:46:54,147]\u001b[0m Trial 51 finished with value: 0.8631694605007132 and parameters: {'iterations': 1500, 'learning_rate': 0.012223406488668693, 'random_strength': 1, 'bagging_temperature': 10, 'max_bin': 5, 'grow_policy': 'SymmetricTree', 'max_depth': 6, 'l2_leaf_reg': 46.27286921231181, 'one_hot_max_size': 10, 'auto_class_weights': 'Balanced'}. Best is trial 41 with value: 0.8634317044476256.\u001b[0m\n"
     ]
    },
    {
     "name": "stdout",
     "output_type": "stream",
     "text": [
      "\n",
      "bestTest = 0.4661969742\n",
      "bestIteration = 795\n",
      "\n",
      "Training on fold [0/5]\n",
      "\n",
      "bestTest = 0.4738551737\n",
      "bestIteration = 925\n",
      "\n",
      "Training on fold [1/5]\n",
      "\n",
      "bestTest = 0.4636417147\n",
      "bestIteration = 1089\n",
      "\n",
      "Training on fold [2/5]\n",
      "\n",
      "bestTest = 0.4626195058\n",
      "bestIteration = 1024\n",
      "\n",
      "Training on fold [3/5]\n",
      "\n",
      "bestTest = 0.4509436585\n",
      "bestIteration = 1158\n",
      "\n",
      "Training on fold [4/5]\n"
     ]
    },
    {
     "name": "stderr",
     "output_type": "stream",
     "text": [
      "\u001b[32m[I 2022-01-26 22:52:55,535]\u001b[0m Trial 52 finished with value: 0.8631524507598918 and parameters: {'iterations': 1500, 'learning_rate': 0.010153287665524511, 'random_strength': 1, 'bagging_temperature': 10, 'max_bin': 5, 'grow_policy': 'SymmetricTree', 'max_depth': 7, 'l2_leaf_reg': 39.14923720898998, 'one_hot_max_size': 10, 'auto_class_weights': 'Balanced'}. Best is trial 41 with value: 0.8634317044476256.\u001b[0m\n"
     ]
    },
    {
     "name": "stdout",
     "output_type": "stream",
     "text": [
      "\n",
      "bestTest = 0.4643942945\n",
      "bestIteration = 1237\n",
      "\n",
      "Training on fold [0/5]\n",
      "\n",
      "bestTest = 0.4819909331\n",
      "bestIteration = 1499\n",
      "\n",
      "Training on fold [1/5]\n",
      "\n",
      "bestTest = 0.4739794196\n",
      "bestIteration = 1499\n",
      "\n",
      "Training on fold [2/5]\n",
      "\n",
      "bestTest = 0.4704772257\n",
      "bestIteration = 1499\n",
      "\n",
      "Training on fold [3/5]\n",
      "\n",
      "bestTest = 0.4633121086\n",
      "bestIteration = 1499\n",
      "\n",
      "Training on fold [4/5]\n"
     ]
    },
    {
     "name": "stderr",
     "output_type": "stream",
     "text": [
      "\u001b[32m[I 2022-01-26 23:02:42,586]\u001b[0m Trial 53 finished with value: 0.8596382552529616 and parameters: {'iterations': 1500, 'learning_rate': 0.005807324007125608, 'random_strength': 9, 'bagging_temperature': 9, 'max_bin': 5, 'grow_policy': 'SymmetricTree', 'max_depth': 8, 'l2_leaf_reg': 46.743369469933555, 'one_hot_max_size': 10, 'auto_class_weights': 'Balanced'}. Best is trial 41 with value: 0.8634317044476256.\u001b[0m\n"
     ]
    },
    {
     "name": "stdout",
     "output_type": "stream",
     "text": [
      "\n",
      "bestTest = 0.4730098307\n",
      "bestIteration = 1499\n",
      "\n",
      "Training on fold [0/5]\n",
      "\n",
      "bestTest = 0.4746566184\n",
      "bestIteration = 287\n",
      "\n",
      "Training on fold [1/5]\n",
      "\n",
      "bestTest = 0.4640466595\n",
      "bestIteration = 262\n",
      "\n",
      "Training on fold [2/5]\n",
      "\n",
      "bestTest = 0.4622059393\n",
      "bestIteration = 258\n",
      "\n",
      "Training on fold [3/5]\n",
      "\n",
      "bestTest = 0.4508533244\n",
      "bestIteration = 289\n",
      "\n",
      "Training on fold [4/5]\n"
     ]
    },
    {
     "name": "stderr",
     "output_type": "stream",
     "text": [
      "\u001b[32m[I 2022-01-26 23:04:16,787]\u001b[0m Trial 54 finished with value: 0.8630242434222936 and parameters: {'iterations': 1000, 'learning_rate': 0.047285118044536126, 'random_strength': 2, 'bagging_temperature': 9, 'max_bin': 5, 'grow_policy': 'SymmetricTree', 'max_depth': 7, 'l2_leaf_reg': 34.7710047087188, 'one_hot_max_size': 10, 'auto_class_weights': 'Balanced'}. Best is trial 41 with value: 0.8634317044476256.\u001b[0m\n"
     ]
    },
    {
     "name": "stdout",
     "output_type": "stream",
     "text": [
      "\n",
      "bestTest = 0.4641446187\n",
      "bestIteration = 290\n",
      "\n",
      "Training on fold [0/5]\n",
      "\n",
      "bestTest = 0.4791336688\n",
      "bestIteration = 319\n",
      "\n",
      "Training on fold [1/5]\n",
      "\n",
      "bestTest = 0.471192411\n",
      "bestIteration = 263\n",
      "\n",
      "Training on fold [2/5]\n",
      "\n",
      "bestTest = 0.4684764834\n",
      "bestIteration = 266\n",
      "\n",
      "Training on fold [3/5]\n",
      "\n",
      "bestTest = 0.461738245\n",
      "bestIteration = 262\n",
      "\n",
      "Training on fold [4/5]\n"
     ]
    },
    {
     "name": "stderr",
     "output_type": "stream",
     "text": [
      "\u001b[32m[I 2022-01-26 23:05:56,433]\u001b[0m Trial 55 finished with value: 0.8589708967637607 and parameters: {'iterations': 1500, 'learning_rate': 0.019218733266616522, 'random_strength': 1, 'bagging_temperature': 10, 'max_bin': 5, 'grow_policy': 'SymmetricTree', 'max_depth': 7, 'l2_leaf_reg': 3.695034351082469e-06, 'one_hot_max_size': 10, 'auto_class_weights': 'Balanced'}. Best is trial 41 with value: 0.8634317044476256.\u001b[0m\n"
     ]
    },
    {
     "name": "stdout",
     "output_type": "stream",
     "text": [
      "\n",
      "bestTest = 0.4713298739\n",
      "bestIteration = 323\n",
      "\n",
      "Training on fold [0/5]\n",
      "\n",
      "bestTest = 0.4869777698\n",
      "bestIteration = 1499\n",
      "\n",
      "Training on fold [1/5]\n",
      "\n",
      "bestTest = 0.4785337648\n",
      "bestIteration = 1499\n",
      "\n",
      "Training on fold [2/5]\n",
      "\n",
      "bestTest = 0.475187145\n",
      "bestIteration = 1499\n",
      "\n",
      "Training on fold [3/5]\n",
      "\n",
      "bestTest = 0.4700272103\n",
      "bestIteration = 1499\n",
      "\n",
      "Training on fold [4/5]\n"
     ]
    },
    {
     "name": "stderr",
     "output_type": "stream",
     "text": [
      "\u001b[32m[I 2022-01-26 23:06:46,763]\u001b[0m Trial 56 finished with value: 0.8570803675048853 and parameters: {'iterations': 1500, 'learning_rate': 0.0027132295444817506, 'random_strength': 1, 'bagging_temperature': 10, 'max_bin': 5, 'grow_policy': 'SymmetricTree', 'max_depth': 6, 'l2_leaf_reg': 98.69972028816197, 'one_hot_max_size': 500, 'auto_class_weights': 'Balanced'}. Best is trial 41 with value: 0.8634317044476256.\u001b[0m\n"
     ]
    },
    {
     "name": "stdout",
     "output_type": "stream",
     "text": [
      "\n",
      "bestTest = 0.4768876361\n",
      "bestIteration = 1499\n",
      "\n",
      "Training on fold [0/5]\n",
      "\n",
      "bestTest = 0.4754094405\n",
      "bestIteration = 138\n",
      "\n",
      "Training on fold [1/5]\n",
      "\n",
      "bestTest = 0.4635470556\n",
      "bestIteration = 198\n",
      "\n",
      "Training on fold [2/5]\n",
      "\n",
      "bestTest = 0.4628334592\n",
      "bestIteration = 161\n",
      "\n",
      "Training on fold [3/5]\n",
      "\n",
      "bestTest = 0.4523105744\n",
      "bestIteration = 189\n",
      "\n",
      "Training on fold [4/5]\n"
     ]
    },
    {
     "name": "stderr",
     "output_type": "stream",
     "text": [
      "\u001b[32m[I 2022-01-26 23:07:53,729]\u001b[0m Trial 57 finished with value: 0.8618851650402093 and parameters: {'iterations': 1500, 'learning_rate': 0.06676064556003125, 'random_strength': 2, 'bagging_temperature': 9, 'max_bin': 5, 'grow_policy': 'SymmetricTree', 'max_depth': 8, 'l2_leaf_reg': 2.926947485481116, 'one_hot_max_size': 10, 'auto_class_weights': 'Balanced'}. Best is trial 41 with value: 0.8634317044476256.\u001b[0m\n"
     ]
    },
    {
     "name": "stdout",
     "output_type": "stream",
     "text": [
      "\n",
      "bestTest = 0.4670194759\n",
      "bestIteration = 172\n",
      "\n",
      "Training on fold [0/5]\n",
      "\n",
      "bestTest = 0.4748452719\n",
      "bestIteration = 221\n",
      "\n",
      "Training on fold [1/5]\n",
      "\n",
      "bestTest = 0.4651398936\n",
      "bestIteration = 183\n",
      "\n",
      "Training on fold [2/5]\n",
      "\n",
      "bestTest = 0.4619613668\n",
      "bestIteration = 266\n",
      "\n",
      "Training on fold [3/5]\n",
      "\n",
      "bestTest = 0.4531781874\n",
      "bestIteration = 288\n",
      "\n",
      "Training on fold [4/5]\n"
     ]
    },
    {
     "name": "stderr",
     "output_type": "stream",
     "text": [
      "\u001b[32m[I 2022-01-26 23:08:03,493]\u001b[0m Trial 58 finished with value: 0.8623768966983828 and parameters: {'iterations': 1500, 'learning_rate': 0.04664548041352265, 'random_strength': 1, 'bagging_temperature': 7, 'max_bin': 5, 'grow_policy': 'SymmetricTree', 'max_depth': 7, 'l2_leaf_reg': 0.7804631380610895, 'one_hot_max_size': 100, 'auto_class_weights': 'Balanced'}. Best is trial 41 with value: 0.8634317044476256.\u001b[0m\n"
     ]
    },
    {
     "name": "stdout",
     "output_type": "stream",
     "text": [
      "\n",
      "bestTest = 0.4640994244\n",
      "bestIteration = 223\n",
      "\n",
      "Training on fold [0/5]\n",
      "\n",
      "bestTest = 0.4766915968\n",
      "bestIteration = 300\n",
      "\n",
      "Training on fold [1/5]\n",
      "\n",
      "bestTest = 0.4635258245\n",
      "bestIteration = 439\n",
      "\n",
      "Training on fold [2/5]\n",
      "\n",
      "bestTest = 0.4626116126\n",
      "bestIteration = 369\n",
      "\n",
      "Training on fold [3/5]\n",
      "\n",
      "bestTest = 0.4504211418\n",
      "bestIteration = 403\n",
      "\n",
      "Training on fold [4/5]\n"
     ]
    },
    {
     "name": "stderr",
     "output_type": "stream",
     "text": [
      "\u001b[32m[I 2022-01-26 23:10:47,096]\u001b[0m Trial 59 finished with value: 0.8625684975772181 and parameters: {'iterations': 1000, 'learning_rate': 0.033175187803764425, 'random_strength': 2, 'bagging_temperature': 10, 'max_bin': 5, 'grow_policy': 'SymmetricTree', 'max_depth': 9, 'l2_leaf_reg': 42.55403754671906, 'one_hot_max_size': 10, 'auto_class_weights': 'Balanced'}. Best is trial 41 with value: 0.8634317044476256.\u001b[0m\n"
     ]
    },
    {
     "name": "stdout",
     "output_type": "stream",
     "text": [
      "\n",
      "bestTest = 0.4649895568\n",
      "bestIteration = 310\n",
      "\n",
      "Training on fold [0/5]\n",
      "\n",
      "bestTest = 0.4723609907\n",
      "bestIteration = 174\n",
      "\n",
      "Training on fold [1/5]\n",
      "\n",
      "bestTest = 0.464270783\n",
      "bestIteration = 176\n",
      "\n",
      "Training on fold [2/5]\n",
      "\n",
      "bestTest = 0.4619562595\n",
      "bestIteration = 178\n",
      "\n",
      "Training on fold [3/5]\n",
      "\n",
      "bestTest = 0.4520109076\n",
      "bestIteration = 181\n",
      "\n",
      "Training on fold [4/5]\n"
     ]
    },
    {
     "name": "stderr",
     "output_type": "stream",
     "text": [
      "\u001b[32m[I 2022-01-26 23:10:53,405]\u001b[0m Trial 60 finished with value: 0.8631094808537336 and parameters: {'iterations': 1500, 'learning_rate': 0.09398205367250419, 'random_strength': 2, 'bagging_temperature': 9, 'max_bin': 5, 'grow_policy': 'SymmetricTree', 'max_depth': 6, 'l2_leaf_reg': 10.467021216682893, 'one_hot_max_size': 1024, 'auto_class_weights': 'Balanced'}. Best is trial 41 with value: 0.8634317044476256.\u001b[0m\n"
     ]
    },
    {
     "name": "stdout",
     "output_type": "stream",
     "text": [
      "\n",
      "bestTest = 0.4627195741\n",
      "bestIteration = 139\n",
      "\n",
      "Training on fold [0/5]\n",
      "\n",
      "bestTest = 0.4724331303\n",
      "bestIteration = 828\n",
      "\n",
      "Training on fold [1/5]\n",
      "\n",
      "bestTest = 0.4633807865\n",
      "bestIteration = 782\n",
      "\n",
      "Training on fold [2/5]\n",
      "\n",
      "bestTest = 0.4622018326\n",
      "bestIteration = 812\n",
      "\n",
      "Training on fold [3/5]\n",
      "\n",
      "bestTest = 0.4512579497\n",
      "bestIteration = 759\n",
      "\n",
      "Training on fold [4/5]\n"
     ]
    },
    {
     "name": "stderr",
     "output_type": "stream",
     "text": [
      "\u001b[32m[I 2022-01-26 23:14:07,186]\u001b[0m Trial 61 finished with value: 0.8634701377179363 and parameters: {'iterations': 1500, 'learning_rate': 0.016089782764488563, 'random_strength': 1, 'bagging_temperature': 10, 'max_bin': 5, 'grow_policy': 'SymmetricTree', 'max_depth': 6, 'l2_leaf_reg': 8.480090372656854, 'one_hot_max_size': 10, 'auto_class_weights': 'Balanced'}. Best is trial 61 with value: 0.8634701377179363.\u001b[0m\n"
     ]
    },
    {
     "name": "stdout",
     "output_type": "stream",
     "text": [
      "\n",
      "bestTest = 0.4636584727\n",
      "bestIteration = 860\n",
      "\n",
      "Training on fold [0/5]\n",
      "\n",
      "bestTest = 0.4729669944\n",
      "bestIteration = 809\n",
      "\n",
      "Training on fold [1/5]\n",
      "\n",
      "bestTest = 0.4643145828\n",
      "bestIteration = 743\n",
      "\n",
      "Training on fold [2/5]\n",
      "\n",
      "bestTest = 0.4610620454\n",
      "bestIteration = 764\n",
      "\n",
      "Training on fold [3/5]\n",
      "\n",
      "bestTest = 0.4505544868\n",
      "bestIteration = 850\n",
      "\n",
      "Training on fold [4/5]\n"
     ]
    },
    {
     "name": "stderr",
     "output_type": "stream",
     "text": [
      "\u001b[32m[I 2022-01-26 23:17:13,646]\u001b[0m Trial 62 finished with value: 0.8635427932966795 and parameters: {'iterations': 1500, 'learning_rate': 0.01691113956497472, 'random_strength': 1, 'bagging_temperature': 10, 'max_bin': 5, 'grow_policy': 'SymmetricTree', 'max_depth': 6, 'l2_leaf_reg': 37.498037039001254, 'one_hot_max_size': 10, 'auto_class_weights': 'Balanced'}. Best is trial 62 with value: 0.8635427932966795.\u001b[0m\n"
     ]
    },
    {
     "name": "stdout",
     "output_type": "stream",
     "text": [
      "\n",
      "bestTest = 0.4636960097\n",
      "bestIteration = 814\n",
      "\n",
      "Training on fold [0/5]\n",
      "\n",
      "bestTest = 0.4727580526\n",
      "bestIteration = 1341\n",
      "\n",
      "Training on fold [1/5]\n",
      "\n",
      "bestTest = 0.4645738889\n",
      "bestIteration = 1115\n",
      "\n",
      "Training on fold [2/5]\n",
      "\n",
      "bestTest = 0.4619012949\n",
      "bestIteration = 1275\n",
      "\n",
      "Training on fold [3/5]\n",
      "\n",
      "bestTest = 0.4523078353\n",
      "bestIteration = 1166\n",
      "\n",
      "Training on fold [4/5]\n"
     ]
    },
    {
     "name": "stderr",
     "output_type": "stream",
     "text": [
      "\u001b[32m[I 2022-01-26 23:21:27,107]\u001b[0m Trial 63 finished with value: 0.8631687971717781 and parameters: {'iterations': 1500, 'learning_rate': 0.011511681765191488, 'random_strength': 1, 'bagging_temperature': 10, 'max_bin': 5, 'grow_policy': 'SymmetricTree', 'max_depth': 5, 'l2_leaf_reg': 23.107750766298484, 'one_hot_max_size': 10, 'auto_class_weights': 'Balanced'}. Best is trial 62 with value: 0.8635427932966795.\u001b[0m\n"
     ]
    },
    {
     "name": "stdout",
     "output_type": "stream",
     "text": [
      "\n",
      "bestTest = 0.4648348496\n",
      "bestIteration = 1281\n",
      "\n",
      "Training on fold [0/5]\n",
      "\n",
      "bestTest = 0.4735846978\n",
      "bestIteration = 793\n",
      "\n",
      "Training on fold [1/5]\n",
      "\n",
      "bestTest = 0.4641863739\n",
      "bestIteration = 838\n",
      "\n",
      "Training on fold [2/5]\n",
      "\n",
      "bestTest = 0.4623687983\n",
      "bestIteration = 779\n",
      "\n",
      "Training on fold [3/5]\n",
      "\n",
      "bestTest = 0.4514833224\n",
      "bestIteration = 956\n",
      "\n",
      "Training on fold [4/5]\n"
     ]
    },
    {
     "name": "stderr",
     "output_type": "stream",
     "text": [
      "\u001b[32m[I 2022-01-26 23:24:22,070]\u001b[0m Trial 64 finished with value: 0.8631336665925083 and parameters: {'iterations': 1500, 'learning_rate': 0.016674703190226525, 'random_strength': 1, 'bagging_temperature': 10, 'max_bin': 6, 'grow_policy': 'SymmetricTree', 'max_depth': 5, 'l2_leaf_reg': 1.5558664402941265, 'one_hot_max_size': 10, 'auto_class_weights': 'Balanced'}. Best is trial 62 with value: 0.8635427932966795.\u001b[0m\n"
     ]
    },
    {
     "name": "stdout",
     "output_type": "stream",
     "text": [
      "\n",
      "bestTest = 0.4637711106\n",
      "bestIteration = 907\n",
      "\n",
      "Training on fold [0/5]\n",
      "\n",
      "bestTest = 0.4734210787\n",
      "bestIteration = 223\n",
      "\n",
      "Training on fold [1/5]\n",
      "\n",
      "bestTest = 0.4634829061\n",
      "bestIteration = 347\n",
      "\n",
      "Training on fold [2/5]\n",
      "\n",
      "bestTest = 0.4619981432\n",
      "bestIteration = 267\n",
      "\n",
      "Training on fold [3/5]\n",
      "\n",
      "bestTest = 0.4509488678\n",
      "bestIteration = 377\n",
      "\n",
      "Training on fold [4/5]\n"
     ]
    },
    {
     "name": "stderr",
     "output_type": "stream",
     "text": [
      "\u001b[32m[I 2022-01-26 23:25:40,530]\u001b[0m Trial 65 finished with value: 0.8628928288048122 and parameters: {'iterations': 1500, 'learning_rate': 0.043422186369585905, 'random_strength': 1, 'bagging_temperature': 10, 'max_bin': 5, 'grow_policy': 'SymmetricTree', 'max_depth': 6, 'l2_leaf_reg': 4.74753514218811, 'one_hot_max_size': 10, 'auto_class_weights': 'Balanced'}. Best is trial 62 with value: 0.8635427932966795.\u001b[0m\n"
     ]
    },
    {
     "name": "stdout",
     "output_type": "stream",
     "text": [
      "\n",
      "bestTest = 0.4653417535\n",
      "bestIteration = 277\n",
      "\n",
      "Training on fold [0/5]\n",
      "\n",
      "bestTest = 0.4737304735\n",
      "bestIteration = 198\n",
      "\n",
      "Training on fold [1/5]\n",
      "\n",
      "bestTest = 0.4634043506\n",
      "bestIteration = 251\n",
      "\n",
      "Training on fold [2/5]\n",
      "\n",
      "bestTest = 0.461509707\n",
      "bestIteration = 215\n",
      "\n",
      "Training on fold [3/5]\n",
      "\n",
      "bestTest = 0.4494803579\n",
      "bestIteration = 331\n",
      "\n",
      "Training on fold [4/5]\n"
     ]
    },
    {
     "name": "stderr",
     "output_type": "stream",
     "text": [
      "\u001b[32m[I 2022-01-26 23:26:35,260]\u001b[0m Trial 66 finished with value: 0.8633886041540745 and parameters: {'iterations': 1200, 'learning_rate': 0.07237927782245285, 'random_strength': 1, 'bagging_temperature': 9, 'max_bin': 4, 'grow_policy': 'SymmetricTree', 'max_depth': 5, 'l2_leaf_reg': 29.477029032940553, 'one_hot_max_size': 10, 'auto_class_weights': 'Balanced'}. Best is trial 62 with value: 0.8635427932966795.\u001b[0m\n"
     ]
    },
    {
     "name": "stdout",
     "output_type": "stream",
     "text": [
      "\n",
      "bestTest = 0.4642844672\n",
      "bestIteration = 249\n",
      "\n",
      "Training on fold [0/5]\n",
      "\n",
      "bestTest = 0.4823033017\n",
      "bestIteration = 84\n",
      "\n",
      "Training on fold [1/5]\n",
      "\n",
      "bestTest = 0.4681200716\n",
      "bestIteration = 140\n",
      "\n",
      "Training on fold [2/5]\n",
      "\n",
      "bestTest = 0.4666410348\n",
      "bestIteration = 118\n",
      "\n",
      "Training on fold [3/5]\n",
      "\n",
      "bestTest = 0.4577992918\n",
      "bestIteration = 156\n",
      "\n",
      "Training on fold [4/5]\n"
     ]
    },
    {
     "name": "stderr",
     "output_type": "stream",
     "text": [
      "\u001b[32m[I 2022-01-26 23:27:10,571]\u001b[0m Trial 67 finished with value: 0.8590896288558675 and parameters: {'iterations': 1200, 'learning_rate': 0.07388506137936722, 'random_strength': 2, 'bagging_temperature': 9, 'max_bin': 4, 'grow_policy': 'SymmetricTree', 'max_depth': 6, 'l2_leaf_reg': 0.0004974683282225024, 'one_hot_max_size': 10, 'auto_class_weights': 'Balanced'}. Best is trial 62 with value: 0.8635427932966795.\u001b[0m\n"
     ]
    },
    {
     "name": "stdout",
     "output_type": "stream",
     "text": [
      "\n",
      "bestTest = 0.4698436073\n",
      "bestIteration = 124\n",
      "\n",
      "Training on fold [0/5]\n",
      "\n",
      "bestTest = 0.4729455861\n",
      "bestIteration = 272\n",
      "\n",
      "Training on fold [1/5]\n",
      "\n",
      "bestTest = 0.4637686158\n",
      "bestIteration = 260\n",
      "\n",
      "Training on fold [2/5]\n",
      "\n",
      "bestTest = 0.4619247544\n",
      "bestIteration = 255\n",
      "\n",
      "Training on fold [3/5]\n",
      "\n",
      "bestTest = 0.4502786288\n",
      "bestIteration = 367\n",
      "\n",
      "Training on fold [4/5]\n"
     ]
    },
    {
     "name": "stderr",
     "output_type": "stream",
     "text": [
      "\u001b[32m[I 2022-01-26 23:27:19,828]\u001b[0m Trial 68 finished with value: 0.8636683383353668 and parameters: {'iterations': 1200, 'learning_rate': 0.05489885151955885, 'random_strength': 1, 'bagging_temperature': 9, 'max_bin': 4, 'grow_policy': 'SymmetricTree', 'max_depth': 5, 'l2_leaf_reg': 52.50930657726749, 'one_hot_max_size': 500, 'auto_class_weights': 'Balanced'}. Best is trial 68 with value: 0.8636683383353668.\u001b[0m\n"
     ]
    },
    {
     "name": "stdout",
     "output_type": "stream",
     "text": [
      "\n",
      "bestTest = 0.4629337467\n",
      "bestIteration = 329\n",
      "\n",
      "Training on fold [0/5]\n",
      "\n",
      "bestTest = 0.4739938933\n",
      "bestIteration = 190\n",
      "\n",
      "Training on fold [1/5]\n",
      "\n",
      "bestTest = 0.4643374934\n",
      "bestIteration = 177\n",
      "\n",
      "Training on fold [2/5]\n",
      "\n",
      "bestTest = 0.4599691673\n",
      "bestIteration = 225\n",
      "\n",
      "Training on fold [3/5]\n",
      "\n",
      "bestTest = 0.4533357726\n",
      "bestIteration = 201\n",
      "\n",
      "Training on fold [4/5]\n"
     ]
    },
    {
     "name": "stderr",
     "output_type": "stream",
     "text": [
      "\u001b[32m[I 2022-01-26 23:27:26,162]\u001b[0m Trial 69 finished with value: 0.8630086613380319 and parameters: {'iterations': 1200, 'learning_rate': 0.0854525405726988, 'random_strength': 3, 'bagging_temperature': 9, 'max_bin': 4, 'grow_policy': 'SymmetricTree', 'max_depth': 5, 'l2_leaf_reg': 3.1238605600161913, 'one_hot_max_size': 500, 'auto_class_weights': 'Balanced'}. Best is trial 68 with value: 0.8636683383353668.\u001b[0m\n"
     ]
    },
    {
     "name": "stdout",
     "output_type": "stream",
     "text": [
      "\n",
      "bestTest = 0.4643642213\n",
      "bestIteration = 184\n",
      "\n",
      "Training on fold [0/5]\n",
      "\n",
      "bestTest = 0.4740707902\n",
      "bestIteration = 176\n",
      "\n",
      "Training on fold [1/5]\n",
      "\n",
      "bestTest = 0.4634289956\n",
      "bestIteration = 177\n",
      "\n",
      "Training on fold [2/5]\n",
      "\n",
      "bestTest = 0.4615412736\n",
      "bestIteration = 192\n",
      "\n",
      "Training on fold [3/5]\n",
      "\n",
      "bestTest = 0.4532193202\n",
      "bestIteration = 151\n",
      "\n",
      "Training on fold [4/5]\n"
     ]
    },
    {
     "name": "stderr",
     "output_type": "stream",
     "text": [
      "\u001b[32m[I 2022-01-26 23:27:32,330]\u001b[0m Trial 70 finished with value: 0.8628472175779967 and parameters: {'iterations': 1200, 'learning_rate': 0.09166258686412274, 'random_strength': 1, 'bagging_temperature': 5, 'max_bin': 4, 'grow_policy': 'SymmetricTree', 'max_depth': 5, 'l2_leaf_reg': 6.847479492663078, 'one_hot_max_size': 500, 'auto_class_weights': 'Balanced'}. Best is trial 68 with value: 0.8636683383353668.\u001b[0m\n"
     ]
    },
    {
     "name": "stdout",
     "output_type": "stream",
     "text": [
      "\n",
      "bestTest = 0.4643355485\n",
      "bestIteration = 156\n",
      "\n",
      "Training on fold [0/5]\n",
      "\n",
      "bestTest = 0.4728089759\n",
      "bestIteration = 179\n",
      "\n",
      "Training on fold [1/5]\n",
      "\n",
      "bestTest = 0.4637114457\n",
      "bestIteration = 171\n",
      "\n",
      "Training on fold [2/5]\n",
      "\n",
      "bestTest = 0.4604153806\n",
      "bestIteration = 231\n",
      "\n",
      "Training on fold [3/5]\n",
      "\n",
      "bestTest = 0.4515388192\n",
      "bestIteration = 203\n",
      "\n",
      "Training on fold [4/5]\n"
     ]
    },
    {
     "name": "stderr",
     "output_type": "stream",
     "text": [
      "\u001b[32m[I 2022-01-26 23:27:40,838]\u001b[0m Trial 71 finished with value: 0.8636956594092216 and parameters: {'iterations': 1200, 'learning_rate': 0.07167005678110938, 'random_strength': 1, 'bagging_temperature': 9, 'max_bin': 4, 'grow_policy': 'SymmetricTree', 'max_depth': 6, 'l2_leaf_reg': 41.99787491033593, 'one_hot_max_size': 500, 'auto_class_weights': 'Balanced'}. Best is trial 71 with value: 0.8636956594092216.\u001b[0m\n"
     ]
    },
    {
     "name": "stdout",
     "output_type": "stream",
     "text": [
      "\n",
      "bestTest = 0.4617159312\n",
      "bestIteration = 215\n",
      "\n",
      "Training on fold [0/5]\n",
      "\n",
      "bestTest = 0.4735219857\n",
      "bestIteration = 255\n",
      "\n",
      "Training on fold [1/5]\n",
      "\n",
      "bestTest = 0.4648988743\n",
      "bestIteration = 235\n",
      "\n",
      "Training on fold [2/5]\n",
      "\n",
      "bestTest = 0.4604600784\n",
      "bestIteration = 357\n",
      "\n",
      "Training on fold [3/5]\n",
      "\n",
      "bestTest = 0.4512105175\n",
      "bestIteration = 341\n",
      "\n",
      "Training on fold [4/5]\n"
     ]
    },
    {
     "name": "stderr",
     "output_type": "stream",
     "text": [
      "\u001b[32m[I 2022-01-26 23:27:51,061]\u001b[0m Trial 72 finished with value: 0.8634413575213147 and parameters: {'iterations': 1200, 'learning_rate': 0.05590070230762444, 'random_strength': 1, 'bagging_temperature': 8, 'max_bin': 4, 'grow_policy': 'SymmetricTree', 'max_depth': 5, 'l2_leaf_reg': 60.64056576586881, 'one_hot_max_size': 500, 'auto_class_weights': 'Balanced'}. Best is trial 71 with value: 0.8636956594092216.\u001b[0m\n"
     ]
    },
    {
     "name": "stdout",
     "output_type": "stream",
     "text": [
      "\n",
      "bestTest = 0.4628043206\n",
      "bestIteration = 317\n",
      "\n",
      "Training on fold [0/5]\n",
      "\n",
      "bestTest = 0.47381482\n",
      "bestIteration = 247\n",
      "\n",
      "Training on fold [1/5]\n",
      "\n",
      "bestTest = 0.4643363197\n",
      "bestIteration = 275\n",
      "\n",
      "Training on fold [2/5]\n",
      "\n",
      "bestTest = 0.461301767\n",
      "bestIteration = 294\n",
      "\n",
      "Training on fold [3/5]\n",
      "\n",
      "bestTest = 0.4503813612\n",
      "bestIteration = 326\n",
      "\n",
      "Training on fold [4/5]\n"
     ]
    },
    {
     "name": "stderr",
     "output_type": "stream",
     "text": [
      "\u001b[32m[I 2022-01-26 23:28:00,810]\u001b[0m Trial 73 finished with value: 0.8634399137904438 and parameters: {'iterations': 1200, 'learning_rate': 0.05831976187884211, 'random_strength': 1, 'bagging_temperature': 9, 'max_bin': 4, 'grow_policy': 'SymmetricTree', 'max_depth': 5, 'l2_leaf_reg': 95.26634347324793, 'one_hot_max_size': 500, 'auto_class_weights': 'Balanced'}. Best is trial 71 with value: 0.8636956594092216.\u001b[0m\n"
     ]
    },
    {
     "name": "stdout",
     "output_type": "stream",
     "text": [
      "\n",
      "bestTest = 0.4630692273\n",
      "bestIteration = 290\n",
      "\n",
      "Training on fold [0/5]\n",
      "\n",
      "bestTest = 0.4731409512\n",
      "bestIteration = 280\n",
      "\n",
      "Training on fold [1/5]\n",
      "\n",
      "bestTest = 0.4641693886\n",
      "bestIteration = 283\n",
      "\n",
      "Training on fold [2/5]\n",
      "\n",
      "bestTest = 0.4601224651\n",
      "bestIteration = 332\n",
      "\n",
      "Training on fold [3/5]\n",
      "\n",
      "bestTest = 0.4517264382\n",
      "bestIteration = 322\n",
      "\n",
      "Training on fold [4/5]\n"
     ]
    },
    {
     "name": "stderr",
     "output_type": "stream",
     "text": [
      "\u001b[32m[I 2022-01-26 23:28:11,160]\u001b[0m Trial 74 finished with value: 0.8634941783574888 and parameters: {'iterations': 1200, 'learning_rate': 0.0545464462113165, 'random_strength': 1, 'bagging_temperature': 9, 'max_bin': 4, 'grow_policy': 'SymmetricTree', 'max_depth': 5, 'l2_leaf_reg': 67.47022523371626, 'one_hot_max_size': 500, 'auto_class_weights': 'Balanced'}. Best is trial 71 with value: 0.8636956594092216.\u001b[0m\n"
     ]
    },
    {
     "name": "stdout",
     "output_type": "stream",
     "text": [
      "\n",
      "bestTest = 0.4632712865\n",
      "bestIteration = 330\n",
      "\n",
      "Training on fold [0/5]\n",
      "\n",
      "bestTest = 0.4736697825\n",
      "bestIteration = 332\n",
      "\n",
      "Training on fold [1/5]\n",
      "\n",
      "bestTest = 0.4638212025\n",
      "bestIteration = 351\n",
      "\n",
      "Training on fold [2/5]\n",
      "\n",
      "bestTest = 0.460771801\n",
      "bestIteration = 318\n",
      "\n",
      "Training on fold [3/5]\n",
      "\n",
      "bestTest = 0.4514467842\n",
      "bestIteration = 441\n",
      "\n",
      "Training on fold [4/5]\n"
     ]
    },
    {
     "name": "stderr",
     "output_type": "stream",
     "text": [
      "\u001b[32m[I 2022-01-26 23:28:22,524]\u001b[0m Trial 75 finished with value: 0.8634977368563742 and parameters: {'iterations': 1200, 'learning_rate': 0.05385189526305039, 'random_strength': 2, 'bagging_temperature': 8, 'max_bin': 4, 'grow_policy': 'SymmetricTree', 'max_depth': 5, 'l2_leaf_reg': 90.36012739731316, 'one_hot_max_size': 500, 'auto_class_weights': 'Balanced'}. Best is trial 71 with value: 0.8636956594092216.\u001b[0m\n"
     ]
    },
    {
     "name": "stdout",
     "output_type": "stream",
     "text": [
      "\n",
      "bestTest = 0.4625291695\n",
      "bestIteration = 356\n",
      "\n",
      "Training on fold [0/5]\n",
      "\n",
      "bestTest = 0.4740291535\n",
      "bestIteration = 350\n",
      "\n",
      "Training on fold [1/5]\n",
      "\n",
      "bestTest = 0.4658407692\n",
      "bestIteration = 293\n",
      "\n",
      "Training on fold [2/5]\n",
      "\n",
      "bestTest = 0.4617866368\n",
      "bestIteration = 351\n",
      "\n",
      "Training on fold [3/5]\n",
      "\n",
      "bestTest = 0.4532081915\n",
      "bestIteration = 330\n",
      "\n",
      "Training on fold [4/5]\n"
     ]
    },
    {
     "name": "stderr",
     "output_type": "stream",
     "text": [
      "\u001b[32m[I 2022-01-26 23:28:32,223]\u001b[0m Trial 76 finished with value: 0.8629379503892505 and parameters: {'iterations': 1200, 'learning_rate': 0.05349894849614824, 'random_strength': 2, 'bagging_temperature': 8, 'max_bin': 4, 'grow_policy': 'SymmetricTree', 'max_depth': 4, 'l2_leaf_reg': 68.2714560706478, 'one_hot_max_size': 500, 'auto_class_weights': 'Balanced'}. Best is trial 71 with value: 0.8636956594092216.\u001b[0m\n"
     ]
    },
    {
     "name": "stdout",
     "output_type": "stream",
     "text": [
      "\n",
      "bestTest = 0.4645308495\n",
      "bestIteration = 318\n",
      "\n",
      "Training on fold [0/5]\n",
      "\n",
      "bestTest = 0.4723142799\n",
      "bestIteration = 532\n",
      "\n",
      "Training on fold [1/5]\n",
      "\n",
      "bestTest = 0.4643663435\n",
      "bestIteration = 363\n",
      "\n",
      "Training on fold [2/5]\n",
      "\n",
      "bestTest = 0.4609058966\n",
      "bestIteration = 421\n",
      "\n",
      "Training on fold [3/5]\n",
      "\n",
      "bestTest = 0.4514205801\n",
      "bestIteration = 535\n",
      "\n",
      "Training on fold [4/5]\n"
     ]
    },
    {
     "name": "stderr",
     "output_type": "stream",
     "text": [
      "\u001b[32m[I 2022-01-26 23:28:47,550]\u001b[0m Trial 77 finished with value: 0.8636797473501602 and parameters: {'iterations': 1200, 'learning_rate': 0.035672981560652225, 'random_strength': 1, 'bagging_temperature': 8, 'max_bin': 4, 'grow_policy': 'SymmetricTree', 'max_depth': 5, 'l2_leaf_reg': 98.72300231840957, 'one_hot_max_size': 500, 'auto_class_weights': 'Balanced'}. Best is trial 71 with value: 0.8636956594092216.\u001b[0m\n"
     ]
    },
    {
     "name": "stdout",
     "output_type": "stream",
     "text": [
      "\n",
      "bestTest = 0.4631688177\n",
      "bestIteration = 515\n",
      "\n",
      "Training on fold [0/5]\n",
      "\n",
      "bestTest = 0.4730557705\n",
      "bestIteration = 484\n",
      "\n",
      "Training on fold [1/5]\n",
      "\n",
      "bestTest = 0.4651225047\n",
      "bestIteration = 404\n",
      "\n",
      "Training on fold [2/5]\n",
      "\n",
      "bestTest = 0.460913131\n",
      "bestIteration = 475\n",
      "\n",
      "Training on fold [3/5]\n",
      "\n",
      "bestTest = 0.4505712426\n",
      "bestIteration = 635\n",
      "\n",
      "Training on fold [4/5]\n"
     ]
    },
    {
     "name": "stderr",
     "output_type": "stream",
     "text": [
      "\u001b[32m[I 2022-01-26 23:29:03,179]\u001b[0m Trial 78 finished with value: 0.8634838727752868 and parameters: {'iterations': 1200, 'learning_rate': 0.036706712652575794, 'random_strength': 2, 'bagging_temperature': 8, 'max_bin': 4, 'grow_policy': 'SymmetricTree', 'max_depth': 5, 'l2_leaf_reg': 50.11685666224256, 'one_hot_max_size': 500, 'auto_class_weights': 'Balanced'}. Best is trial 71 with value: 0.8636956594092216.\u001b[0m\n"
     ]
    },
    {
     "name": "stdout",
     "output_type": "stream",
     "text": [
      "\n",
      "bestTest = 0.4632313368\n",
      "bestIteration = 440\n",
      "\n",
      "Training on fold [0/5]\n",
      "\n",
      "bestTest = 0.4744887035\n",
      "bestIteration = 463\n",
      "\n",
      "Training on fold [1/5]\n",
      "\n",
      "bestTest = 0.4638996598\n",
      "bestIteration = 597\n",
      "\n",
      "Training on fold [2/5]\n",
      "\n",
      "bestTest = 0.4604679426\n",
      "bestIteration = 550\n",
      "\n",
      "Training on fold [3/5]\n",
      "\n",
      "bestTest = 0.4515154273\n",
      "bestIteration = 590\n",
      "\n",
      "Training on fold [4/5]\n"
     ]
    },
    {
     "name": "stderr",
     "output_type": "stream",
     "text": [
      "\u001b[32m[I 2022-01-26 23:29:17,782]\u001b[0m Trial 79 finished with value: 0.863279467248898 and parameters: {'iterations': 1200, 'learning_rate': 0.037812188530524, 'random_strength': 2, 'bagging_temperature': 7, 'max_bin': 4, 'grow_policy': 'SymmetricTree', 'max_depth': 4, 'l2_leaf_reg': 48.25870598663542, 'one_hot_max_size': 500, 'auto_class_weights': 'Balanced'}. Best is trial 71 with value: 0.8636956594092216.\u001b[0m\n"
     ]
    },
    {
     "name": "stdout",
     "output_type": "stream",
     "text": [
      "\n",
      "bestTest = 0.465075983\n",
      "bestIteration = 435\n",
      "\n",
      "Training on fold [0/5]\n",
      "\n",
      "bestTest = 0.4743434345\n",
      "bestIteration = 482\n",
      "\n",
      "Training on fold [1/5]\n",
      "\n",
      "bestTest = 0.4627478796\n",
      "bestIteration = 622\n",
      "\n",
      "Training on fold [2/5]\n",
      "\n",
      "bestTest = 0.4610276879\n",
      "bestIteration = 608\n",
      "\n",
      "Training on fold [3/5]\n",
      "\n",
      "bestTest = 0.4505030634\n",
      "bestIteration = 712\n",
      "\n",
      "Training on fold [4/5]\n"
     ]
    },
    {
     "name": "stderr",
     "output_type": "stream",
     "text": [
      "\u001b[32m[I 2022-01-26 23:29:35,669]\u001b[0m Trial 80 finished with value: 0.863722383408763 and parameters: {'iterations': 1200, 'learning_rate': 0.029175274028570102, 'random_strength': 3, 'bagging_temperature': 8, 'max_bin': 4, 'grow_policy': 'SymmetricTree', 'max_depth': 5, 'l2_leaf_reg': 12.606735186514358, 'one_hot_max_size': 500, 'auto_class_weights': 'Balanced'}. Best is trial 80 with value: 0.863722383408763.\u001b[0m\n"
     ]
    },
    {
     "name": "stdout",
     "output_type": "stream",
     "text": [
      "\n",
      "bestTest = 0.4629222731\n",
      "bestIteration = 557\n",
      "\n",
      "Training on fold [0/5]\n",
      "\n",
      "bestTest = 0.4735786407\n",
      "bestIteration = 555\n",
      "\n",
      "Training on fold [1/5]\n",
      "\n",
      "bestTest = 0.4657533397\n",
      "bestIteration = 493\n",
      "\n",
      "Training on fold [2/5]\n",
      "\n",
      "bestTest = 0.4614172069\n",
      "bestIteration = 525\n",
      "\n",
      "Training on fold [3/5]\n",
      "\n",
      "bestTest = 0.4515442437\n",
      "bestIteration = 589\n",
      "\n",
      "Training on fold [4/5]\n"
     ]
    },
    {
     "name": "stderr",
     "output_type": "stream",
     "text": [
      "\u001b[32m[I 2022-01-26 23:29:51,791]\u001b[0m Trial 81 finished with value: 0.863466385837419 and parameters: {'iterations': 1200, 'learning_rate': 0.028841365172564266, 'random_strength': 3, 'bagging_temperature': 8, 'max_bin': 4, 'grow_policy': 'SymmetricTree', 'max_depth': 5, 'l2_leaf_reg': 12.169902381725143, 'one_hot_max_size': 500, 'auto_class_weights': 'Balanced'}. Best is trial 80 with value: 0.863722383408763.\u001b[0m\n"
     ]
    },
    {
     "name": "stdout",
     "output_type": "stream",
     "text": [
      "\n",
      "bestTest = 0.4624969281\n",
      "bestIteration = 531\n",
      "\n",
      "Training on fold [0/5]\n",
      "\n",
      "bestTest = 0.4743172548\n",
      "bestIteration = 382\n",
      "\n",
      "Training on fold [1/5]\n",
      "\n",
      "bestTest = 0.4643645811\n",
      "bestIteration = 441\n",
      "\n",
      "Training on fold [2/5]\n",
      "\n",
      "bestTest = 0.4604655045\n",
      "bestIteration = 455\n",
      "\n",
      "Training on fold [3/5]\n",
      "\n",
      "bestTest = 0.4517935194\n",
      "bestIteration = 483\n",
      "\n",
      "Training on fold [4/5]\n"
     ]
    },
    {
     "name": "stderr",
     "output_type": "stream",
     "text": [
      "\u001b[32m[I 2022-01-26 23:30:05,228]\u001b[0m Trial 82 finished with value: 0.863422228562305 and parameters: {'iterations': 1200, 'learning_rate': 0.0408388214837326, 'random_strength': 2, 'bagging_temperature': 7, 'max_bin': 4, 'grow_policy': 'SymmetricTree', 'max_depth': 5, 'l2_leaf_reg': 93.26292710427923, 'one_hot_max_size': 500, 'auto_class_weights': 'Balanced'}. Best is trial 80 with value: 0.863722383408763.\u001b[0m\n"
     ]
    },
    {
     "name": "stdout",
     "output_type": "stream",
     "text": [
      "\n",
      "bestTest = 0.4627229748\n",
      "bestIteration = 413\n",
      "\n",
      "Training on fold [0/5]\n",
      "\n",
      "bestTest = 0.4737785053\n",
      "bestIteration = 562\n",
      "\n",
      "Training on fold [1/5]\n",
      "\n",
      "bestTest = 0.4643391073\n",
      "bestIteration = 530\n",
      "\n",
      "Training on fold [2/5]\n",
      "\n",
      "bestTest = 0.4601519755\n",
      "bestIteration = 699\n",
      "\n",
      "Training on fold [3/5]\n",
      "\n",
      "bestTest = 0.4503274237\n",
      "bestIteration = 699\n",
      "\n",
      "Training on fold [4/5]\n"
     ]
    },
    {
     "name": "stderr",
     "output_type": "stream",
     "text": [
      "\u001b[32m[I 2022-01-26 23:30:23,386]\u001b[0m Trial 83 finished with value: 0.8635332344851825 and parameters: {'iterations': 1200, 'learning_rate': 0.027931888089246966, 'random_strength': 2, 'bagging_temperature': 8, 'max_bin': 4, 'grow_policy': 'SymmetricTree', 'max_depth': 5, 'l2_leaf_reg': 33.70314283389131, 'one_hot_max_size': 500, 'auto_class_weights': 'Balanced'}. Best is trial 80 with value: 0.863722383408763.\u001b[0m\n"
     ]
    },
    {
     "name": "stdout",
     "output_type": "stream",
     "text": [
      "\n",
      "bestTest = 0.46409983\n",
      "bestIteration = 519\n",
      "\n",
      "Training on fold [0/5]\n",
      "\n",
      "bestTest = 0.4749936683\n",
      "bestIteration = 665\n",
      "\n",
      "Training on fold [1/5]\n",
      "\n",
      "bestTest = 0.4664229681\n",
      "bestIteration = 545\n",
      "\n",
      "Training on fold [2/5]\n",
      "\n",
      "bestTest = 0.4619122221\n",
      "bestIteration = 649\n",
      "\n",
      "Training on fold [3/5]\n",
      "\n",
      "bestTest = 0.4528438554\n",
      "bestIteration = 771\n",
      "\n",
      "Training on fold [4/5]\n"
     ]
    },
    {
     "name": "stderr",
     "output_type": "stream",
     "text": [
      "\u001b[32m[I 2022-01-26 23:30:41,420]\u001b[0m Trial 84 finished with value: 0.8627576185574009 and parameters: {'iterations': 1200, 'learning_rate': 0.02829919075588836, 'random_strength': 3, 'bagging_temperature': 8, 'max_bin': 4, 'grow_policy': 'SymmetricTree', 'max_depth': 4, 'l2_leaf_reg': 31.305525153915728, 'one_hot_max_size': 500, 'auto_class_weights': 'Balanced'}. Best is trial 80 with value: 0.863722383408763.\u001b[0m\n"
     ]
    },
    {
     "name": "stdout",
     "output_type": "stream",
     "text": [
      "\n",
      "bestTest = 0.4640216766\n",
      "bestIteration = 687\n",
      "\n",
      "Training on fold [0/5]\n",
      "\n",
      "bestTest = 0.4749663831\n",
      "bestIteration = 279\n",
      "\n",
      "Training on fold [1/5]\n",
      "\n",
      "bestTest = 0.4633839993\n",
      "bestIteration = 416\n",
      "\n",
      "Training on fold [2/5]\n",
      "\n",
      "bestTest = 0.4615718853\n",
      "bestIteration = 356\n",
      "\n",
      "Training on fold [3/5]\n",
      "\n",
      "bestTest = 0.4509635412\n",
      "bestIteration = 433\n",
      "\n",
      "Training on fold [4/5]\n"
     ]
    },
    {
     "name": "stderr",
     "output_type": "stream",
     "text": [
      "\u001b[32m[I 2022-01-26 23:30:53,059]\u001b[0m Trial 85 finished with value: 0.863246024130437 and parameters: {'iterations': 1200, 'learning_rate': 0.051093305295451655, 'random_strength': 3, 'bagging_temperature': 8, 'max_bin': 4, 'grow_policy': 'SymmetricTree', 'max_depth': 5, 'l2_leaf_reg': 56.10262439166201, 'one_hot_max_size': 500, 'auto_class_weights': 'Balanced'}. Best is trial 80 with value: 0.863722383408763.\u001b[0m\n"
     ]
    },
    {
     "name": "stdout",
     "output_type": "stream",
     "text": [
      "\n",
      "bestTest = 0.4631099289\n",
      "bestIteration = 373\n",
      "\n",
      "Training on fold [0/5]\n",
      "\n",
      "bestTest = 0.4747010383\n",
      "bestIteration = 236\n",
      "\n",
      "Training on fold [1/5]\n",
      "\n",
      "bestTest = 0.4635225509\n",
      "bestIteration = 304\n",
      "\n",
      "Training on fold [2/5]\n",
      "\n",
      "bestTest = 0.4608699906\n",
      "bestIteration = 315\n",
      "\n",
      "Training on fold [3/5]\n",
      "\n",
      "bestTest = 0.4518855438\n",
      "bestIteration = 383\n",
      "\n",
      "Training on fold [4/5]\n"
     ]
    },
    {
     "name": "stderr",
     "output_type": "stream",
     "text": [
      "\u001b[32m[I 2022-01-26 23:31:01,930]\u001b[0m Trial 86 finished with value: 0.8631614159405837 and parameters: {'iterations': 1200, 'learning_rate': 0.06603778781669059, 'random_strength': 2, 'bagging_temperature': 8, 'max_bin': 4, 'grow_policy': 'SymmetricTree', 'max_depth': 4, 'l2_leaf_reg': 13.584413473857404, 'one_hot_max_size': 500, 'auto_class_weights': 'Balanced'}. Best is trial 80 with value: 0.863722383408763.\u001b[0m\n"
     ]
    },
    {
     "name": "stdout",
     "output_type": "stream",
     "text": [
      "\n",
      "bestTest = 0.4640394163\n",
      "bestIteration = 306\n",
      "\n",
      "Training on fold [0/5]\n",
      "\n",
      "bestTest = 0.474247921\n",
      "bestIteration = 581\n",
      "\n",
      "Training on fold [1/5]\n",
      "\n",
      "bestTest = 0.4646149067\n",
      "bestIteration = 635\n",
      "\n",
      "Training on fold [2/5]\n",
      "\n",
      "bestTest = 0.4604785099\n",
      "bestIteration = 698\n",
      "\n",
      "Training on fold [3/5]\n",
      "\n",
      "bestTest = 0.4514250319\n",
      "bestIteration = 755\n",
      "\n",
      "Training on fold [4/5]\n"
     ]
    },
    {
     "name": "stderr",
     "output_type": "stream",
     "text": [
      "\u001b[32m[I 2022-01-26 23:31:22,612]\u001b[0m Trial 87 finished with value: 0.8632232313659787 and parameters: {'iterations': 1200, 'learning_rate': 0.025446394783463902, 'random_strength': 2, 'bagging_temperature': 7, 'max_bin': 4, 'grow_policy': 'SymmetricTree', 'max_depth': 5, 'l2_leaf_reg': 29.020553183916853, 'one_hot_max_size': 500, 'auto_class_weights': 'Balanced'}. Best is trial 80 with value: 0.863722383408763.\u001b[0m\n"
     ]
    },
    {
     "name": "stdout",
     "output_type": "stream",
     "text": [
      "\n",
      "bestTest = 0.464034107\n",
      "bestIteration = 609\n",
      "\n",
      "Training on fold [0/5]\n",
      "\n",
      "bestTest = 0.4779723935\n",
      "bestIteration = 343\n",
      "\n",
      "Training on fold [1/5]\n",
      "\n",
      "bestTest = 0.4648764489\n",
      "bestIteration = 354\n",
      "\n",
      "Training on fold [2/5]\n",
      "\n",
      "bestTest = 0.4670617296\n",
      "bestIteration = 296\n",
      "\n",
      "Training on fold [3/5]\n",
      "\n",
      "bestTest = 0.4539019074\n",
      "bestIteration = 419\n",
      "\n",
      "Training on fold [4/5]\n"
     ]
    },
    {
     "name": "stderr",
     "output_type": "stream",
     "text": [
      "\u001b[32m[I 2022-01-26 23:31:33,465]\u001b[0m Trial 88 finished with value: 0.8616098682061551 and parameters: {'iterations': 1200, 'learning_rate': 0.03897754621328923, 'random_strength': 3, 'bagging_temperature': 9, 'max_bin': 4, 'grow_policy': 'SymmetricTree', 'max_depth': 5, 'l2_leaf_reg': 0.004664263694652506, 'one_hot_max_size': 500, 'auto_class_weights': 'Balanced'}. Best is trial 80 with value: 0.863722383408763.\u001b[0m\n"
     ]
    },
    {
     "name": "stdout",
     "output_type": "stream",
     "text": [
      "\n",
      "bestTest = 0.4652677065\n",
      "bestIteration = 308\n",
      "\n",
      "Training on fold [0/5]\n",
      "\n",
      "bestTest = 0.4743195201\n",
      "bestIteration = 210\n",
      "\n",
      "Training on fold [1/5]\n",
      "\n",
      "bestTest = 0.4648191145\n",
      "bestIteration = 192\n",
      "\n",
      "Training on fold [2/5]\n",
      "\n",
      "bestTest = 0.4614085054\n",
      "bestIteration = 217\n",
      "\n",
      "Training on fold [3/5]\n",
      "\n",
      "bestTest = 0.4501619989\n",
      "bestIteration = 261\n",
      "\n",
      "Training on fold [4/5]\n"
     ]
    },
    {
     "name": "stderr",
     "output_type": "stream",
     "text": [
      "\u001b[32m[I 2022-01-26 23:31:40,340]\u001b[0m Trial 89 finished with value: 0.8629380758925258 and parameters: {'iterations': 1200, 'learning_rate': 0.0791261538043228, 'random_strength': 2, 'bagging_temperature': 8, 'max_bin': 4, 'grow_policy': 'SymmetricTree', 'max_depth': 5, 'l2_leaf_reg': 4.552062198941075, 'one_hot_max_size': 500, 'auto_class_weights': 'Balanced'}. Best is trial 80 with value: 0.863722383408763.\u001b[0m\n"
     ]
    },
    {
     "name": "stdout",
     "output_type": "stream",
     "text": [
      "\n",
      "bestTest = 0.4645279541\n",
      "bestIteration = 165\n",
      "\n",
      "Training on fold [0/5]\n",
      "\n",
      "bestTest = 0.4796069513\n",
      "bestIteration = 158\n",
      "\n",
      "Training on fold [1/5]\n",
      "\n",
      "bestTest = 0.4662993354\n",
      "bestIteration = 125\n",
      "\n",
      "Training on fold [2/5]\n",
      "\n",
      "bestTest = 0.4658260461\n",
      "bestIteration = 115\n",
      "\n",
      "Training on fold [3/5]\n",
      "\n",
      "bestTest = 0.4568241344\n",
      "bestIteration = 144\n",
      "\n",
      "Training on fold [4/5]\n"
     ]
    },
    {
     "name": "stderr",
     "output_type": "stream",
     "text": [
      "\u001b[32m[I 2022-01-26 23:31:44,062]\u001b[0m Trial 90 finished with value: 0.860580646546917 and parameters: {'iterations': 1200, 'learning_rate': 0.11224235067287266, 'random_strength': 2, 'bagging_temperature': 7, 'max_bin': 4, 'grow_policy': 'SymmetricTree', 'max_depth': 4, 'l2_leaf_reg': 8.266044180046717e-05, 'one_hot_max_size': 500, 'auto_class_weights': 'Balanced'}. Best is trial 80 with value: 0.863722383408763.\u001b[0m\n"
     ]
    },
    {
     "name": "stdout",
     "output_type": "stream",
     "text": [
      "\n",
      "bestTest = 0.4679129865\n",
      "bestIteration = 115\n",
      "\n",
      "Training on fold [0/5]\n",
      "\n",
      "bestTest = 0.4734028566\n",
      "bestIteration = 748\n",
      "\n",
      "Training on fold [1/5]\n",
      "\n",
      "bestTest = 0.4648686038\n",
      "bestIteration = 597\n",
      "\n",
      "Training on fold [2/5]\n",
      "\n",
      "bestTest = 0.4621654725\n",
      "bestIteration = 605\n",
      "\n",
      "Training on fold [3/5]\n",
      "\n",
      "bestTest = 0.4514396717\n",
      "bestIteration = 854\n",
      "\n",
      "Training on fold [4/5]\n"
     ]
    },
    {
     "name": "stderr",
     "output_type": "stream",
     "text": [
      "\u001b[32m[I 2022-01-26 23:32:05,306]\u001b[0m Trial 91 finished with value: 0.8633521550777387 and parameters: {'iterations': 1200, 'learning_rate': 0.019666720942362815, 'random_strength': 1, 'bagging_temperature': 9, 'max_bin': 4, 'grow_policy': 'SymmetricTree', 'max_depth': 5, 'l2_leaf_reg': 8.011085252704715, 'one_hot_max_size': 500, 'auto_class_weights': 'Balanced'}. Best is trial 80 with value: 0.863722383408763.\u001b[0m\n"
     ]
    },
    {
     "name": "stdout",
     "output_type": "stream",
     "text": [
      "\n",
      "bestTest = 0.4634421633\n",
      "bestIteration = 664\n",
      "\n",
      "Training on fold [0/5]\n",
      "\n",
      "bestTest = 0.4717858135\n",
      "bestIteration = 468\n",
      "\n",
      "Training on fold [1/5]\n",
      "\n",
      "bestTest = 0.4632119936\n",
      "bestIteration = 451\n",
      "\n",
      "Training on fold [2/5]\n",
      "\n",
      "bestTest = 0.4613852495\n",
      "bestIteration = 470\n",
      "\n",
      "Training on fold [3/5]\n",
      "\n",
      "bestTest = 0.4504401282\n",
      "bestIteration = 507\n",
      "\n",
      "Training on fold [4/5]\n"
     ]
    },
    {
     "name": "stderr",
     "output_type": "stream",
     "text": [
      "\u001b[32m[I 2022-01-26 23:32:21,152]\u001b[0m Trial 92 finished with value: 0.8638205411796239 and parameters: {'iterations': 1200, 'learning_rate': 0.030743501184442096, 'random_strength': 1, 'bagging_temperature': 9, 'max_bin': 8, 'grow_policy': 'SymmetricTree', 'max_depth': 6, 'l2_leaf_reg': 56.112717992276465, 'one_hot_max_size': 500, 'auto_class_weights': 'Balanced'}. Best is trial 92 with value: 0.8638205411796239.\u001b[0m\n"
     ]
    },
    {
     "name": "stdout",
     "output_type": "stream",
     "text": [
      "\n",
      "bestTest = 0.4639420021\n",
      "bestIteration = 363\n",
      "\n",
      "Training on fold [0/5]\n",
      "\n",
      "bestTest = 0.5165920709\n",
      "bestIteration = 1199\n",
      "\n",
      "Training on fold [1/5]\n",
      "\n",
      "bestTest = 0.5121080816\n",
      "bestIteration = 1199\n",
      "\n",
      "Training on fold [2/5]\n",
      "\n",
      "bestTest = 0.5066489453\n",
      "bestIteration = 1199\n",
      "\n",
      "Training on fold [3/5]\n",
      "\n",
      "bestTest = 0.5063465596\n",
      "bestIteration = 1199\n",
      "\n",
      "Training on fold [4/5]\n"
     ]
    },
    {
     "name": "stderr",
     "output_type": "stream",
     "text": [
      "\u001b[32m[I 2022-01-26 23:32:57,247]\u001b[0m Trial 93 finished with value: 0.8445469813653217 and parameters: {'iterations': 1200, 'learning_rate': 0.0012651965562862633, 'random_strength': 1, 'bagging_temperature': 8, 'max_bin': 8, 'grow_policy': 'SymmetricTree', 'max_depth': 5, 'l2_leaf_reg': 65.62463299921161, 'one_hot_max_size': 500, 'auto_class_weights': 'Balanced'}. Best is trial 92 with value: 0.8638205411796239.\u001b[0m\n"
     ]
    },
    {
     "name": "stdout",
     "output_type": "stream",
     "text": [
      "\n",
      "bestTest = 0.5095065602\n",
      "bestIteration = 1199\n",
      "\n",
      "Training on fold [0/5]\n",
      "\n",
      "bestTest = 0.4729618504\n",
      "bestIteration = 374\n",
      "\n",
      "Training on fold [1/5]\n",
      "\n",
      "bestTest = 0.4636700378\n",
      "bestIteration = 378\n",
      "\n",
      "Training on fold [2/5]\n",
      "\n",
      "bestTest = 0.4606983695\n",
      "bestIteration = 430\n",
      "\n",
      "Training on fold [3/5]\n",
      "\n",
      "bestTest = 0.4514678969\n",
      "bestIteration = 382\n",
      "\n",
      "Training on fold [4/5]\n"
     ]
    },
    {
     "name": "stderr",
     "output_type": "stream",
     "text": [
      "\u001b[32m[I 2022-01-26 23:33:10,547]\u001b[0m Trial 94 finished with value: 0.8634997572385485 and parameters: {'iterations': 1200, 'learning_rate': 0.03309690803372834, 'random_strength': 1, 'bagging_temperature': 9, 'max_bin': 8, 'grow_policy': 'SymmetricTree', 'max_depth': 6, 'l2_leaf_reg': 14.705683146605264, 'one_hot_max_size': 500, 'auto_class_weights': 'Balanced'}. Best is trial 92 with value: 0.8638205411796239.\u001b[0m\n"
     ]
    },
    {
     "name": "stdout",
     "output_type": "stream",
     "text": [
      "\n",
      "bestTest = 0.4639489434\n",
      "bestIteration = 355\n",
      "\n",
      "Training on fold [0/5]\n",
      "\n",
      "bestTest = 0.4722201573\n",
      "bestIteration = 243\n",
      "\n",
      "Training on fold [1/5]\n",
      "\n",
      "bestTest = 0.462344591\n",
      "bestIteration = 318\n",
      "\n",
      "Training on fold [2/5]\n",
      "\n",
      "bestTest = 0.4612706507\n",
      "bestIteration = 240\n",
      "\n",
      "Training on fold [3/5]\n",
      "\n",
      "bestTest = 0.4502066275\n",
      "bestIteration = 330\n",
      "\n",
      "Training on fold [4/5]\n"
     ]
    },
    {
     "name": "stderr",
     "output_type": "stream",
     "text": [
      "\u001b[32m[I 2022-01-26 23:33:20,124]\u001b[0m Trial 95 finished with value: 0.8638558954181164 and parameters: {'iterations': 1200, 'learning_rate': 0.05048040844522969, 'random_strength': 1, 'bagging_temperature': 9, 'max_bin': 8, 'grow_policy': 'SymmetricTree', 'max_depth': 6, 'l2_leaf_reg': 15.955644725744657, 'one_hot_max_size': 500, 'auto_class_weights': 'Balanced'}. Best is trial 95 with value: 0.8638558954181164.\u001b[0m\n"
     ]
    },
    {
     "name": "stdout",
     "output_type": "stream",
     "text": [
      "\n",
      "bestTest = 0.4634896807\n",
      "bestIteration = 217\n",
      "\n",
      "Training on fold [0/5]\n",
      "\n",
      "bestTest = 0.4719881952\n",
      "bestIteration = 504\n",
      "\n",
      "Training on fold [1/5]\n",
      "\n",
      "bestTest = 0.4625592637\n",
      "bestIteration = 453\n",
      "\n",
      "Training on fold [2/5]\n",
      "\n",
      "bestTest = 0.4606017636\n",
      "bestIteration = 478\n",
      "\n",
      "Training on fold [3/5]\n",
      "\n",
      "bestTest = 0.4504476929\n",
      "bestIteration = 483\n",
      "\n",
      "Training on fold [4/5]\n"
     ]
    },
    {
     "name": "stderr",
     "output_type": "stream",
     "text": [
      "\u001b[32m[I 2022-01-26 23:33:36,206]\u001b[0m Trial 96 finished with value: 0.8639637067584343 and parameters: {'iterations': 1200, 'learning_rate': 0.030023109561932198, 'random_strength': 1, 'bagging_temperature': 9, 'max_bin': 8, 'grow_policy': 'SymmetricTree', 'max_depth': 6, 'l2_leaf_reg': 16.880261102510804, 'one_hot_max_size': 500, 'auto_class_weights': 'Balanced'}. Best is trial 96 with value: 0.8639637067584343.\u001b[0m\n"
     ]
    },
    {
     "name": "stdout",
     "output_type": "stream",
     "text": [
      "\n",
      "bestTest = 0.4635138772\n",
      "bestIteration = 404\n",
      "\n",
      "Training on fold [0/5]\n",
      "\n",
      "bestTest = 0.4740110577\n",
      "bestIteration = 321\n",
      "\n",
      "Training on fold [1/5]\n",
      "\n",
      "bestTest = 0.463656599\n",
      "bestIteration = 435\n",
      "\n",
      "Training on fold [2/5]\n",
      "\n",
      "bestTest = 0.4624046784\n",
      "bestIteration = 334\n",
      "\n",
      "Training on fold [3/5]\n",
      "\n",
      "bestTest = 0.4489359659\n",
      "bestIteration = 601\n",
      "\n",
      "Training on fold [4/5]\n"
     ]
    },
    {
     "name": "stderr",
     "output_type": "stream",
     "text": [
      "\u001b[32m[I 2022-01-26 23:33:50,266]\u001b[0m Trial 97 finished with value: 0.8633721276650906 and parameters: {'iterations': 1200, 'learning_rate': 0.03207914180426274, 'random_strength': 1, 'bagging_temperature': 9, 'max_bin': 8, 'grow_policy': 'SymmetricTree', 'max_depth': 6, 'l2_leaf_reg': 15.342062129322034, 'one_hot_max_size': 500, 'auto_class_weights': 'Balanced'}. Best is trial 96 with value: 0.8639637067584343.\u001b[0m\n"
     ]
    },
    {
     "name": "stdout",
     "output_type": "stream",
     "text": [
      "\n",
      "bestTest = 0.464179373\n",
      "bestIteration = 321\n",
      "\n",
      "Training on fold [0/5]\n",
      "\n",
      "bestTest = 0.4804758134\n",
      "bestIteration = 276\n",
      "\n",
      "Training on fold [1/5]\n",
      "\n",
      "bestTest = 0.4701517922\n",
      "bestIteration = 279\n",
      "\n",
      "Training on fold [2/5]\n",
      "\n",
      "bestTest = 0.4697305495\n",
      "bestIteration = 259\n",
      "\n",
      "Training on fold [3/5]\n",
      "\n",
      "bestTest = 0.4582713918\n",
      "bestIteration = 304\n",
      "\n",
      "Training on fold [4/5]\n"
     ]
    },
    {
     "name": "stderr",
     "output_type": "stream",
     "text": [
      "\u001b[32m[I 2022-01-26 23:33:59,936]\u001b[0m Trial 98 finished with value: 0.8599174090734941 and parameters: {'iterations': 1200, 'learning_rate': 0.023031781860869217, 'random_strength': 1, 'bagging_temperature': 9, 'max_bin': 8, 'grow_policy': 'SymmetricTree', 'max_depth': 6, 'l2_leaf_reg': 1.1377461261612076e-08, 'one_hot_max_size': 100, 'auto_class_weights': 'Balanced'}. Best is trial 96 with value: 0.8639637067584343.\u001b[0m\n"
     ]
    },
    {
     "name": "stdout",
     "output_type": "stream",
     "text": [
      "\n",
      "bestTest = 0.4680968112\n",
      "bestIteration = 263\n",
      "\n",
      "Training on fold [0/5]\n",
      "\n",
      "bestTest = 0.4710868063\n",
      "bestIteration = 298\n",
      "\n",
      "Training on fold [1/5]\n",
      "\n",
      "bestTest = 0.4630495838\n",
      "bestIteration = 259\n",
      "\n",
      "Training on fold [2/5]\n",
      "\n",
      "bestTest = 0.4621068479\n",
      "bestIteration = 237\n",
      "\n",
      "Training on fold [3/5]\n",
      "\n",
      "bestTest = 0.4520688283\n",
      "bestIteration = 298\n",
      "\n",
      "Training on fold [4/5]\n"
     ]
    },
    {
     "name": "stderr",
     "output_type": "stream",
     "text": [
      "\u001b[32m[I 2022-01-26 23:34:09,517]\u001b[0m Trial 99 finished with value: 0.8634975144732883 and parameters: {'iterations': 300, 'learning_rate': 0.048254492138275415, 'random_strength': 1, 'bagging_temperature': 9, 'max_bin': 8, 'grow_policy': 'SymmetricTree', 'max_depth': 6, 'l2_leaf_reg': 2.748290804103536, 'one_hot_max_size': 1024, 'auto_class_weights': 'Balanced'}. Best is trial 96 with value: 0.8639637067584343.\u001b[0m\n"
     ]
    },
    {
     "name": "stdout",
     "output_type": "stream",
     "text": [
      "\n",
      "bestTest = 0.4636115535\n",
      "bestIteration = 248\n",
      "\n"
     ]
    }
   ],
   "source": [
    "sampler = optuna.samplers.TPESampler(seed=68)\n",
    "study2 = optuna.create_study(direction=\"maximize\", sampler=sampler)\n",
    "study2.optimize(objective2, n_trials=100)"
   ]
  },
  {
   "cell_type": "code",
   "execution_count": 81,
   "metadata": {},
   "outputs": [
    {
     "name": "stdout",
     "output_type": "stream",
     "text": [
      "Number of finished trials: 100\n",
      "Best trial:\n",
      "  Value: 0.8639637067584343\n",
      "  Params: \n",
      "    iterations=1200,\n",
      "    learning_rate=0.030023109561932198,\n",
      "    random_strength=1,\n",
      "    bagging_temperature=9,\n",
      "    max_bin=8,\n",
      "    grow_policy=SymmetricTree,\n",
      "    max_depth=6,\n",
      "    l2_leaf_reg=16.880261102510804,\n",
      "    one_hot_max_size=500,\n",
      "    auto_class_weights=Balanced,\n"
     ]
    }
   ],
   "source": [
    "print(\"Number of finished trials: {}\".format(len(study2.trials)))\n",
    "print(\"Best trial:\")\n",
    "trial2 = study2.best_trial\n",
    "print(\"  Value: {}\".format(trial2.value))\n",
    "print(\"  Params: \")\n",
    "for key, value in trial2.params.items(): \n",
    "    print(\"    {}={},\".format(key, value))\n"
   ]
  },
  {
   "cell_type": "code",
   "execution_count": 82,
   "metadata": {},
   "outputs": [],
   "source": [
    "params2 = {'iterations':1200,\n",
    "         'learning_rate':0.030023109561932198,\n",
    "         'cat_features': categorical_features_indices,\n",
    "         'random_strength':1,\n",
    "         'depth':6,\n",
    "         'max_bin':8,\n",
    "         'grow_policy':'SymmetricTree',\n",
    "         'l2_leaf_reg':16.880261102510804,\n",
    "         'bagging_temperature':9,\n",
    "         'one_hot_max_size':500,\n",
    "         'eval_metric':'AUC',\n",
    "         'auto_class_weights':'Balanced',\n",
    "         'verbose':False,\n",
    "         }"
   ]
  },
  {
   "cell_type": "code",
   "execution_count": 83,
   "metadata": {},
   "outputs": [],
   "source": [
    "best_model_seasonal = CatBoostClassifier(**params2)"
   ]
  },
  {
   "cell_type": "code",
   "execution_count": 84,
   "metadata": {},
   "outputs": [
    {
     "data": {
      "application/vnd.jupyter.widget-view+json": {
       "model_id": "832465dd665345ceb7efcf84f52c9ece",
       "version_major": 2,
       "version_minor": 0
      },
      "text/plain": [
       "MetricVisualizer(layout=Layout(align_self='stretch', height='500px'))"
      ]
     },
     "metadata": {},
     "output_type": "display_data"
    }
   ],
   "source": [
    "best_model_seasonal.fit(X_train, y_train.seasonal_vaccine, eval_set=(X_test, y_test.seasonal_vaccine), use_best_model=True, plot=True);"
   ]
  },
  {
   "cell_type": "code",
   "execution_count": 85,
   "metadata": {},
   "outputs": [],
   "source": [
    "best_pred_seasonal = best_model_seasonal.predict_proba(X_test)"
   ]
  },
  {
   "cell_type": "code",
   "execution_count": 86,
   "metadata": {},
   "outputs": [],
   "source": [
    "best_pred_seasonal = best_pred_seasonal[:,1].reshape(-1,1)"
   ]
  },
  {
   "cell_type": "code",
   "execution_count": 129,
   "metadata": {},
   "outputs": [
    {
     "data": {
      "text/plain": [
       "0.860779309512026"
      ]
     },
     "execution_count": 129,
     "metadata": {},
     "output_type": "execute_result"
    }
   ],
   "source": [
    "roc_auc_score(y_test.seasonal_vaccine, best_pred_seasonal)"
   ]
  },
  {
   "cell_type": "code",
   "execution_count": 88,
   "metadata": {},
   "outputs": [],
   "source": [
    "final_model_se = CatBoostClassifier(verbose=False,  cat_features=categorical_features_indices, **trial2.params)"
   ]
  },
  {
   "cell_type": "code",
   "execution_count": 89,
   "metadata": {},
   "outputs": [
    {
     "data": {
      "text/plain": [
       "<catboost.core.CatBoostClassifier at 0x2db4f8457f0>"
      ]
     },
     "execution_count": 89,
     "metadata": {},
     "output_type": "execute_result"
    }
   ],
   "source": [
    "final_model_se.fit(X_train, y_train.seasonal_vaccine)"
   ]
  },
  {
   "cell_type": "code",
   "execution_count": 90,
   "metadata": {},
   "outputs": [],
   "source": [
    "predictions_se = final_model_se.predict_proba(X_test)"
   ]
  },
  {
   "cell_type": "code",
   "execution_count": 91,
   "metadata": {},
   "outputs": [],
   "source": [
    "predictions_se = predictions_se[:,1].reshape(-1,1)"
   ]
  },
  {
   "cell_type": "code",
   "execution_count": 92,
   "metadata": {},
   "outputs": [
    {
     "data": {
      "text/plain": [
       "0.8599424624638904"
      ]
     },
     "execution_count": 92,
     "metadata": {},
     "output_type": "execute_result"
    }
   ],
   "source": [
    "roc_auc_score(y_test.seasonal_vaccine, predictions_se)"
   ]
  },
  {
   "cell_type": "code",
   "execution_count": 155,
   "metadata": {},
   "outputs": [
    {
     "data": {
      "image/png": "[encoded data removed]",
      "text/plain": [
       "<Figure size 432x288 with 2 Axes>"
      ]
     },
     "metadata": {
      "needs_background": "light"
     },
     "output_type": "display_data"
    }
   ],
   "source": [
    "plot_confusion_matrix(best_model_seasonal, X_test, y_test.seasonal_vaccine)  \n",
    "plt.show();"
   ]
  },
  {
   "cell_type": "code",
   "execution_count": 85,
   "metadata": {},
   "outputs": [],
   "source": [
    "def plot_roc(y_true, y_score, label_name, ax):\n",
    "    fpr, tpr, thresholds = roc_curve(y_true, y_score)\n",
    "    ax.plot(fpr, tpr)\n",
    "    ax.plot([0, 1], [0, 1], color='grey', linestyle='--')\n",
    "    ax.set_ylabel('TPR')\n",
    "    ax.set_xlabel('FPR')\n",
    "    ax.set_title(\n",
    "        f\"{label_name}: AUC = {roc_auc_score(y_true, y_score):.4f}\"\n",
    "    )"
   ]
  },
  {
   "cell_type": "code",
   "execution_count": 156,
   "metadata": {},
   "outputs": [
    {
     "data": {
      "image/png": "[encoded data removed]",
      "text/plain": [
       "<Figure size 720x576 with 1 Axes>"
      ]
     },
     "metadata": {
      "needs_background": "light"
     },
     "output_type": "display_data"
    }
   ],
   "source": [
    "fig, ax = plt.subplots(1, 1, figsize=(10, 8))\n",
    "plot_roc(\n",
    "    y_test['seasonal_vaccine'], \n",
    "    best_pred_seasonal, \n",
    "    'seasonal_vaccine',\n",
    "    ax=ax\n",
    ")"
   ]
  },
  {
   "cell_type": "markdown",
   "metadata": {},
   "source": [
    "# Combined Score"
   ]
  },
  {
   "cell_type": "code",
   "execution_count": 94,
   "metadata": {},
   "outputs": [
    {
     "data": {
      "text/plain": [
       "0.8660641530411085"
      ]
     },
     "execution_count": 94,
     "metadata": {},
     "output_type": "execute_result"
    }
   ],
   "source": [
    "roc_auc_score(y_test, np.hstack((best_pred_h1n1, best_pred_seasonal)))"
   ]
  },
  {
   "cell_type": "markdown",
   "metadata": {},
   "source": [
    "# Training on Full Dataset"
   ]
  },
  {
   "cell_type": "code",
   "execution_count": 16,
   "metadata": {},
   "outputs": [],
   "source": [
    "test = pd.read_csv('data/test_set_features.csv', index_col='respondent_id')"
   ]
  },
  {
   "cell_type": "markdown",
   "metadata": {},
   "source": [
    "### Seasonal Vaccine"
   ]
  },
  {
   "cell_type": "code",
   "execution_count": 99,
   "metadata": {},
   "outputs": [
    {
     "data": {
      "text/plain": [
       "<catboost.core.CatBoostClassifier at 0x2db4ecd1e50>"
      ]
     },
     "execution_count": 99,
     "metadata": {},
     "output_type": "execute_result"
    }
   ],
   "source": [
    "best_model_seasonal.fit(train, labels.seasonal_vaccine)"
   ]
  },
  {
   "cell_type": "code",
   "execution_count": 100,
   "metadata": {},
   "outputs": [],
   "source": [
    "final_se = best_model_seasonal.predict_proba(test)"
   ]
  },
  {
   "cell_type": "code",
   "execution_count": 101,
   "metadata": {},
   "outputs": [],
   "source": [
    "final_se = final_se[:,1].reshape(-1,1)"
   ]
  },
  {
   "cell_type": "markdown",
   "metadata": {},
   "source": [
    "### H1N1 Vaccine"
   ]
  },
  {
   "cell_type": "code",
   "execution_count": 95,
   "metadata": {},
   "outputs": [
    {
     "data": {
      "text/plain": [
       "<catboost.core.CatBoostClassifier at 0x2db4ffaa4c0>"
      ]
     },
     "execution_count": 95,
     "metadata": {},
     "output_type": "execute_result"
    }
   ],
   "source": [
    "best_model_h1n1.fit(train, labels.h1n1_vaccine)"
   ]
  },
  {
   "cell_type": "code",
   "execution_count": 110,
   "metadata": {},
   "outputs": [],
   "source": [
    "final_h1 = best_model_h1n1.predict_proba(test)"
   ]
  },
  {
   "cell_type": "code",
   "execution_count": 111,
   "metadata": {},
   "outputs": [],
   "source": [
    "final_h1 = final_h1[:,1].reshape(-1,1)"
   ]
  },
  {
   "cell_type": "markdown",
   "metadata": {},
   "source": [
    "### For competition use"
   ]
  },
  {
   "cell_type": "code",
   "execution_count": 102,
   "metadata": {},
   "outputs": [],
   "source": [
    "submission_df = pd.read_csv('data/submission_format.csv', index_col='respondent_id')"
   ]
  },
  {
   "cell_type": "code",
   "execution_count": 103,
   "metadata": {},
   "outputs": [],
   "source": [
    "np.testing.assert_array_equal(test.index.values, submission_df.index.values)"
   ]
  },
  {
   "cell_type": "code",
   "execution_count": 104,
   "metadata": {},
   "outputs": [
    {
     "data": {
      "text/html": [
       "<div>\n",
       "<style scoped>\n",
       "    .dataframe tbody tr th:only-of-type {\n",
       "        vertical-align: middle;\n",
       "    }\n",
       "\n",
       "    .dataframe tbody tr th {\n",
       "        vertical-align: top;\n",
       "    }\n",
       "\n",
       "    .dataframe thead th {\n",
       "        text-align: right;\n",
       "    }\n",
       "</style>\n",
       "<table border=\"1\" class=\"dataframe\">\n",
       "  <thead>\n",
       "    <tr style=\"text-align: right;\">\n",
       "      <th></th>\n",
       "      <th>h1n1_vaccine</th>\n",
       "      <th>seasonal_vaccine</th>\n",
       "    </tr>\n",
       "    <tr>\n",
       "      <th>respondent_id</th>\n",
       "      <th></th>\n",
       "      <th></th>\n",
       "    </tr>\n",
       "  </thead>\n",
       "  <tbody>\n",
       "    <tr>\n",
       "      <th>26707</th>\n",
       "      <td>0.5</td>\n",
       "      <td>0.7</td>\n",
       "    </tr>\n",
       "    <tr>\n",
       "      <th>26708</th>\n",
       "      <td>0.5</td>\n",
       "      <td>0.7</td>\n",
       "    </tr>\n",
       "    <tr>\n",
       "      <th>26709</th>\n",
       "      <td>0.5</td>\n",
       "      <td>0.7</td>\n",
       "    </tr>\n",
       "    <tr>\n",
       "      <th>26710</th>\n",
       "      <td>0.5</td>\n",
       "      <td>0.7</td>\n",
       "    </tr>\n",
       "    <tr>\n",
       "      <th>26711</th>\n",
       "      <td>0.5</td>\n",
       "      <td>0.7</td>\n",
       "    </tr>\n",
       "    <tr>\n",
       "      <th>...</th>\n",
       "      <td>...</td>\n",
       "      <td>...</td>\n",
       "    </tr>\n",
       "    <tr>\n",
       "      <th>53410</th>\n",
       "      <td>0.5</td>\n",
       "      <td>0.7</td>\n",
       "    </tr>\n",
       "    <tr>\n",
       "      <th>53411</th>\n",
       "      <td>0.5</td>\n",
       "      <td>0.7</td>\n",
       "    </tr>\n",
       "    <tr>\n",
       "      <th>53412</th>\n",
       "      <td>0.5</td>\n",
       "      <td>0.7</td>\n",
       "    </tr>\n",
       "    <tr>\n",
       "      <th>53413</th>\n",
       "      <td>0.5</td>\n",
       "      <td>0.7</td>\n",
       "    </tr>\n",
       "    <tr>\n",
       "      <th>53414</th>\n",
       "      <td>0.5</td>\n",
       "      <td>0.7</td>\n",
       "    </tr>\n",
       "  </tbody>\n",
       "</table>\n",
       "<p>26708 rows × 2 columns</p>\n",
       "</div>"
      ],
      "text/plain": [
       "               h1n1_vaccine  seasonal_vaccine\n",
       "respondent_id                                \n",
       "26707                   0.5               0.7\n",
       "26708                   0.5               0.7\n",
       "26709                   0.5               0.7\n",
       "26710                   0.5               0.7\n",
       "26711                   0.5               0.7\n",
       "...                     ...               ...\n",
       "53410                   0.5               0.7\n",
       "53411                   0.5               0.7\n",
       "53412                   0.5               0.7\n",
       "53413                   0.5               0.7\n",
       "53414                   0.5               0.7\n",
       "\n",
       "[26708 rows x 2 columns]"
      ]
     },
     "execution_count": 104,
     "metadata": {},
     "output_type": "execute_result"
    }
   ],
   "source": [
    "submission_df"
   ]
  },
  {
   "cell_type": "code",
   "execution_count": 125,
   "metadata": {},
   "outputs": [
    {
     "data": {
      "text/html": [
       "<div>\n",
       "<style scoped>\n",
       "    .dataframe tbody tr th:only-of-type {\n",
       "        vertical-align: middle;\n",
       "    }\n",
       "\n",
       "    .dataframe tbody tr th {\n",
       "        vertical-align: top;\n",
       "    }\n",
       "\n",
       "    .dataframe thead th {\n",
       "        text-align: right;\n",
       "    }\n",
       "</style>\n",
       "<table border=\"1\" class=\"dataframe\">\n",
       "  <thead>\n",
       "    <tr style=\"text-align: right;\">\n",
       "      <th></th>\n",
       "      <th>h1n1_vaccine</th>\n",
       "      <th>seasonal_vaccine</th>\n",
       "    </tr>\n",
       "    <tr>\n",
       "      <th>respondent_id</th>\n",
       "      <th></th>\n",
       "      <th></th>\n",
       "    </tr>\n",
       "  </thead>\n",
       "  <tbody>\n",
       "    <tr>\n",
       "      <th>26707</th>\n",
       "      <td>0.250532</td>\n",
       "      <td>0.290644</td>\n",
       "    </tr>\n",
       "    <tr>\n",
       "      <th>26708</th>\n",
       "      <td>0.114233</td>\n",
       "      <td>0.033589</td>\n",
       "    </tr>\n",
       "    <tr>\n",
       "      <th>26709</th>\n",
       "      <td>0.457484</td>\n",
       "      <td>0.751087</td>\n",
       "    </tr>\n",
       "    <tr>\n",
       "      <th>26710</th>\n",
       "      <td>0.824761</td>\n",
       "      <td>0.907961</td>\n",
       "    </tr>\n",
       "    <tr>\n",
       "      <th>26711</th>\n",
       "      <td>0.524087</td>\n",
       "      <td>0.520178</td>\n",
       "    </tr>\n",
       "    <tr>\n",
       "      <th>26712</th>\n",
       "      <td>0.936998</td>\n",
       "      <td>0.983097</td>\n",
       "    </tr>\n",
       "    <tr>\n",
       "      <th>26713</th>\n",
       "      <td>0.556574</td>\n",
       "      <td>0.634102</td>\n",
       "    </tr>\n",
       "    <tr>\n",
       "      <th>26714</th>\n",
       "      <td>0.467515</td>\n",
       "      <td>0.160198</td>\n",
       "    </tr>\n",
       "    <tr>\n",
       "      <th>26715</th>\n",
       "      <td>0.060049</td>\n",
       "      <td>0.116216</td>\n",
       "    </tr>\n",
       "    <tr>\n",
       "      <th>26716</th>\n",
       "      <td>0.572922</td>\n",
       "      <td>0.926881</td>\n",
       "    </tr>\n",
       "    <tr>\n",
       "      <th>26717</th>\n",
       "      <td>0.031024</td>\n",
       "      <td>0.426382</td>\n",
       "    </tr>\n",
       "    <tr>\n",
       "      <th>26718</th>\n",
       "      <td>0.576790</td>\n",
       "      <td>0.606203</td>\n",
       "    </tr>\n",
       "    <tr>\n",
       "      <th>26719</th>\n",
       "      <td>0.202567</td>\n",
       "      <td>0.955507</td>\n",
       "    </tr>\n",
       "    <tr>\n",
       "      <th>26720</th>\n",
       "      <td>0.039656</td>\n",
       "      <td>0.246675</td>\n",
       "    </tr>\n",
       "    <tr>\n",
       "      <th>26721</th>\n",
       "      <td>0.604741</td>\n",
       "      <td>0.398278</td>\n",
       "    </tr>\n",
       "    <tr>\n",
       "      <th>26722</th>\n",
       "      <td>0.210298</td>\n",
       "      <td>0.133270</td>\n",
       "    </tr>\n",
       "    <tr>\n",
       "      <th>26723</th>\n",
       "      <td>0.947177</td>\n",
       "      <td>0.934584</td>\n",
       "    </tr>\n",
       "    <tr>\n",
       "      <th>26724</th>\n",
       "      <td>0.071215</td>\n",
       "      <td>0.769322</td>\n",
       "    </tr>\n",
       "    <tr>\n",
       "      <th>26725</th>\n",
       "      <td>0.011382</td>\n",
       "      <td>0.037332</td>\n",
       "    </tr>\n",
       "    <tr>\n",
       "      <th>26726</th>\n",
       "      <td>0.117563</td>\n",
       "      <td>0.040778</td>\n",
       "    </tr>\n",
       "    <tr>\n",
       "      <th>26727</th>\n",
       "      <td>0.762962</td>\n",
       "      <td>0.927986</td>\n",
       "    </tr>\n",
       "    <tr>\n",
       "      <th>26728</th>\n",
       "      <td>0.541421</td>\n",
       "      <td>0.619246</td>\n",
       "    </tr>\n",
       "    <tr>\n",
       "      <th>26729</th>\n",
       "      <td>0.425925</td>\n",
       "      <td>0.817751</td>\n",
       "    </tr>\n",
       "    <tr>\n",
       "      <th>26730</th>\n",
       "      <td>0.124829</td>\n",
       "      <td>0.170441</td>\n",
       "    </tr>\n",
       "    <tr>\n",
       "      <th>26731</th>\n",
       "      <td>0.068899</td>\n",
       "      <td>0.290543</td>\n",
       "    </tr>\n",
       "    <tr>\n",
       "      <th>26732</th>\n",
       "      <td>0.232638</td>\n",
       "      <td>0.117087</td>\n",
       "    </tr>\n",
       "    <tr>\n",
       "      <th>26733</th>\n",
       "      <td>0.994310</td>\n",
       "      <td>0.979232</td>\n",
       "    </tr>\n",
       "    <tr>\n",
       "      <th>26734</th>\n",
       "      <td>0.934698</td>\n",
       "      <td>0.403786</td>\n",
       "    </tr>\n",
       "    <tr>\n",
       "      <th>26735</th>\n",
       "      <td>0.216798</td>\n",
       "      <td>0.364677</td>\n",
       "    </tr>\n",
       "    <tr>\n",
       "      <th>26736</th>\n",
       "      <td>0.181960</td>\n",
       "      <td>0.159814</td>\n",
       "    </tr>\n",
       "    <tr>\n",
       "      <th>26737</th>\n",
       "      <td>0.138329</td>\n",
       "      <td>0.119415</td>\n",
       "    </tr>\n",
       "    <tr>\n",
       "      <th>26738</th>\n",
       "      <td>0.931022</td>\n",
       "      <td>0.920135</td>\n",
       "    </tr>\n",
       "    <tr>\n",
       "      <th>26739</th>\n",
       "      <td>0.334683</td>\n",
       "      <td>0.215123</td>\n",
       "    </tr>\n",
       "    <tr>\n",
       "      <th>26740</th>\n",
       "      <td>0.279580</td>\n",
       "      <td>0.080745</td>\n",
       "    </tr>\n",
       "    <tr>\n",
       "      <th>26741</th>\n",
       "      <td>0.180915</td>\n",
       "      <td>0.920491</td>\n",
       "    </tr>\n",
       "    <tr>\n",
       "      <th>26742</th>\n",
       "      <td>0.266201</td>\n",
       "      <td>0.426203</td>\n",
       "    </tr>\n",
       "    <tr>\n",
       "      <th>26743</th>\n",
       "      <td>0.184989</td>\n",
       "      <td>0.509484</td>\n",
       "    </tr>\n",
       "    <tr>\n",
       "      <th>26744</th>\n",
       "      <td>0.102442</td>\n",
       "      <td>0.749319</td>\n",
       "    </tr>\n",
       "    <tr>\n",
       "      <th>26745</th>\n",
       "      <td>0.077770</td>\n",
       "      <td>0.884509</td>\n",
       "    </tr>\n",
       "    <tr>\n",
       "      <th>26746</th>\n",
       "      <td>0.420012</td>\n",
       "      <td>0.350145</td>\n",
       "    </tr>\n",
       "    <tr>\n",
       "      <th>26747</th>\n",
       "      <td>0.153663</td>\n",
       "      <td>0.152056</td>\n",
       "    </tr>\n",
       "    <tr>\n",
       "      <th>26748</th>\n",
       "      <td>0.260326</td>\n",
       "      <td>0.062388</td>\n",
       "    </tr>\n",
       "    <tr>\n",
       "      <th>26749</th>\n",
       "      <td>0.236475</td>\n",
       "      <td>0.777763</td>\n",
       "    </tr>\n",
       "    <tr>\n",
       "      <th>26750</th>\n",
       "      <td>0.738968</td>\n",
       "      <td>0.864957</td>\n",
       "    </tr>\n",
       "    <tr>\n",
       "      <th>26751</th>\n",
       "      <td>0.772537</td>\n",
       "      <td>0.834631</td>\n",
       "    </tr>\n",
       "    <tr>\n",
       "      <th>26752</th>\n",
       "      <td>0.258349</td>\n",
       "      <td>0.089362</td>\n",
       "    </tr>\n",
       "    <tr>\n",
       "      <th>26753</th>\n",
       "      <td>0.591453</td>\n",
       "      <td>0.677712</td>\n",
       "    </tr>\n",
       "    <tr>\n",
       "      <th>26754</th>\n",
       "      <td>0.287918</td>\n",
       "      <td>0.581018</td>\n",
       "    </tr>\n",
       "    <tr>\n",
       "      <th>26755</th>\n",
       "      <td>0.280603</td>\n",
       "      <td>0.484098</td>\n",
       "    </tr>\n",
       "    <tr>\n",
       "      <th>26756</th>\n",
       "      <td>0.044895</td>\n",
       "      <td>0.028939</td>\n",
       "    </tr>\n",
       "  </tbody>\n",
       "</table>\n",
       "</div>"
      ],
      "text/plain": [
       "               h1n1_vaccine  seasonal_vaccine\n",
       "respondent_id                                \n",
       "26707              0.250532          0.290644\n",
       "26708              0.114233          0.033589\n",
       "26709              0.457484          0.751087\n",
       "26710              0.824761          0.907961\n",
       "26711              0.524087          0.520178\n",
       "26712              0.936998          0.983097\n",
       "26713              0.556574          0.634102\n",
       "26714              0.467515          0.160198\n",
       "26715              0.060049          0.116216\n",
       "26716              0.572922          0.926881\n",
       "26717              0.031024          0.426382\n",
       "26718              0.576790          0.606203\n",
       "26719              0.202567          0.955507\n",
       "26720              0.039656          0.246675\n",
       "26721              0.604741          0.398278\n",
       "26722              0.210298          0.133270\n",
       "26723              0.947177          0.934584\n",
       "26724              0.071215          0.769322\n",
       "26725              0.011382          0.037332\n",
       "26726              0.117563          0.040778\n",
       "26727              0.762962          0.927986\n",
       "26728              0.541421          0.619246\n",
       "26729              0.425925          0.817751\n",
       "26730              0.124829          0.170441\n",
       "26731              0.068899          0.290543\n",
       "26732              0.232638          0.117087\n",
       "26733              0.994310          0.979232\n",
       "26734              0.934698          0.403786\n",
       "26735              0.216798          0.364677\n",
       "26736              0.181960          0.159814\n",
       "26737              0.138329          0.119415\n",
       "26738              0.931022          0.920135\n",
       "26739              0.334683          0.215123\n",
       "26740              0.279580          0.080745\n",
       "26741              0.180915          0.920491\n",
       "26742              0.266201          0.426203\n",
       "26743              0.184989          0.509484\n",
       "26744              0.102442          0.749319\n",
       "26745              0.077770          0.884509\n",
       "26746              0.420012          0.350145\n",
       "26747              0.153663          0.152056\n",
       "26748              0.260326          0.062388\n",
       "26749              0.236475          0.777763\n",
       "26750              0.738968          0.864957\n",
       "26751              0.772537          0.834631\n",
       "26752              0.258349          0.089362\n",
       "26753              0.591453          0.677712\n",
       "26754              0.287918          0.581018\n",
       "26755              0.280603          0.484098\n",
       "26756              0.044895          0.028939"
      ]
     },
     "execution_count": 125,
     "metadata": {},
     "output_type": "execute_result"
    }
   ],
   "source": [
    "submission_df[\"h1n1_vaccine\"] = final_h1\n",
    "submission_df[\"seasonal_vaccine\"] = final_se\n",
    "\n",
    "submission_df.head(50)"
   ]
  },
  {
   "cell_type": "code",
   "execution_count": 106,
   "metadata": {},
   "outputs": [],
   "source": [
    "date = pd.Timestamp.now().strftime(format='%Y-%m-%d_%H-%M_')\n",
    "submission_df.to_csv(f'./{date}submssion_catboost_optuna.csv', index=True)"
   ]
  },
  {
   "cell_type": "code",
   "execution_count": 153,
   "metadata": {},
   "outputs": [],
   "source": [
    "import pickle\n",
    "filepath = 'data/models/Catboost_Optuna/h1n1/model_1.pickl'\n",
    "pickle.dump(best_model_h1n1, open(filepath, 'wb'))"
   ]
  },
  {
   "cell_type": "code",
   "execution_count": 154,
   "metadata": {},
   "outputs": [],
   "source": [
    "filepath = 'data/models/Catboost_Optuna/seasonal/model_1.pickl'\n",
    "pickle.dump(best_model_seasonal, open(filepath, 'wb'))"
   ]
  },
  {
   "cell_type": "code",
   "execution_count": 133,
   "metadata": {},
   "outputs": [
    {
     "data": {
      "image/png": "[encoded data removed]",
      "text/plain": [
       "<Figure size 1152x648 with 1 Axes>"
      ]
     },
     "metadata": {
      "needs_background": "light"
     },
     "output_type": "display_data"
    }
   ],
   "source": [
    "from sklearn.inspection import permutation_importance\n",
    "result = permutation_importance(\n",
    "    best_model_h1n1, X_test, y_test.h1n1_vaccine, n_repeats=10, random_state=42, n_jobs=2\n",
    ")\n",
    "sorted_idx = result.importances_mean.argsort()\n",
    "fig, ax = plt.subplots(figsize=(16,9))\n",
    "ax.boxplot(\n",
    "    result.importances[sorted_idx].T, vert=False, labels=X_test.columns[sorted_idx]\n",
    ")\n",
    "ax.set_title(\"Permutation Importances H1N1 (test set)\")\n",
    "fig.tight_layout()\n",
    "plt.show();"
   ]
  },
  {
   "cell_type": "code",
   "execution_count": 132,
   "metadata": {},
   "outputs": [
    {
     "data": {
      "image/png": "[encoded data removed]",
      "text/plain": [
       "<Figure size 1152x648 with 1 Axes>"
      ]
     },
     "metadata": {
      "needs_background": "light"
     },
     "output_type": "display_data"
    }
   ],
   "source": [
    "result = permutation_importance(\n",
    "    best_model_seasonal, X_test, y_test.seasonal_vaccine, n_repeats=10, random_state=42, n_jobs=2\n",
    ")\n",
    "sorted_idx = result.importances_mean.argsort()\n",
    "fig, ax = plt.subplots(figsize=(16,9))\n",
    "ax.boxplot(\n",
    "    result.importances[sorted_idx].T, vert=False, labels=X_test.columns[sorted_idx]\n",
    ")\n",
    "ax.set_title(\"Permutation Importances Seasonal (test set)\")\n",
    "fig.tight_layout()\n",
    "plt.show();"
   ]
  },
  {
   "cell_type": "code",
   "execution_count": 137,
   "metadata": {},
   "outputs": [
    {
     "data": {
      "text/plain": [
       "array([[0.25053203],\n",
       "       [0.1142332 ],\n",
       "       [0.45748366],\n",
       "       ...,\n",
       "       [0.35376134],\n",
       "       [0.04398293],\n",
       "       [0.83337339]])"
      ]
     },
     "execution_count": 137,
     "metadata": {},
     "output_type": "execute_result"
    }
   ],
   "source": [
    "final_h1"
   ]
  },
  {
   "cell_type": "code",
   "execution_count": 138,
   "metadata": {},
   "outputs": [
    {
     "data": {
      "text/plain": [
       "respondent_id\n",
       "2653     0\n",
       "9506     0\n",
       "23107    0\n",
       "22648    0\n",
       "25589    1\n",
       "        ..\n",
       "6273     0\n",
       "9671     0\n",
       "1301     0\n",
       "21048    1\n",
       "17388    0\n",
       "Name: h1n1_vaccine, Length: 8013, dtype: int64"
      ]
     },
     "execution_count": 138,
     "metadata": {},
     "output_type": "execute_result"
    }
   ],
   "source": [
    "y_test.h1n1_vaccine"
   ]
  },
  {
   "cell_type": "code",
   "execution_count": 145,
   "metadata": {},
   "outputs": [
    {
     "name": "stdout",
     "output_type": "stream",
     "text": [
      "ROC AUC 0.871348996570191\n"
     ]
    }
   ],
   "source": [
    "y_score=best_pred_h1n1\n",
    "fpr, tpr,_ = roc_curve(y_test.h1n1_vaccine, y_score)\n",
    "roc_auc = auc(fpr, tpr)\n",
    "print('ROC AUC',roc_auc)"
   ]
  },
  {
   "cell_type": "code",
   "execution_count": 146,
   "metadata": {},
   "outputs": [
    {
     "data": {
      "image/png": "[encoded data removed]",
      "text/plain": [
       "<Figure size 432x288 with 1 Axes>"
      ]
     },
     "metadata": {
      "needs_background": "light"
     },
     "output_type": "display_data"
    }
   ],
   "source": [
    "plt.figure()\n",
    "lw = 2\n",
    "plt.plot(\n",
    "    fpr,\n",
    "    tpr,\n",
    "    color=\"darkorange\",\n",
    "    lw=lw,\n",
    "    label=\"ROC curve (area = %0.2f)\" % roc_auc,\n",
    ")\n",
    "plt.plot([0, 1], [0, 1], color=\"navy\", lw=lw, linestyle=\"--\")\n",
    "plt.xlim([0.0, 1.0])\n",
    "plt.ylim([0.0, 1.05])\n",
    "plt.xlabel(\"False Positive Rate\")\n",
    "plt.ylabel(\"True Positive Rate\")\n",
    "plt.title(\"H1N1 Vaccine ROC/AUC\")\n",
    "plt.legend(loc=\"lower right\")\n",
    "plt.show()"
   ]
  },
  {
   "cell_type": "code",
   "execution_count": 147,
   "metadata": {},
   "outputs": [
    {
     "name": "stdout",
     "output_type": "stream",
     "text": [
      "ROC AUC 0.860779309512026\n"
     ]
    }
   ],
   "source": [
    "y_score2=best_pred_seasonal\n",
    "fpr, tpr,_ = roc_curve(y_test.seasonal_vaccine, y_score2)\n",
    "roc_auc = auc(fpr, tpr)\n",
    "print('ROC AUC',roc_auc)"
   ]
  },
  {
   "cell_type": "code",
   "execution_count": 148,
   "metadata": {},
   "outputs": [
    {
     "data": {
      "image/png": "[encoded data removed]",
      "text/plain": [
       "<Figure size 432x288 with 1 Axes>"
      ]
     },
     "metadata": {
      "needs_background": "light"
     },
     "output_type": "display_data"
    }
   ],
   "source": [
    "plt.figure()\n",
    "lw = 2\n",
    "plt.plot(\n",
    "    fpr,\n",
    "    tpr,\n",
    "    color=\"darkorange\",\n",
    "    lw=lw,\n",
    "    label=\"ROC curve (area = %0.2f)\" % roc_auc,\n",
    ")\n",
    "plt.plot([0, 1], [0, 1], color=\"navy\", lw=lw, linestyle=\"--\")\n",
    "plt.xlim([0.0, 1.0])\n",
    "plt.ylim([0.0, 1.05])\n",
    "plt.xlabel(\"False Positive Rate\")\n",
    "plt.ylabel(\"True Positive Rate\")\n",
    "plt.title(\"Seasonal Vaccine ROC/AUC\")\n",
    "plt.legend(loc=\"lower right\")\n",
    "plt.show()"
   ]
  },
  {
   "cell_type": "code",
   "execution_count": 167,
   "metadata": {},
   "outputs": [
    {
     "data": {
      "text/plain": [
       "array([[0.15523741],\n",
       "       [0.15743683],\n",
       "       [0.12133563],\n",
       "       ...,\n",
       "       [0.33924607],\n",
       "       [0.92281253],\n",
       "       [0.78266811]])"
      ]
     },
     "execution_count": 167,
     "metadata": {},
     "output_type": "execute_result"
    }
   ],
   "source": [
    "best_pred_h1n1"
   ]
  },
  {
   "cell_type": "code",
   "execution_count": 172,
   "metadata": {},
   "outputs": [
    {
     "name": "stdout",
     "output_type": "stream",
     "text": [
      "              precision    recall  f1-score   support\n",
      "\n",
      "           0       0.96      0.84      0.89      6319\n",
      "           1       0.59      0.85      0.70      1694\n",
      "\n",
      "    accuracy                           0.84      8013\n",
      "   macro avg       0.77      0.85      0.80      8013\n",
      "weighted avg       0.88      0.84      0.85      8013\n",
      "\n"
     ]
    }
   ],
   "source": [
    "from sklearn.metrics import classification_report\n",
    "print(classification_report(y_test.h1n1_vaccine, best_h1n1))"
   ]
  },
  {
   "cell_type": "code",
   "execution_count": 170,
   "metadata": {},
   "outputs": [],
   "source": [
    "best_h1n1 = best_model_h1n1.predict(X_test)"
   ]
  },
  {
   "cell_type": "code",
   "execution_count": 171,
   "metadata": {},
   "outputs": [
    {
     "data": {
      "text/plain": [
       "array([0, 0, 0, ..., 0, 1, 1], dtype=int64)"
      ]
     },
     "execution_count": 171,
     "metadata": {},
     "output_type": "execute_result"
    }
   ],
   "source": [
    "best_h1n1"
   ]
  },
  {
   "cell_type": "code",
   "execution_count": 173,
   "metadata": {},
   "outputs": [],
   "source": [
    "best_seasonal = best_model_seasonal.predict(X_test)"
   ]
  },
  {
   "cell_type": "code",
   "execution_count": 174,
   "metadata": {},
   "outputs": [
    {
     "name": "stdout",
     "output_type": "stream",
     "text": [
      "              precision    recall  f1-score   support\n",
      "\n",
      "           0       0.84      0.82      0.83      4270\n",
      "           1       0.80      0.83      0.82      3743\n",
      "\n",
      "    accuracy                           0.82      8013\n",
      "   macro avg       0.82      0.82      0.82      8013\n",
      "weighted avg       0.83      0.82      0.82      8013\n",
      "\n"
     ]
    }
   ],
   "source": [
    "print(classification_report(y_test.seasonal_vaccine, best_seasonal))"
   ]
  },
  {
   "cell_type": "code",
   "execution_count": null,
   "metadata": {},
   "outputs": [],
   "source": []
  }
 ],
 "metadata": {
  "kernelspec": {
   "display_name": "Python (learn-env)",
   "language": "python",
   "name": "learn-env"
  },
  "language_info": {
   "codemirror_mode": {
    "name": "ipython",
    "version": 3
   },
   "file_extension": ".py",
   "mimetype": "text/x-python",
   "name": "python",
   "nbconvert_exporter": "python",
   "pygments_lexer": "ipython3",
   "version": "3.8.5"
  }
 },
 "nbformat": 4,
 "nbformat_minor": 4
}
