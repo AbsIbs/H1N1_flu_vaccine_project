{
 "cells": [
  {
   "cell_type": "markdown",
   "metadata": {},
   "source": [
    "# Imports"
   ]
  },
  {
   "cell_type": "code",
   "execution_count": 25,
   "metadata": {},
   "outputs": [],
   "source": [
    "import pandas as pd\n",
    "import matplotlib\n",
    "matplotlib.use('TkAgg')\n",
    "import matplotlib.pyplot as plt\n",
    "import seaborn as sns\n",
    "from sklearn.pipeline import Pipeline\n",
    "import numpy as np\n",
    "%matplotlib inline"
   ]
  },
  {
   "cell_type": "code",
   "execution_count": 3,
   "metadata": {},
   "outputs": [],
   "source": [
    "from sklearn.impute import SimpleImputer\n",
    "from sklearn.preprocessing import StandardScaler\n",
    "from sklearn.preprocessing import MinMaxScaler\n",
    "from sklearn.preprocessing import OneHotEncoder\n",
    "from sklearn.compose import ColumnTransformer"
   ]
  },
  {
   "cell_type": "code",
   "execution_count": 4,
   "metadata": {},
   "outputs": [],
   "source": [
    "from sklearn.model_selection import train_test_split\n",
    "from sklearn.model_selection import cross_val_score\n",
    "from sklearn.metrics import accuracy_score, recall_score, f1_score, precision_score\n",
    "from sklearn.metrics import roc_auc_score\n",
    "from sklearn.metrics import plot_confusion_matrix\n",
    "from sklearn.metrics import plot_roc_curve\n",
    "from sklearn.metrics import roc_curve, auc"
   ]
  },
  {
   "cell_type": "code",
   "execution_count": 5,
   "metadata": {},
   "outputs": [],
   "source": [
    "from catboost import CatBoostClassifier\n",
    "from catboost import Pool, cv\n",
    "import optuna\n",
    "import pandas_profiling as pp"
   ]
  },
  {
   "cell_type": "markdown",
   "metadata": {},
   "source": [
    "# Load Data"
   ]
  },
  {
   "cell_type": "code",
   "execution_count": 6,
   "metadata": {},
   "outputs": [],
   "source": [
    "train = pd.read_csv('data/training_set_features.csv', index_col='respondent_id')"
   ]
  },
  {
   "cell_type": "code",
   "execution_count": 7,
   "metadata": {},
   "outputs": [],
   "source": [
    "labels = pd.read_csv('data/training_set_labels.csv', index_col='respondent_id')"
   ]
  },
  {
   "cell_type": "code",
   "execution_count": 8,
   "metadata": {},
   "outputs": [],
   "source": [
    "num_cols = train.select_dtypes('number').columns"
   ]
  },
  {
   "cell_type": "code",
   "execution_count": 9,
   "metadata": {},
   "outputs": [],
   "source": [
    "cat_cols = ['race', 'sex', 'marital_status', 'rent_or_own',  'hhs_geo_region','census_msa', 'employment_industry', 'employment_occupation']"
   ]
  },
  {
   "cell_type": "code",
   "execution_count": 10,
   "metadata": {},
   "outputs": [],
   "source": [
    "ord_cols = ['age_group', 'education',  'income_poverty','employment_status']"
   ]
  },
  {
   "cell_type": "markdown",
   "metadata": {},
   "source": [
    "# Cleaning Data"
   ]
  },
  {
   "cell_type": "code",
   "execution_count": 11,
   "metadata": {},
   "outputs": [],
   "source": [
    "for col in (cat_cols+ord_cols):\n",
    "    train[col] = train[col].fillna(value='None')"
   ]
  },
  {
   "cell_type": "code",
   "execution_count": 12,
   "metadata": {},
   "outputs": [],
   "source": [
    "for col in num_cols:\n",
    "    train[col] = train[col].fillna(value=-1)"
   ]
  },
  {
   "cell_type": "code",
   "execution_count": 44,
   "metadata": {},
   "outputs": [],
   "source": [
    "for col in (cat_cols+ord_cols):\n",
    "    test[col] = test[col].fillna(value='None')"
   ]
  },
  {
   "cell_type": "code",
   "execution_count": 45,
   "metadata": {},
   "outputs": [],
   "source": [
    "for col in num_cols:\n",
    "    test[col] = test[col].fillna(value=-1)"
   ]
  },
  {
   "cell_type": "markdown",
   "metadata": {},
   "source": [
    "# Train Test Split"
   ]
  },
  {
   "cell_type": "code",
   "execution_count": 13,
   "metadata": {},
   "outputs": [],
   "source": [
    "X_train, X_test, y_train, y_test = train_test_split(train, labels, random_state=10)"
   ]
  },
  {
   "cell_type": "markdown",
   "metadata": {},
   "source": [
    "# Optuna Optimization with Cross Validation"
   ]
  },
  {
   "cell_type": "code",
   "execution_count": 14,
   "metadata": {},
   "outputs": [
    {
     "data": {
      "text/plain": [
       "array([21, 22, 23, 24, 25, 26, 27, 28, 29, 30, 33, 34], dtype=int64)"
      ]
     },
     "execution_count": 14,
     "metadata": {},
     "output_type": "execute_result"
    }
   ],
   "source": [
    "categorical_features_indices = np.where(X_train.dtypes != np.float)[0]\n",
    "categorical_features_indices"
   ]
  },
  {
   "cell_type": "code",
   "execution_count": 15,
   "metadata": {},
   "outputs": [],
   "source": [
    "train_dataset = Pool(data=X_train,\n",
    "                     label=y_train.h1n1_vaccine,\n",
    "                     cat_features = categorical_features_indices)"
   ]
  },
  {
   "cell_type": "markdown",
   "metadata": {},
   "source": [
    "### H1N1 Vaccine"
   ]
  },
  {
   "cell_type": "code",
   "execution_count": 16,
   "metadata": {},
   "outputs": [],
   "source": [
    "def objective(trial):\n",
    "    param = {\n",
    "        'iterations':trial.suggest_categorical('iterations', [300,500,1000,1200,1500]),\n",
    "        'learning_rate':trial.suggest_float('learning_rate', 0.001, 0.3),\n",
    "        'random_strength':trial.suggest_int('random_strength', 1,10),\n",
    "        'bagging_temperature':trial.suggest_int('bagging_temperature', 0,10),\n",
    "        'max_bin':trial.suggest_categorical('max_bin', [4,5,6,8,10]),\n",
    "        'grow_policy':trial.suggest_categorical('grow_policy', ['SymmetricTree']),\n",
    "        'od_type' : \"Iter\",\n",
    "        'od_wait' : 100,\n",
    "        'depth': trial.suggest_int('max_depth', 2,10),\n",
    "        'l2_leaf_reg': trial.suggest_loguniform('l2_leaf_reg', 1e-8, 100),\n",
    "        'one_hot_max_size':trial.suggest_categorical('one_hot_max_size', [5,10,12,100,500,1024]),\n",
    "        'custom_metric' : ['AUC'],\n",
    "        'loss_function': 'Logloss',\n",
    "        'auto_class_weights':trial.suggest_categorical('auto_class_weights', ['Balanced']),\n",
    "        }\n",
    "\n",
    "    scores = cv(train_dataset,\n",
    "            param,\n",
    "            fold_count=5, \n",
    "            early_stopping_rounds=10,         \n",
    "            plot=True, verbose=False)\n",
    "\n",
    "    return scores['test-AUC-mean'].max()"
   ]
  },
  {
   "cell_type": "code",
   "execution_count": 53,
   "metadata": {
    "scrolled": true
   },
   "outputs": [
    {
     "name": "stderr",
     "output_type": "stream",
     "text": [
      "\u001b[32m[I 2022-01-26 14:54:40,287]\u001b[0m A new study created in memory with name: no-name-b2973642-f79c-43bc-b257-5d14a8bfae7e\u001b[0m\n"
     ]
    },
    {
     "data": {
      "application/vnd.jupyter.widget-view+json": {
       "model_id": "a2148eb1a11c4c4bafaeaf7a653fa42b",
       "version_major": 2,
       "version_minor": 0
      },
      "text/plain": [
       "MetricVisualizer(layout=Layout(align_self='stretch', height='500px'))"
      ]
     },
     "metadata": {},
     "output_type": "display_data"
    },
    {
     "name": "stdout",
     "output_type": "stream",
     "text": [
      "Training on fold [0/5]\n",
      "\n",
      "bestTest = 0.4624059674\n",
      "bestIteration = 127\n",
      "\n",
      "Training on fold [1/5]\n",
      "\n",
      "bestTest = 0.4775285429\n",
      "bestIteration = 134\n",
      "\n",
      "Training on fold [2/5]\n",
      "\n",
      "bestTest = 0.4668221764\n",
      "bestIteration = 152\n",
      "\n",
      "Training on fold [3/5]\n",
      "\n",
      "bestTest = 0.4690573884\n",
      "bestIteration = 108\n",
      "\n",
      "Training on fold [4/5]\n"
     ]
    },
    {
     "name": "stderr",
     "output_type": "stream",
     "text": [
      "\u001b[32m[I 2022-01-26 14:55:23,780]\u001b[0m Trial 0 finished with value: 0.8612385183893709 and parameters: {'iterations': 1500, 'learning_rate': 0.08961999953042239, 'random_strength': 9, 'bagging_temperature': 1, 'max_bin': 10, 'grow_policy': 'SymmetricTree', 'max_depth': 6, 'l2_leaf_reg': 0.0011812125446097113, 'one_hot_max_size': 5, 'auto_class_weights': 'Balanced'}. Best is trial 0 with value: 0.8612385183893709.\u001b[0m\n"
     ]
    },
    {
     "name": "stdout",
     "output_type": "stream",
     "text": [
      "\n",
      "bestTest = 0.4508873272\n",
      "bestIteration = 167\n",
      "\n"
     ]
    },
    {
     "data": {
      "application/vnd.jupyter.widget-view+json": {
       "model_id": "2e7749ce44c340e5ad2f191279807e45",
       "version_major": 2,
       "version_minor": 0
      },
      "text/plain": [
       "MetricVisualizer(layout=Layout(align_self='stretch', height='500px'))"
      ]
     },
     "metadata": {},
     "output_type": "display_data"
    },
    {
     "name": "stdout",
     "output_type": "stream",
     "text": [
      "Training on fold [0/5]\n",
      "\n",
      "bestTest = 0.459367151\n",
      "bestIteration = 78\n",
      "\n",
      "Training on fold [1/5]\n",
      "\n",
      "bestTest = 0.4672221176\n",
      "bestIteration = 85\n",
      "\n",
      "Training on fold [2/5]\n",
      "\n",
      "bestTest = 0.4627921364\n",
      "bestIteration = 72\n",
      "\n",
      "Training on fold [3/5]\n",
      "\n",
      "bestTest = 0.4569278772\n",
      "bestIteration = 117\n",
      "\n",
      "Training on fold [4/5]\n"
     ]
    },
    {
     "name": "stderr",
     "output_type": "stream",
     "text": [
      "\u001b[32m[I 2022-01-26 14:55:26,183]\u001b[0m Trial 1 finished with value: 0.8644927244952644 and parameters: {'iterations': 1000, 'learning_rate': 0.2957047309441607, 'random_strength': 8, 'bagging_temperature': 6, 'max_bin': 8, 'grow_policy': 'SymmetricTree', 'max_depth': 2, 'l2_leaf_reg': 0.001354720669824658, 'one_hot_max_size': 100, 'auto_class_weights': 'Balanced'}. Best is trial 1 with value: 0.8644927244952644.\u001b[0m\n"
     ]
    },
    {
     "name": "stdout",
     "output_type": "stream",
     "text": [
      "\n",
      "bestTest = 0.4510511681\n",
      "bestIteration = 108\n",
      "\n"
     ]
    },
    {
     "data": {
      "application/vnd.jupyter.widget-view+json": {
       "model_id": "a9c3e72b7db5487e82508038a014e5d0",
       "version_major": 2,
       "version_minor": 0
      },
      "text/plain": [
       "MetricVisualizer(layout=Layout(align_self='stretch', height='500px'))"
      ]
     },
     "metadata": {},
     "output_type": "display_data"
    },
    {
     "name": "stdout",
     "output_type": "stream",
     "text": [
      "Training on fold [0/5]\n",
      "\n",
      "bestTest = 0.4609578114\n",
      "bestIteration = 178\n",
      "\n",
      "Training on fold [1/5]\n",
      "\n",
      "bestTest = 0.4665927869\n",
      "bestIteration = 246\n",
      "\n",
      "Training on fold [2/5]\n",
      "\n",
      "bestTest = 0.460579581\n",
      "bestIteration = 205\n",
      "\n",
      "Training on fold [3/5]\n",
      "\n",
      "bestTest = 0.455257906\n",
      "bestIteration = 284\n",
      "\n",
      "Training on fold [4/5]\n"
     ]
    },
    {
     "name": "stderr",
     "output_type": "stream",
     "text": [
      "\u001b[32m[I 2022-01-26 14:55:31,247]\u001b[0m Trial 2 finished with value: 0.8653443572136345 and parameters: {'iterations': 1200, 'learning_rate': 0.1371525795360902, 'random_strength': 8, 'bagging_temperature': 10, 'max_bin': 8, 'grow_policy': 'SymmetricTree', 'max_depth': 2, 'l2_leaf_reg': 0.0048185425547954824, 'one_hot_max_size': 500, 'auto_class_weights': 'Balanced'}. Best is trial 2 with value: 0.8653443572136345.\u001b[0m\n"
     ]
    },
    {
     "name": "stdout",
     "output_type": "stream",
     "text": [
      "\n",
      "bestTest = 0.449651354\n",
      "bestIteration = 225\n",
      "\n"
     ]
    },
    {
     "data": {
      "application/vnd.jupyter.widget-view+json": {
       "model_id": "03591a32de2d4016947e35fdc4be26dc",
       "version_major": 2,
       "version_minor": 0
      },
      "text/plain": [
       "MetricVisualizer(layout=Layout(align_self='stretch', height='500px'))"
      ]
     },
     "metadata": {},
     "output_type": "display_data"
    },
    {
     "name": "stdout",
     "output_type": "stream",
     "text": [
      "Training on fold [0/5]\n",
      "\n",
      "bestTest = 0.4939262136\n",
      "bestIteration = 102\n",
      "\n",
      "Training on fold [1/5]\n",
      "\n",
      "bestTest = 0.5020594822\n",
      "bestIteration = 117\n",
      "\n",
      "Training on fold [2/5]\n",
      "\n",
      "bestTest = 0.4873110976\n",
      "bestIteration = 99\n",
      "\n",
      "Training on fold [3/5]\n",
      "\n",
      "bestTest = 0.5016280756\n",
      "bestIteration = 118\n",
      "\n",
      "Training on fold [4/5]\n"
     ]
    },
    {
     "name": "stderr",
     "output_type": "stream",
     "text": [
      "\u001b[32m[I 2022-01-26 14:56:21,016]\u001b[0m Trial 3 finished with value: 0.8479749358772916 and parameters: {'iterations': 300, 'learning_rate': 0.026623822549052163, 'random_strength': 10, 'bagging_temperature': 7, 'max_bin': 6, 'grow_policy': 'SymmetricTree', 'max_depth': 10, 'l2_leaf_reg': 1.9008463722440555e-07, 'one_hot_max_size': 10, 'auto_class_weights': 'Balanced'}. Best is trial 2 with value: 0.8653443572136345.\u001b[0m\n"
     ]
    },
    {
     "name": "stdout",
     "output_type": "stream",
     "text": [
      "\n",
      "bestTest = 0.4912932762\n",
      "bestIteration = 129\n",
      "\n"
     ]
    },
    {
     "data": {
      "application/vnd.jupyter.widget-view+json": {
       "model_id": "8a9acb82a072446d99567cb2307102be",
       "version_major": 2,
       "version_minor": 0
      },
      "text/plain": [
       "MetricVisualizer(layout=Layout(align_self='stretch', height='500px'))"
      ]
     },
     "metadata": {},
     "output_type": "display_data"
    },
    {
     "name": "stdout",
     "output_type": "stream",
     "text": [
      "Training on fold [0/5]\n",
      "\n",
      "bestTest = 0.4679420296\n",
      "bestIteration = 869\n",
      "\n",
      "Training on fold [1/5]\n",
      "\n",
      "bestTest = 0.4768177701\n",
      "bestIteration = 999\n",
      "\n",
      "Training on fold [2/5]\n",
      "\n",
      "bestTest = 0.471796305\n",
      "bestIteration = 905\n",
      "\n",
      "Training on fold [3/5]\n",
      "\n",
      "bestTest = 0.4690560757\n",
      "bestIteration = 999\n",
      "\n",
      "Training on fold [4/5]\n",
      "\n",
      "bestTest = 0.459017201\n",
      "bestIteration = 999\n",
      "\n"
     ]
    },
    {
     "name": "stderr",
     "output_type": "stream",
     "text": [
      "\u001b[32m[I 2022-01-26 14:56:56,319]\u001b[0m Trial 4 finished with value: 0.8615670251294348 and parameters: {'iterations': 1000, 'learning_rate': 0.007101034052723374, 'random_strength': 6, 'bagging_temperature': 2, 'max_bin': 5, 'grow_policy': 'SymmetricTree', 'max_depth': 6, 'l2_leaf_reg': 0.005827202489296445, 'one_hot_max_size': 500, 'auto_class_weights': 'Balanced'}. Best is trial 2 with value: 0.8653443572136345.\u001b[0m\n"
     ]
    },
    {
     "data": {
      "application/vnd.jupyter.widget-view+json": {
       "model_id": "29bedc3da3a5424699649590e695b66e",
       "version_major": 2,
       "version_minor": 0
      },
      "text/plain": [
       "MetricVisualizer(layout=Layout(align_self='stretch', height='500px'))"
      ]
     },
     "metadata": {},
     "output_type": "display_data"
    },
    {
     "name": "stdout",
     "output_type": "stream",
     "text": [
      "Training on fold [0/5]\n",
      "\n",
      "bestTest = 0.4592573359\n",
      "bestIteration = 73\n",
      "\n",
      "Training on fold [1/5]\n",
      "\n",
      "bestTest = 0.4679461033\n",
      "bestIteration = 77\n",
      "\n",
      "Training on fold [2/5]\n",
      "\n",
      "bestTest = 0.4623240356\n",
      "bestIteration = 90\n",
      "\n",
      "Training on fold [3/5]\n",
      "\n",
      "bestTest = 0.4566058998\n",
      "bestIteration = 96\n",
      "\n",
      "Training on fold [4/5]\n"
     ]
    },
    {
     "name": "stderr",
     "output_type": "stream",
     "text": [
      "\u001b[32m[I 2022-01-26 14:56:58,587]\u001b[0m Trial 5 finished with value: 0.8646097366870045 and parameters: {'iterations': 1500, 'learning_rate': 0.2964430813582234, 'random_strength': 2, 'bagging_temperature': 9, 'max_bin': 10, 'grow_policy': 'SymmetricTree', 'max_depth': 2, 'l2_leaf_reg': 1.7622702261668875e-07, 'one_hot_max_size': 100, 'auto_class_weights': 'Balanced'}. Best is trial 2 with value: 0.8653443572136345.\u001b[0m\n"
     ]
    },
    {
     "name": "stdout",
     "output_type": "stream",
     "text": [
      "\n",
      "bestTest = 0.4464591106\n",
      "bestIteration = 137\n",
      "\n"
     ]
    },
    {
     "data": {
      "application/vnd.jupyter.widget-view+json": {
       "model_id": "1b2135b0b3c64a55b898f6ba793007c4",
       "version_major": 2,
       "version_minor": 0
      },
      "text/plain": [
       "MetricVisualizer(layout=Layout(align_self='stretch', height='500px'))"
      ]
     },
     "metadata": {},
     "output_type": "display_data"
    },
    {
     "name": "stdout",
     "output_type": "stream",
     "text": [
      "Training on fold [0/5]\n",
      "\n",
      "bestTest = 0.4560488489\n",
      "bestIteration = 54\n",
      "\n",
      "Training on fold [1/5]\n",
      "\n",
      "bestTest = 0.4651861607\n",
      "bestIteration = 78\n",
      "\n",
      "Training on fold [2/5]\n",
      "\n",
      "bestTest = 0.4527406763\n",
      "bestIteration = 66\n",
      "\n",
      "Training on fold [3/5]\n",
      "\n",
      "bestTest = 0.450974487\n",
      "bestIteration = 79\n",
      "\n",
      "Training on fold [4/5]\n"
     ]
    },
    {
     "name": "stderr",
     "output_type": "stream",
     "text": [
      "\u001b[32m[I 2022-01-26 14:57:21,715]\u001b[0m Trial 6 finished with value: 0.86833548032738 and parameters: {'iterations': 300, 'learning_rate': 0.22423670437233847, 'random_strength': 6, 'bagging_temperature': 2, 'max_bin': 10, 'grow_policy': 'SymmetricTree', 'max_depth': 6, 'l2_leaf_reg': 23.41661191676168, 'one_hot_max_size': 5, 'auto_class_weights': 'Balanced'}. Best is trial 6 with value: 0.86833548032738.\u001b[0m\n"
     ]
    },
    {
     "name": "stdout",
     "output_type": "stream",
     "text": [
      "\n",
      "bestTest = 0.4430639459\n",
      "bestIteration = 66\n",
      "\n"
     ]
    },
    {
     "data": {
      "application/vnd.jupyter.widget-view+json": {
       "model_id": "1d9f856aa85444c3a94abc88bc9bf76c",
       "version_major": 2,
       "version_minor": 0
      },
      "text/plain": [
       "MetricVisualizer(layout=Layout(align_self='stretch', height='500px'))"
      ]
     },
     "metadata": {},
     "output_type": "display_data"
    },
    {
     "name": "stdout",
     "output_type": "stream",
     "text": [
      "Training on fold [0/5]\n",
      "\n",
      "bestTest = 0.5222214319\n",
      "bestIteration = 16\n",
      "\n",
      "Training on fold [1/5]\n",
      "\n",
      "bestTest = 0.5450952267\n",
      "bestIteration = 12\n",
      "\n",
      "Training on fold [2/5]\n",
      "\n",
      "bestTest = 0.5172339306\n",
      "bestIteration = 18\n",
      "\n",
      "Training on fold [3/5]\n",
      "\n",
      "bestTest = 0.5255905034\n",
      "bestIteration = 17\n",
      "\n",
      "Training on fold [4/5]\n"
     ]
    },
    {
     "name": "stderr",
     "output_type": "stream",
     "text": [
      "\u001b[32m[I 2022-01-26 14:57:23,805]\u001b[0m Trial 7 finished with value: 0.825964607314283 and parameters: {'iterations': 1500, 'learning_rate': 0.1253699635699981, 'random_strength': 7, 'bagging_temperature': 8, 'max_bin': 4, 'grow_policy': 'SymmetricTree', 'max_depth': 10, 'l2_leaf_reg': 2.8307160689696775e-06, 'one_hot_max_size': 1024, 'auto_class_weights': 'Balanced'}. Best is trial 6 with value: 0.86833548032738.\u001b[0m\n"
     ]
    },
    {
     "name": "stdout",
     "output_type": "stream",
     "text": [
      "\n",
      "bestTest = 0.5122508569\n",
      "bestIteration = 16\n",
      "\n"
     ]
    },
    {
     "data": {
      "application/vnd.jupyter.widget-view+json": {
       "model_id": "38f78871d5f64cb086db139586b68478",
       "version_major": 2,
       "version_minor": 0
      },
      "text/plain": [
       "MetricVisualizer(layout=Layout(align_self='stretch', height='500px'))"
      ]
     },
     "metadata": {},
     "output_type": "display_data"
    },
    {
     "name": "stdout",
     "output_type": "stream",
     "text": [
      "Training on fold [0/5]\n",
      "\n",
      "bestTest = 0.4904258385\n",
      "bestIteration = 150\n",
      "\n",
      "Training on fold [1/5]\n",
      "\n",
      "bestTest = 0.501588308\n",
      "bestIteration = 134\n",
      "\n",
      "Training on fold [2/5]\n",
      "\n",
      "bestTest = 0.4895621869\n",
      "bestIteration = 157\n",
      "\n",
      "Training on fold [3/5]\n",
      "\n",
      "bestTest = 0.4906704986\n",
      "bestIteration = 162\n",
      "\n",
      "Training on fold [4/5]\n"
     ]
    },
    {
     "name": "stderr",
     "output_type": "stream",
     "text": [
      "\u001b[32m[I 2022-01-26 14:57:37,146]\u001b[0m Trial 8 finished with value: 0.8507894843105575 and parameters: {'iterations': 1000, 'learning_rate': 0.00957473821190967, 'random_strength': 1, 'bagging_temperature': 3, 'max_bin': 5, 'grow_policy': 'SymmetricTree', 'max_depth': 10, 'l2_leaf_reg': 0.0003332900472045444, 'one_hot_max_size': 500, 'auto_class_weights': 'Balanced'}. Best is trial 6 with value: 0.86833548032738.\u001b[0m\n"
     ]
    },
    {
     "name": "stdout",
     "output_type": "stream",
     "text": [
      "\n",
      "bestTest = 0.4749435184\n",
      "bestIteration = 175\n",
      "\n"
     ]
    },
    {
     "data": {
      "application/vnd.jupyter.widget-view+json": {
       "model_id": "9a71abed40d4445a93a315d88c619ccc",
       "version_major": 2,
       "version_minor": 0
      },
      "text/plain": [
       "MetricVisualizer(layout=Layout(align_self='stretch', height='500px'))"
      ]
     },
     "metadata": {},
     "output_type": "display_data"
    },
    {
     "name": "stdout",
     "output_type": "stream",
     "text": [
      "Training on fold [0/5]\n",
      "\n",
      "bestTest = 0.5248115503\n",
      "bestIteration = 6\n",
      "\n",
      "Training on fold [1/5]\n",
      "\n",
      "bestTest = 0.5268995245\n",
      "bestIteration = 4\n",
      "\n",
      "Training on fold [2/5]\n",
      "\n",
      "bestTest = 0.5169204735\n",
      "bestIteration = 4\n",
      "\n",
      "Training on fold [3/5]\n",
      "\n",
      "bestTest = 0.516185756\n",
      "bestIteration = 6\n",
      "\n",
      "Training on fold [4/5]\n"
     ]
    },
    {
     "name": "stderr",
     "output_type": "stream",
     "text": [
      "\u001b[32m[I 2022-01-26 14:57:38,596]\u001b[0m Trial 9 finished with value: 0.830463934521644 and parameters: {'iterations': 1000, 'learning_rate': 0.2301364835144914, 'random_strength': 2, 'bagging_temperature': 4, 'max_bin': 4, 'grow_policy': 'SymmetricTree', 'max_depth': 10, 'l2_leaf_reg': 0.0013398579507442577, 'one_hot_max_size': 100, 'auto_class_weights': 'Balanced'}. Best is trial 6 with value: 0.86833548032738.\u001b[0m\n"
     ]
    },
    {
     "name": "stdout",
     "output_type": "stream",
     "text": [
      "\n",
      "bestTest = 0.5067246816\n",
      "bestIteration = 6\n",
      "\n"
     ]
    },
    {
     "data": {
      "application/vnd.jupyter.widget-view+json": {
       "model_id": "f3c1c47c941849fd9ce983f91875da78",
       "version_major": 2,
       "version_minor": 0
      },
      "text/plain": [
       "MetricVisualizer(layout=Layout(align_self='stretch', height='500px'))"
      ]
     },
     "metadata": {},
     "output_type": "display_data"
    },
    {
     "name": "stdout",
     "output_type": "stream",
     "text": [
      "Training on fold [0/5]\n",
      "\n",
      "bestTest = 0.4548207501\n",
      "bestIteration = 95\n",
      "\n",
      "Training on fold [1/5]\n",
      "\n",
      "bestTest = 0.460718278\n",
      "bestIteration = 114\n",
      "\n",
      "Training on fold [2/5]\n",
      "\n",
      "bestTest = 0.451866767\n",
      "bestIteration = 121\n",
      "\n",
      "Training on fold [3/5]\n",
      "\n",
      "bestTest = 0.4561457492\n",
      "bestIteration = 94\n",
      "\n",
      "Training on fold [4/5]\n"
     ]
    },
    {
     "name": "stderr",
     "output_type": "stream",
     "text": [
      "\u001b[32m[I 2022-01-26 14:57:57,684]\u001b[0m Trial 10 finished with value: 0.8682748175087112 and parameters: {'iterations': 300, 'learning_rate': 0.21210578031115196, 'random_strength': 4, 'bagging_temperature': 0, 'max_bin': 10, 'grow_policy': 'SymmetricTree', 'max_depth': 4, 'l2_leaf_reg': 67.55513953843523, 'one_hot_max_size': 5, 'auto_class_weights': 'Balanced'}. Best is trial 6 with value: 0.86833548032738.\u001b[0m\n"
     ]
    },
    {
     "name": "stdout",
     "output_type": "stream",
     "text": [
      "\n",
      "bestTest = 0.4459647329\n",
      "bestIteration = 94\n",
      "\n"
     ]
    },
    {
     "data": {
      "application/vnd.jupyter.widget-view+json": {
       "model_id": "6707fca646004aeb82720841b8184013",
       "version_major": 2,
       "version_minor": 0
      },
      "text/plain": [
       "MetricVisualizer(layout=Layout(align_self='stretch', height='500px'))"
      ]
     },
     "metadata": {},
     "output_type": "display_data"
    },
    {
     "name": "stdout",
     "output_type": "stream",
     "text": [
      "Training on fold [0/5]\n",
      "\n",
      "bestTest = 0.4547663993\n",
      "bestIteration = 109\n",
      "\n",
      "Training on fold [1/5]\n",
      "\n",
      "bestTest = 0.4627484234\n",
      "bestIteration = 111\n",
      "\n",
      "Training on fold [2/5]\n",
      "\n",
      "bestTest = 0.4518510571\n",
      "bestIteration = 115\n",
      "\n",
      "Training on fold [3/5]\n",
      "\n",
      "bestTest = 0.4543600222\n",
      "bestIteration = 90\n",
      "\n",
      "Training on fold [4/5]\n"
     ]
    },
    {
     "name": "stderr",
     "output_type": "stream",
     "text": [
      "\u001b[32m[I 2022-01-26 14:58:17,956]\u001b[0m Trial 11 finished with value: 0.8682894916311558 and parameters: {'iterations': 300, 'learning_rate': 0.21179272225527906, 'random_strength': 4, 'bagging_temperature': 0, 'max_bin': 10, 'grow_policy': 'SymmetricTree', 'max_depth': 4, 'l2_leaf_reg': 34.56103765349822, 'one_hot_max_size': 5, 'auto_class_weights': 'Balanced'}. Best is trial 6 with value: 0.86833548032738.\u001b[0m\n"
     ]
    },
    {
     "name": "stdout",
     "output_type": "stream",
     "text": [
      "\n",
      "bestTest = 0.4438105499\n",
      "bestIteration = 126\n",
      "\n"
     ]
    },
    {
     "data": {
      "application/vnd.jupyter.widget-view+json": {
       "model_id": "4349cf5e690942a094ab27f40830274c",
       "version_major": 2,
       "version_minor": 0
      },
      "text/plain": [
       "MetricVisualizer(layout=Layout(align_self='stretch', height='500px'))"
      ]
     },
     "metadata": {},
     "output_type": "display_data"
    },
    {
     "name": "stdout",
     "output_type": "stream",
     "text": [
      "Training on fold [0/5]\n",
      "\n",
      "bestTest = 0.4546200472\n",
      "bestIteration = 73\n",
      "\n",
      "Training on fold [1/5]\n",
      "\n",
      "bestTest = 0.4623714815\n",
      "bestIteration = 144\n",
      "\n",
      "Training on fold [2/5]\n",
      "\n",
      "bestTest = 0.4532286823\n",
      "bestIteration = 97\n",
      "\n",
      "Training on fold [3/5]\n",
      "\n",
      "bestTest = 0.4531781703\n",
      "bestIteration = 102\n",
      "\n",
      "Training on fold [4/5]\n"
     ]
    },
    {
     "name": "stderr",
     "output_type": "stream",
     "text": [
      "\u001b[32m[I 2022-01-26 14:58:36,989]\u001b[0m Trial 12 finished with value: 0.8680021596352823 and parameters: {'iterations': 300, 'learning_rate': 0.21371183387618528, 'random_strength': 5, 'bagging_temperature': 0, 'max_bin': 10, 'grow_policy': 'SymmetricTree', 'max_depth': 4, 'l2_leaf_reg': 95.0310408809215, 'one_hot_max_size': 12, 'auto_class_weights': 'Balanced'}. Best is trial 6 with value: 0.86833548032738.\u001b[0m\n"
     ]
    },
    {
     "name": "stdout",
     "output_type": "stream",
     "text": [
      "\n",
      "bestTest = 0.4462684924\n",
      "bestIteration = 104\n",
      "\n"
     ]
    },
    {
     "data": {
      "application/vnd.jupyter.widget-view+json": {
       "model_id": "c1170a1e0ceb4495a5b234136b865630",
       "version_major": 2,
       "version_minor": 0
      },
      "text/plain": [
       "MetricVisualizer(layout=Layout(align_self='stretch', height='500px'))"
      ]
     },
     "metadata": {},
     "output_type": "display_data"
    },
    {
     "name": "stdout",
     "output_type": "stream",
     "text": [
      "Training on fold [0/5]\n",
      "\n",
      "bestTest = 0.4633551629\n",
      "bestIteration = 36\n",
      "\n",
      "Training on fold [1/5]\n",
      "\n",
      "bestTest = 0.4738903918\n",
      "bestIteration = 56\n",
      "\n",
      "Training on fold [2/5]\n",
      "\n",
      "bestTest = 0.461675979\n",
      "bestIteration = 47\n",
      "\n",
      "Training on fold [3/5]\n",
      "\n",
      "bestTest = 0.4695266004\n",
      "bestIteration = 40\n",
      "\n",
      "Training on fold [4/5]\n"
     ]
    },
    {
     "name": "stderr",
     "output_type": "stream",
     "text": [
      "\u001b[32m[I 2022-01-26 14:59:01,034]\u001b[0m Trial 13 finished with value: 0.861533275577447 and parameters: {'iterations': 500, 'learning_rate': 0.19045086165750252, 'random_strength': 4, 'bagging_temperature': 2, 'max_bin': 10, 'grow_policy': 'SymmetricTree', 'max_depth': 8, 'l2_leaf_reg': 0.8236334555490133, 'one_hot_max_size': 5, 'auto_class_weights': 'Balanced'}. Best is trial 6 with value: 0.86833548032738.\u001b[0m\n"
     ]
    },
    {
     "name": "stdout",
     "output_type": "stream",
     "text": [
      "\n",
      "bestTest = 0.4544806938\n",
      "bestIteration = 52\n",
      "\n"
     ]
    },
    {
     "data": {
      "application/vnd.jupyter.widget-view+json": {
       "model_id": "4ebb8a3c6b5841c487fe60a5e39af110",
       "version_major": 2,
       "version_minor": 0
      },
      "text/plain": [
       "MetricVisualizer(layout=Layout(align_self='stretch', height='500px'))"
      ]
     },
     "metadata": {},
     "output_type": "display_data"
    },
    {
     "name": "stdout",
     "output_type": "stream",
     "text": [
      "Training on fold [0/5]\n",
      "\n",
      "bestTest = 0.4594321445\n",
      "bestIteration = 56\n",
      "\n",
      "Training on fold [1/5]\n",
      "\n",
      "bestTest = 0.4628819753\n",
      "bestIteration = 116\n",
      "\n",
      "Training on fold [2/5]\n",
      "\n",
      "bestTest = 0.4569692217\n",
      "bestIteration = 64\n",
      "\n",
      "Training on fold [3/5]\n",
      "\n",
      "bestTest = 0.4555857316\n",
      "bestIteration = 81\n",
      "\n",
      "Training on fold [4/5]\n"
     ]
    },
    {
     "name": "stderr",
     "output_type": "stream",
     "text": [
      "\u001b[32m[I 2022-01-26 14:59:15,861]\u001b[0m Trial 14 finished with value: 0.8663457429675621 and parameters: {'iterations': 300, 'learning_rate': 0.24917216994779037, 'random_strength': 4, 'bagging_temperature': 4, 'max_bin': 6, 'grow_policy': 'SymmetricTree', 'max_depth': 4, 'l2_leaf_reg': 0.7466656179671237, 'one_hot_max_size': 5, 'auto_class_weights': 'Balanced'}. Best is trial 6 with value: 0.86833548032738.\u001b[0m\n"
     ]
    },
    {
     "name": "stdout",
     "output_type": "stream",
     "text": [
      "\n",
      "bestTest = 0.4467341806\n",
      "bestIteration = 70\n",
      "\n"
     ]
    },
    {
     "data": {
      "application/vnd.jupyter.widget-view+json": {
       "model_id": "03986aae9b014cc5a3c2dfc4ba60d797",
       "version_major": 2,
       "version_minor": 0
      },
      "text/plain": [
       "MetricVisualizer(layout=Layout(align_self='stretch', height='500px'))"
      ]
     },
     "metadata": {},
     "output_type": "display_data"
    },
    {
     "name": "stdout",
     "output_type": "stream",
     "text": [
      "Training on fold [0/5]\n",
      "\n",
      "bestTest = 0.4612849473\n",
      "bestIteration = 62\n",
      "\n",
      "Training on fold [1/5]\n",
      "\n",
      "bestTest = 0.4678233458\n",
      "bestIteration = 72\n",
      "\n",
      "Training on fold [2/5]\n",
      "\n",
      "bestTest = 0.4572725541\n",
      "bestIteration = 81\n",
      "\n",
      "Training on fold [3/5]\n",
      "\n",
      "bestTest = 0.4603862167\n",
      "bestIteration = 61\n",
      "\n",
      "Training on fold [4/5]\n"
     ]
    },
    {
     "name": "stderr",
     "output_type": "stream",
     "text": [
      "\u001b[32m[I 2022-01-26 14:59:44,736]\u001b[0m Trial 15 finished with value: 0.865081408654486 and parameters: {'iterations': 300, 'learning_rate': 0.1739341400194549, 'random_strength': 6, 'bagging_temperature': 2, 'max_bin': 10, 'grow_policy': 'SymmetricTree', 'max_depth': 7, 'l2_leaf_reg': 0.8549315771643822, 'one_hot_max_size': 5, 'auto_class_weights': 'Balanced'}. Best is trial 6 with value: 0.86833548032738.\u001b[0m\n"
     ]
    },
    {
     "name": "stdout",
     "output_type": "stream",
     "text": [
      "\n",
      "bestTest = 0.4481103969\n",
      "bestIteration = 74\n",
      "\n"
     ]
    },
    {
     "data": {
      "application/vnd.jupyter.widget-view+json": {
       "model_id": "3d2313e741fc48cbb0b7d9ac1970f29e",
       "version_major": 2,
       "version_minor": 0
      },
      "text/plain": [
       "MetricVisualizer(layout=Layout(align_self='stretch', height='500px'))"
      ]
     },
     "metadata": {},
     "output_type": "display_data"
    },
    {
     "name": "stdout",
     "output_type": "stream",
     "text": [
      "Training on fold [0/5]\n",
      "\n",
      "bestTest = 0.4556062509\n",
      "bestIteration = 62\n",
      "\n",
      "Training on fold [1/5]\n",
      "\n",
      "bestTest = 0.4622056764\n",
      "bestIteration = 62\n",
      "\n",
      "Training on fold [2/5]\n",
      "\n",
      "bestTest = 0.4579888095\n",
      "bestIteration = 54\n",
      "\n",
      "Training on fold [3/5]\n",
      "\n",
      "bestTest = 0.4554969837\n",
      "bestIteration = 51\n",
      "\n",
      "Training on fold [4/5]\n"
     ]
    },
    {
     "name": "stderr",
     "output_type": "stream",
     "text": [
      "\u001b[32m[I 2022-01-26 15:00:01,311]\u001b[0m Trial 16 finished with value: 0.8671270255327341 and parameters: {'iterations': 1200, 'learning_rate': 0.26053855113572677, 'random_strength': 3, 'bagging_temperature': 0, 'max_bin': 10, 'grow_policy': 'SymmetricTree', 'max_depth': 5, 'l2_leaf_reg': 6.429309779261425, 'one_hot_max_size': 12, 'auto_class_weights': 'Balanced'}. Best is trial 6 with value: 0.86833548032738.\u001b[0m\n"
     ]
    },
    {
     "name": "stdout",
     "output_type": "stream",
     "text": [
      "\n",
      "bestTest = 0.4462674534\n",
      "bestIteration = 65\n",
      "\n"
     ]
    },
    {
     "data": {
      "application/vnd.jupyter.widget-view+json": {
       "model_id": "a683e30dc2b14aac9ae4c2477ad58d30",
       "version_major": 2,
       "version_minor": 0
      },
      "text/plain": [
       "MetricVisualizer(layout=Layout(align_self='stretch', height='500px'))"
      ]
     },
     "metadata": {},
     "output_type": "display_data"
    },
    {
     "name": "stdout",
     "output_type": "stream",
     "text": [
      "Training on fold [0/5]\n",
      "\n",
      "bestTest = 0.4750217257\n",
      "bestIteration = 27\n",
      "\n",
      "Training on fold [1/5]\n",
      "\n",
      "bestTest = 0.4833010346\n",
      "bestIteration = 40\n",
      "\n",
      "Training on fold [2/5]\n",
      "\n",
      "bestTest = 0.4722182847\n",
      "bestIteration = 47\n",
      "\n",
      "Training on fold [3/5]\n",
      "\n",
      "bestTest = 0.4773769106\n",
      "bestIteration = 48\n",
      "\n",
      "Training on fold [4/5]\n"
     ]
    },
    {
     "name": "stderr",
     "output_type": "stream",
     "text": [
      "\u001b[32m[I 2022-01-26 15:00:22,395]\u001b[0m Trial 17 finished with value: 0.8542758128566789 and parameters: {'iterations': 500, 'learning_rate': 0.162290906081111, 'random_strength': 5, 'bagging_temperature': 5, 'max_bin': 10, 'grow_policy': 'SymmetricTree', 'max_depth': 8, 'l2_leaf_reg': 0.06306159710746394, 'one_hot_max_size': 10, 'auto_class_weights': 'Balanced'}. Best is trial 6 with value: 0.86833548032738.\u001b[0m\n"
     ]
    },
    {
     "name": "stdout",
     "output_type": "stream",
     "text": [
      "\n",
      "bestTest = 0.468587619\n",
      "bestIteration = 31\n",
      "\n"
     ]
    },
    {
     "data": {
      "application/vnd.jupyter.widget-view+json": {
       "model_id": "e94e565acc5649e0acde95397a89859f",
       "version_major": 2,
       "version_minor": 0
      },
      "text/plain": [
       "MetricVisualizer(layout=Layout(align_self='stretch', height='500px'))"
      ]
     },
     "metadata": {},
     "output_type": "display_data"
    },
    {
     "name": "stdout",
     "output_type": "stream",
     "text": [
      "Training on fold [0/5]\n",
      "\n",
      "bestTest = 0.4596113792\n",
      "bestIteration = 191\n",
      "\n",
      "Training on fold [1/5]\n",
      "\n",
      "bestTest = 0.4642100854\n",
      "bestIteration = 242\n",
      "\n",
      "Training on fold [2/5]\n",
      "\n",
      "bestTest = 0.4570876374\n",
      "bestIteration = 275\n",
      "\n",
      "Training on fold [3/5]\n",
      "\n",
      "bestTest = 0.4574158365\n",
      "bestIteration = 214\n",
      "\n",
      "Training on fold [4/5]\n"
     ]
    },
    {
     "name": "stderr",
     "output_type": "stream",
     "text": [
      "\u001b[32m[I 2022-01-26 15:00:28,196]\u001b[0m Trial 18 finished with value: 0.8659593007553548 and parameters: {'iterations': 300, 'learning_rate': 0.08253977991457023, 'random_strength': 7, 'bagging_temperature': 1, 'max_bin': 6, 'grow_policy': 'SymmetricTree', 'max_depth': 3, 'l2_leaf_reg': 2.8479737297402608e-05, 'one_hot_max_size': 1024, 'auto_class_weights': 'Balanced'}. Best is trial 6 with value: 0.86833548032738.\u001b[0m\n"
     ]
    },
    {
     "name": "stdout",
     "output_type": "stream",
     "text": [
      "\n",
      "bestTest = 0.4506592319\n",
      "bestIteration = 252\n",
      "\n"
     ]
    },
    {
     "data": {
      "application/vnd.jupyter.widget-view+json": {
       "model_id": "6626034fc12e4f9e918e84918a8bdc2a",
       "version_major": 2,
       "version_minor": 0
      },
      "text/plain": [
       "MetricVisualizer(layout=Layout(align_self='stretch', height='500px'))"
      ]
     },
     "metadata": {},
     "output_type": "display_data"
    },
    {
     "name": "stdout",
     "output_type": "stream",
     "text": [
      "Training on fold [0/5]\n",
      "\n",
      "bestTest = 0.454352057\n",
      "bestIteration = 59\n",
      "\n",
      "Training on fold [1/5]\n",
      "\n",
      "bestTest = 0.4651791855\n",
      "bestIteration = 50\n",
      "\n",
      "Training on fold [2/5]\n",
      "\n",
      "bestTest = 0.4549420499\n",
      "bestIteration = 72\n",
      "\n",
      "Training on fold [3/5]\n",
      "\n",
      "bestTest = 0.4519337441\n",
      "bestIteration = 73\n",
      "\n",
      "Training on fold [4/5]\n"
     ]
    },
    {
     "name": "stderr",
     "output_type": "stream",
     "text": [
      "\u001b[32m[I 2022-01-26 15:00:47,421]\u001b[0m Trial 19 finished with value: 0.8671474793762928 and parameters: {'iterations': 300, 'learning_rate': 0.2621547368672365, 'random_strength': 3, 'bagging_temperature': 3, 'max_bin': 8, 'grow_policy': 'SymmetricTree', 'max_depth': 5, 'l2_leaf_reg': 10.225320123105696, 'one_hot_max_size': 5, 'auto_class_weights': 'Balanced'}. Best is trial 6 with value: 0.86833548032738.\u001b[0m\n"
     ]
    },
    {
     "name": "stdout",
     "output_type": "stream",
     "text": [
      "\n",
      "bestTest = 0.4465499557\n",
      "bestIteration = 81\n",
      "\n"
     ]
    },
    {
     "data": {
      "application/vnd.jupyter.widget-view+json": {
       "model_id": "95bfb4588a834e64b9c80f88ef95ee29",
       "version_major": 2,
       "version_minor": 0
      },
      "text/plain": [
       "MetricVisualizer(layout=Layout(align_self='stretch', height='500px'))"
      ]
     },
     "metadata": {},
     "output_type": "display_data"
    },
    {
     "name": "stdout",
     "output_type": "stream",
     "text": [
      "Training on fold [0/5]\n",
      "\n",
      "bestTest = 0.4668955947\n",
      "bestIteration = 47\n",
      "\n",
      "Training on fold [1/5]\n",
      "\n",
      "bestTest = 0.4725374891\n",
      "bestIteration = 62\n",
      "\n",
      "Training on fold [2/5]\n",
      "\n",
      "bestTest = 0.4710617396\n",
      "bestIteration = 60\n",
      "\n",
      "Training on fold [3/5]\n",
      "\n",
      "bestTest = 0.466821774\n",
      "bestIteration = 56\n",
      "\n",
      "Training on fold [4/5]\n"
     ]
    },
    {
     "name": "stderr",
     "output_type": "stream",
     "text": [
      "\u001b[32m[I 2022-01-26 15:01:12,275]\u001b[0m Trial 20 finished with value: 0.859570490685557 and parameters: {'iterations': 300, 'learning_rate': 0.19280316585525661, 'random_strength': 7, 'bagging_temperature': 1, 'max_bin': 5, 'grow_policy': 'SymmetricTree', 'max_depth': 7, 'l2_leaf_reg': 0.06889212297158703, 'one_hot_max_size': 5, 'auto_class_weights': 'Balanced'}. Best is trial 6 with value: 0.86833548032738.\u001b[0m\n"
     ]
    },
    {
     "name": "stdout",
     "output_type": "stream",
     "text": [
      "\n",
      "bestTest = 0.4568255715\n",
      "bestIteration = 63\n",
      "\n"
     ]
    },
    {
     "data": {
      "application/vnd.jupyter.widget-view+json": {
       "model_id": "723a1276624746ff92358b3db6cbb9d2",
       "version_major": 2,
       "version_minor": 0
      },
      "text/plain": [
       "MetricVisualizer(layout=Layout(align_self='stretch', height='500px'))"
      ]
     },
     "metadata": {},
     "output_type": "display_data"
    },
    {
     "name": "stdout",
     "output_type": "stream",
     "text": [
      "Training on fold [0/5]\n",
      "\n",
      "bestTest = 0.4560042616\n",
      "bestIteration = 94\n",
      "\n",
      "Training on fold [1/5]\n",
      "\n",
      "bestTest = 0.4615313839\n",
      "bestIteration = 107\n",
      "\n",
      "Training on fold [2/5]\n",
      "\n",
      "bestTest = 0.45191141\n",
      "bestIteration = 125\n",
      "\n",
      "Training on fold [3/5]\n",
      "\n",
      "bestTest = 0.4549006457\n",
      "bestIteration = 73\n",
      "\n",
      "Training on fold [4/5]\n"
     ]
    },
    {
     "name": "stderr",
     "output_type": "stream",
     "text": [
      "\u001b[32m[I 2022-01-26 15:01:32,155]\u001b[0m Trial 21 finished with value: 0.8681165045015546 and parameters: {'iterations': 300, 'learning_rate': 0.21082492056123503, 'random_strength': 4, 'bagging_temperature': 0, 'max_bin': 10, 'grow_policy': 'SymmetricTree', 'max_depth': 4, 'l2_leaf_reg': 64.54115703707609, 'one_hot_max_size': 5, 'auto_class_weights': 'Balanced'}. Best is trial 6 with value: 0.86833548032738.\u001b[0m\n"
     ]
    },
    {
     "name": "stdout",
     "output_type": "stream",
     "text": [
      "\n",
      "bestTest = 0.4452026642\n",
      "bestIteration = 119\n",
      "\n"
     ]
    },
    {
     "data": {
      "application/vnd.jupyter.widget-view+json": {
       "model_id": "380388bc402e4d47b446afbc6e216230",
       "version_major": 2,
       "version_minor": 0
      },
      "text/plain": [
       "MetricVisualizer(layout=Layout(align_self='stretch', height='500px'))"
      ]
     },
     "metadata": {},
     "output_type": "display_data"
    },
    {
     "name": "stdout",
     "output_type": "stream",
     "text": [
      "Training on fold [0/5]\n",
      "\n",
      "bestTest = 0.4549004515\n",
      "bestIteration = 62\n",
      "\n",
      "Training on fold [1/5]\n",
      "\n",
      "bestTest = 0.4680499604\n",
      "bestIteration = 58\n",
      "\n",
      "Training on fold [2/5]\n",
      "\n",
      "bestTest = 0.4538510977\n",
      "bestIteration = 64\n",
      "\n",
      "Training on fold [3/5]\n",
      "\n",
      "bestTest = 0.4535899907\n",
      "bestIteration = 68\n",
      "\n",
      "Training on fold [4/5]\n"
     ]
    },
    {
     "name": "stderr",
     "output_type": "stream",
     "text": [
      "\u001b[32m[I 2022-01-26 15:01:51,961]\u001b[0m Trial 22 finished with value: 0.867188633358564 and parameters: {'iterations': 300, 'learning_rate': 0.23551124364277715, 'random_strength': 5, 'bagging_temperature': 0, 'max_bin': 10, 'grow_policy': 'SymmetricTree', 'max_depth': 5, 'l2_leaf_reg': 17.4112617465734, 'one_hot_max_size': 5, 'auto_class_weights': 'Balanced'}. Best is trial 6 with value: 0.86833548032738.\u001b[0m\n"
     ]
    },
    {
     "name": "stdout",
     "output_type": "stream",
     "text": [
      "\n",
      "bestTest = 0.4429296595\n",
      "bestIteration = 96\n",
      "\n"
     ]
    },
    {
     "data": {
      "application/vnd.jupyter.widget-view+json": {
       "model_id": "67f23c8537014add8a9f9e7c4750e588",
       "version_major": 2,
       "version_minor": 0
      },
      "text/plain": [
       "MetricVisualizer(layout=Layout(align_self='stretch', height='500px'))"
      ]
     },
     "metadata": {},
     "output_type": "display_data"
    },
    {
     "name": "stdout",
     "output_type": "stream",
     "text": [
      "Training on fold [0/5]\n",
      "\n",
      "bestTest = 0.4537640962\n",
      "bestIteration = 137\n",
      "\n",
      "Training on fold [1/5]\n",
      "\n",
      "bestTest = 0.465720639\n",
      "bestIteration = 121\n",
      "\n",
      "Training on fold [2/5]\n",
      "\n",
      "bestTest = 0.4561693594\n",
      "bestIteration = 103\n",
      "\n",
      "Training on fold [3/5]\n",
      "\n",
      "bestTest = 0.4567465798\n",
      "bestIteration = 89\n",
      "\n",
      "Training on fold [4/5]\n"
     ]
    },
    {
     "name": "stderr",
     "output_type": "stream",
     "text": [
      "\u001b[32m[I 2022-01-26 15:02:08,867]\u001b[0m Trial 23 finished with value: 0.8670654235871327 and parameters: {'iterations': 300, 'learning_rate': 0.20644541534625796, 'random_strength': 3, 'bagging_temperature': 1, 'max_bin': 10, 'grow_policy': 'SymmetricTree', 'max_depth': 3, 'l2_leaf_reg': 3.7174919929890318, 'one_hot_max_size': 5, 'auto_class_weights': 'Balanced'}. Best is trial 6 with value: 0.86833548032738.\u001b[0m\n"
     ]
    },
    {
     "name": "stdout",
     "output_type": "stream",
     "text": [
      "\n",
      "bestTest = 0.4459062557\n",
      "bestIteration = 125\n",
      "\n"
     ]
    },
    {
     "data": {
      "application/vnd.jupyter.widget-view+json": {
       "model_id": "08f9a23e0b2345f8adcfca78976f79c1",
       "version_major": 2,
       "version_minor": 0
      },
      "text/plain": [
       "MetricVisualizer(layout=Layout(align_self='stretch', height='500px'))"
      ]
     },
     "metadata": {},
     "output_type": "display_data"
    },
    {
     "name": "stdout",
     "output_type": "stream",
     "text": [
      "Training on fold [0/5]\n",
      "\n",
      "bestTest = 0.4577440893\n",
      "bestIteration = 58\n",
      "\n",
      "Training on fold [1/5]\n",
      "\n",
      "bestTest = 0.4699738318\n",
      "bestIteration = 62\n",
      "\n",
      "Training on fold [2/5]\n",
      "\n",
      "bestTest = 0.4581649119\n",
      "bestIteration = 69\n",
      "\n",
      "Training on fold [3/5]\n",
      "\n",
      "bestTest = 0.4559630557\n",
      "bestIteration = 81\n",
      "\n",
      "Training on fold [4/5]\n"
     ]
    },
    {
     "name": "stderr",
     "output_type": "stream",
     "text": [
      "\u001b[32m[I 2022-01-26 15:02:20,821]\u001b[0m Trial 24 finished with value: 0.8657928842815806 and parameters: {'iterations': 500, 'learning_rate': 0.2748235218781543, 'random_strength': 6, 'bagging_temperature': 3, 'max_bin': 10, 'grow_policy': 'SymmetricTree', 'max_depth': 3, 'l2_leaf_reg': 0.1444419042507601, 'one_hot_max_size': 5, 'auto_class_weights': 'Balanced'}. Best is trial 6 with value: 0.86833548032738.\u001b[0m\n"
     ]
    },
    {
     "name": "stdout",
     "output_type": "stream",
     "text": [
      "\n",
      "bestTest = 0.4443613163\n",
      "bestIteration = 133\n",
      "\n"
     ]
    },
    {
     "data": {
      "application/vnd.jupyter.widget-view+json": {
       "model_id": "d21ca00cd19e427a87dd7b5233ca6ed9",
       "version_major": 2,
       "version_minor": 0
      },
      "text/plain": [
       "MetricVisualizer(layout=Layout(align_self='stretch', height='500px'))"
      ]
     },
     "metadata": {},
     "output_type": "display_data"
    },
    {
     "name": "stdout",
     "output_type": "stream",
     "text": [
      "Training on fold [0/5]\n",
      "\n",
      "bestTest = 0.4548014019\n",
      "bestIteration = 102\n",
      "\n",
      "Training on fold [1/5]\n",
      "\n",
      "bestTest = 0.466194199\n",
      "bestIteration = 95\n",
      "\n",
      "Training on fold [2/5]\n",
      "\n",
      "bestTest = 0.4530714897\n",
      "bestIteration = 87\n",
      "\n",
      "Training on fold [3/5]\n",
      "\n",
      "bestTest = 0.4549644066\n",
      "bestIteration = 94\n",
      "\n",
      "Training on fold [4/5]\n"
     ]
    },
    {
     "name": "stderr",
     "output_type": "stream",
     "text": [
      "\u001b[32m[I 2022-01-26 15:02:46,276]\u001b[0m Trial 25 finished with value: 0.8674981979173493 and parameters: {'iterations': 1200, 'learning_rate': 0.22942372750746504, 'random_strength': 4, 'bagging_temperature': 2, 'max_bin': 4, 'grow_policy': 'SymmetricTree', 'max_depth': 5, 'l2_leaf_reg': 91.73489550576943, 'one_hot_max_size': 5, 'auto_class_weights': 'Balanced'}. Best is trial 6 with value: 0.86833548032738.\u001b[0m\n"
     ]
    },
    {
     "name": "stdout",
     "output_type": "stream",
     "text": [
      "\n",
      "bestTest = 0.4442731447\n",
      "bestIteration = 90\n",
      "\n"
     ]
    },
    {
     "data": {
      "application/vnd.jupyter.widget-view+json": {
       "model_id": "430a1eecc0df431cbe785e6b47d69628",
       "version_major": 2,
       "version_minor": 0
      },
      "text/plain": [
       "MetricVisualizer(layout=Layout(align_self='stretch', height='500px'))"
      ]
     },
     "metadata": {},
     "output_type": "display_data"
    },
    {
     "name": "stdout",
     "output_type": "stream",
     "text": [
      "Training on fold [0/5]\n",
      "\n",
      "bestTest = 0.4607686478\n",
      "bestIteration = 44\n",
      "\n",
      "Training on fold [1/5]\n",
      "\n",
      "bestTest = 0.4735672047\n",
      "bestIteration = 41\n",
      "\n",
      "Training on fold [2/5]\n",
      "\n",
      "bestTest = 0.456813536\n",
      "bestIteration = 60\n",
      "\n",
      "Training on fold [3/5]\n",
      "\n",
      "bestTest = 0.4600268117\n",
      "bestIteration = 39\n",
      "\n",
      "Training on fold [4/5]\n"
     ]
    },
    {
     "name": "stderr",
     "output_type": "stream",
     "text": [
      "\u001b[32m[I 2022-01-26 15:03:08,860]\u001b[0m Trial 26 finished with value: 0.8634044391769322 and parameters: {'iterations': 300, 'learning_rate': 0.17915933563789485, 'random_strength': 2, 'bagging_temperature': 0, 'max_bin': 10, 'grow_policy': 'SymmetricTree', 'max_depth': 7, 'l2_leaf_reg': 1.9974048457037377, 'one_hot_max_size': 10, 'auto_class_weights': 'Balanced'}. Best is trial 6 with value: 0.86833548032738.\u001b[0m\n"
     ]
    },
    {
     "name": "stdout",
     "output_type": "stream",
     "text": [
      "\n",
      "bestTest = 0.4532801501\n",
      "bestIteration = 62\n",
      "\n"
     ]
    },
    {
     "data": {
      "application/vnd.jupyter.widget-view+json": {
       "model_id": "552d3dbca3ee4106a78341af8f7a3ae6",
       "version_major": 2,
       "version_minor": 0
      },
      "text/plain": [
       "MetricVisualizer(layout=Layout(align_self='stretch', height='500px'))"
      ]
     },
     "metadata": {},
     "output_type": "display_data"
    },
    {
     "name": "stdout",
     "output_type": "stream",
     "text": [
      "Training on fold [0/5]\n",
      "\n",
      "bestTest = 0.4564108104\n",
      "bestIteration = 103\n",
      "\n",
      "Training on fold [1/5]\n",
      "\n",
      "bestTest = 0.4611165447\n",
      "bestIteration = 115\n",
      "\n",
      "Training on fold [2/5]\n",
      "\n",
      "bestTest = 0.4532960358\n",
      "bestIteration = 97\n",
      "\n",
      "Training on fold [3/5]\n",
      "\n",
      "bestTest = 0.4534980435\n",
      "bestIteration = 91\n",
      "\n",
      "Training on fold [4/5]\n"
     ]
    },
    {
     "name": "stderr",
     "output_type": "stream",
     "text": [
      "\u001b[32m[I 2022-01-26 15:03:39,679]\u001b[0m Trial 27 finished with value: 0.8682983179173618 and parameters: {'iterations': 300, 'learning_rate': 0.1525974170025792, 'random_strength': 5, 'bagging_temperature': 1, 'max_bin': 10, 'grow_policy': 'SymmetricTree', 'max_depth': 6, 'l2_leaf_reg': 19.945758595783783, 'one_hot_max_size': 12, 'auto_class_weights': 'Balanced'}. Best is trial 6 with value: 0.86833548032738.\u001b[0m\n"
     ]
    },
    {
     "name": "stdout",
     "output_type": "stream",
     "text": [
      "\n",
      "bestTest = 0.4441361047\n",
      "bestIteration = 101\n",
      "\n"
     ]
    },
    {
     "data": {
      "application/vnd.jupyter.widget-view+json": {
       "model_id": "63e589eb35924622b034618122f3eff3",
       "version_major": 2,
       "version_minor": 0
      },
      "text/plain": [
       "MetricVisualizer(layout=Layout(align_self='stretch', height='500px'))"
      ]
     },
     "metadata": {},
     "output_type": "display_data"
    },
    {
     "name": "stdout",
     "output_type": "stream",
     "text": [
      "Training on fold [0/5]\n",
      "\n",
      "bestTest = 0.4856971419\n",
      "bestIteration = 34\n",
      "\n",
      "Training on fold [1/5]\n",
      "\n",
      "bestTest = 0.5009984742\n",
      "bestIteration = 41\n",
      "\n",
      "Training on fold [2/5]\n",
      "\n",
      "bestTest = 0.4884388434\n",
      "bestIteration = 36\n",
      "\n",
      "Training on fold [3/5]\n",
      "\n",
      "bestTest = 0.495553855\n",
      "bestIteration = 31\n",
      "\n",
      "Training on fold [4/5]\n"
     ]
    },
    {
     "name": "stderr",
     "output_type": "stream",
     "text": [
      "\u001b[32m[I 2022-01-26 15:03:58,706]\u001b[0m Trial 28 finished with value: 0.8470682777402434 and parameters: {'iterations': 300, 'learning_rate': 0.10886755228639378, 'random_strength': 5, 'bagging_temperature': 4, 'max_bin': 10, 'grow_policy': 'SymmetricTree', 'max_depth': 8, 'l2_leaf_reg': 1.0595003544247859e-08, 'one_hot_max_size': 12, 'auto_class_weights': 'Balanced'}. Best is trial 6 with value: 0.86833548032738.\u001b[0m\n"
     ]
    },
    {
     "name": "stdout",
     "output_type": "stream",
     "text": [
      "\n",
      "bestTest = 0.4864372751\n",
      "bestIteration = 19\n",
      "\n"
     ]
    },
    {
     "data": {
      "application/vnd.jupyter.widget-view+json": {
       "model_id": "f53171e5eab747cc8087dec1b0a24f8b",
       "version_major": 2,
       "version_minor": 0
      },
      "text/plain": [
       "MetricVisualizer(layout=Layout(align_self='stretch', height='500px'))"
      ]
     },
     "metadata": {},
     "output_type": "display_data"
    },
    {
     "name": "stdout",
     "output_type": "stream",
     "text": [
      "Training on fold [0/5]\n",
      "\n",
      "bestTest = 0.4586023091\n",
      "bestIteration = 163\n",
      "\n",
      "Training on fold [1/5]\n",
      "\n",
      "bestTest = 0.4681910953\n",
      "bestIteration = 183\n",
      "\n",
      "Training on fold [2/5]\n",
      "\n",
      "bestTest = 0.4554000488\n",
      "bestIteration = 188\n",
      "\n",
      "Training on fold [3/5]\n",
      "\n",
      "bestTest = 0.4621193693\n",
      "bestIteration = 180\n",
      "\n",
      "Training on fold [4/5]\n"
     ]
    },
    {
     "name": "stderr",
     "output_type": "stream",
     "text": [
      "\u001b[32m[I 2022-01-26 15:04:53,348]\u001b[0m Trial 29 finished with value: 0.8654828486539197 and parameters: {'iterations': 1500, 'learning_rate': 0.07630394021032791, 'random_strength': 8, 'bagging_temperature': 1, 'max_bin': 10, 'grow_policy': 'SymmetricTree', 'max_depth': 6, 'l2_leaf_reg': 0.11165438757877619, 'one_hot_max_size': 12, 'auto_class_weights': 'Balanced'}. Best is trial 6 with value: 0.86833548032738.\u001b[0m\n"
     ]
    },
    {
     "name": "stdout",
     "output_type": "stream",
     "text": [
      "\n",
      "bestTest = 0.4486036027\n",
      "bestIteration = 213\n",
      "\n"
     ]
    },
    {
     "data": {
      "application/vnd.jupyter.widget-view+json": {
       "model_id": "55f716b1407248bc96f3cde750ff674b",
       "version_major": 2,
       "version_minor": 0
      },
      "text/plain": [
       "MetricVisualizer(layout=Layout(align_self='stretch', height='500px'))"
      ]
     },
     "metadata": {},
     "output_type": "display_data"
    },
    {
     "name": "stdout",
     "output_type": "stream",
     "text": [
      "Training on fold [0/5]\n",
      "\n",
      "bestTest = 0.4552154764\n",
      "bestIteration = 72\n",
      "\n",
      "Training on fold [1/5]\n",
      "\n",
      "bestTest = 0.466595075\n",
      "bestIteration = 94\n",
      "\n",
      "Training on fold [2/5]\n",
      "\n",
      "bestTest = 0.4534960141\n",
      "bestIteration = 104\n",
      "\n",
      "Training on fold [3/5]\n",
      "\n",
      "bestTest = 0.4566691081\n",
      "bestIteration = 83\n",
      "\n",
      "Training on fold [4/5]\n"
     ]
    },
    {
     "name": "stderr",
     "output_type": "stream",
     "text": [
      "\u001b[32m[I 2022-01-26 15:05:19,952]\u001b[0m Trial 30 finished with value: 0.8670336711075939 and parameters: {'iterations': 300, 'learning_rate': 0.16384258263443902, 'random_strength': 6, 'bagging_temperature': 5, 'max_bin': 4, 'grow_policy': 'SymmetricTree', 'max_depth': 6, 'l2_leaf_reg': 21.517112181063595, 'one_hot_max_size': 12, 'auto_class_weights': 'Balanced'}. Best is trial 6 with value: 0.86833548032738.\u001b[0m\n"
     ]
    },
    {
     "name": "stdout",
     "output_type": "stream",
     "text": [
      "\n",
      "bestTest = 0.445178288\n",
      "bestIteration = 88\n",
      "\n"
     ]
    },
    {
     "data": {
      "application/vnd.jupyter.widget-view+json": {
       "model_id": "5e709d5fbbe14eae80a85cdb63a119e8",
       "version_major": 2,
       "version_minor": 0
      },
      "text/plain": [
       "MetricVisualizer(layout=Layout(align_self='stretch', height='500px'))"
      ]
     },
     "metadata": {},
     "output_type": "display_data"
    },
    {
     "name": "stdout",
     "output_type": "stream",
     "text": [
      "Training on fold [0/5]\n",
      "\n",
      "bestTest = 0.4527643904\n",
      "bestIteration = 98\n",
      "\n",
      "Training on fold [1/5]\n",
      "\n",
      "bestTest = 0.4654314989\n",
      "bestIteration = 98\n",
      "\n",
      "Training on fold [2/5]\n",
      "\n",
      "bestTest = 0.4519697864\n",
      "bestIteration = 139\n",
      "\n",
      "Training on fold [3/5]\n",
      "\n",
      "bestTest = 0.4533394224\n",
      "bestIteration = 114\n",
      "\n",
      "Training on fold [4/5]\n"
     ]
    },
    {
     "name": "stderr",
     "output_type": "stream",
     "text": [
      "\u001b[32m[I 2022-01-26 15:05:42,426]\u001b[0m Trial 31 finished with value: 0.868623387977953 and parameters: {'iterations': 300, 'learning_rate': 0.15327526907128053, 'random_strength': 4, 'bagging_temperature': 1, 'max_bin': 10, 'grow_policy': 'SymmetricTree', 'max_depth': 4, 'l2_leaf_reg': 18.829147866534395, 'one_hot_max_size': 5, 'auto_class_weights': 'Balanced'}. Best is trial 31 with value: 0.868623387977953.\u001b[0m\n"
     ]
    },
    {
     "name": "stdout",
     "output_type": "stream",
     "text": [
      "\n",
      "bestTest = 0.4430726967\n",
      "bestIteration = 145\n",
      "\n"
     ]
    },
    {
     "data": {
      "application/vnd.jupyter.widget-view+json": {
       "model_id": "171dcd2398db405fba21e3f51ea0c6bb",
       "version_major": 2,
       "version_minor": 0
      },
      "text/plain": [
       "MetricVisualizer(layout=Layout(align_self='stretch', height='500px'))"
      ]
     },
     "metadata": {},
     "output_type": "display_data"
    },
    {
     "name": "stdout",
     "output_type": "stream",
     "text": [
      "Training on fold [0/5]\n",
      "\n",
      "bestTest = 0.4577466849\n",
      "bestIteration = 94\n",
      "\n",
      "Training on fold [1/5]\n",
      "\n",
      "bestTest = 0.4615679804\n",
      "bestIteration = 93\n",
      "\n",
      "Training on fold [2/5]\n",
      "\n",
      "bestTest = 0.4536579219\n",
      "bestIteration = 117\n",
      "\n",
      "Training on fold [3/5]\n",
      "\n",
      "bestTest = 0.4557918218\n",
      "bestIteration = 99\n",
      "\n",
      "Training on fold [4/5]\n"
     ]
    },
    {
     "name": "stderr",
     "output_type": "stream",
     "text": [
      "\u001b[32m[I 2022-01-26 15:05:46,556]\u001b[0m Trial 32 finished with value: 0.8678891954762836 and parameters: {'iterations': 300, 'learning_rate': 0.15047499795280334, 'random_strength': 5, 'bagging_temperature': 2, 'max_bin': 10, 'grow_policy': 'SymmetricTree', 'max_depth': 5, 'l2_leaf_reg': 17.237859843399594, 'one_hot_max_size': 1024, 'auto_class_weights': 'Balanced'}. Best is trial 31 with value: 0.868623387977953.\u001b[0m\n"
     ]
    },
    {
     "name": "stdout",
     "output_type": "stream",
     "text": [
      "\n",
      "bestTest = 0.4429327391\n",
      "bestIteration = 146\n",
      "\n"
     ]
    },
    {
     "data": {
      "application/vnd.jupyter.widget-view+json": {
       "model_id": "66a986841d824462ab0f940ac64a7e51",
       "version_major": 2,
       "version_minor": 0
      },
      "text/plain": [
       "MetricVisualizer(layout=Layout(align_self='stretch', height='500px'))"
      ]
     },
     "metadata": {},
     "output_type": "display_data"
    },
    {
     "name": "stdout",
     "output_type": "stream",
     "text": [
      "Training on fold [0/5]\n",
      "\n",
      "bestTest = 0.4624645836\n",
      "bestIteration = 77\n",
      "\n",
      "Training on fold [1/5]\n",
      "\n",
      "bestTest = 0.4724219904\n",
      "bestIteration = 69\n",
      "\n",
      "Training on fold [2/5]\n",
      "\n",
      "bestTest = 0.4626517037\n",
      "bestIteration = 80\n",
      "\n",
      "Training on fold [3/5]\n",
      "\n",
      "bestTest = 0.4631117118\n",
      "bestIteration = 99\n",
      "\n",
      "Training on fold [4/5]\n"
     ]
    },
    {
     "name": "stderr",
     "output_type": "stream",
     "text": [
      "\u001b[32m[I 2022-01-26 15:06:20,883]\u001b[0m Trial 33 finished with value: 0.862549984085285 and parameters: {'iterations': 300, 'learning_rate': 0.11851248520978816, 'random_strength': 3, 'bagging_temperature': 1, 'max_bin': 8, 'grow_policy': 'SymmetricTree', 'max_depth': 7, 'l2_leaf_reg': 0.3545828548311504, 'one_hot_max_size': 12, 'auto_class_weights': 'Balanced'}. Best is trial 31 with value: 0.868623387977953.\u001b[0m\n"
     ]
    },
    {
     "name": "stdout",
     "output_type": "stream",
     "text": [
      "\n",
      "bestTest = 0.4564283853\n",
      "bestIteration = 82\n",
      "\n"
     ]
    },
    {
     "data": {
      "application/vnd.jupyter.widget-view+json": {
       "model_id": "a4df14451be748b3828c1e7a304a384c",
       "version_major": 2,
       "version_minor": 0
      },
      "text/plain": [
       "MetricVisualizer(layout=Layout(align_self='stretch', height='500px'))"
      ]
     },
     "metadata": {},
     "output_type": "display_data"
    },
    {
     "name": "stdout",
     "output_type": "stream",
     "text": [
      "Training on fold [0/5]\n",
      "\n",
      "bestTest = 0.4544873734\n",
      "bestIteration = 159\n",
      "\n",
      "Training on fold [1/5]\n",
      "\n",
      "bestTest = 0.4647863089\n",
      "bestIteration = 148\n",
      "\n",
      "Training on fold [2/5]\n",
      "\n",
      "bestTest = 0.4574013088\n",
      "bestIteration = 137\n",
      "\n",
      "Training on fold [3/5]\n",
      "\n",
      "bestTest = 0.4582451989\n",
      "bestIteration = 141\n",
      "\n",
      "Training on fold [4/5]\n"
     ]
    },
    {
     "name": "stderr",
     "output_type": "stream",
     "text": [
      "\u001b[32m[I 2022-01-26 15:06:26,965]\u001b[0m Trial 34 finished with value: 0.8668699208349899 and parameters: {'iterations': 1200, 'learning_rate': 0.10279586303682202, 'random_strength': 7, 'bagging_temperature': 3, 'max_bin': 10, 'grow_policy': 'SymmetricTree', 'max_depth': 6, 'l2_leaf_reg': 3.149837766613654, 'one_hot_max_size': 100, 'auto_class_weights': 'Balanced'}. Best is trial 31 with value: 0.868623387977953.\u001b[0m\n"
     ]
    },
    {
     "name": "stdout",
     "output_type": "stream",
     "text": [
      "\n",
      "bestTest = 0.4462076871\n",
      "bestIteration = 175\n",
      "\n"
     ]
    },
    {
     "data": {
      "application/vnd.jupyter.widget-view+json": {
       "model_id": "6b95e8efce9947ed82e237384de72887",
       "version_major": 2,
       "version_minor": 0
      },
      "text/plain": [
       "MetricVisualizer(layout=Layout(align_self='stretch', height='500px'))"
      ]
     },
     "metadata": {},
     "output_type": "display_data"
    },
    {
     "name": "stdout",
     "output_type": "stream",
     "text": [
      "Training on fold [0/5]\n",
      "\n",
      "bestTest = 0.4588609533\n",
      "bestIteration = 119\n",
      "\n",
      "Training on fold [1/5]\n",
      "\n",
      "bestTest = 0.4650155187\n",
      "bestIteration = 147\n",
      "\n",
      "Training on fold [2/5]\n",
      "\n",
      "bestTest = 0.4604974702\n",
      "bestIteration = 127\n",
      "\n",
      "Training on fold [3/5]\n",
      "\n",
      "bestTest = 0.4563509413\n",
      "bestIteration = 138\n",
      "\n",
      "Training on fold [4/5]\n"
     ]
    },
    {
     "name": "stderr",
     "output_type": "stream",
     "text": [
      "\u001b[32m[I 2022-01-26 15:06:30,615]\u001b[0m Trial 35 finished with value: 0.8658023675547728 and parameters: {'iterations': 300, 'learning_rate': 0.1491570806594793, 'random_strength': 9, 'bagging_temperature': 1, 'max_bin': 6, 'grow_policy': 'SymmetricTree', 'max_depth': 3, 'l2_leaf_reg': 0.01471940580521533, 'one_hot_max_size': 500, 'auto_class_weights': 'Balanced'}. Best is trial 31 with value: 0.868623387977953.\u001b[0m\n"
     ]
    },
    {
     "name": "stdout",
     "output_type": "stream",
     "text": [
      "\n",
      "bestTest = 0.4485632728\n",
      "bestIteration = 149\n",
      "\n"
     ]
    },
    {
     "data": {
      "application/vnd.jupyter.widget-view+json": {
       "model_id": "e559ae0cc8b140e48a2f2caf259fcf5c",
       "version_major": 2,
       "version_minor": 0
      },
      "text/plain": [
       "MetricVisualizer(layout=Layout(align_self='stretch', height='500px'))"
      ]
     },
     "metadata": {},
     "output_type": "display_data"
    },
    {
     "name": "stdout",
     "output_type": "stream",
     "text": [
      "Training on fold [0/5]\n",
      "\n",
      "bestTest = 0.45576501\n",
      "bestIteration = 241\n",
      "\n",
      "Training on fold [1/5]\n",
      "\n",
      "bestTest = 0.4652309276\n",
      "bestIteration = 222\n",
      "\n",
      "Training on fold [2/5]\n",
      "\n",
      "bestTest = 0.4523320283\n",
      "bestIteration = 234\n",
      "\n",
      "Training on fold [3/5]\n",
      "\n",
      "bestTest = 0.4514290013\n",
      "bestIteration = 240\n",
      "\n",
      "Training on fold [4/5]\n"
     ]
    },
    {
     "name": "stderr",
     "output_type": "stream",
     "text": [
      "\u001b[32m[I 2022-01-26 15:08:29,847]\u001b[0m Trial 36 finished with value: 0.8691179999511197 and parameters: {'iterations': 1500, 'learning_rate': 0.05782509318844685, 'random_strength': 6, 'bagging_temperature': 6, 'max_bin': 8, 'grow_policy': 'SymmetricTree', 'max_depth': 9, 'l2_leaf_reg': 19.59519475239158, 'one_hot_max_size': 5, 'auto_class_weights': 'Balanced'}. Best is trial 36 with value: 0.8691179999511197.\u001b[0m\n"
     ]
    },
    {
     "name": "stdout",
     "output_type": "stream",
     "text": [
      "\n",
      "bestTest = 0.4432348434\n",
      "bestIteration = 252\n",
      "\n"
     ]
    },
    {
     "data": {
      "application/vnd.jupyter.widget-view+json": {
       "model_id": "78df72aa87a74de0ae65732204080931",
       "version_major": 2,
       "version_minor": 0
      },
      "text/plain": [
       "MetricVisualizer(layout=Layout(align_self='stretch', height='500px'))"
      ]
     },
     "metadata": {},
     "output_type": "display_data"
    },
    {
     "name": "stdout",
     "output_type": "stream",
     "text": [
      "Training on fold [0/5]\n",
      "\n",
      "bestTest = 0.456756076\n",
      "bestIteration = 219\n",
      "\n",
      "Training on fold [1/5]\n",
      "\n",
      "bestTest = 0.4691437706\n",
      "bestIteration = 201\n",
      "\n",
      "Training on fold [2/5]\n",
      "\n",
      "bestTest = 0.4531525201\n",
      "bestIteration = 228\n",
      "\n",
      "Training on fold [3/5]\n",
      "\n",
      "bestTest = 0.4599414115\n",
      "bestIteration = 158\n",
      "\n",
      "Training on fold [4/5]\n"
     ]
    },
    {
     "name": "stderr",
     "output_type": "stream",
     "text": [
      "\u001b[32m[I 2022-01-26 15:10:14,626]\u001b[0m Trial 37 finished with value: 0.8664077366278718 and parameters: {'iterations': 1500, 'learning_rate': 0.049381272672382556, 'random_strength': 6, 'bagging_temperature': 7, 'max_bin': 8, 'grow_policy': 'SymmetricTree', 'max_depth': 9, 'l2_leaf_reg': 4.949898948021792, 'one_hot_max_size': 10, 'auto_class_weights': 'Balanced'}. Best is trial 36 with value: 0.8691179999511197.\u001b[0m\n"
     ]
    },
    {
     "name": "stdout",
     "output_type": "stream",
     "text": [
      "\n",
      "bestTest = 0.4520018394\n",
      "bestIteration = 174\n",
      "\n"
     ]
    },
    {
     "data": {
      "application/vnd.jupyter.widget-view+json": {
       "model_id": "b347e0c39a224e489db10b4396bb358f",
       "version_major": 2,
       "version_minor": 0
      },
      "text/plain": [
       "MetricVisualizer(layout=Layout(align_self='stretch', height='500px'))"
      ]
     },
     "metadata": {},
     "output_type": "display_data"
    },
    {
     "name": "stdout",
     "output_type": "stream",
     "text": [
      "Training on fold [0/5]\n",
      "\n",
      "bestTest = 0.4754187609\n",
      "bestIteration = 109\n",
      "\n",
      "Training on fold [1/5]\n",
      "\n",
      "bestTest = 0.4927614569\n",
      "bestIteration = 79\n",
      "\n",
      "Training on fold [2/5]\n",
      "\n",
      "bestTest = 0.4857874896\n",
      "bestIteration = 72\n",
      "\n",
      "Training on fold [3/5]\n",
      "\n",
      "bestTest = 0.489158783\n",
      "bestIteration = 58\n",
      "\n",
      "Training on fold [4/5]\n"
     ]
    },
    {
     "name": "stderr",
     "output_type": "stream",
     "text": [
      "\u001b[32m[I 2022-01-26 15:11:00,029]\u001b[0m Trial 38 finished with value: 0.8509611808821095 and parameters: {'iterations': 1500, 'learning_rate': 0.058746124286410926, 'random_strength': 8, 'bagging_temperature': 6, 'max_bin': 8, 'grow_policy': 'SymmetricTree', 'max_depth': 9, 'l2_leaf_reg': 0.00020837494437933067, 'one_hot_max_size': 5, 'auto_class_weights': 'Balanced'}. Best is trial 36 with value: 0.8691179999511197.\u001b[0m\n"
     ]
    },
    {
     "name": "stdout",
     "output_type": "stream",
     "text": [
      "\n",
      "bestTest = 0.4816807591\n",
      "bestIteration = 97\n",
      "\n"
     ]
    },
    {
     "data": {
      "application/vnd.jupyter.widget-view+json": {
       "model_id": "ad25a4a74d5b422faf854f465153491c",
       "version_major": 2,
       "version_minor": 0
      },
      "text/plain": [
       "MetricVisualizer(layout=Layout(align_self='stretch', height='500px'))"
      ]
     },
     "metadata": {},
     "output_type": "display_data"
    },
    {
     "name": "stdout",
     "output_type": "stream",
     "text": [
      "Training on fold [0/5]\n",
      "\n",
      "bestTest = 0.4799728533\n",
      "bestIteration = 27\n",
      "\n",
      "Training on fold [1/5]\n",
      "\n",
      "bestTest = 0.5021150283\n",
      "bestIteration = 28\n",
      "\n",
      "Training on fold [2/5]\n",
      "\n",
      "bestTest = 0.4886581964\n",
      "bestIteration = 35\n",
      "\n",
      "Training on fold [3/5]\n",
      "\n",
      "bestTest = 0.4915700797\n",
      "bestIteration = 36\n",
      "\n",
      "Training on fold [4/5]\n"
     ]
    },
    {
     "name": "stderr",
     "output_type": "stream",
     "text": [
      "\u001b[32m[I 2022-01-26 15:11:02,903]\u001b[0m Trial 39 finished with value: 0.8465715359891129 and parameters: {'iterations': 1500, 'learning_rate': 0.13681596355727818, 'random_strength': 7, 'bagging_temperature': 6, 'max_bin': 8, 'grow_policy': 'SymmetricTree', 'max_depth': 9, 'l2_leaf_reg': 0.01681741846683415, 'one_hot_max_size': 500, 'auto_class_weights': 'Balanced'}. Best is trial 36 with value: 0.8691179999511197.\u001b[0m\n"
     ]
    },
    {
     "name": "stdout",
     "output_type": "stream",
     "text": [
      "\n",
      "bestTest = 0.4794646898\n",
      "bestIteration = 42\n",
      "\n"
     ]
    },
    {
     "data": {
      "application/vnd.jupyter.widget-view+json": {
       "model_id": "f032f8f17c624760b081aedef1d18afa",
       "version_major": 2,
       "version_minor": 0
      },
      "text/plain": [
       "MetricVisualizer(layout=Layout(align_self='stretch', height='500px'))"
      ]
     },
     "metadata": {},
     "output_type": "display_data"
    },
    {
     "name": "stdout",
     "output_type": "stream",
     "text": [
      "Training on fold [0/5]\n",
      "\n",
      "bestTest = 0.4602236612\n",
      "bestIteration = 944\n",
      "\n",
      "Training on fold [1/5]\n",
      "\n",
      "bestTest = 0.467833909\n",
      "bestIteration = 998\n",
      "\n",
      "Training on fold [2/5]\n",
      "\n",
      "bestTest = 0.4619646081\n",
      "bestIteration = 904\n",
      "\n",
      "Training on fold [3/5]\n",
      "\n",
      "bestTest = 0.4601061347\n",
      "bestIteration = 996\n",
      "\n",
      "Training on fold [4/5]\n",
      "\n",
      "bestTest = 0.4519712318\n",
      "bestIteration = 998\n",
      "\n"
     ]
    },
    {
     "name": "stderr",
     "output_type": "stream",
     "text": [
      "\u001b[32m[I 2022-01-26 15:11:26,988]\u001b[0m Trial 40 finished with value: 0.8649900842939479 and parameters: {'iterations': 1000, 'learning_rate': 0.025508535042355132, 'random_strength': 9, 'bagging_temperature': 10, 'max_bin': 5, 'grow_policy': 'SymmetricTree', 'max_depth': 2, 'l2_leaf_reg': 0.329955338437481, 'one_hot_max_size': 100, 'auto_class_weights': 'Balanced'}. Best is trial 36 with value: 0.8691179999511197.\u001b[0m\n"
     ]
    },
    {
     "data": {
      "application/vnd.jupyter.widget-view+json": {
       "model_id": "396b9cc6ac4e4c2ab683deca031d4b5d",
       "version_major": 2,
       "version_minor": 0
      },
      "text/plain": [
       "MetricVisualizer(layout=Layout(align_self='stretch', height='500px'))"
      ]
     },
     "metadata": {},
     "output_type": "display_data"
    },
    {
     "name": "stdout",
     "output_type": "stream",
     "text": [
      "Training on fold [0/5]\n",
      "\n",
      "bestTest = 0.4539199127\n",
      "bestIteration = 135\n",
      "\n",
      "Training on fold [1/5]\n",
      "\n",
      "bestTest = 0.4642611313\n",
      "bestIteration = 105\n",
      "\n",
      "Training on fold [2/5]\n",
      "\n",
      "bestTest = 0.451271339\n",
      "bestIteration = 114\n",
      "\n",
      "Training on fold [3/5]\n",
      "\n",
      "bestTest = 0.4517245683\n",
      "bestIteration = 123\n",
      "\n",
      "Training on fold [4/5]\n"
     ]
    },
    {
     "name": "stderr",
     "output_type": "stream",
     "text": [
      "\u001b[32m[I 2022-01-26 15:12:11,115]\u001b[0m Trial 41 finished with value: 0.8689625262349423 and parameters: {'iterations': 1500, 'learning_rate': 0.13124379928420676, 'random_strength': 5, 'bagging_temperature': 7, 'max_bin': 8, 'grow_policy': 'SymmetricTree', 'max_depth': 6, 'l2_leaf_reg': 21.460778100104363, 'one_hot_max_size': 5, 'auto_class_weights': 'Balanced'}. Best is trial 36 with value: 0.8691179999511197.\u001b[0m\n"
     ]
    },
    {
     "name": "stdout",
     "output_type": "stream",
     "text": [
      "\n",
      "bestTest = 0.4413975975\n",
      "bestIteration = 166\n",
      "\n"
     ]
    },
    {
     "data": {
      "application/vnd.jupyter.widget-view+json": {
       "model_id": "cce282ab07a84404b172ca65bab7e5d2",
       "version_major": 2,
       "version_minor": 0
      },
      "text/plain": [
       "MetricVisualizer(layout=Layout(align_self='stretch', height='500px'))"
      ]
     },
     "metadata": {},
     "output_type": "display_data"
    },
    {
     "name": "stdout",
     "output_type": "stream",
     "text": [
      "Training on fold [0/5]\n",
      "\n",
      "bestTest = 0.4550147302\n",
      "bestIteration = 135\n",
      "\n",
      "Training on fold [1/5]\n",
      "\n",
      "bestTest = 0.4632797129\n",
      "bestIteration = 152\n",
      "\n",
      "Training on fold [2/5]\n",
      "\n",
      "bestTest = 0.4529987218\n",
      "bestIteration = 189\n",
      "\n",
      "Training on fold [3/5]\n",
      "\n",
      "bestTest = 0.4533216015\n",
      "bestIteration = 159\n",
      "\n",
      "Training on fold [4/5]\n"
     ]
    },
    {
     "name": "stderr",
     "output_type": "stream",
     "text": [
      "\u001b[32m[I 2022-01-26 15:13:02,283]\u001b[0m Trial 42 finished with value: 0.8685208738740027 and parameters: {'iterations': 1500, 'learning_rate': 0.09369107780601738, 'random_strength': 6, 'bagging_temperature': 8, 'max_bin': 8, 'grow_policy': 'SymmetricTree', 'max_depth': 6, 'l2_leaf_reg': 1.6899148706207925, 'one_hot_max_size': 5, 'auto_class_weights': 'Balanced'}. Best is trial 36 with value: 0.8691179999511197.\u001b[0m\n"
     ]
    },
    {
     "name": "stdout",
     "output_type": "stream",
     "text": [
      "\n",
      "bestTest = 0.44336942\n",
      "bestIteration = 150\n",
      "\n"
     ]
    },
    {
     "data": {
      "application/vnd.jupyter.widget-view+json": {
       "model_id": "97596c48039e42d283b372dfe1a9d4e2",
       "version_major": 2,
       "version_minor": 0
      },
      "text/plain": [
       "MetricVisualizer(layout=Layout(align_self='stretch', height='500px'))"
      ]
     },
     "metadata": {},
     "output_type": "display_data"
    },
    {
     "name": "stdout",
     "output_type": "stream",
     "text": [
      "Training on fold [0/5]\n",
      "\n",
      "bestTest = 0.4560444914\n",
      "bestIteration = 197\n",
      "\n",
      "Training on fold [1/5]\n",
      "\n",
      "bestTest = 0.468288747\n",
      "bestIteration = 199\n",
      "\n",
      "Training on fold [2/5]\n",
      "\n",
      "bestTest = 0.4539409115\n",
      "bestIteration = 220\n",
      "\n",
      "Training on fold [3/5]\n",
      "\n",
      "bestTest = 0.4587027564\n",
      "bestIteration = 189\n",
      "\n",
      "Training on fold [4/5]\n"
     ]
    },
    {
     "name": "stderr",
     "output_type": "stream",
     "text": [
      "\u001b[32m[I 2022-01-26 15:14:27,362]\u001b[0m Trial 43 finished with value: 0.8668700030967557 and parameters: {'iterations': 1500, 'learning_rate': 0.06331053727900046, 'random_strength': 6, 'bagging_temperature': 8, 'max_bin': 8, 'grow_policy': 'SymmetricTree', 'max_depth': 7, 'l2_leaf_reg': 1.900786593243464, 'one_hot_max_size': 5, 'auto_class_weights': 'Balanced'}. Best is trial 36 with value: 0.8691179999511197.\u001b[0m\n"
     ]
    },
    {
     "name": "stdout",
     "output_type": "stream",
     "text": [
      "\n",
      "bestTest = 0.4455519214\n",
      "bestIteration = 210\n",
      "\n"
     ]
    },
    {
     "data": {
      "application/vnd.jupyter.widget-view+json": {
       "model_id": "628ba2d535fa403f915519c0db0c836c",
       "version_major": 2,
       "version_minor": 0
      },
      "text/plain": [
       "MetricVisualizer(layout=Layout(align_self='stretch', height='500px'))"
      ]
     },
     "metadata": {},
     "output_type": "display_data"
    },
    {
     "name": "stdout",
     "output_type": "stream",
     "text": [
      "Training on fold [0/5]\n",
      "\n",
      "bestTest = 0.4561156642\n",
      "bestIteration = 150\n",
      "\n",
      "Training on fold [1/5]\n",
      "\n",
      "bestTest = 0.4627068958\n",
      "bestIteration = 142\n",
      "\n",
      "Training on fold [2/5]\n",
      "\n",
      "bestTest = 0.4544523417\n",
      "bestIteration = 154\n",
      "\n",
      "Training on fold [3/5]\n",
      "\n",
      "bestTest = 0.4529164051\n",
      "bestIteration = 169\n",
      "\n",
      "Training on fold [4/5]\n"
     ]
    },
    {
     "name": "stderr",
     "output_type": "stream",
     "text": [
      "\u001b[32m[I 2022-01-26 15:15:22,874]\u001b[0m Trial 44 finished with value: 0.8682950536828071 and parameters: {'iterations': 1500, 'learning_rate': 0.09636096888970697, 'random_strength': 6, 'bagging_temperature': 7, 'max_bin': 8, 'grow_policy': 'SymmetricTree', 'max_depth': 6, 'l2_leaf_reg': 8.679226567154252, 'one_hot_max_size': 5, 'auto_class_weights': 'Balanced'}. Best is trial 36 with value: 0.8691179999511197.\u001b[0m\n"
     ]
    },
    {
     "name": "stdout",
     "output_type": "stream",
     "text": [
      "\n",
      "bestTest = 0.4437425227\n",
      "bestIteration = 174\n",
      "\n"
     ]
    },
    {
     "data": {
      "application/vnd.jupyter.widget-view+json": {
       "model_id": "77c0aeb1c898410f8eff8fb6fa13a076",
       "version_major": 2,
       "version_minor": 0
      },
      "text/plain": [
       "MetricVisualizer(layout=Layout(align_self='stretch', height='500px'))"
      ]
     },
     "metadata": {},
     "output_type": "display_data"
    },
    {
     "name": "stdout",
     "output_type": "stream",
     "text": [
      "Training on fold [0/5]\n",
      "\n",
      "bestTest = 0.4516850731\n",
      "bestIteration = 354\n",
      "\n",
      "Training on fold [1/5]\n",
      "\n",
      "bestTest = 0.4677607241\n",
      "bestIteration = 321\n",
      "\n",
      "Training on fold [2/5]\n",
      "\n",
      "bestTest = 0.4522586981\n",
      "bestIteration = 319\n",
      "\n",
      "Training on fold [3/5]\n",
      "\n",
      "bestTest = 0.4534826906\n",
      "bestIteration = 364\n",
      "\n",
      "Training on fold [4/5]\n"
     ]
    },
    {
     "name": "stderr",
     "output_type": "stream",
     "text": [
      "\u001b[32m[I 2022-01-26 15:18:11,199]\u001b[0m Trial 45 finished with value: 0.8690915529098812 and parameters: {'iterations': 1500, 'learning_rate': 0.040137316359271646, 'random_strength': 8, 'bagging_temperature': 8, 'max_bin': 8, 'grow_policy': 'SymmetricTree', 'max_depth': 8, 'l2_leaf_reg': 31.863165241478427, 'one_hot_max_size': 5, 'auto_class_weights': 'Balanced'}. Best is trial 36 with value: 0.8691179999511197.\u001b[0m\n"
     ]
    },
    {
     "name": "stdout",
     "output_type": "stream",
     "text": [
      "\n",
      "bestTest = 0.4413194696\n",
      "bestIteration = 402\n",
      "\n"
     ]
    },
    {
     "data": {
      "application/vnd.jupyter.widget-view+json": {
       "model_id": "8a28084d7f534339b4761b2a30a75f24",
       "version_major": 2,
       "version_minor": 0
      },
      "text/plain": [
       "MetricVisualizer(layout=Layout(align_self='stretch', height='500px'))"
      ]
     },
     "metadata": {},
     "output_type": "display_data"
    },
    {
     "name": "stdout",
     "output_type": "stream",
     "text": [
      "Training on fold [0/5]\n",
      "\n",
      "bestTest = 0.4524000625\n",
      "bestIteration = 368\n",
      "\n",
      "Training on fold [1/5]\n",
      "\n",
      "bestTest = 0.4665751252\n",
      "bestIteration = 363\n",
      "\n",
      "Training on fold [2/5]\n",
      "\n",
      "bestTest = 0.4511078695\n",
      "bestIteration = 442\n",
      "\n",
      "Training on fold [3/5]\n",
      "\n",
      "bestTest = 0.4535432973\n",
      "bestIteration = 426\n",
      "\n",
      "Training on fold [4/5]\n"
     ]
    },
    {
     "name": "stderr",
     "output_type": "stream",
     "text": [
      "\u001b[32m[I 2022-01-26 15:21:42,206]\u001b[0m Trial 46 finished with value: 0.8688896879260024 and parameters: {'iterations': 1500, 'learning_rate': 0.03695669381593769, 'random_strength': 10, 'bagging_temperature': 9, 'max_bin': 8, 'grow_policy': 'SymmetricTree', 'max_depth': 9, 'l2_leaf_reg': 47.39666877667559, 'one_hot_max_size': 5, 'auto_class_weights': 'Balanced'}. Best is trial 36 with value: 0.8691179999511197.\u001b[0m\n"
     ]
    },
    {
     "name": "stdout",
     "output_type": "stream",
     "text": [
      "\n",
      "bestTest = 0.4439874736\n",
      "bestIteration = 395\n",
      "\n"
     ]
    },
    {
     "data": {
      "application/vnd.jupyter.widget-view+json": {
       "model_id": "07401644aaba463a9fe9ff66b757e11d",
       "version_major": 2,
       "version_minor": 0
      },
      "text/plain": [
       "MetricVisualizer(layout=Layout(align_self='stretch', height='500px'))"
      ]
     },
     "metadata": {},
     "output_type": "display_data"
    },
    {
     "name": "stdout",
     "output_type": "stream",
     "text": [
      "Training on fold [0/5]\n",
      "\n",
      "bestTest = 0.4513168211\n",
      "bestIteration = 530\n",
      "\n",
      "Training on fold [1/5]\n",
      "\n",
      "bestTest = 0.466604386\n",
      "bestIteration = 548\n",
      "\n",
      "Training on fold [2/5]\n",
      "\n",
      "bestTest = 0.4506277001\n",
      "bestIteration = 606\n",
      "\n",
      "Training on fold [3/5]\n",
      "\n",
      "bestTest = 0.4540052039\n",
      "bestIteration = 561\n",
      "\n",
      "Training on fold [4/5]\n",
      "\n",
      "bestTest = 0.4424055802\n",
      "bestIteration = 570\n",
      "\n"
     ]
    },
    {
     "name": "stderr",
     "output_type": "stream",
     "text": [
      "\u001b[32m[I 2022-01-26 15:26:21,665]\u001b[0m Trial 47 finished with value: 0.8694777014973075 and parameters: {'iterations': 1500, 'learning_rate': 0.02607672451652509, 'random_strength': 10, 'bagging_temperature': 9, 'max_bin': 8, 'grow_policy': 'SymmetricTree', 'max_depth': 9, 'l2_leaf_reg': 40.166476760488095, 'one_hot_max_size': 5, 'auto_class_weights': 'Balanced'}. Best is trial 47 with value: 0.8694777014973075.\u001b[0m\n"
     ]
    },
    {
     "data": {
      "application/vnd.jupyter.widget-view+json": {
       "model_id": "a508e5ba77424ae99960e67c7275d5ed",
       "version_major": 2,
       "version_minor": 0
      },
      "text/plain": [
       "MetricVisualizer(layout=Layout(align_self='stretch', height='500px'))"
      ]
     },
     "metadata": {},
     "output_type": "display_data"
    },
    {
     "name": "stdout",
     "output_type": "stream",
     "text": [
      "Training on fold [0/5]\n",
      "\n",
      "bestTest = 0.4530316565\n",
      "bestIteration = 502\n",
      "\n",
      "Training on fold [1/5]\n",
      "\n",
      "bestTest = 0.4665514104\n",
      "bestIteration = 465\n",
      "\n",
      "Training on fold [2/5]\n",
      "\n",
      "bestTest = 0.4500867164\n",
      "bestIteration = 575\n",
      "\n",
      "Training on fold [3/5]\n",
      "\n",
      "bestTest = 0.4538169794\n",
      "bestIteration = 508\n",
      "\n",
      "Training on fold [4/5]\n"
     ]
    },
    {
     "name": "stderr",
     "output_type": "stream",
     "text": [
      "\u001b[32m[I 2022-01-26 15:30:59,475]\u001b[0m Trial 48 finished with value: 0.8692699670704706 and parameters: {'iterations': 1500, 'learning_rate': 0.02903957348747238, 'random_strength': 10, 'bagging_temperature': 9, 'max_bin': 8, 'grow_policy': 'SymmetricTree', 'max_depth': 9, 'l2_leaf_reg': 48.63222906871405, 'one_hot_max_size': 5, 'auto_class_weights': 'Balanced'}. Best is trial 47 with value: 0.8694777014973075.\u001b[0m\n"
     ]
    },
    {
     "name": "stdout",
     "output_type": "stream",
     "text": [
      "\n",
      "bestTest = 0.4415887703\n",
      "bestIteration = 629\n",
      "\n"
     ]
    },
    {
     "data": {
      "application/vnd.jupyter.widget-view+json": {
       "model_id": "891bf351e4c5431a8a535f133427b4c9",
       "version_major": 2,
       "version_minor": 0
      },
      "text/plain": [
       "MetricVisualizer(layout=Layout(align_self='stretch', height='500px'))"
      ]
     },
     "metadata": {},
     "output_type": "display_data"
    },
    {
     "name": "stdout",
     "output_type": "stream",
     "text": [
      "Training on fold [0/5]\n",
      "\n",
      "bestTest = 0.4916215304\n",
      "bestIteration = 287\n",
      "\n",
      "Training on fold [1/5]\n",
      "\n",
      "bestTest = 0.5062865141\n",
      "bestIteration = 268\n",
      "\n",
      "Training on fold [2/5]\n",
      "\n",
      "bestTest = 0.4991387999\n",
      "bestIteration = 260\n",
      "\n",
      "Training on fold [3/5]\n",
      "\n",
      "bestTest = 0.4978463669\n",
      "bestIteration = 258\n",
      "\n",
      "Training on fold [4/5]\n"
     ]
    },
    {
     "name": "stderr",
     "output_type": "stream",
     "text": [
      "\u001b[32m[I 2022-01-26 15:31:22,014]\u001b[0m Trial 49 finished with value: 0.8471002556186364 and parameters: {'iterations': 1500, 'learning_rate': 0.009857061869506634, 'random_strength': 10, 'bagging_temperature': 9, 'max_bin': 8, 'grow_policy': 'SymmetricTree', 'max_depth': 10, 'l2_leaf_reg': 2.036223340140397e-06, 'one_hot_max_size': 1024, 'auto_class_weights': 'Balanced'}. Best is trial 47 with value: 0.8694777014973075.\u001b[0m\n"
     ]
    },
    {
     "name": "stdout",
     "output_type": "stream",
     "text": [
      "\n",
      "bestTest = 0.489511822\n",
      "bestIteration = 292\n",
      "\n"
     ]
    },
    {
     "data": {
      "application/vnd.jupyter.widget-view+json": {
       "model_id": "c08e934146ed4b2ea34b2b1d454a6563",
       "version_major": 2,
       "version_minor": 0
      },
      "text/plain": [
       "MetricVisualizer(layout=Layout(align_self='stretch', height='500px'))"
      ]
     },
     "metadata": {},
     "output_type": "display_data"
    },
    {
     "name": "stdout",
     "output_type": "stream",
     "text": [
      "Training on fold [0/5]\n",
      "\n",
      "bestTest = 0.451609167\n",
      "bestIteration = 634\n",
      "\n",
      "Training on fold [1/5]\n",
      "\n",
      "bestTest = 0.4628415484\n",
      "bestIteration = 661\n",
      "\n",
      "Training on fold [2/5]\n",
      "\n",
      "bestTest = 0.4507780048\n",
      "bestIteration = 652\n",
      "\n",
      "Training on fold [3/5]\n",
      "\n",
      "bestTest = 0.4556166878\n",
      "bestIteration = 600\n",
      "\n",
      "Training on fold [4/5]\n",
      "\n",
      "bestTest = 0.4424841344\n",
      "bestIteration = 663\n",
      "\n"
     ]
    },
    {
     "name": "stderr",
     "output_type": "stream",
     "text": [
      "\u001b[32m[I 2022-01-26 15:36:30,917]\u001b[0m Trial 50 finished with value: 0.8696074773891876 and parameters: {'iterations': 1500, 'learning_rate': 0.022390550678127702, 'random_strength': 9, 'bagging_temperature': 9, 'max_bin': 8, 'grow_policy': 'SymmetricTree', 'max_depth': 8, 'l2_leaf_reg': 35.68473917744485, 'one_hot_max_size': 5, 'auto_class_weights': 'Balanced'}. Best is trial 50 with value: 0.8696074773891876.\u001b[0m\n"
     ]
    },
    {
     "data": {
      "application/vnd.jupyter.widget-view+json": {
       "model_id": "82081ff1b6a54a71877cd3d68b830ed3",
       "version_major": 2,
       "version_minor": 0
      },
      "text/plain": [
       "MetricVisualizer(layout=Layout(align_self='stretch', height='500px'))"
      ]
     },
     "metadata": {},
     "output_type": "display_data"
    },
    {
     "name": "stdout",
     "output_type": "stream",
     "text": [
      "Training on fold [0/5]\n",
      "\n",
      "bestTest = 0.4517706879\n",
      "bestIteration = 601\n",
      "\n",
      "Training on fold [1/5]\n",
      "\n",
      "bestTest = 0.4644822777\n",
      "bestIteration = 602\n",
      "\n",
      "Training on fold [2/5]\n",
      "\n",
      "bestTest = 0.4520425126\n",
      "bestIteration = 584\n",
      "\n",
      "Training on fold [3/5]\n",
      "\n",
      "bestTest = 0.452608932\n",
      "bestIteration = 636\n",
      "\n",
      "Training on fold [4/5]\n",
      "\n",
      "bestTest = 0.4441296772\n",
      "bestIteration = 621\n",
      "\n"
     ]
    },
    {
     "name": "stderr",
     "output_type": "stream",
     "text": [
      "\u001b[32m[I 2022-01-26 15:41:41,707]\u001b[0m Trial 51 finished with value: 0.8692368208807949 and parameters: {'iterations': 1500, 'learning_rate': 0.02437227321885385, 'random_strength': 9, 'bagging_temperature': 9, 'max_bin': 8, 'grow_policy': 'SymmetricTree', 'max_depth': 8, 'l2_leaf_reg': 39.571542648455164, 'one_hot_max_size': 5, 'auto_class_weights': 'Balanced'}. Best is trial 50 with value: 0.8696074773891876.\u001b[0m\n"
     ]
    },
    {
     "data": {
      "application/vnd.jupyter.widget-view+json": {
       "model_id": "8ff08724f9b1409ab87deacc5ea2583c",
       "version_major": 2,
       "version_minor": 0
      },
      "text/plain": [
       "MetricVisualizer(layout=Layout(align_self='stretch', height='500px'))"
      ]
     },
     "metadata": {},
     "output_type": "display_data"
    },
    {
     "name": "stdout",
     "output_type": "stream",
     "text": [
      "Training on fold [0/5]\n",
      "\n",
      "bestTest = 0.4517564692\n",
      "bestIteration = 518\n",
      "\n",
      "Training on fold [1/5]\n",
      "\n",
      "bestTest = 0.4649992874\n",
      "bestIteration = 551\n",
      "\n",
      "Training on fold [2/5]\n",
      "\n",
      "bestTest = 0.4518733411\n",
      "bestIteration = 701\n",
      "\n",
      "Training on fold [3/5]\n",
      "\n",
      "bestTest = 0.4532398826\n",
      "bestIteration = 602\n",
      "\n",
      "Training on fold [4/5]\n",
      "\n",
      "bestTest = 0.4404675528\n",
      "bestIteration = 645\n",
      "\n"
     ]
    },
    {
     "name": "stderr",
     "output_type": "stream",
     "text": [
      "\u001b[32m[I 2022-01-26 15:46:27,533]\u001b[0m Trial 52 finished with value: 0.8695940341518043 and parameters: {'iterations': 1500, 'learning_rate': 0.027169499177914887, 'random_strength': 9, 'bagging_temperature': 10, 'max_bin': 8, 'grow_policy': 'SymmetricTree', 'max_depth': 8, 'l2_leaf_reg': 90.71192378745138, 'one_hot_max_size': 5, 'auto_class_weights': 'Balanced'}. Best is trial 50 with value: 0.8696074773891876.\u001b[0m\n"
     ]
    },
    {
     "data": {
      "application/vnd.jupyter.widget-view+json": {
       "model_id": "a20a38e7e85f4c3d870814e40bd73afd",
       "version_major": 2,
       "version_minor": 0
      },
      "text/plain": [
       "MetricVisualizer(layout=Layout(align_self='stretch', height='500px'))"
      ]
     },
     "metadata": {},
     "output_type": "display_data"
    },
    {
     "name": "stdout",
     "output_type": "stream",
     "text": [
      "Training on fold [0/5]\n",
      "\n",
      "bestTest = 0.4512486053\n",
      "bestIteration = 826\n",
      "\n",
      "Training on fold [1/5]\n",
      "\n",
      "bestTest = 0.4673026031\n",
      "bestIteration = 752\n",
      "\n",
      "Training on fold [2/5]\n",
      "\n",
      "bestTest = 0.4501290575\n",
      "bestIteration = 943\n",
      "\n",
      "Training on fold [3/5]\n",
      "\n",
      "bestTest = 0.4548917244\n",
      "bestIteration = 777\n",
      "\n",
      "Training on fold [4/5]\n",
      "\n",
      "bestTest = 0.4421721144\n",
      "bestIteration = 892\n",
      "\n"
     ]
    },
    {
     "name": "stderr",
     "output_type": "stream",
     "text": [
      "\u001b[32m[I 2022-01-26 15:54:01,916]\u001b[0m Trial 53 finished with value: 0.8692265086097217 and parameters: {'iterations': 1500, 'learning_rate': 0.018118184940708278, 'random_strength': 9, 'bagging_temperature': 10, 'max_bin': 8, 'grow_policy': 'SymmetricTree', 'max_depth': 9, 'l2_leaf_reg': 93.85459899821991, 'one_hot_max_size': 5, 'auto_class_weights': 'Balanced'}. Best is trial 50 with value: 0.8696074773891876.\u001b[0m\n"
     ]
    },
    {
     "data": {
      "application/vnd.jupyter.widget-view+json": {
       "model_id": "4c88813d1a1d4147aa8bad931110c857",
       "version_major": 2,
       "version_minor": 0
      },
      "text/plain": [
       "MetricVisualizer(layout=Layout(align_self='stretch', height='500px'))"
      ]
     },
     "metadata": {},
     "output_type": "display_data"
    },
    {
     "name": "stdout",
     "output_type": "stream",
     "text": [
      "Training on fold [0/5]\n",
      "\n",
      "bestTest = 0.4520772497\n",
      "bestIteration = 730\n",
      "\n",
      "Training on fold [1/5]\n",
      "\n",
      "bestTest = 0.4653221417\n",
      "bestIteration = 681\n",
      "\n",
      "Training on fold [2/5]\n",
      "\n",
      "bestTest = 0.4518740443\n",
      "bestIteration = 797\n",
      "\n",
      "Training on fold [3/5]\n",
      "\n",
      "bestTest = 0.4536606445\n",
      "bestIteration = 818\n",
      "\n",
      "Training on fold [4/5]\n",
      "\n",
      "bestTest = 0.4418987169\n",
      "bestIteration = 805\n",
      "\n"
     ]
    },
    {
     "name": "stderr",
     "output_type": "stream",
     "text": [
      "\u001b[32m[I 2022-01-26 16:00:28,190]\u001b[0m Trial 54 finished with value: 0.8693196951695985 and parameters: {'iterations': 1500, 'learning_rate': 0.02070592720800253, 'random_strength': 10, 'bagging_temperature': 10, 'max_bin': 8, 'grow_policy': 'SymmetricTree', 'max_depth': 8, 'l2_leaf_reg': 96.04979149895247, 'one_hot_max_size': 5, 'auto_class_weights': 'Balanced'}. Best is trial 50 with value: 0.8696074773891876.\u001b[0m\n"
     ]
    },
    {
     "data": {
      "application/vnd.jupyter.widget-view+json": {
       "model_id": "2716957d83b74350b8b7a8a4a307ed1c",
       "version_major": 2,
       "version_minor": 0
      },
      "text/plain": [
       "MetricVisualizer(layout=Layout(align_self='stretch', height='500px'))"
      ]
     },
     "metadata": {},
     "output_type": "display_data"
    },
    {
     "name": "stdout",
     "output_type": "stream",
     "text": [
      "Training on fold [0/5]\n",
      "\n",
      "bestTest = 0.4529124947\n",
      "bestIteration = 404\n",
      "\n",
      "Training on fold [1/5]\n",
      "\n",
      "bestTest = 0.4654618463\n",
      "bestIteration = 419\n",
      "\n",
      "Training on fold [2/5]\n",
      "\n",
      "bestTest = 0.4536441105\n",
      "bestIteration = 419\n",
      "\n",
      "Training on fold [3/5]\n",
      "\n",
      "bestTest = 0.4549922019\n",
      "bestIteration = 405\n",
      "\n",
      "Training on fold [4/5]\n"
     ]
    },
    {
     "name": "stderr",
     "output_type": "stream",
     "text": [
      "\u001b[32m[I 2022-01-26 16:03:53,966]\u001b[0m Trial 55 finished with value: 0.8686962074598675 and parameters: {'iterations': 1500, 'learning_rate': 0.034281535343183345, 'random_strength': 10, 'bagging_temperature': 10, 'max_bin': 8, 'grow_policy': 'SymmetricTree', 'max_depth': 8, 'l2_leaf_reg': 7.861751896874512, 'one_hot_max_size': 5, 'auto_class_weights': 'Balanced'}. Best is trial 50 with value: 0.8696074773891876.\u001b[0m\n"
     ]
    },
    {
     "name": "stdout",
     "output_type": "stream",
     "text": [
      "\n",
      "bestTest = 0.4444776831\n",
      "bestIteration = 427\n",
      "\n"
     ]
    },
    {
     "data": {
      "application/vnd.jupyter.widget-view+json": {
       "model_id": "0ab3f1bdd63e424da721f4af5da8d72e",
       "version_major": 2,
       "version_minor": 0
      },
      "text/plain": [
       "MetricVisualizer(layout=Layout(align_self='stretch', height='500px'))"
      ]
     },
     "metadata": {},
     "output_type": "display_data"
    },
    {
     "name": "stdout",
     "output_type": "stream",
     "text": [
      "Training on fold [0/5]\n",
      "\n",
      "bestTest = 0.4820977376\n",
      "bestIteration = 1499\n",
      "\n",
      "Training on fold [1/5]\n",
      "\n",
      "bestTest = 0.4944320586\n",
      "bestIteration = 1499\n",
      "\n",
      "Training on fold [2/5]\n",
      "\n",
      "bestTest = 0.4865144121\n",
      "bestIteration = 1499\n",
      "\n",
      "Training on fold [3/5]\n",
      "\n",
      "bestTest = 0.4874961786\n",
      "bestIteration = 1499\n",
      "\n",
      "Training on fold [4/5]\n",
      "\n",
      "bestTest = 0.4817637195\n",
      "bestIteration = 1499\n",
      "\n"
     ]
    },
    {
     "name": "stderr",
     "output_type": "stream",
     "text": [
      "\u001b[32m[I 2022-01-26 16:15:30,700]\u001b[0m Trial 56 finished with value: 0.8596820149749707 and parameters: {'iterations': 1500, 'learning_rate': 0.0024457771239027246, 'random_strength': 9, 'bagging_temperature': 9, 'max_bin': 8, 'grow_policy': 'SymmetricTree', 'max_depth': 8, 'l2_leaf_reg': 46.548044093728834, 'one_hot_max_size': 5, 'auto_class_weights': 'Balanced'}. Best is trial 50 with value: 0.8696074773891876.\u001b[0m\n"
     ]
    },
    {
     "data": {
      "application/vnd.jupyter.widget-view+json": {
       "model_id": "2652c04a74044aceba4adc97e2ec8b8f",
       "version_major": 2,
       "version_minor": 0
      },
      "text/plain": [
       "MetricVisualizer(layout=Layout(align_self='stretch', height='500px'))"
      ]
     },
     "metadata": {},
     "output_type": "display_data"
    },
    {
     "name": "stdout",
     "output_type": "stream",
     "text": [
      "Training on fold [0/5]\n",
      "\n",
      "bestTest = 0.4537205661\n",
      "bestIteration = 639\n",
      "\n",
      "Training on fold [1/5]\n",
      "\n",
      "bestTest = 0.4627896155\n",
      "bestIteration = 689\n",
      "\n",
      "Training on fold [2/5]\n",
      "\n",
      "bestTest = 0.454231622\n",
      "bestIteration = 706\n",
      "\n",
      "Training on fold [3/5]\n",
      "\n",
      "bestTest = 0.4579421715\n",
      "bestIteration = 606\n",
      "\n",
      "Training on fold [4/5]\n",
      "\n",
      "bestTest = 0.4453428638\n",
      "bestIteration = 649\n",
      "\n"
     ]
    },
    {
     "name": "stderr",
     "output_type": "stream",
     "text": [
      "\u001b[32m[I 2022-01-26 16:16:04,141]\u001b[0m Trial 57 finished with value: 0.8686434423522297 and parameters: {'iterations': 1500, 'learning_rate': 0.02033323814211424, 'random_strength': 10, 'bagging_temperature': 10, 'max_bin': 8, 'grow_policy': 'SymmetricTree', 'max_depth': 8, 'l2_leaf_reg': 7.360970579561716, 'one_hot_max_size': 500, 'auto_class_weights': 'Balanced'}. Best is trial 50 with value: 0.8696074773891876.\u001b[0m\n"
     ]
    },
    {
     "data": {
      "application/vnd.jupyter.widget-view+json": {
       "model_id": "b5c2b1413fa9485293a3ca1e10c98071",
       "version_major": 2,
       "version_minor": 0
      },
      "text/plain": [
       "MetricVisualizer(layout=Layout(align_self='stretch', height='500px'))"
      ]
     },
     "metadata": {},
     "output_type": "display_data"
    },
    {
     "name": "stdout",
     "output_type": "stream",
     "text": [
      "Training on fold [0/5]\n",
      "\n",
      "bestTest = 0.4525365255\n",
      "bestIteration = 288\n",
      "\n",
      "Training on fold [1/5]\n",
      "\n",
      "bestTest = 0.4670586794\n",
      "bestIteration = 281\n",
      "\n",
      "Training on fold [2/5]\n",
      "\n",
      "bestTest = 0.4516229128\n",
      "bestIteration = 304\n",
      "\n",
      "Training on fold [3/5]\n",
      "\n",
      "bestTest = 0.453090184\n",
      "bestIteration = 302\n",
      "\n",
      "Training on fold [4/5]\n"
     ]
    },
    {
     "name": "stderr",
     "output_type": "stream",
     "text": [
      "\u001b[32m[I 2022-01-26 16:18:14,130]\u001b[0m Trial 58 finished with value: 0.8692945612233277 and parameters: {'iterations': 1000, 'learning_rate': 0.04831844243705542, 'random_strength': 9, 'bagging_temperature': 9, 'max_bin': 8, 'grow_policy': 'SymmetricTree', 'max_depth': 10, 'l2_leaf_reg': 56.412594382766954, 'one_hot_max_size': 5, 'auto_class_weights': 'Balanced'}. Best is trial 50 with value: 0.8696074773891876.\u001b[0m\n"
     ]
    },
    {
     "name": "stdout",
     "output_type": "stream",
     "text": [
      "\n",
      "bestTest = 0.4422749368\n",
      "bestIteration = 336\n",
      "\n"
     ]
    },
    {
     "data": {
      "application/vnd.jupyter.widget-view+json": {
       "model_id": "bed5e90015be4a23b522012c0eb42125",
       "version_major": 2,
       "version_minor": 0
      },
      "text/plain": [
       "MetricVisualizer(layout=Layout(align_self='stretch', height='500px'))"
      ]
     },
     "metadata": {},
     "output_type": "display_data"
    },
    {
     "name": "stdout",
     "output_type": "stream",
     "text": [
      "Training on fold [0/5]\n",
      "\n",
      "bestTest = 0.4718592219\n",
      "bestIteration = 140\n",
      "\n",
      "Training on fold [1/5]\n",
      "\n",
      "bestTest = 0.4823025006\n",
      "bestIteration = 128\n",
      "\n",
      "Training on fold [2/5]\n",
      "\n",
      "bestTest = 0.4706182111\n",
      "bestIteration = 152\n",
      "\n",
      "Training on fold [3/5]\n",
      "\n",
      "bestTest = 0.4771785479\n",
      "bestIteration = 142\n",
      "\n",
      "Training on fold [4/5]\n"
     ]
    },
    {
     "name": "stderr",
     "output_type": "stream",
     "text": [
      "\u001b[32m[I 2022-01-26 16:18:26,545]\u001b[0m Trial 59 finished with value: 0.8582774008815282 and parameters: {'iterations': 1000, 'learning_rate': 0.04285057459168701, 'random_strength': 10, 'bagging_temperature': 9, 'max_bin': 8, 'grow_policy': 'SymmetricTree', 'max_depth': 10, 'l2_leaf_reg': 0.7502198649369821, 'one_hot_max_size': 100, 'auto_class_weights': 'Balanced'}. Best is trial 50 with value: 0.8696074773891876.\u001b[0m\n"
     ]
    },
    {
     "name": "stdout",
     "output_type": "stream",
     "text": [
      "\n",
      "bestTest = 0.4622810719\n",
      "bestIteration = 173\n",
      "\n"
     ]
    },
    {
     "data": {
      "application/vnd.jupyter.widget-view+json": {
       "model_id": "03bd34c27e5740509146cf72b20bb7ea",
       "version_major": 2,
       "version_minor": 0
      },
      "text/plain": [
       "MetricVisualizer(layout=Layout(align_self='stretch', height='500px'))"
      ]
     },
     "metadata": {},
     "output_type": "display_data"
    },
    {
     "name": "stdout",
     "output_type": "stream",
     "text": [
      "Training on fold [0/5]\n",
      "\n",
      "bestTest = 0.45452513\n",
      "bestIteration = 200\n",
      "\n",
      "Training on fold [1/5]\n",
      "\n",
      "bestTest = 0.4663567926\n",
      "bestIteration = 185\n",
      "\n",
      "Training on fold [2/5]\n",
      "\n",
      "bestTest = 0.455391026\n",
      "bestIteration = 204\n",
      "\n",
      "Training on fold [3/5]\n",
      "\n",
      "bestTest = 0.4537771418\n",
      "bestIteration = 210\n",
      "\n",
      "Training on fold [4/5]\n"
     ]
    },
    {
     "name": "stderr",
     "output_type": "stream",
     "text": [
      "\u001b[32m[I 2022-01-26 16:20:02,892]\u001b[0m Trial 60 finished with value: 0.8682452715412546 and parameters: {'iterations': 1000, 'learning_rate': 0.0707684633019203, 'random_strength': 9, 'bagging_temperature': 10, 'max_bin': 5, 'grow_policy': 'SymmetricTree', 'max_depth': 10, 'l2_leaf_reg': 81.71227354286059, 'one_hot_max_size': 10, 'auto_class_weights': 'Balanced'}. Best is trial 50 with value: 0.8696074773891876.\u001b[0m\n"
     ]
    },
    {
     "name": "stdout",
     "output_type": "stream",
     "text": [
      "\n",
      "bestTest = 0.4413340608\n",
      "bestIteration = 242\n",
      "\n"
     ]
    },
    {
     "data": {
      "application/vnd.jupyter.widget-view+json": {
       "model_id": "abcc3b765bf84ce8b1f8564b5a8894c9",
       "version_major": 2,
       "version_minor": 0
      },
      "text/plain": [
       "MetricVisualizer(layout=Layout(align_self='stretch', height='500px'))"
      ]
     },
     "metadata": {},
     "output_type": "display_data"
    },
    {
     "name": "stdout",
     "output_type": "stream",
     "text": [
      "Training on fold [0/5]\n",
      "\n",
      "bestTest = 0.4535102248\n",
      "bestIteration = 997\n",
      "\n",
      "Training on fold [1/5]\n",
      "\n",
      "bestTest = 0.4670148256\n",
      "bestIteration = 999\n",
      "\n",
      "Training on fold [2/5]\n",
      "\n",
      "bestTest = 0.4551340511\n",
      "bestIteration = 999\n",
      "\n",
      "Training on fold [3/5]\n",
      "\n",
      "bestTest = 0.4568129845\n",
      "bestIteration = 999\n",
      "\n",
      "Training on fold [4/5]\n",
      "\n",
      "bestTest = 0.4480992203\n",
      "bestIteration = 999\n",
      "\n"
     ]
    },
    {
     "name": "stderr",
     "output_type": "stream",
     "text": [
      "\u001b[32m[I 2022-01-26 16:27:55,783]\u001b[0m Trial 61 finished with value: 0.8678612787295199 and parameters: {'iterations': 1000, 'learning_rate': 0.012258709799064875, 'random_strength': 9, 'bagging_temperature': 9, 'max_bin': 8, 'grow_policy': 'SymmetricTree', 'max_depth': 9, 'l2_leaf_reg': 37.737183713376254, 'one_hot_max_size': 5, 'auto_class_weights': 'Balanced'}. Best is trial 50 with value: 0.8696074773891876.\u001b[0m\n"
     ]
    },
    {
     "data": {
      "application/vnd.jupyter.widget-view+json": {
       "model_id": "ff34a258ca6c48d3bcbf87fdfc9bc3de",
       "version_major": 2,
       "version_minor": 0
      },
      "text/plain": [
       "MetricVisualizer(layout=Layout(align_self='stretch', height='500px'))"
      ]
     },
     "metadata": {},
     "output_type": "display_data"
    },
    {
     "name": "stdout",
     "output_type": "stream",
     "text": [
      "Training on fold [0/5]\n",
      "\n",
      "bestTest = 0.4527445718\n",
      "bestIteration = 499\n",
      "\n",
      "Training on fold [1/5]\n",
      "\n",
      "bestTest = 0.4669377052\n",
      "bestIteration = 496\n",
      "\n",
      "Training on fold [2/5]\n",
      "\n",
      "bestTest = 0.4545144984\n",
      "bestIteration = 499\n",
      "\n",
      "Training on fold [3/5]\n",
      "\n",
      "bestTest = 0.4564086372\n",
      "bestIteration = 498\n",
      "\n",
      "Training on fold [4/5]\n"
     ]
    },
    {
     "name": "stderr",
     "output_type": "stream",
     "text": [
      "\u001b[32m[I 2022-01-26 16:31:42,710]\u001b[0m Trial 62 finished with value: 0.8682833137154313 and parameters: {'iterations': 500, 'learning_rate': 0.026842122656220057, 'random_strength': 10, 'bagging_temperature': 9, 'max_bin': 8, 'grow_policy': 'SymmetricTree', 'max_depth': 9, 'l2_leaf_reg': 93.59717508228827, 'one_hot_max_size': 5, 'auto_class_weights': 'Balanced'}. Best is trial 50 with value: 0.8696074773891876.\u001b[0m\n"
     ]
    },
    {
     "name": "stdout",
     "output_type": "stream",
     "text": [
      "\n",
      "bestTest = 0.4455137422\n",
      "bestIteration = 499\n",
      "\n"
     ]
    },
    {
     "data": {
      "application/vnd.jupyter.widget-view+json": {
       "model_id": "326837a8e40c4092bfd701f27a882f70",
       "version_major": 2,
       "version_minor": 0
      },
      "text/plain": [
       "MetricVisualizer(layout=Layout(align_self='stretch', height='500px'))"
      ]
     },
     "metadata": {},
     "output_type": "display_data"
    },
    {
     "name": "stdout",
     "output_type": "stream",
     "text": [
      "Training on fold [0/5]\n",
      "\n",
      "bestTest = 0.462399521\n",
      "bestIteration = 175\n",
      "\n",
      "Training on fold [1/5]\n",
      "\n",
      "bestTest = 0.47010587\n",
      "bestIteration = 230\n",
      "\n",
      "Training on fold [2/5]\n",
      "\n",
      "bestTest = 0.4623404158\n",
      "bestIteration = 196\n",
      "\n",
      "Training on fold [3/5]\n",
      "\n",
      "bestTest = 0.4589608151\n",
      "bestIteration = 286\n",
      "\n",
      "Training on fold [4/5]\n"
     ]
    },
    {
     "name": "stderr",
     "output_type": "stream",
     "text": [
      "\u001b[32m[I 2022-01-26 16:33:20,570]\u001b[0m Trial 63 finished with value: 0.8658304450946416 and parameters: {'iterations': 1500, 'learning_rate': 0.048630044425395876, 'random_strength': 9, 'bagging_temperature': 8, 'max_bin': 8, 'grow_policy': 'SymmetricTree', 'max_depth': 10, 'l2_leaf_reg': 10.220437656909871, 'one_hot_max_size': 5, 'auto_class_weights': 'Balanced'}. Best is trial 50 with value: 0.8696074773891876.\u001b[0m\n"
     ]
    },
    {
     "name": "stdout",
     "output_type": "stream",
     "text": [
      "\n",
      "bestTest = 0.4444824412\n",
      "bestIteration = 275\n",
      "\n"
     ]
    },
    {
     "data": {
      "application/vnd.jupyter.widget-view+json": {
       "model_id": "67a354b560bb42099bef6b23276439df",
       "version_major": 2,
       "version_minor": 0
      },
      "text/plain": [
       "MetricVisualizer(layout=Layout(align_self='stretch', height='500px'))"
      ]
     },
     "metadata": {},
     "output_type": "display_data"
    },
    {
     "name": "stdout",
     "output_type": "stream",
     "text": [
      "Training on fold [0/5]\n",
      "\n",
      "bestTest = 0.455800987\n",
      "bestIteration = 442\n",
      "\n",
      "Training on fold [1/5]\n",
      "\n",
      "bestTest = 0.4687804855\n",
      "bestIteration = 427\n",
      "\n",
      "Training on fold [2/5]\n",
      "\n",
      "bestTest = 0.4524089767\n",
      "bestIteration = 546\n",
      "\n",
      "Training on fold [3/5]\n",
      "\n",
      "bestTest = 0.4586884361\n",
      "bestIteration = 425\n",
      "\n",
      "Training on fold [4/5]\n",
      "\n",
      "bestTest = 0.4439509891\n",
      "bestIteration = 542\n",
      "\n"
     ]
    },
    {
     "name": "stderr",
     "output_type": "stream",
     "text": [
      "\u001b[32m[I 2022-01-26 16:36:45,707]\u001b[0m Trial 64 finished with value: 0.867932840307762 and parameters: {'iterations': 1500, 'learning_rate': 0.02735256426542132, 'random_strength': 8, 'bagging_temperature': 10, 'max_bin': 6, 'grow_policy': 'SymmetricTree', 'max_depth': 8, 'l2_leaf_reg': 2.9149112161454482, 'one_hot_max_size': 5, 'auto_class_weights': 'Balanced'}. Best is trial 50 with value: 0.8696074773891876.\u001b[0m\n"
     ]
    },
    {
     "data": {
      "application/vnd.jupyter.widget-view+json": {
       "model_id": "991ad45db80243f9bf7de3df2ff5af88",
       "version_major": 2,
       "version_minor": 0
      },
      "text/plain": [
       "MetricVisualizer(layout=Layout(align_self='stretch', height='500px'))"
      ]
     },
     "metadata": {},
     "output_type": "display_data"
    },
    {
     "name": "stdout",
     "output_type": "stream",
     "text": [
      "Training on fold [0/5]\n",
      "\n",
      "bestTest = 0.475861151\n",
      "bestIteration = 999\n",
      "\n",
      "Training on fold [1/5]\n",
      "\n",
      "bestTest = 0.4886341539\n",
      "bestIteration = 999\n",
      "\n",
      "Training on fold [2/5]\n",
      "\n",
      "bestTest = 0.4792025377\n",
      "bestIteration = 999\n",
      "\n",
      "Training on fold [3/5]\n",
      "\n",
      "bestTest = 0.479301429\n",
      "bestIteration = 999\n",
      "\n",
      "Training on fold [4/5]\n",
      "\n",
      "bestTest = 0.4743468285\n",
      "bestIteration = 999\n",
      "\n"
     ]
    },
    {
     "name": "stderr",
     "output_type": "stream",
     "text": [
      "\u001b[32m[I 2022-01-26 16:43:17,632]\u001b[0m Trial 65 finished with value: 0.8607406870385865 and parameters: {'iterations': 1000, 'learning_rate': 0.005316637645229853, 'random_strength': 10, 'bagging_temperature': 9, 'max_bin': 8, 'grow_policy': 'SymmetricTree', 'max_depth': 7, 'l2_leaf_reg': 38.90600218477495, 'one_hot_max_size': 5, 'auto_class_weights': 'Balanced'}. Best is trial 50 with value: 0.8696074773891876.\u001b[0m\n"
     ]
    },
    {
     "data": {
      "application/vnd.jupyter.widget-view+json": {
       "model_id": "23db6c2a4a58485a8b59b0dbbc294539",
       "version_major": 2,
       "version_minor": 0
      },
      "text/plain": [
       "MetricVisualizer(layout=Layout(align_self='stretch', height='500px'))"
      ]
     },
     "metadata": {},
     "output_type": "display_data"
    },
    {
     "name": "stdout",
     "output_type": "stream",
     "text": [
      "Training on fold [0/5]\n",
      "\n",
      "bestTest = 0.4541801087\n",
      "bestIteration = 722\n",
      "\n",
      "Training on fold [1/5]\n",
      "\n",
      "bestTest = 0.4681479096\n",
      "bestIteration = 678\n",
      "\n",
      "Training on fold [2/5]\n",
      "\n",
      "bestTest = 0.4515597406\n",
      "bestIteration = 884\n",
      "\n",
      "Training on fold [3/5]\n",
      "\n",
      "bestTest = 0.4575415499\n",
      "bestIteration = 757\n",
      "\n",
      "Training on fold [4/5]\n",
      "\n",
      "bestTest = 0.4452557056\n",
      "bestIteration = 857\n",
      "\n"
     ]
    },
    {
     "name": "stderr",
     "output_type": "stream",
     "text": [
      "\u001b[32m[I 2022-01-26 16:49:13,462]\u001b[0m Trial 66 finished with value: 0.8679689987962579 and parameters: {'iterations': 1500, 'learning_rate': 0.01689671201634786, 'random_strength': 10, 'bagging_temperature': 10, 'max_bin': 4, 'grow_policy': 'SymmetricTree', 'max_depth': 9, 'l2_leaf_reg': 10.99927339643926, 'one_hot_max_size': 5, 'auto_class_weights': 'Balanced'}. Best is trial 50 with value: 0.8696074773891876.\u001b[0m\n"
     ]
    },
    {
     "data": {
      "application/vnd.jupyter.widget-view+json": {
       "model_id": "32b67df5b05743a9952ad4eb96b1fd88",
       "version_major": 2,
       "version_minor": 0
      },
      "text/plain": [
       "MetricVisualizer(layout=Layout(align_self='stretch', height='500px'))"
      ]
     },
     "metadata": {},
     "output_type": "display_data"
    },
    {
     "name": "stdout",
     "output_type": "stream",
     "text": [
      "Training on fold [0/5]\n",
      "\n",
      "bestTest = 0.4575772919\n",
      "bestIteration = 250\n",
      "\n",
      "Training on fold [1/5]\n",
      "\n",
      "bestTest = 0.4640143234\n",
      "bestIteration = 261\n",
      "\n",
      "Training on fold [2/5]\n",
      "\n",
      "bestTest = 0.4541584584\n",
      "bestIteration = 291\n",
      "\n",
      "Training on fold [3/5]\n",
      "\n",
      "bestTest = 0.4559088714\n",
      "bestIteration = 254\n",
      "\n",
      "Training on fold [4/5]\n"
     ]
    },
    {
     "name": "stderr",
     "output_type": "stream",
     "text": [
      "\u001b[32m[I 2022-01-26 16:49:27,667]\u001b[0m Trial 67 finished with value: 0.8678932118576276 and parameters: {'iterations': 1200, 'learning_rate': 0.05239079510413963, 'random_strength': 9, 'bagging_temperature': 8, 'max_bin': 8, 'grow_policy': 'SymmetricTree', 'max_depth': 8, 'l2_leaf_reg': 4.565894129561205, 'one_hot_max_size': 1024, 'auto_class_weights': 'Balanced'}. Best is trial 50 with value: 0.8696074773891876.\u001b[0m\n"
     ]
    },
    {
     "name": "stdout",
     "output_type": "stream",
     "text": [
      "\n",
      "bestTest = 0.4474323601\n",
      "bestIteration = 260\n",
      "\n"
     ]
    },
    {
     "data": {
      "application/vnd.jupyter.widget-view+json": {
       "model_id": "4eee14f1f44a4589a9ee525dba7cb97f",
       "version_major": 2,
       "version_minor": 0
      },
      "text/plain": [
       "MetricVisualizer(layout=Layout(align_self='stretch', height='500px'))"
      ]
     },
     "metadata": {},
     "output_type": "display_data"
    },
    {
     "name": "stdout",
     "output_type": "stream",
     "text": [
      "Training on fold [0/5]\n",
      "\n",
      "bestTest = 0.4531028806\n",
      "bestIteration = 409\n",
      "\n",
      "Training on fold [1/5]\n",
      "\n",
      "bestTest = 0.467084805\n",
      "bestIteration = 424\n",
      "\n",
      "Training on fold [2/5]\n",
      "\n",
      "bestTest = 0.4536708879\n",
      "bestIteration = 441\n",
      "\n",
      "Training on fold [3/5]\n",
      "\n",
      "bestTest = 0.4536403851\n",
      "bestIteration = 415\n",
      "\n",
      "Training on fold [4/5]\n"
     ]
    },
    {
     "name": "stderr",
     "output_type": "stream",
     "text": [
      "\u001b[32m[I 2022-01-26 16:52:28,794]\u001b[0m Trial 68 finished with value: 0.8690227076587345 and parameters: {'iterations': 1500, 'learning_rate': 0.03244704166745377, 'random_strength': 8, 'bagging_temperature': 8, 'max_bin': 8, 'grow_policy': 'SymmetricTree', 'max_depth': 10, 'l2_leaf_reg': 34.58742148212441, 'one_hot_max_size': 5, 'auto_class_weights': 'Balanced'}. Best is trial 50 with value: 0.8696074773891876.\u001b[0m\n"
     ]
    },
    {
     "name": "stdout",
     "output_type": "stream",
     "text": [
      "\n",
      "bestTest = 0.4420079142\n",
      "bestIteration = 459\n",
      "\n"
     ]
    },
    {
     "data": {
      "application/vnd.jupyter.widget-view+json": {
       "model_id": "1496e19a709d4b859fafc1cca889bc73",
       "version_major": 2,
       "version_minor": 0
      },
      "text/plain": [
       "MetricVisualizer(layout=Layout(align_self='stretch', height='500px'))"
      ]
     },
     "metadata": {},
     "output_type": "display_data"
    },
    {
     "name": "stdout",
     "output_type": "stream",
     "text": [
      "Training on fold [0/5]\n",
      "\n",
      "bestTest = 0.5840655361\n",
      "bestIteration = 499\n",
      "\n",
      "Training on fold [1/5]\n",
      "\n",
      "bestTest = 0.5880710152\n",
      "bestIteration = 499\n",
      "\n",
      "Training on fold [2/5]\n",
      "\n",
      "bestTest = 0.5860599383\n",
      "bestIteration = 499\n",
      "\n",
      "Training on fold [3/5]\n",
      "\n",
      "bestTest = 0.5889430805\n",
      "bestIteration = 499\n",
      "\n",
      "Training on fold [4/5]\n"
     ]
    },
    {
     "name": "stderr",
     "output_type": "stream",
     "text": [
      "\u001b[32m[I 2022-01-26 16:55:40,710]\u001b[0m Trial 69 finished with value: 0.8479012720354577 and parameters: {'iterations': 500, 'learning_rate': 0.0011781072451653163, 'random_strength': 9, 'bagging_temperature': 9, 'max_bin': 8, 'grow_policy': 'SymmetricTree', 'max_depth': 8, 'l2_leaf_reg': 0.00041468289958679794, 'one_hot_max_size': 5, 'auto_class_weights': 'Balanced'}. Best is trial 50 with value: 0.8696074773891876.\u001b[0m\n"
     ]
    },
    {
     "name": "stdout",
     "output_type": "stream",
     "text": [
      "\n",
      "bestTest = 0.5831734922\n",
      "bestIteration = 499\n",
      "\n"
     ]
    },
    {
     "data": {
      "application/vnd.jupyter.widget-view+json": {
       "model_id": "a816602673d14ebdafea1ffc78669128",
       "version_major": 2,
       "version_minor": 0
      },
      "text/plain": [
       "MetricVisualizer(layout=Layout(align_self='stretch', height='500px'))"
      ]
     },
     "metadata": {},
     "output_type": "display_data"
    },
    {
     "name": "stdout",
     "output_type": "stream",
     "text": [
      "Training on fold [0/5]\n",
      "\n",
      "bestTest = 0.455692689\n",
      "bestIteration = 190\n",
      "\n",
      "Training on fold [1/5]\n",
      "\n",
      "bestTest = 0.466477355\n",
      "bestIteration = 205\n",
      "\n",
      "Training on fold [2/5]\n",
      "\n",
      "bestTest = 0.4553438386\n",
      "bestIteration = 207\n",
      "\n",
      "Training on fold [3/5]\n",
      "\n",
      "bestTest = 0.4563609641\n",
      "bestIteration = 192\n",
      "\n",
      "Training on fold [4/5]\n"
     ]
    },
    {
     "name": "stderr",
     "output_type": "stream",
     "text": [
      "\u001b[32m[I 2022-01-26 16:56:55,918]\u001b[0m Trial 70 finished with value: 0.8668786386977958 and parameters: {'iterations': 1500, 'learning_rate': 0.06900716008190771, 'random_strength': 10, 'bagging_temperature': 10, 'max_bin': 8, 'grow_policy': 'SymmetricTree', 'max_depth': 7, 'l2_leaf_reg': 1.5110344388769843, 'one_hot_max_size': 5, 'auto_class_weights': 'Balanced'}. Best is trial 50 with value: 0.8696074773891876.\u001b[0m\n"
     ]
    },
    {
     "name": "stdout",
     "output_type": "stream",
     "text": [
      "\n",
      "bestTest = 0.4476676928\n",
      "bestIteration = 221\n",
      "\n"
     ]
    },
    {
     "data": {
      "application/vnd.jupyter.widget-view+json": {
       "model_id": "04f7afbd06164d1f9f04e5ee31600265",
       "version_major": 2,
       "version_minor": 0
      },
      "text/plain": [
       "MetricVisualizer(layout=Layout(align_self='stretch', height='500px'))"
      ]
     },
     "metadata": {},
     "output_type": "display_data"
    },
    {
     "name": "stdout",
     "output_type": "stream",
     "text": [
      "Training on fold [0/5]\n",
      "\n",
      "bestTest = 0.4512521661\n",
      "bestIteration = 745\n",
      "\n",
      "Training on fold [1/5]\n",
      "\n",
      "bestTest = 0.4667512679\n",
      "bestIteration = 745\n",
      "\n",
      "Training on fold [2/5]\n",
      "\n",
      "bestTest = 0.4520758061\n",
      "bestIteration = 821\n",
      "\n",
      "Training on fold [3/5]\n",
      "\n",
      "bestTest = 0.4530359554\n",
      "bestIteration = 841\n",
      "\n",
      "Training on fold [4/5]\n",
      "\n",
      "bestTest = 0.4427440972\n",
      "bestIteration = 887\n",
      "\n"
     ]
    },
    {
     "name": "stderr",
     "output_type": "stream",
     "text": [
      "\u001b[32m[I 2022-01-26 17:03:23,286]\u001b[0m Trial 71 finished with value: 0.8691966023598401 and parameters: {'iterations': 1500, 'learning_rate': 0.01901512466773215, 'random_strength': 9, 'bagging_temperature': 10, 'max_bin': 8, 'grow_policy': 'SymmetricTree', 'max_depth': 9, 'l2_leaf_reg': 89.95829694979462, 'one_hot_max_size': 5, 'auto_class_weights': 'Balanced'}. Best is trial 50 with value: 0.8696074773891876.\u001b[0m\n"
     ]
    },
    {
     "data": {
      "application/vnd.jupyter.widget-view+json": {
       "model_id": "e8fd892cfeea4f97a44bdf1c542f0f5a",
       "version_major": 2,
       "version_minor": 0
      },
      "text/plain": [
       "MetricVisualizer(layout=Layout(align_self='stretch', height='500px'))"
      ]
     },
     "metadata": {},
     "output_type": "display_data"
    },
    {
     "name": "stdout",
     "output_type": "stream",
     "text": [
      "Training on fold [0/5]\n",
      "\n",
      "bestTest = 0.4508833084\n",
      "bestIteration = 315\n",
      "\n",
      "Training on fold [1/5]\n",
      "\n",
      "bestTest = 0.4666367874\n",
      "bestIteration = 327\n",
      "\n",
      "Training on fold [2/5]\n",
      "\n",
      "bestTest = 0.450918289\n",
      "bestIteration = 356\n",
      "\n",
      "Training on fold [3/5]\n",
      "\n",
      "bestTest = 0.4521623077\n",
      "bestIteration = 379\n",
      "\n",
      "Training on fold [4/5]\n"
     ]
    },
    {
     "name": "stderr",
     "output_type": "stream",
     "text": [
      "\u001b[32m[I 2022-01-26 17:06:02,152]\u001b[0m Trial 72 finished with value: 0.869563535027941 and parameters: {'iterations': 1500, 'learning_rate': 0.043985330597282345, 'random_strength': 9, 'bagging_temperature': 10, 'max_bin': 8, 'grow_policy': 'SymmetricTree', 'max_depth': 9, 'l2_leaf_reg': 56.395540142485245, 'one_hot_max_size': 5, 'auto_class_weights': 'Balanced'}. Best is trial 50 with value: 0.8696074773891876.\u001b[0m\n"
     ]
    },
    {
     "name": "stdout",
     "output_type": "stream",
     "text": [
      "\n",
      "bestTest = 0.4427028571\n",
      "bestIteration = 326\n",
      "\n"
     ]
    },
    {
     "data": {
      "application/vnd.jupyter.widget-view+json": {
       "model_id": "8a282bd0bd6a4e45afdac2df7713fe62",
       "version_major": 2,
       "version_minor": 0
      },
      "text/plain": [
       "MetricVisualizer(layout=Layout(align_self='stretch', height='500px'))"
      ]
     },
     "metadata": {},
     "output_type": "display_data"
    },
    {
     "name": "stdout",
     "output_type": "stream",
     "text": [
      "Training on fold [0/5]\n",
      "\n",
      "bestTest = 0.4516941286\n",
      "bestIteration = 180\n",
      "\n",
      "Training on fold [1/5]\n",
      "\n",
      "bestTest = 0.4651113535\n",
      "bestIteration = 168\n",
      "\n",
      "Training on fold [2/5]\n",
      "\n",
      "bestTest = 0.4503806007\n",
      "bestIteration = 216\n",
      "\n",
      "Training on fold [3/5]\n",
      "\n",
      "bestTest = 0.4559996473\n",
      "bestIteration = 178\n",
      "\n",
      "Training on fold [4/5]\n"
     ]
    },
    {
     "name": "stderr",
     "output_type": "stream",
     "text": [
      "\u001b[32m[I 2022-01-26 17:07:21,856]\u001b[0m Trial 73 finished with value: 0.8686268646860945 and parameters: {'iterations': 1500, 'learning_rate': 0.08095927233896498, 'random_strength': 10, 'bagging_temperature': 9, 'max_bin': 8, 'grow_policy': 'SymmetricTree', 'max_depth': 8, 'l2_leaf_reg': 14.48278698934299, 'one_hot_max_size': 5, 'auto_class_weights': 'Balanced'}. Best is trial 50 with value: 0.8696074773891876.\u001b[0m\n"
     ]
    },
    {
     "name": "stdout",
     "output_type": "stream",
     "text": [
      "\n",
      "bestTest = 0.4456830333\n",
      "bestIteration = 175\n",
      "\n"
     ]
    },
    {
     "data": {
      "application/vnd.jupyter.widget-view+json": {
       "model_id": "033fa50149aa4ad381823c9be80ffdc6",
       "version_major": 2,
       "version_minor": 0
      },
      "text/plain": [
       "MetricVisualizer(layout=Layout(align_self='stretch', height='500px'))"
      ]
     },
     "metadata": {},
     "output_type": "display_data"
    },
    {
     "name": "stdout",
     "output_type": "stream",
     "text": [
      "Training on fold [0/5]\n",
      "\n",
      "bestTest = 0.4521848305\n",
      "bestIteration = 308\n",
      "\n",
      "Training on fold [1/5]\n",
      "\n",
      "bestTest = 0.4653788424\n",
      "bestIteration = 280\n",
      "\n",
      "Training on fold [2/5]\n",
      "\n",
      "bestTest = 0.452222022\n",
      "bestIteration = 319\n",
      "\n",
      "Training on fold [3/5]\n",
      "\n",
      "bestTest = 0.4545512069\n",
      "bestIteration = 290\n",
      "\n",
      "Training on fold [4/5]\n"
     ]
    },
    {
     "name": "stderr",
     "output_type": "stream",
     "text": [
      "\u001b[32m[I 2022-01-26 17:09:32,205]\u001b[0m Trial 74 finished with value: 0.8689277753399441 and parameters: {'iterations': 1500, 'learning_rate': 0.047439968026008306, 'random_strength': 8, 'bagging_temperature': 9, 'max_bin': 8, 'grow_policy': 'SymmetricTree', 'max_depth': 10, 'l2_leaf_reg': 47.504364584804534, 'one_hot_max_size': 5, 'auto_class_weights': 'Balanced'}. Best is trial 50 with value: 0.8696074773891876.\u001b[0m\n"
     ]
    },
    {
     "name": "stdout",
     "output_type": "stream",
     "text": [
      "\n",
      "bestTest = 0.4445431497\n",
      "bestIteration = 326\n",
      "\n"
     ]
    },
    {
     "data": {
      "application/vnd.jupyter.widget-view+json": {
       "model_id": "7aa6d2fdc9f34b17a9acc2e5f3c96c1b",
       "version_major": 2,
       "version_minor": 0
      },
      "text/plain": [
       "MetricVisualizer(layout=Layout(align_self='stretch', height='500px'))"
      ]
     },
     "metadata": {},
     "output_type": "display_data"
    },
    {
     "name": "stdout",
     "output_type": "stream",
     "text": [
      "Training on fold [0/5]\n",
      "\n",
      "bestTest = 0.4548923137\n",
      "bestIteration = 402\n",
      "\n",
      "Training on fold [1/5]\n",
      "\n",
      "bestTest = 0.4655870936\n",
      "bestIteration = 431\n",
      "\n",
      "Training on fold [2/5]\n",
      "\n",
      "bestTest = 0.451188983\n",
      "bestIteration = 450\n",
      "\n",
      "Training on fold [3/5]\n",
      "\n",
      "bestTest = 0.455287204\n",
      "bestIteration = 445\n",
      "\n",
      "Training on fold [4/5]\n"
     ]
    },
    {
     "name": "stderr",
     "output_type": "stream",
     "text": [
      "\u001b[32m[I 2022-01-26 17:12:50,451]\u001b[0m Trial 75 finished with value: 0.8687532182388544 and parameters: {'iterations': 1000, 'learning_rate': 0.031032754104378592, 'random_strength': 10, 'bagging_temperature': 10, 'max_bin': 6, 'grow_policy': 'SymmetricTree', 'max_depth': 9, 'l2_leaf_reg': 27.677695140599454, 'one_hot_max_size': 5, 'auto_class_weights': 'Balanced'}. Best is trial 50 with value: 0.8696074773891876.\u001b[0m\n"
     ]
    },
    {
     "name": "stdout",
     "output_type": "stream",
     "text": [
      "\n",
      "bestTest = 0.4429294754\n",
      "bestIteration = 484\n",
      "\n"
     ]
    },
    {
     "data": {
      "application/vnd.jupyter.widget-view+json": {
       "model_id": "0da05aab7039445db38ccc0d54ac02fd",
       "version_major": 2,
       "version_minor": 0
      },
      "text/plain": [
       "MetricVisualizer(layout=Layout(align_self='stretch', height='500px'))"
      ]
     },
     "metadata": {},
     "output_type": "display_data"
    },
    {
     "name": "stdout",
     "output_type": "stream",
     "text": [
      "Training on fold [0/5]\n",
      "\n",
      "bestTest = 0.454239187\n",
      "bestIteration = 277\n",
      "\n",
      "Training on fold [1/5]\n",
      "\n",
      "bestTest = 0.4706281585\n",
      "bestIteration = 267\n",
      "\n",
      "Training on fold [2/5]\n",
      "\n",
      "bestTest = 0.4546860119\n",
      "bestIteration = 290\n",
      "\n",
      "Training on fold [3/5]\n",
      "\n",
      "bestTest = 0.4604775504\n",
      "bestIteration = 265\n",
      "\n",
      "Training on fold [4/5]\n"
     ]
    },
    {
     "name": "stderr",
     "output_type": "stream",
     "text": [
      "\u001b[32m[I 2022-01-26 17:15:01,937]\u001b[0m Trial 76 finished with value: 0.8666180324744068 and parameters: {'iterations': 1500, 'learning_rate': 0.04300575866839145, 'random_strength': 9, 'bagging_temperature': 9, 'max_bin': 4, 'grow_policy': 'SymmetricTree', 'max_depth': 9, 'l2_leaf_reg': 4.943250301487569, 'one_hot_max_size': 5, 'auto_class_weights': 'Balanced'}. Best is trial 50 with value: 0.8696074773891876.\u001b[0m\n"
     ]
    },
    {
     "name": "stdout",
     "output_type": "stream",
     "text": [
      "\n",
      "bestTest = 0.4473765259\n",
      "bestIteration = 328\n",
      "\n"
     ]
    },
    {
     "data": {
      "application/vnd.jupyter.widget-view+json": {
       "model_id": "2e2f60a83374492ba74b0335607d0049",
       "version_major": 2,
       "version_minor": 0
      },
      "text/plain": [
       "MetricVisualizer(layout=Layout(align_self='stretch', height='500px'))"
      ]
     },
     "metadata": {},
     "output_type": "display_data"
    },
    {
     "name": "stdout",
     "output_type": "stream",
     "text": [
      "Training on fold [0/5]\n",
      "\n",
      "bestTest = 0.4529918682\n",
      "bestIteration = 225\n",
      "\n",
      "Training on fold [1/5]\n",
      "\n",
      "bestTest = 0.4658784752\n",
      "bestIteration = 240\n",
      "\n",
      "Training on fold [2/5]\n",
      "\n",
      "bestTest = 0.4508361249\n",
      "bestIteration = 246\n",
      "\n",
      "Training on fold [3/5]\n",
      "\n",
      "bestTest = 0.4547432501\n",
      "bestIteration = 234\n",
      "\n",
      "Training on fold [4/5]\n"
     ]
    },
    {
     "name": "stderr",
     "output_type": "stream",
     "text": [
      "\u001b[32m[I 2022-01-26 17:16:51,469]\u001b[0m Trial 77 finished with value: 0.8686921370439581 and parameters: {'iterations': 1500, 'learning_rate': 0.057200895556883645, 'random_strength': 9, 'bagging_temperature': 10, 'max_bin': 5, 'grow_policy': 'SymmetricTree', 'max_depth': 8, 'l2_leaf_reg': 12.39352517250405, 'one_hot_max_size': 10, 'auto_class_weights': 'Balanced'}. Best is trial 50 with value: 0.8696074773891876.\u001b[0m\n"
     ]
    },
    {
     "name": "stdout",
     "output_type": "stream",
     "text": [
      "\n",
      "bestTest = 0.4456645559\n",
      "bestIteration = 252\n",
      "\n"
     ]
    },
    {
     "data": {
      "application/vnd.jupyter.widget-view+json": {
       "model_id": "89e5d0245416474baaeee5688d03d602",
       "version_major": 2,
       "version_minor": 0
      },
      "text/plain": [
       "MetricVisualizer(layout=Layout(align_self='stretch', height='500px'))"
      ]
     },
     "metadata": {},
     "output_type": "display_data"
    },
    {
     "name": "stdout",
     "output_type": "stream",
     "text": [
      "Training on fold [0/5]\n",
      "\n",
      "bestTest = 0.4533858541\n",
      "bestIteration = 1102\n",
      "\n",
      "Training on fold [1/5]\n",
      "\n",
      "bestTest = 0.4604176137\n",
      "bestIteration = 1198\n",
      "\n",
      "Training on fold [2/5]\n",
      "\n",
      "bestTest = 0.4529551169\n",
      "bestIteration = 1119\n",
      "\n",
      "Training on fold [3/5]\n",
      "\n",
      "bestTest = 0.4539551489\n",
      "bestIteration = 1144\n",
      "\n",
      "Training on fold [4/5]\n",
      "\n",
      "bestTest = 0.4434601827\n",
      "bestIteration = 1199\n",
      "\n"
     ]
    },
    {
     "name": "stderr",
     "output_type": "stream",
     "text": [
      "\u001b[32m[I 2022-01-26 17:17:47,372]\u001b[0m Trial 78 finished with value: 0.8693917698005904 and parameters: {'iterations': 1200, 'learning_rate': 0.0129951773537475, 'random_strength': 9, 'bagging_temperature': 8, 'max_bin': 8, 'grow_policy': 'SymmetricTree', 'max_depth': 7, 'l2_leaf_reg': 49.41548581369964, 'one_hot_max_size': 500, 'auto_class_weights': 'Balanced'}. Best is trial 50 with value: 0.8696074773891876.\u001b[0m\n"
     ]
    },
    {
     "data": {
      "application/vnd.jupyter.widget-view+json": {
       "model_id": "37c4b728729d4bffac8983ed581e2e80",
       "version_major": 2,
       "version_minor": 0
      },
      "text/plain": [
       "MetricVisualizer(layout=Layout(align_self='stretch', height='500px'))"
      ]
     },
     "metadata": {},
     "output_type": "display_data"
    },
    {
     "name": "stdout",
     "output_type": "stream",
     "text": [
      "Training on fold [0/5]\n",
      "\n",
      "bestTest = 0.4712587663\n",
      "bestIteration = 419\n",
      "\n",
      "Training on fold [1/5]\n",
      "\n",
      "bestTest = 0.485764505\n",
      "bestIteration = 389\n",
      "\n",
      "Training on fold [2/5]\n",
      "\n",
      "bestTest = 0.4809165707\n",
      "bestIteration = 369\n",
      "\n",
      "Training on fold [3/5]\n",
      "\n",
      "bestTest = 0.4790506116\n",
      "bestIteration = 424\n",
      "\n",
      "Training on fold [4/5]\n"
     ]
    },
    {
     "name": "stderr",
     "output_type": "stream",
     "text": [
      "\u001b[32m[I 2022-01-26 17:18:05,759]\u001b[0m Trial 79 finished with value: 0.8563951559611456 and parameters: {'iterations': 1200, 'learning_rate': 0.014097888173987223, 'random_strength': 8, 'bagging_temperature': 8, 'max_bin': 8, 'grow_policy': 'SymmetricTree', 'max_depth': 7, 'l2_leaf_reg': 6.420693446980915e-05, 'one_hot_max_size': 500, 'auto_class_weights': 'Balanced'}. Best is trial 50 with value: 0.8696074773891876.\u001b[0m\n"
     ]
    },
    {
     "name": "stdout",
     "output_type": "stream",
     "text": [
      "\n",
      "bestTest = 0.4671397427\n",
      "bestIteration = 450\n",
      "\n"
     ]
    },
    {
     "data": {
      "application/vnd.jupyter.widget-view+json": {
       "model_id": "5b13b748d7ad4d2baef7689dffe34e00",
       "version_major": 2,
       "version_minor": 0
      },
      "text/plain": [
       "MetricVisualizer(layout=Layout(align_self='stretch', height='500px'))"
      ]
     },
     "metadata": {},
     "output_type": "display_data"
    },
    {
     "name": "stdout",
     "output_type": "stream",
     "text": [
      "Training on fold [0/5]\n",
      "\n",
      "bestTest = 0.4551056304\n",
      "bestIteration = 1199\n",
      "\n",
      "Training on fold [1/5]\n",
      "\n",
      "bestTest = 0.465146177\n",
      "bestIteration = 1199\n",
      "\n",
      "Training on fold [2/5]\n",
      "\n",
      "bestTest = 0.4563498879\n",
      "bestIteration = 1199\n",
      "\n",
      "Training on fold [3/5]\n",
      "\n",
      "bestTest = 0.4570094206\n",
      "bestIteration = 1199\n",
      "\n",
      "Training on fold [4/5]\n",
      "\n",
      "bestTest = 0.4479565914\n",
      "bestIteration = 1199\n",
      "\n"
     ]
    },
    {
     "name": "stderr",
     "output_type": "stream",
     "text": [
      "\u001b[32m[I 2022-01-26 17:19:03,008]\u001b[0m Trial 80 finished with value: 0.8678407110192883 and parameters: {'iterations': 1200, 'learning_rate': 0.010664733844041693, 'random_strength': 10, 'bagging_temperature': 10, 'max_bin': 8, 'grow_policy': 'SymmetricTree', 'max_depth': 7, 'l2_leaf_reg': 62.65458264363936, 'one_hot_max_size': 500, 'auto_class_weights': 'Balanced'}. Best is trial 50 with value: 0.8696074773891876.\u001b[0m\n"
     ]
    },
    {
     "data": {
      "application/vnd.jupyter.widget-view+json": {
       "model_id": "8de6d33023b74495b38b41709d0be333",
       "version_major": 2,
       "version_minor": 0
      },
      "text/plain": [
       "MetricVisualizer(layout=Layout(align_self='stretch', height='500px'))"
      ]
     },
     "metadata": {},
     "output_type": "display_data"
    },
    {
     "name": "stdout",
     "output_type": "stream",
     "text": [
      "Training on fold [0/5]\n",
      "\n",
      "bestTest = 0.4539737734\n",
      "bestIteration = 559\n",
      "\n",
      "Training on fold [1/5]\n",
      "\n",
      "bestTest = 0.4639945651\n",
      "bestIteration = 585\n",
      "\n",
      "Training on fold [2/5]\n",
      "\n",
      "bestTest = 0.4515210549\n",
      "bestIteration = 667\n",
      "\n",
      "Training on fold [3/5]\n",
      "\n",
      "bestTest = 0.4545080404\n",
      "bestIteration = 605\n",
      "\n",
      "Training on fold [4/5]\n"
     ]
    },
    {
     "name": "stderr",
     "output_type": "stream",
     "text": [
      "\u001b[32m[I 2022-01-26 17:19:35,943]\u001b[0m Trial 81 finished with value: 0.8689951955682738 and parameters: {'iterations': 1200, 'learning_rate': 0.023425430955652613, 'random_strength': 9, 'bagging_temperature': 9, 'max_bin': 8, 'grow_policy': 'SymmetricTree', 'max_depth': 8, 'l2_leaf_reg': 31.52425758832173, 'one_hot_max_size': 500, 'auto_class_weights': 'Balanced'}. Best is trial 50 with value: 0.8696074773891876.\u001b[0m\n"
     ]
    },
    {
     "name": "stdout",
     "output_type": "stream",
     "text": [
      "\n",
      "bestTest = 0.4440259728\n",
      "bestIteration = 586\n",
      "\n"
     ]
    },
    {
     "data": {
      "application/vnd.jupyter.widget-view+json": {
       "model_id": "9029c9c63e544c518bf742abe030fb4e",
       "version_major": 2,
       "version_minor": 0
      },
      "text/plain": [
       "MetricVisualizer(layout=Layout(align_self='stretch', height='500px'))"
      ]
     },
     "metadata": {},
     "output_type": "display_data"
    },
    {
     "name": "stdout",
     "output_type": "stream",
     "text": [
      "Training on fold [0/5]\n",
      "\n",
      "bestTest = 0.4523073267\n",
      "bestIteration = 387\n",
      "\n",
      "Training on fold [1/5]\n",
      "\n",
      "bestTest = 0.4600845135\n",
      "bestIteration = 435\n",
      "\n",
      "Training on fold [2/5]\n",
      "\n",
      "bestTest = 0.4511793459\n",
      "bestIteration = 455\n",
      "\n",
      "Training on fold [3/5]\n",
      "\n",
      "bestTest = 0.4534709068\n",
      "bestIteration = 397\n",
      "\n",
      "Training on fold [4/5]\n"
     ]
    },
    {
     "name": "stderr",
     "output_type": "stream",
     "text": [
      "\u001b[32m[I 2022-01-26 17:19:58,654]\u001b[0m Trial 82 finished with value: 0.8700183743522392 and parameters: {'iterations': 1200, 'learning_rate': 0.037220657529181016, 'random_strength': 8, 'bagging_temperature': 9, 'max_bin': 8, 'grow_policy': 'SymmetricTree', 'max_depth': 8, 'l2_leaf_reg': 62.754825532816156, 'one_hot_max_size': 500, 'auto_class_weights': 'Balanced'}. Best is trial 82 with value: 0.8700183743522392.\u001b[0m\n"
     ]
    },
    {
     "name": "stdout",
     "output_type": "stream",
     "text": [
      "\n",
      "bestTest = 0.4425506717\n",
      "bestIteration = 437\n",
      "\n"
     ]
    },
    {
     "data": {
      "application/vnd.jupyter.widget-view+json": {
       "model_id": "9e94e1db17cd40c79190c7ee86cedf7e",
       "version_major": 2,
       "version_minor": 0
      },
      "text/plain": [
       "MetricVisualizer(layout=Layout(align_self='stretch', height='500px'))"
      ]
     },
     "metadata": {},
     "output_type": "display_data"
    },
    {
     "name": "stdout",
     "output_type": "stream",
     "text": [
      "Training on fold [0/5]\n",
      "\n",
      "bestTest = 0.4578483876\n",
      "bestIteration = 229\n",
      "\n",
      "Training on fold [1/5]\n",
      "\n",
      "bestTest = 0.4627278099\n",
      "bestIteration = 334\n",
      "\n",
      "Training on fold [2/5]\n",
      "\n",
      "bestTest = 0.4547685435\n",
      "bestIteration = 345\n",
      "\n",
      "Training on fold [3/5]\n",
      "\n",
      "bestTest = 0.4547951634\n",
      "bestIteration = 343\n",
      "\n",
      "Training on fold [4/5]\n"
     ]
    },
    {
     "name": "stderr",
     "output_type": "stream",
     "text": [
      "\u001b[32m[I 2022-01-26 17:20:18,053]\u001b[0m Trial 83 finished with value: 0.8684303690085041 and parameters: {'iterations': 1200, 'learning_rate': 0.03902713688836003, 'random_strength': 8, 'bagging_temperature': 8, 'max_bin': 8, 'grow_policy': 'SymmetricTree', 'max_depth': 9, 'l2_leaf_reg': 16.46310070649067, 'one_hot_max_size': 500, 'auto_class_weights': 'Balanced'}. Best is trial 82 with value: 0.8700183743522392.\u001b[0m\n"
     ]
    },
    {
     "name": "stdout",
     "output_type": "stream",
     "text": [
      "\n",
      "bestTest = 0.4458011995\n",
      "bestIteration = 306\n",
      "\n"
     ]
    },
    {
     "data": {
      "application/vnd.jupyter.widget-view+json": {
       "model_id": "5ac8998c5f0e4ea09837e8394e8242d9",
       "version_major": 2,
       "version_minor": 0
      },
      "text/plain": [
       "MetricVisualizer(layout=Layout(align_self='stretch', height='500px'))"
      ]
     },
     "metadata": {},
     "output_type": "display_data"
    },
    {
     "name": "stdout",
     "output_type": "stream",
     "text": [
      "Training on fold [0/5]\n",
      "\n",
      "bestTest = 0.4532971314\n",
      "bestIteration = 466\n",
      "\n",
      "Training on fold [1/5]\n",
      "\n",
      "bestTest = 0.4585768348\n",
      "bestIteration = 573\n",
      "\n",
      "Training on fold [2/5]\n",
      "\n",
      "bestTest = 0.45214446\n",
      "bestIteration = 519\n",
      "\n",
      "Training on fold [3/5]\n",
      "\n",
      "bestTest = 0.4536360058\n",
      "bestIteration = 518\n",
      "\n",
      "Training on fold [4/5]\n"
     ]
    },
    {
     "name": "stderr",
     "output_type": "stream",
     "text": [
      "\u001b[32m[I 2022-01-26 17:20:41,784]\u001b[0m Trial 84 finished with value: 0.8698256501392292 and parameters: {'iterations': 1200, 'learning_rate': 0.03123781068509615, 'random_strength': 10, 'bagging_temperature': 10, 'max_bin': 8, 'grow_policy': 'SymmetricTree', 'max_depth': 7, 'l2_leaf_reg': 55.438976753390506, 'one_hot_max_size': 500, 'auto_class_weights': 'Balanced'}. Best is trial 82 with value: 0.8700183743522392.\u001b[0m\n"
     ]
    },
    {
     "name": "stdout",
     "output_type": "stream",
     "text": [
      "\n",
      "bestTest = 0.4428740915\n",
      "bestIteration = 484\n",
      "\n"
     ]
    },
    {
     "data": {
      "application/vnd.jupyter.widget-view+json": {
       "model_id": "97e8382ac9d343a7a7669bde9778a335",
       "version_major": 2,
       "version_minor": 0
      },
      "text/plain": [
       "MetricVisualizer(layout=Layout(align_self='stretch', height='500px'))"
      ]
     },
     "metadata": {},
     "output_type": "display_data"
    },
    {
     "name": "stdout",
     "output_type": "stream",
     "text": [
      "Training on fold [0/5]\n",
      "\n",
      "bestTest = 0.4518583422\n",
      "bestIteration = 184\n",
      "\n",
      "Training on fold [1/5]\n",
      "\n",
      "bestTest = 0.4624357598\n",
      "bestIteration = 177\n",
      "\n",
      "Training on fold [2/5]\n",
      "\n",
      "bestTest = 0.4517749535\n",
      "bestIteration = 210\n",
      "\n",
      "Training on fold [3/5]\n",
      "\n",
      "bestTest = 0.4529999567\n",
      "bestIteration = 213\n",
      "\n",
      "Training on fold [4/5]\n"
     ]
    },
    {
     "name": "stderr",
     "output_type": "stream",
     "text": [
      "\u001b[32m[I 2022-01-26 17:20:51,237]\u001b[0m Trial 85 finished with value: 0.8697012195934425 and parameters: {'iterations': 1200, 'learning_rate': 0.0638116167665751, 'random_strength': 1, 'bagging_temperature': 10, 'max_bin': 8, 'grow_policy': 'SymmetricTree', 'max_depth': 7, 'l2_leaf_reg': 61.36033583609983, 'one_hot_max_size': 500, 'auto_class_weights': 'Balanced'}. Best is trial 82 with value: 0.8700183743522392.\u001b[0m\n"
     ]
    },
    {
     "name": "stdout",
     "output_type": "stream",
     "text": [
      "\n",
      "bestTest = 0.4412589404\n",
      "bestIteration = 203\n",
      "\n"
     ]
    },
    {
     "data": {
      "application/vnd.jupyter.widget-view+json": {
       "model_id": "317bc99d7fc74a53b99d6a6f6a166eac",
       "version_major": 2,
       "version_minor": 0
      },
      "text/plain": [
       "MetricVisualizer(layout=Layout(align_self='stretch', height='500px'))"
      ]
     },
     "metadata": {},
     "output_type": "display_data"
    },
    {
     "name": "stdout",
     "output_type": "stream",
     "text": [
      "Training on fold [0/5]\n",
      "\n",
      "bestTest = 0.4528660447\n",
      "bestIteration = 424\n",
      "\n",
      "Training on fold [1/5]\n",
      "\n",
      "bestTest = 0.4599551254\n",
      "bestIteration = 507\n",
      "\n",
      "Training on fold [2/5]\n",
      "\n",
      "bestTest = 0.4523354422\n",
      "bestIteration = 503\n",
      "\n",
      "Training on fold [3/5]\n",
      "\n",
      "bestTest = 0.454164043\n",
      "bestIteration = 443\n",
      "\n",
      "Training on fold [4/5]\n"
     ]
    },
    {
     "name": "stderr",
     "output_type": "stream",
     "text": [
      "\u001b[32m[I 2022-01-26 17:21:13,846]\u001b[0m Trial 86 finished with value: 0.8698150864852721 and parameters: {'iterations': 1200, 'learning_rate': 0.03416140490492777, 'random_strength': 7, 'bagging_temperature': 10, 'max_bin': 8, 'grow_policy': 'SymmetricTree', 'max_depth': 7, 'l2_leaf_reg': 94.8641858031453, 'one_hot_max_size': 500, 'auto_class_weights': 'Balanced'}. Best is trial 82 with value: 0.8700183743522392.\u001b[0m\n"
     ]
    },
    {
     "name": "stdout",
     "output_type": "stream",
     "text": [
      "\n",
      "bestTest = 0.4413765138\n",
      "bestIteration = 546\n",
      "\n"
     ]
    },
    {
     "data": {
      "application/vnd.jupyter.widget-view+json": {
       "model_id": "25a380e89fb44003be6b164a164a3527",
       "version_major": 2,
       "version_minor": 0
      },
      "text/plain": [
       "MetricVisualizer(layout=Layout(align_self='stretch', height='500px'))"
      ]
     },
     "metadata": {},
     "output_type": "display_data"
    },
    {
     "name": "stdout",
     "output_type": "stream",
     "text": [
      "Training on fold [0/5]\n",
      "\n",
      "bestTest = 0.4541712709\n",
      "bestIteration = 149\n",
      "\n",
      "Training on fold [1/5]\n",
      "\n",
      "bestTest = 0.4611896276\n",
      "bestIteration = 162\n",
      "\n",
      "Training on fold [2/5]\n",
      "\n",
      "bestTest = 0.4536360189\n",
      "bestIteration = 146\n",
      "\n",
      "Training on fold [3/5]\n",
      "\n",
      "bestTest = 0.4543116553\n",
      "bestIteration = 155\n",
      "\n",
      "Training on fold [4/5]\n"
     ]
    },
    {
     "name": "stderr",
     "output_type": "stream",
     "text": [
      "\u001b[32m[I 2022-01-26 17:21:21,467]\u001b[0m Trial 87 finished with value: 0.8690843718204138 and parameters: {'iterations': 1200, 'learning_rate': 0.06817850103106474, 'random_strength': 1, 'bagging_temperature': 10, 'max_bin': 8, 'grow_policy': 'SymmetricTree', 'max_depth': 7, 'l2_leaf_reg': 21.978158419875523, 'one_hot_max_size': 500, 'auto_class_weights': 'Balanced'}. Best is trial 82 with value: 0.8700183743522392.\u001b[0m\n"
     ]
    },
    {
     "name": "stdout",
     "output_type": "stream",
     "text": [
      "\n",
      "bestTest = 0.443255763\n",
      "bestIteration = 149\n",
      "\n"
     ]
    },
    {
     "data": {
      "application/vnd.jupyter.widget-view+json": {
       "model_id": "add4891c6a0044de8a661c10bd203ed4",
       "version_major": 2,
       "version_minor": 0
      },
      "text/plain": [
       "MetricVisualizer(layout=Layout(align_self='stretch', height='500px'))"
      ]
     },
     "metadata": {},
     "output_type": "display_data"
    },
    {
     "name": "stdout",
     "output_type": "stream",
     "text": [
      "Training on fold [0/5]\n",
      "\n",
      "bestTest = 0.4554757633\n",
      "bestIteration = 364\n",
      "\n",
      "Training on fold [1/5]\n",
      "\n",
      "bestTest = 0.4607283275\n",
      "bestIteration = 385\n",
      "\n",
      "Training on fold [2/5]\n",
      "\n",
      "bestTest = 0.4545213821\n",
      "bestIteration = 394\n",
      "\n",
      "Training on fold [3/5]\n",
      "\n",
      "bestTest = 0.4566497599\n",
      "bestIteration = 352\n",
      "\n",
      "Training on fold [4/5]\n"
     ]
    },
    {
     "name": "stderr",
     "output_type": "stream",
     "text": [
      "\u001b[32m[I 2022-01-26 17:21:39,724]\u001b[0m Trial 88 finished with value: 0.8680935849634597 and parameters: {'iterations': 1200, 'learning_rate': 0.0375445861828973, 'random_strength': 7, 'bagging_temperature': 10, 'max_bin': 8, 'grow_policy': 'SymmetricTree', 'max_depth': 7, 'l2_leaf_reg': 5.870751798140565, 'one_hot_max_size': 500, 'auto_class_weights': 'Balanced'}. Best is trial 82 with value: 0.8700183743522392.\u001b[0m\n"
     ]
    },
    {
     "name": "stdout",
     "output_type": "stream",
     "text": [
      "\n",
      "bestTest = 0.4468335615\n",
      "bestIteration = 386\n",
      "\n"
     ]
    },
    {
     "data": {
      "application/vnd.jupyter.widget-view+json": {
       "model_id": "1e085f07362d41f9b216871425197708",
       "version_major": 2,
       "version_minor": 0
      },
      "text/plain": [
       "MetricVisualizer(layout=Layout(align_self='stretch', height='500px'))"
      ]
     },
     "metadata": {},
     "output_type": "display_data"
    },
    {
     "name": "stdout",
     "output_type": "stream",
     "text": [
      "Training on fold [0/5]\n",
      "\n",
      "bestTest = 0.4568662413\n",
      "bestIteration = 118\n",
      "\n",
      "Training on fold [1/5]\n",
      "\n",
      "bestTest = 0.4641642443\n",
      "bestIteration = 125\n",
      "\n",
      "Training on fold [2/5]\n",
      "\n",
      "bestTest = 0.4559278929\n",
      "bestIteration = 140\n",
      "\n",
      "Training on fold [3/5]\n",
      "\n",
      "bestTest = 0.4548710712\n",
      "bestIteration = 196\n",
      "\n",
      "Training on fold [4/5]\n"
     ]
    },
    {
     "name": "stderr",
     "output_type": "stream",
     "text": [
      "\u001b[32m[I 2022-01-26 17:21:47,040]\u001b[0m Trial 89 finished with value: 0.8680955085529487 and parameters: {'iterations': 1200, 'learning_rate': 0.05595914108498808, 'random_strength': 1, 'bagging_temperature': 10, 'max_bin': 6, 'grow_policy': 'SymmetricTree', 'max_depth': 7, 'l2_leaf_reg': 3.0668509603768164, 'one_hot_max_size': 500, 'auto_class_weights': 'Balanced'}. Best is trial 82 with value: 0.8700183743522392.\u001b[0m\n"
     ]
    },
    {
     "name": "stdout",
     "output_type": "stream",
     "text": [
      "\n",
      "bestTest = 0.4437698422\n",
      "bestIteration = 146\n",
      "\n"
     ]
    },
    {
     "data": {
      "application/vnd.jupyter.widget-view+json": {
       "model_id": "6dba9c2955744d6ab7e692f622929058",
       "version_major": 2,
       "version_minor": 0
      },
      "text/plain": [
       "MetricVisualizer(layout=Layout(align_self='stretch', height='500px'))"
      ]
     },
     "metadata": {},
     "output_type": "display_data"
    },
    {
     "name": "stdout",
     "output_type": "stream",
     "text": [
      "Training on fold [0/5]\n",
      "\n",
      "bestTest = 0.4700941214\n",
      "bestIteration = 700\n",
      "\n",
      "Training on fold [1/5]\n",
      "\n",
      "bestTest = 0.4816423197\n",
      "bestIteration = 684\n",
      "\n",
      "Training on fold [2/5]\n",
      "\n",
      "bestTest = 0.4755316936\n",
      "bestIteration = 653\n",
      "\n",
      "Training on fold [3/5]\n",
      "\n",
      "bestTest = 0.4714789972\n",
      "bestIteration = 852\n",
      "\n",
      "Training on fold [4/5]\n",
      "\n",
      "bestTest = 0.4641840559\n",
      "bestIteration = 824\n",
      "\n"
     ]
    },
    {
     "name": "stderr",
     "output_type": "stream",
     "text": [
      "\u001b[32m[I 2022-01-26 17:22:21,100]\u001b[0m Trial 90 finished with value: 0.8586783109763715 and parameters: {'iterations': 1200, 'learning_rate': 0.008215387769493428, 'random_strength': 8, 'bagging_temperature': 10, 'max_bin': 4, 'grow_policy': 'SymmetricTree', 'max_depth': 7, 'l2_leaf_reg': 0.005494109707906634, 'one_hot_max_size': 500, 'auto_class_weights': 'Balanced'}. Best is trial 82 with value: 0.8700183743522392.\u001b[0m\n"
     ]
    },
    {
     "data": {
      "application/vnd.jupyter.widget-view+json": {
       "model_id": "a41346109d0b40b1b86943bdfac46bde",
       "version_major": 2,
       "version_minor": 0
      },
      "text/plain": [
       "MetricVisualizer(layout=Layout(align_self='stretch', height='500px'))"
      ]
     },
     "metadata": {},
     "output_type": "display_data"
    },
    {
     "name": "stdout",
     "output_type": "stream",
     "text": [
      "Training on fold [0/5]\n",
      "\n",
      "bestTest = 0.4515637594\n",
      "bestIteration = 500\n",
      "\n",
      "Training on fold [1/5]\n",
      "\n",
      "bestTest = 0.4586056352\n",
      "bestIteration = 570\n",
      "\n",
      "Training on fold [2/5]\n",
      "\n",
      "bestTest = 0.4523628431\n",
      "bestIteration = 518\n",
      "\n",
      "Training on fold [3/5]\n",
      "\n",
      "bestTest = 0.4523220163\n",
      "bestIteration = 518\n",
      "\n",
      "Training on fold [4/5]\n"
     ]
    },
    {
     "name": "stderr",
     "output_type": "stream",
     "text": [
      "\u001b[32m[I 2022-01-26 17:22:44,998]\u001b[0m Trial 91 finished with value: 0.8704345800352724 and parameters: {'iterations': 1200, 'learning_rate': 0.032532364424905896, 'random_strength': 7, 'bagging_temperature': 10, 'max_bin': 8, 'grow_policy': 'SymmetricTree', 'max_depth': 7, 'l2_leaf_reg': 90.47412147528497, 'one_hot_max_size': 500, 'auto_class_weights': 'Balanced'}. Best is trial 91 with value: 0.8704345800352724.\u001b[0m\n"
     ]
    },
    {
     "name": "stdout",
     "output_type": "stream",
     "text": [
      "\n",
      "bestTest = 0.440423152\n",
      "bestIteration = 546\n",
      "\n"
     ]
    },
    {
     "data": {
      "application/vnd.jupyter.widget-view+json": {
       "model_id": "0f611946834f415f855820fb0563eeff",
       "version_major": 2,
       "version_minor": 0
      },
      "text/plain": [
       "MetricVisualizer(layout=Layout(align_self='stretch', height='500px'))"
      ]
     },
     "metadata": {},
     "output_type": "display_data"
    },
    {
     "name": "stdout",
     "output_type": "stream",
     "text": [
      "Training on fold [0/5]\n",
      "\n",
      "bestTest = 0.4539178336\n",
      "bestIteration = 408\n",
      "\n",
      "Training on fold [1/5]\n",
      "\n",
      "bestTest = 0.4625582057\n",
      "bestIteration = 452\n",
      "\n",
      "Training on fold [2/5]\n",
      "\n",
      "bestTest = 0.4507877124\n",
      "bestIteration = 500\n",
      "\n",
      "Training on fold [3/5]\n",
      "\n",
      "bestTest = 0.4531769368\n",
      "bestIteration = 413\n",
      "\n",
      "Training on fold [4/5]\n"
     ]
    },
    {
     "name": "stderr",
     "output_type": "stream",
     "text": [
      "\u001b[32m[I 2022-01-26 17:23:05,080]\u001b[0m Trial 92 finished with value: 0.8694847679540038 and parameters: {'iterations': 1200, 'learning_rate': 0.03308001665223882, 'random_strength': 7, 'bagging_temperature': 10, 'max_bin': 8, 'grow_policy': 'SymmetricTree', 'max_depth': 7, 'l2_leaf_reg': 25.554579585479043, 'one_hot_max_size': 500, 'auto_class_weights': 'Balanced'}. Best is trial 91 with value: 0.8704345800352724.\u001b[0m\n"
     ]
    },
    {
     "name": "stdout",
     "output_type": "stream",
     "text": [
      "\n",
      "bestTest = 0.4425631308\n",
      "bestIteration = 448\n",
      "\n"
     ]
    },
    {
     "data": {
      "application/vnd.jupyter.widget-view+json": {
       "model_id": "567b8bd6cb8042afbc903e0b8874d80f",
       "version_major": 2,
       "version_minor": 0
      },
      "text/plain": [
       "MetricVisualizer(layout=Layout(align_self='stretch', height='500px'))"
      ]
     },
     "metadata": {},
     "output_type": "display_data"
    },
    {
     "name": "stdout",
     "output_type": "stream",
     "text": [
      "Training on fold [0/5]\n",
      "\n",
      "bestTest = 0.4524922132\n",
      "bestIteration = 343\n",
      "\n",
      "Training on fold [1/5]\n",
      "\n",
      "bestTest = 0.4605181132\n",
      "bestIteration = 380\n",
      "\n",
      "Training on fold [2/5]\n",
      "\n",
      "bestTest = 0.452861299\n",
      "bestIteration = 369\n",
      "\n",
      "Training on fold [3/5]\n",
      "\n",
      "bestTest = 0.4543793214\n",
      "bestIteration = 364\n",
      "\n",
      "Training on fold [4/5]\n"
     ]
    },
    {
     "name": "stderr",
     "output_type": "stream",
     "text": [
      "\u001b[32m[I 2022-01-26 17:23:20,254]\u001b[0m Trial 93 finished with value: 0.8692459537463831 and parameters: {'iterations': 1200, 'learning_rate': 0.044029906668511, 'random_strength': 7, 'bagging_temperature': 10, 'max_bin': 8, 'grow_policy': 'SymmetricTree', 'max_depth': 6, 'l2_leaf_reg': 26.36604478577444, 'one_hot_max_size': 500, 'auto_class_weights': 'Balanced'}. Best is trial 91 with value: 0.8704345800352724.\u001b[0m\n"
     ]
    },
    {
     "name": "stdout",
     "output_type": "stream",
     "text": [
      "\n",
      "bestTest = 0.4436266493\n",
      "bestIteration = 378\n",
      "\n"
     ]
    },
    {
     "data": {
      "application/vnd.jupyter.widget-view+json": {
       "model_id": "af77a278b8264646b51e8d13cebbf7ef",
       "version_major": 2,
       "version_minor": 0
      },
      "text/plain": [
       "MetricVisualizer(layout=Layout(align_self='stretch', height='500px'))"
      ]
     },
     "metadata": {},
     "output_type": "display_data"
    },
    {
     "name": "stdout",
     "output_type": "stream",
     "text": [
      "Training on fold [0/5]\n",
      "\n",
      "bestTest = 0.4545168027\n",
      "bestIteration = 216\n",
      "\n",
      "Training on fold [1/5]\n",
      "\n",
      "bestTest = 0.4641127077\n",
      "bestIteration = 249\n",
      "\n",
      "Training on fold [2/5]\n",
      "\n",
      "bestTest = 0.4505176263\n",
      "bestIteration = 295\n",
      "\n",
      "Training on fold [3/5]\n",
      "\n",
      "bestTest = 0.4545978738\n",
      "bestIteration = 217\n",
      "\n",
      "Training on fold [4/5]\n"
     ]
    },
    {
     "name": "stderr",
     "output_type": "stream",
     "text": [
      "\u001b[32m[I 2022-01-26 17:23:31,360]\u001b[0m Trial 94 finished with value: 0.8688980900241601 and parameters: {'iterations': 1200, 'learning_rate': 0.06209374759860688, 'random_strength': 7, 'bagging_temperature': 10, 'max_bin': 8, 'grow_policy': 'SymmetricTree', 'max_depth': 7, 'l2_leaf_reg': 13.07652550962233, 'one_hot_max_size': 500, 'auto_class_weights': 'Balanced'}. Best is trial 91 with value: 0.8704345800352724.\u001b[0m\n"
     ]
    },
    {
     "name": "stdout",
     "output_type": "stream",
     "text": [
      "\n",
      "bestTest = 0.4432205927\n",
      "bestIteration = 243\n",
      "\n"
     ]
    },
    {
     "data": {
      "application/vnd.jupyter.widget-view+json": {
       "model_id": "18fd6b0c435b43e28cfcd3b7338da583",
       "version_major": 2,
       "version_minor": 0
      },
      "text/plain": [
       "MetricVisualizer(layout=Layout(align_self='stretch', height='500px'))"
      ]
     },
     "metadata": {},
     "output_type": "display_data"
    },
    {
     "name": "stdout",
     "output_type": "stream",
     "text": [
      "Training on fold [0/5]\n",
      "\n",
      "bestTest = 0.4529492334\n",
      "bestIteration = 431\n",
      "\n",
      "Training on fold [1/5]\n",
      "\n",
      "bestTest = 0.460699934\n",
      "bestIteration = 494\n",
      "\n",
      "Training on fold [2/5]\n",
      "\n",
      "bestTest = 0.4521861916\n",
      "bestIteration = 459\n",
      "\n",
      "Training on fold [3/5]\n",
      "\n",
      "bestTest = 0.4526599286\n",
      "bestIteration = 449\n",
      "\n",
      "Training on fold [4/5]\n"
     ]
    },
    {
     "name": "stderr",
     "output_type": "stream",
     "text": [
      "\u001b[32m[I 2022-01-26 17:23:51,870]\u001b[0m Trial 95 finished with value: 0.8695053708893198 and parameters: {'iterations': 1200, 'learning_rate': 0.034848494426571064, 'random_strength': 7, 'bagging_temperature': 10, 'max_bin': 8, 'grow_policy': 'SymmetricTree', 'max_depth': 7, 'l2_leaf_reg': 68.40985294285782, 'one_hot_max_size': 500, 'auto_class_weights': 'Balanced'}. Best is trial 91 with value: 0.8704345800352724.\u001b[0m\n"
     ]
    },
    {
     "name": "stdout",
     "output_type": "stream",
     "text": [
      "\n",
      "bestTest = 0.4437345431\n",
      "bestIteration = 424\n",
      "\n"
     ]
    },
    {
     "data": {
      "application/vnd.jupyter.widget-view+json": {
       "model_id": "81162288c6c943819ddb678b275b7bfb",
       "version_major": 2,
       "version_minor": 0
      },
      "text/plain": [
       "MetricVisualizer(layout=Layout(align_self='stretch', height='500px'))"
      ]
     },
     "metadata": {},
     "output_type": "display_data"
    },
    {
     "name": "stdout",
     "output_type": "stream",
     "text": [
      "Training on fold [0/5]\n",
      "\n",
      "bestTest = 0.4525681629\n",
      "bestIteration = 412\n",
      "\n",
      "Training on fold [1/5]\n",
      "\n",
      "bestTest = 0.4598514397\n",
      "bestIteration = 464\n",
      "\n",
      "Training on fold [2/5]\n",
      "\n",
      "bestTest = 0.4516444439\n",
      "bestIteration = 473\n",
      "\n",
      "Training on fold [3/5]\n",
      "\n",
      "bestTest = 0.4534785901\n",
      "bestIteration = 421\n",
      "\n",
      "Training on fold [4/5]\n"
     ]
    },
    {
     "name": "stderr",
     "output_type": "stream",
     "text": [
      "\u001b[32m[I 2022-01-26 17:24:11,889]\u001b[0m Trial 96 finished with value: 0.8697541691229131 and parameters: {'iterations': 1200, 'learning_rate': 0.03793066324235663, 'random_strength': 7, 'bagging_temperature': 10, 'max_bin': 5, 'grow_policy': 'SymmetricTree', 'max_depth': 7, 'l2_leaf_reg': 66.01742667719492, 'one_hot_max_size': 500, 'auto_class_weights': 'Balanced'}. Best is trial 91 with value: 0.8704345800352724.\u001b[0m\n"
     ]
    },
    {
     "name": "stdout",
     "output_type": "stream",
     "text": [
      "\n",
      "bestTest = 0.4422524076\n",
      "bestIteration = 457\n",
      "\n"
     ]
    },
    {
     "data": {
      "application/vnd.jupyter.widget-view+json": {
       "model_id": "9d124ead31764988a6157fee0b468e36",
       "version_major": 2,
       "version_minor": 0
      },
      "text/plain": [
       "MetricVisualizer(layout=Layout(align_self='stretch', height='500px'))"
      ]
     },
     "metadata": {},
     "output_type": "display_data"
    },
    {
     "name": "stdout",
     "output_type": "stream",
     "text": [
      "Training on fold [0/5]\n",
      "\n",
      "bestTest = 0.4618162728\n",
      "bestIteration = 222\n",
      "\n",
      "Training on fold [1/5]\n",
      "\n",
      "bestTest = 0.4776775902\n",
      "bestIteration = 233\n",
      "\n",
      "Training on fold [2/5]\n",
      "\n",
      "bestTest = 0.4754296362\n",
      "bestIteration = 125\n",
      "\n",
      "Training on fold [3/5]\n",
      "\n",
      "bestTest = 0.472270464\n",
      "bestIteration = 171\n",
      "\n",
      "Training on fold [4/5]\n"
     ]
    },
    {
     "name": "stderr",
     "output_type": "stream",
     "text": [
      "\u001b[32m[I 2022-01-26 17:24:20,218]\u001b[0m Trial 97 finished with value: 0.8598880635801031 and parameters: {'iterations': 1200, 'learning_rate': 0.052956482898884924, 'random_strength': 7, 'bagging_temperature': 10, 'max_bin': 5, 'grow_policy': 'SymmetricTree', 'max_depth': 6, 'l2_leaf_reg': 0.0020752124699714787, 'one_hot_max_size': 500, 'auto_class_weights': 'Balanced'}. Best is trial 91 with value: 0.8704345800352724.\u001b[0m\n"
     ]
    },
    {
     "name": "stdout",
     "output_type": "stream",
     "text": [
      "\n",
      "bestTest = 0.4558339824\n",
      "bestIteration = 257\n",
      "\n"
     ]
    },
    {
     "data": {
      "application/vnd.jupyter.widget-view+json": {
       "model_id": "ad95de593a704e54bd84b5830db38fdd",
       "version_major": 2,
       "version_minor": 0
      },
      "text/plain": [
       "MetricVisualizer(layout=Layout(align_self='stretch', height='500px'))"
      ]
     },
     "metadata": {},
     "output_type": "display_data"
    },
    {
     "name": "stdout",
     "output_type": "stream",
     "text": [
      "Training on fold [0/5]\n",
      "\n",
      "bestTest = 0.4532451321\n",
      "bestIteration = 367\n",
      "\n",
      "Training on fold [1/5]\n",
      "\n",
      "bestTest = 0.4612227489\n",
      "bestIteration = 470\n",
      "\n",
      "Training on fold [2/5]\n",
      "\n",
      "bestTest = 0.4512155755\n",
      "bestIteration = 421\n",
      "\n",
      "Training on fold [3/5]\n",
      "\n",
      "bestTest = 0.4542924679\n",
      "bestIteration = 394\n",
      "\n",
      "Training on fold [4/5]\n"
     ]
    },
    {
     "name": "stderr",
     "output_type": "stream",
     "text": [
      "\u001b[32m[I 2022-01-26 17:24:40,719]\u001b[0m Trial 98 finished with value: 0.8696888605330567 and parameters: {'iterations': 1200, 'learning_rate': 0.03710013044921778, 'random_strength': 7, 'bagging_temperature': 10, 'max_bin': 5, 'grow_policy': 'SymmetricTree', 'max_depth': 7, 'l2_leaf_reg': 65.73743262580484, 'one_hot_max_size': 500, 'auto_class_weights': 'Balanced'}. Best is trial 91 with value: 0.8704345800352724.\u001b[0m\n"
     ]
    },
    {
     "name": "stdout",
     "output_type": "stream",
     "text": [
      "\n",
      "bestTest = 0.4414140681\n",
      "bestIteration = 490\n",
      "\n"
     ]
    },
    {
     "data": {
      "application/vnd.jupyter.widget-view+json": {
       "model_id": "6490462b0f6f47aa8859cc4d904e9ea3",
       "version_major": 2,
       "version_minor": 0
      },
      "text/plain": [
       "MetricVisualizer(layout=Layout(align_self='stretch', height='500px'))"
      ]
     },
     "metadata": {},
     "output_type": "display_data"
    },
    {
     "name": "stdout",
     "output_type": "stream",
     "text": [
      "Training on fold [0/5]\n",
      "\n",
      "bestTest = 0.4984909105\n",
      "bestIteration = 54\n",
      "\n",
      "Training on fold [1/5]\n",
      "\n",
      "bestTest = 0.5041752766\n",
      "bestIteration = 43\n",
      "\n",
      "Training on fold [2/5]\n",
      "\n",
      "bestTest = 0.4985493437\n",
      "bestIteration = 43\n",
      "\n",
      "Training on fold [3/5]\n",
      "\n",
      "bestTest = 0.5047506632\n",
      "bestIteration = 31\n",
      "\n",
      "Training on fold [4/5]\n"
     ]
    },
    {
     "name": "stderr",
     "output_type": "stream",
     "text": [
      "\u001b[32m[I 2022-01-26 17:24:43,876]\u001b[0m Trial 99 finished with value: 0.8401642240822543 and parameters: {'iterations': 1200, 'learning_rate': 0.08562847835370065, 'random_strength': 8, 'bagging_temperature': 10, 'max_bin': 5, 'grow_policy': 'SymmetricTree', 'max_depth': 8, 'l2_leaf_reg': 2.2732577795359755e-08, 'one_hot_max_size': 500, 'auto_class_weights': 'Balanced'}. Best is trial 91 with value: 0.8704345800352724.\u001b[0m\n"
     ]
    },
    {
     "name": "stdout",
     "output_type": "stream",
     "text": [
      "\n",
      "bestTest = 0.4976027044\n",
      "bestIteration = 46\n",
      "\n"
     ]
    }
   ],
   "source": [
    "sampler = optuna.samplers.TPESampler(seed=68)\n",
    "study = optuna.create_study(direction=\"maximize\", sampler=sampler)\n",
    "study.optimize(objective, n_trials=100)"
   ]
  },
  {
   "cell_type": "code",
   "execution_count": 54,
   "metadata": {},
   "outputs": [
    {
     "name": "stdout",
     "output_type": "stream",
     "text": [
      "Number of finished trials: 100\n",
      "Best trial:\n",
      "  Value: 0.8704345800352724\n",
      "  Params: \n",
      "    iterations=1200,\n",
      "    learning_rate=0.032532364424905896,\n",
      "    random_strength=7,\n",
      "    bagging_temperature=10,\n",
      "    max_bin=8,\n",
      "    grow_policy=SymmetricTree,\n",
      "    max_depth=7,\n",
      "    l2_leaf_reg=90.47412147528497,\n",
      "    one_hot_max_size=500,\n",
      "    auto_class_weights=Balanced,\n"
     ]
    }
   ],
   "source": [
    "print(\"Number of finished trials: {}\".format(len(study.trials)))\n",
    "print(\"Best trial:\")\n",
    "trial = study.best_trial\n",
    "print(\"  Value: {}\".format(trial.value))\n",
    "print(\"  Params: \")\n",
    "for key, value in trial.params.items():\n",
    "    print(\"    {}={},\".format(key, value))"
   ]
  },
  {
   "cell_type": "code",
   "execution_count": 107,
   "metadata": {},
   "outputs": [],
   "source": [
    "params = {'iterations':1200,\n",
    "         'learning_rate':0.032532364424905896,\n",
    "         'cat_features': categorical_features_indices,\n",
    "         'random_strength':7,\n",
    "         'depth':7,\n",
    "         'max_bin':8,\n",
    "         'grow_policy':'SymmetricTree',\n",
    "         'l2_leaf_reg':90.47412147528497,\n",
    "         'bagging_temperature':10,\n",
    "         'one_hot_max_size':500,\n",
    "         'eval_metric':'AUC',\n",
    "         'auto_class_weights':'Balanced',\n",
    "         'verbose':False,\n",
    "         }"
   ]
  },
  {
   "cell_type": "code",
   "execution_count": 108,
   "metadata": {},
   "outputs": [],
   "source": [
    "best_model_h1n1 = CatBoostClassifier(**params)"
   ]
  },
  {
   "cell_type": "code",
   "execution_count": 109,
   "metadata": {},
   "outputs": [
    {
     "data": {
      "application/vnd.jupyter.widget-view+json": {
       "model_id": "57cd4e3dfc394467b33c678ae71069cf",
       "version_major": 2,
       "version_minor": 0
      },
      "text/plain": [
       "MetricVisualizer(layout=Layout(align_self='stretch', height='500px'))"
      ]
     },
     "metadata": {},
     "output_type": "display_data"
    }
   ],
   "source": [
    "best_model_h1n1.fit(X_train, y_train.h1n1_vaccine, eval_set=(X_test, y_test.h1n1_vaccine), use_best_model=True, plot=True);"
   ]
  },
  {
   "cell_type": "code",
   "execution_count": 110,
   "metadata": {},
   "outputs": [],
   "source": [
    "best_pred_h1n1 = best_model_h1n1.predict_proba(X_test)"
   ]
  },
  {
   "cell_type": "code",
   "execution_count": 111,
   "metadata": {},
   "outputs": [],
   "source": [
    "best_pred_h1n1 = best_pred_h1n1[:,1].reshape(-1,1)"
   ]
  },
  {
   "cell_type": "code",
   "execution_count": 112,
   "metadata": {},
   "outputs": [
    {
     "data": {
      "text/plain": [
       "0.8702914035874381"
      ]
     },
     "execution_count": 112,
     "metadata": {},
     "output_type": "execute_result"
    }
   ],
   "source": [
    "roc_auc_score(y_test.h1n1_vaccine, best_pred_h1n1)"
   ]
  },
  {
   "cell_type": "code",
   "execution_count": 168,
   "metadata": {},
   "outputs": [],
   "source": [
    "final_model_h1n1 = CatBoostClassifier(verbose=False,  cat_features=categorical_features_indices, **trial.params)"
   ]
  },
  {
   "cell_type": "code",
   "execution_count": 169,
   "metadata": {},
   "outputs": [
    {
     "data": {
      "text/plain": [
       "<catboost.core.CatBoostClassifier at 0x1b8ac4ffe50>"
      ]
     },
     "execution_count": 169,
     "metadata": {},
     "output_type": "execute_result"
    }
   ],
   "source": [
    "final_model_h1n1.fit(X_train, y_train.h1n1_vaccine)"
   ]
  },
  {
   "cell_type": "code",
   "execution_count": 170,
   "metadata": {},
   "outputs": [],
   "source": [
    "pred_h1n1 = final_model_h1n1.predict_proba(X_test)"
   ]
  },
  {
   "cell_type": "code",
   "execution_count": 171,
   "metadata": {},
   "outputs": [],
   "source": [
    "pred_h1n1 = pred_h1n1[:,1].reshape(-1,1)"
   ]
  },
  {
   "cell_type": "code",
   "execution_count": 172,
   "metadata": {},
   "outputs": [
    {
     "data": {
      "text/plain": [
       "0.869404575794422"
      ]
     },
     "execution_count": 172,
     "metadata": {},
     "output_type": "execute_result"
    }
   ],
   "source": [
    "roc_auc_score(y_test.h1n1_vaccine, pred_h1n1)"
   ]
  },
  {
   "cell_type": "code",
   "execution_count": 113,
   "metadata": {},
   "outputs": [
    {
     "data": {
      "image/png": "[encoded data removed]",
      "text/plain": [
       "<Figure size 432x288 with 2 Axes>"
      ]
     },
     "metadata": {
      "needs_background": "light"
     },
     "output_type": "display_data"
    }
   ],
   "source": [
    "plot_confusion_matrix(best_model_h1n1, X_test, y_test.h1n1_vaccine)\n",
    "plt.show();"
   ]
  },
  {
   "cell_type": "code",
   "execution_count": 71,
   "metadata": {},
   "outputs": [],
   "source": [
    "def plot_roc(y_true, y_score, label_name, ax):\n",
    "    fpr, tpr, thresholds = roc_curve(y_true, y_score)\n",
    "    ax.plot(fpr, tpr)\n",
    "    ax.plot([0, 1], [0, 1], color='grey', linestyle='--')\n",
    "    ax.set_ylabel('TPR')\n",
    "    ax.set_xlabel('FPR')\n",
    "    ax.set_title(\n",
    "        f\"{label_name}: AUC = {roc_auc_score(y_true, y_score):.4f}\"\n",
    "    )"
   ]
  },
  {
   "cell_type": "code",
   "execution_count": 114,
   "metadata": {},
   "outputs": [
    {
     "data": {
      "image/png": "[encoded data removed]",
      "text/plain": [
       "<Figure size 720x576 with 1 Axes>"
      ]
     },
     "metadata": {
      "needs_background": "light"
     },
     "output_type": "display_data"
    }
   ],
   "source": [
    "fig, ax = plt.subplots(1, 1, figsize=(10, 8))\n",
    "plot_roc(\n",
    "    y_test['h1n1_vaccine'], \n",
    "    best_pred_h1n1, \n",
    "    'h1n1_vaccine',\n",
    "    ax=ax\n",
    ")"
   ]
  },
  {
   "cell_type": "markdown",
   "metadata": {},
   "source": [
    "### Seasonal Vaccine"
   ]
  },
  {
   "cell_type": "code",
   "execution_count": 74,
   "metadata": {},
   "outputs": [],
   "source": [
    "train_dataset_se = Pool(data=X_train,\n",
    "                     label=y_train.seasonal_vaccine,\n",
    "                     cat_features = categorical_features_indices)"
   ]
  },
  {
   "cell_type": "code",
   "execution_count": 75,
   "metadata": {},
   "outputs": [],
   "source": [
    "def objective2(trial):\n",
    "    param = {\n",
    "        'iterations':trial.suggest_categorical('iterations', [300,500,1000,1200,1500]),\n",
    "        'learning_rate':trial.suggest_float('learning_rate', 0.001, 0.3),\n",
    "        'random_strength':trial.suggest_int('random_strength', 1,10),\n",
    "        'bagging_temperature':trial.suggest_int('bagging_temperature', 0,10),\n",
    "        'max_bin':trial.suggest_categorical('max_bin', [4,5,6,8,10]),\n",
    "        'grow_policy':trial.suggest_categorical('grow_policy', ['SymmetricTree']),\n",
    "        'od_type' : \"Iter\",\n",
    "        'od_wait' : 100,\n",
    "        'depth': trial.suggest_int('max_depth', 2,10),\n",
    "        'l2_leaf_reg': trial.suggest_loguniform('l2_leaf_reg', 1e-8, 100),\n",
    "        'one_hot_max_size':trial.suggest_categorical('one_hot_max_size', [5,10,12,100,500,1024]),\n",
    "        'custom_metric' : ['AUC'],\n",
    "        'loss_function': 'Logloss',\n",
    "        'auto_class_weights':trial.suggest_categorical('auto_class_weights', ['Balanced']),\n",
    "        }\n",
    "\n",
    "    scores = cv(train_dataset,\n",
    "            param,\n",
    "            fold_count=5, \n",
    "            early_stopping_rounds=10,         \n",
    "            plot=True, verbose=False)\n",
    "\n",
    "    return scores['test-AUC-mean'].max()"
   ]
  },
  {
   "cell_type": "code",
   "execution_count": 76,
   "metadata": {
    "scrolled": true
   },
   "outputs": [
    {
     "name": "stderr",
     "output_type": "stream",
     "text": [
      "\u001b[32m[I 2022-01-26 17:39:25,534]\u001b[0m A new study created in memory with name: no-name-0c0a618f-5d43-40f3-87cb-0621ee2900ee\u001b[0m\n"
     ]
    },
    {
     "data": {
      "application/vnd.jupyter.widget-view+json": {
       "model_id": "f1966e9501354f73bc55261653f706dd",
       "version_major": 2,
       "version_minor": 0
      },
      "text/plain": [
       "MetricVisualizer(layout=Layout(align_self='stretch', height='500px'))"
      ]
     },
     "metadata": {},
     "output_type": "display_data"
    },
    {
     "name": "stdout",
     "output_type": "stream",
     "text": [
      "Training on fold [0/5]\n",
      "\n",
      "bestTest = 0.4624059674\n",
      "bestIteration = 127\n",
      "\n",
      "Training on fold [1/5]\n",
      "\n",
      "bestTest = 0.4775285429\n",
      "bestIteration = 134\n",
      "\n",
      "Training on fold [2/5]\n",
      "\n",
      "bestTest = 0.4668221764\n",
      "bestIteration = 152\n",
      "\n",
      "Training on fold [3/5]\n",
      "\n",
      "bestTest = 0.4690573884\n",
      "bestIteration = 108\n",
      "\n",
      "Training on fold [4/5]\n"
     ]
    },
    {
     "name": "stderr",
     "output_type": "stream",
     "text": [
      "\u001b[32m[I 2022-01-26 17:40:07,598]\u001b[0m Trial 0 finished with value: 0.8612385183893709 and parameters: {'iterations': 1500, 'learning_rate': 0.08961999953042239, 'random_strength': 9, 'bagging_temperature': 1, 'max_bin': 10, 'grow_policy': 'SymmetricTree', 'max_depth': 6, 'l2_leaf_reg': 0.0011812125446097113, 'one_hot_max_size': 5, 'auto_class_weights': 'Balanced'}. Best is trial 0 with value: 0.8612385183893709.\u001b[0m\n"
     ]
    },
    {
     "name": "stdout",
     "output_type": "stream",
     "text": [
      "\n",
      "bestTest = 0.4508873272\n",
      "bestIteration = 167\n",
      "\n"
     ]
    },
    {
     "data": {
      "application/vnd.jupyter.widget-view+json": {
       "model_id": "45cf6f1c0fc34b84aaf20dadc0c5148d",
       "version_major": 2,
       "version_minor": 0
      },
      "text/plain": [
       "MetricVisualizer(layout=Layout(align_self='stretch', height='500px'))"
      ]
     },
     "metadata": {},
     "output_type": "display_data"
    },
    {
     "name": "stdout",
     "output_type": "stream",
     "text": [
      "Training on fold [0/5]\n",
      "\n",
      "bestTest = 0.459367151\n",
      "bestIteration = 78\n",
      "\n",
      "Training on fold [1/5]\n",
      "\n",
      "bestTest = 0.4672221176\n",
      "bestIteration = 85\n",
      "\n",
      "Training on fold [2/5]\n",
      "\n",
      "bestTest = 0.4627921364\n",
      "bestIteration = 72\n",
      "\n",
      "Training on fold [3/5]\n",
      "\n",
      "bestTest = 0.4569278772\n",
      "bestIteration = 117\n",
      "\n",
      "Training on fold [4/5]\n"
     ]
    },
    {
     "name": "stderr",
     "output_type": "stream",
     "text": [
      "\u001b[32m[I 2022-01-26 17:40:10,249]\u001b[0m Trial 1 finished with value: 0.8644927244952644 and parameters: {'iterations': 1000, 'learning_rate': 0.2957047309441607, 'random_strength': 8, 'bagging_temperature': 6, 'max_bin': 8, 'grow_policy': 'SymmetricTree', 'max_depth': 2, 'l2_leaf_reg': 0.001354720669824658, 'one_hot_max_size': 100, 'auto_class_weights': 'Balanced'}. Best is trial 1 with value: 0.8644927244952644.\u001b[0m\n"
     ]
    },
    {
     "name": "stdout",
     "output_type": "stream",
     "text": [
      "\n",
      "bestTest = 0.4510511681\n",
      "bestIteration = 108\n",
      "\n"
     ]
    },
    {
     "data": {
      "application/vnd.jupyter.widget-view+json": {
       "model_id": "0fea6ebe213640f792be186919cc9b3f",
       "version_major": 2,
       "version_minor": 0
      },
      "text/plain": [
       "MetricVisualizer(layout=Layout(align_self='stretch', height='500px'))"
      ]
     },
     "metadata": {},
     "output_type": "display_data"
    },
    {
     "name": "stdout",
     "output_type": "stream",
     "text": [
      "Training on fold [0/5]\n",
      "\n",
      "bestTest = 0.4609578114\n",
      "bestIteration = 178\n",
      "\n",
      "Training on fold [1/5]\n",
      "\n",
      "bestTest = 0.4665927869\n",
      "bestIteration = 246\n",
      "\n",
      "Training on fold [2/5]\n",
      "\n",
      "bestTest = 0.460579581\n",
      "bestIteration = 205\n",
      "\n",
      "Training on fold [3/5]\n",
      "\n",
      "bestTest = 0.455257906\n",
      "bestIteration = 284\n",
      "\n",
      "Training on fold [4/5]\n"
     ]
    },
    {
     "name": "stderr",
     "output_type": "stream",
     "text": [
      "\u001b[32m[I 2022-01-26 17:40:16,036]\u001b[0m Trial 2 finished with value: 0.8653443572136345 and parameters: {'iterations': 1200, 'learning_rate': 0.1371525795360902, 'random_strength': 8, 'bagging_temperature': 10, 'max_bin': 8, 'grow_policy': 'SymmetricTree', 'max_depth': 2, 'l2_leaf_reg': 0.0048185425547954824, 'one_hot_max_size': 500, 'auto_class_weights': 'Balanced'}. Best is trial 2 with value: 0.8653443572136345.\u001b[0m\n"
     ]
    },
    {
     "name": "stdout",
     "output_type": "stream",
     "text": [
      "\n",
      "bestTest = 0.449651354\n",
      "bestIteration = 225\n",
      "\n"
     ]
    },
    {
     "data": {
      "application/vnd.jupyter.widget-view+json": {
       "model_id": "df99e58f14a14012a750c6e2d10a0e9e",
       "version_major": 2,
       "version_minor": 0
      },
      "text/plain": [
       "MetricVisualizer(layout=Layout(align_self='stretch', height='500px'))"
      ]
     },
     "metadata": {},
     "output_type": "display_data"
    },
    {
     "name": "stdout",
     "output_type": "stream",
     "text": [
      "Training on fold [0/5]\n",
      "\n",
      "bestTest = 0.4939262136\n",
      "bestIteration = 102\n",
      "\n",
      "Training on fold [1/5]\n",
      "\n",
      "bestTest = 0.5020594822\n",
      "bestIteration = 117\n",
      "\n",
      "Training on fold [2/5]\n",
      "\n",
      "bestTest = 0.4873110976\n",
      "bestIteration = 99\n",
      "\n",
      "Training on fold [3/5]\n",
      "\n",
      "bestTest = 0.5016280756\n",
      "bestIteration = 118\n",
      "\n",
      "Training on fold [4/5]\n"
     ]
    },
    {
     "name": "stderr",
     "output_type": "stream",
     "text": [
      "\u001b[32m[I 2022-01-26 17:41:04,037]\u001b[0m Trial 3 finished with value: 0.8479749358772916 and parameters: {'iterations': 300, 'learning_rate': 0.026623822549052163, 'random_strength': 10, 'bagging_temperature': 7, 'max_bin': 6, 'grow_policy': 'SymmetricTree', 'max_depth': 10, 'l2_leaf_reg': 1.9008463722440555e-07, 'one_hot_max_size': 10, 'auto_class_weights': 'Balanced'}. Best is trial 2 with value: 0.8653443572136345.\u001b[0m\n"
     ]
    },
    {
     "name": "stdout",
     "output_type": "stream",
     "text": [
      "\n",
      "bestTest = 0.4912932762\n",
      "bestIteration = 129\n",
      "\n"
     ]
    },
    {
     "data": {
      "application/vnd.jupyter.widget-view+json": {
       "model_id": "b9ee482ec7a543058c43cddab6ea9245",
       "version_major": 2,
       "version_minor": 0
      },
      "text/plain": [
       "MetricVisualizer(layout=Layout(align_self='stretch', height='500px'))"
      ]
     },
     "metadata": {},
     "output_type": "display_data"
    },
    {
     "name": "stdout",
     "output_type": "stream",
     "text": [
      "Training on fold [0/5]\n",
      "\n",
      "bestTest = 0.4679420296\n",
      "bestIteration = 869\n",
      "\n",
      "Training on fold [1/5]\n",
      "\n",
      "bestTest = 0.4768177701\n",
      "bestIteration = 999\n",
      "\n",
      "Training on fold [2/5]\n",
      "\n",
      "bestTest = 0.471796305\n",
      "bestIteration = 905\n",
      "\n",
      "Training on fold [3/5]\n",
      "\n",
      "bestTest = 0.4690560757\n",
      "bestIteration = 999\n",
      "\n",
      "Training on fold [4/5]\n",
      "\n",
      "bestTest = 0.459017201\n",
      "bestIteration = 999\n",
      "\n"
     ]
    },
    {
     "name": "stderr",
     "output_type": "stream",
     "text": [
      "\u001b[32m[I 2022-01-26 17:41:43,309]\u001b[0m Trial 4 finished with value: 0.8615670251294348 and parameters: {'iterations': 1000, 'learning_rate': 0.007101034052723374, 'random_strength': 6, 'bagging_temperature': 2, 'max_bin': 5, 'grow_policy': 'SymmetricTree', 'max_depth': 6, 'l2_leaf_reg': 0.005827202489296445, 'one_hot_max_size': 500, 'auto_class_weights': 'Balanced'}. Best is trial 2 with value: 0.8653443572136345.\u001b[0m\n"
     ]
    },
    {
     "data": {
      "application/vnd.jupyter.widget-view+json": {
       "model_id": "876ea2d95f8849198d1c401f56364bf4",
       "version_major": 2,
       "version_minor": 0
      },
      "text/plain": [
       "MetricVisualizer(layout=Layout(align_self='stretch', height='500px'))"
      ]
     },
     "metadata": {},
     "output_type": "display_data"
    },
    {
     "name": "stdout",
     "output_type": "stream",
     "text": [
      "Training on fold [0/5]\n",
      "\n",
      "bestTest = 0.4592573359\n",
      "bestIteration = 73\n",
      "\n",
      "Training on fold [1/5]\n",
      "\n",
      "bestTest = 0.4679461033\n",
      "bestIteration = 77\n",
      "\n",
      "Training on fold [2/5]\n",
      "\n",
      "bestTest = 0.4623240356\n",
      "bestIteration = 90\n",
      "\n",
      "Training on fold [3/5]\n",
      "\n",
      "bestTest = 0.4566058998\n",
      "bestIteration = 96\n",
      "\n",
      "Training on fold [4/5]\n"
     ]
    },
    {
     "name": "stderr",
     "output_type": "stream",
     "text": [
      "\u001b[32m[I 2022-01-26 17:41:46,038]\u001b[0m Trial 5 finished with value: 0.8646097366870045 and parameters: {'iterations': 1500, 'learning_rate': 0.2964430813582234, 'random_strength': 2, 'bagging_temperature': 9, 'max_bin': 10, 'grow_policy': 'SymmetricTree', 'max_depth': 2, 'l2_leaf_reg': 1.7622702261668875e-07, 'one_hot_max_size': 100, 'auto_class_weights': 'Balanced'}. Best is trial 2 with value: 0.8653443572136345.\u001b[0m\n"
     ]
    },
    {
     "name": "stdout",
     "output_type": "stream",
     "text": [
      "\n",
      "bestTest = 0.4464591106\n",
      "bestIteration = 137\n",
      "\n"
     ]
    },
    {
     "data": {
      "application/vnd.jupyter.widget-view+json": {
       "model_id": "e8d9be5aa65e4499912c0b4baa625a4c",
       "version_major": 2,
       "version_minor": 0
      },
      "text/plain": [
       "MetricVisualizer(layout=Layout(align_self='stretch', height='500px'))"
      ]
     },
     "metadata": {},
     "output_type": "display_data"
    },
    {
     "name": "stdout",
     "output_type": "stream",
     "text": [
      "Training on fold [0/5]\n",
      "\n",
      "bestTest = 0.4560488489\n",
      "bestIteration = 54\n",
      "\n",
      "Training on fold [1/5]\n",
      "\n",
      "bestTest = 0.4651861607\n",
      "bestIteration = 78\n",
      "\n",
      "Training on fold [2/5]\n",
      "\n",
      "bestTest = 0.4527406763\n",
      "bestIteration = 66\n",
      "\n",
      "Training on fold [3/5]\n",
      "\n",
      "bestTest = 0.450974487\n",
      "bestIteration = 79\n",
      "\n",
      "Training on fold [4/5]\n"
     ]
    },
    {
     "name": "stderr",
     "output_type": "stream",
     "text": [
      "\u001b[32m[I 2022-01-26 17:42:08,051]\u001b[0m Trial 6 finished with value: 0.86833548032738 and parameters: {'iterations': 300, 'learning_rate': 0.22423670437233847, 'random_strength': 6, 'bagging_temperature': 2, 'max_bin': 10, 'grow_policy': 'SymmetricTree', 'max_depth': 6, 'l2_leaf_reg': 23.41661191676168, 'one_hot_max_size': 5, 'auto_class_weights': 'Balanced'}. Best is trial 6 with value: 0.86833548032738.\u001b[0m\n"
     ]
    },
    {
     "name": "stdout",
     "output_type": "stream",
     "text": [
      "\n",
      "bestTest = 0.4430639459\n",
      "bestIteration = 66\n",
      "\n"
     ]
    },
    {
     "data": {
      "application/vnd.jupyter.widget-view+json": {
       "model_id": "34a7d272c7c942588e314ebcb81409ca",
       "version_major": 2,
       "version_minor": 0
      },
      "text/plain": [
       "MetricVisualizer(layout=Layout(align_self='stretch', height='500px'))"
      ]
     },
     "metadata": {},
     "output_type": "display_data"
    },
    {
     "name": "stdout",
     "output_type": "stream",
     "text": [
      "Training on fold [0/5]\n",
      "\n",
      "bestTest = 0.5222214319\n",
      "bestIteration = 16\n",
      "\n",
      "Training on fold [1/5]\n",
      "\n",
      "bestTest = 0.5450952267\n",
      "bestIteration = 12\n",
      "\n",
      "Training on fold [2/5]\n",
      "\n",
      "bestTest = 0.5172339306\n",
      "bestIteration = 18\n",
      "\n",
      "Training on fold [3/5]\n",
      "\n",
      "bestTest = 0.5255905034\n",
      "bestIteration = 17\n",
      "\n",
      "Training on fold [4/5]\n"
     ]
    },
    {
     "name": "stderr",
     "output_type": "stream",
     "text": [
      "\u001b[32m[I 2022-01-26 17:42:10,616]\u001b[0m Trial 7 finished with value: 0.825964607314283 and parameters: {'iterations': 1500, 'learning_rate': 0.1253699635699981, 'random_strength': 7, 'bagging_temperature': 8, 'max_bin': 4, 'grow_policy': 'SymmetricTree', 'max_depth': 10, 'l2_leaf_reg': 2.8307160689696775e-06, 'one_hot_max_size': 1024, 'auto_class_weights': 'Balanced'}. Best is trial 6 with value: 0.86833548032738.\u001b[0m\n"
     ]
    },
    {
     "name": "stdout",
     "output_type": "stream",
     "text": [
      "\n",
      "bestTest = 0.5122508569\n",
      "bestIteration = 16\n",
      "\n"
     ]
    },
    {
     "data": {
      "application/vnd.jupyter.widget-view+json": {
       "model_id": "8fac49333709430aaa3ef9757b41bed9",
       "version_major": 2,
       "version_minor": 0
      },
      "text/plain": [
       "MetricVisualizer(layout=Layout(align_self='stretch', height='500px'))"
      ]
     },
     "metadata": {},
     "output_type": "display_data"
    },
    {
     "name": "stdout",
     "output_type": "stream",
     "text": [
      "Training on fold [0/5]\n",
      "\n",
      "bestTest = 0.4904258385\n",
      "bestIteration = 150\n",
      "\n",
      "Training on fold [1/5]\n",
      "\n",
      "bestTest = 0.501588308\n",
      "bestIteration = 134\n",
      "\n",
      "Training on fold [2/5]\n",
      "\n",
      "bestTest = 0.4895621869\n",
      "bestIteration = 157\n",
      "\n",
      "Training on fold [3/5]\n",
      "\n",
      "bestTest = 0.4906704986\n",
      "bestIteration = 162\n",
      "\n",
      "Training on fold [4/5]\n"
     ]
    },
    {
     "name": "stderr",
     "output_type": "stream",
     "text": [
      "\u001b[32m[I 2022-01-26 17:42:27,182]\u001b[0m Trial 8 finished with value: 0.8507894843105575 and parameters: {'iterations': 1000, 'learning_rate': 0.00957473821190967, 'random_strength': 1, 'bagging_temperature': 3, 'max_bin': 5, 'grow_policy': 'SymmetricTree', 'max_depth': 10, 'l2_leaf_reg': 0.0003332900472045444, 'one_hot_max_size': 500, 'auto_class_weights': 'Balanced'}. Best is trial 6 with value: 0.86833548032738.\u001b[0m\n"
     ]
    },
    {
     "name": "stdout",
     "output_type": "stream",
     "text": [
      "\n",
      "bestTest = 0.4749435184\n",
      "bestIteration = 175\n",
      "\n"
     ]
    },
    {
     "data": {
      "application/vnd.jupyter.widget-view+json": {
       "model_id": "88ac0f9648d446058957e4a5c878baa2",
       "version_major": 2,
       "version_minor": 0
      },
      "text/plain": [
       "MetricVisualizer(layout=Layout(align_self='stretch', height='500px'))"
      ]
     },
     "metadata": {},
     "output_type": "display_data"
    },
    {
     "name": "stdout",
     "output_type": "stream",
     "text": [
      "Training on fold [0/5]\n",
      "\n",
      "bestTest = 0.5248115503\n",
      "bestIteration = 6\n",
      "\n",
      "Training on fold [1/5]\n",
      "\n",
      "bestTest = 0.5268995245\n",
      "bestIteration = 4\n",
      "\n",
      "Training on fold [2/5]\n",
      "\n",
      "bestTest = 0.5169204735\n",
      "bestIteration = 4\n",
      "\n",
      "Training on fold [3/5]\n",
      "\n",
      "bestTest = 0.516185756\n",
      "bestIteration = 6\n",
      "\n",
      "Training on fold [4/5]\n"
     ]
    },
    {
     "name": "stderr",
     "output_type": "stream",
     "text": [
      "\u001b[32m[I 2022-01-26 17:42:28,909]\u001b[0m Trial 9 finished with value: 0.830463934521644 and parameters: {'iterations': 1000, 'learning_rate': 0.2301364835144914, 'random_strength': 2, 'bagging_temperature': 4, 'max_bin': 4, 'grow_policy': 'SymmetricTree', 'max_depth': 10, 'l2_leaf_reg': 0.0013398579507442577, 'one_hot_max_size': 100, 'auto_class_weights': 'Balanced'}. Best is trial 6 with value: 0.86833548032738.\u001b[0m\n"
     ]
    },
    {
     "name": "stdout",
     "output_type": "stream",
     "text": [
      "\n",
      "bestTest = 0.5067246816\n",
      "bestIteration = 6\n",
      "\n"
     ]
    },
    {
     "data": {
      "application/vnd.jupyter.widget-view+json": {
       "model_id": "f76f8fd799c64889bda984549c182cd8",
       "version_major": 2,
       "version_minor": 0
      },
      "text/plain": [
       "MetricVisualizer(layout=Layout(align_self='stretch', height='500px'))"
      ]
     },
     "metadata": {},
     "output_type": "display_data"
    },
    {
     "name": "stdout",
     "output_type": "stream",
     "text": [
      "Training on fold [0/5]\n",
      "\n",
      "bestTest = 0.4548207501\n",
      "bestIteration = 95\n",
      "\n",
      "Training on fold [1/5]\n",
      "\n",
      "bestTest = 0.460718278\n",
      "bestIteration = 114\n",
      "\n",
      "Training on fold [2/5]\n",
      "\n",
      "bestTest = 0.451866767\n",
      "bestIteration = 121\n",
      "\n",
      "Training on fold [3/5]\n",
      "\n",
      "bestTest = 0.4561457492\n",
      "bestIteration = 94\n",
      "\n",
      "Training on fold [4/5]\n"
     ]
    },
    {
     "name": "stderr",
     "output_type": "stream",
     "text": [
      "\u001b[32m[I 2022-01-26 17:42:49,260]\u001b[0m Trial 10 finished with value: 0.8682748175087112 and parameters: {'iterations': 300, 'learning_rate': 0.21210578031115196, 'random_strength': 4, 'bagging_temperature': 0, 'max_bin': 10, 'grow_policy': 'SymmetricTree', 'max_depth': 4, 'l2_leaf_reg': 67.55513953843523, 'one_hot_max_size': 5, 'auto_class_weights': 'Balanced'}. Best is trial 6 with value: 0.86833548032738.\u001b[0m\n"
     ]
    },
    {
     "name": "stdout",
     "output_type": "stream",
     "text": [
      "\n",
      "bestTest = 0.4459647329\n",
      "bestIteration = 94\n",
      "\n"
     ]
    },
    {
     "data": {
      "application/vnd.jupyter.widget-view+json": {
       "model_id": "1130b7871c9e4161a45681ffb47c2874",
       "version_major": 2,
       "version_minor": 0
      },
      "text/plain": [
       "MetricVisualizer(layout=Layout(align_self='stretch', height='500px'))"
      ]
     },
     "metadata": {},
     "output_type": "display_data"
    },
    {
     "name": "stdout",
     "output_type": "stream",
     "text": [
      "Training on fold [0/5]\n",
      "\n",
      "bestTest = 0.4547663993\n",
      "bestIteration = 109\n",
      "\n",
      "Training on fold [1/5]\n",
      "\n",
      "bestTest = 0.4627484234\n",
      "bestIteration = 111\n",
      "\n",
      "Training on fold [2/5]\n",
      "\n",
      "bestTest = 0.4518510571\n",
      "bestIteration = 115\n",
      "\n",
      "Training on fold [3/5]\n",
      "\n",
      "bestTest = 0.4543600222\n",
      "bestIteration = 90\n",
      "\n",
      "Training on fold [4/5]\n"
     ]
    },
    {
     "name": "stderr",
     "output_type": "stream",
     "text": [
      "\u001b[32m[I 2022-01-26 17:43:09,933]\u001b[0m Trial 11 finished with value: 0.8682894916311558 and parameters: {'iterations': 300, 'learning_rate': 0.21179272225527906, 'random_strength': 4, 'bagging_temperature': 0, 'max_bin': 10, 'grow_policy': 'SymmetricTree', 'max_depth': 4, 'l2_leaf_reg': 34.56103765349822, 'one_hot_max_size': 5, 'auto_class_weights': 'Balanced'}. Best is trial 6 with value: 0.86833548032738.\u001b[0m\n"
     ]
    },
    {
     "name": "stdout",
     "output_type": "stream",
     "text": [
      "\n",
      "bestTest = 0.4438105499\n",
      "bestIteration = 126\n",
      "\n"
     ]
    },
    {
     "data": {
      "application/vnd.jupyter.widget-view+json": {
       "model_id": "bdc2c654fa9444f28346a6dffee4ff89",
       "version_major": 2,
       "version_minor": 0
      },
      "text/plain": [
       "MetricVisualizer(layout=Layout(align_self='stretch', height='500px'))"
      ]
     },
     "metadata": {},
     "output_type": "display_data"
    },
    {
     "name": "stdout",
     "output_type": "stream",
     "text": [
      "Training on fold [0/5]\n",
      "\n",
      "bestTest = 0.4546200472\n",
      "bestIteration = 73\n",
      "\n",
      "Training on fold [1/5]\n",
      "\n",
      "bestTest = 0.4623714815\n",
      "bestIteration = 144\n",
      "\n",
      "Training on fold [2/5]\n",
      "\n",
      "bestTest = 0.4532286823\n",
      "bestIteration = 97\n",
      "\n",
      "Training on fold [3/5]\n",
      "\n",
      "bestTest = 0.4531781703\n",
      "bestIteration = 102\n",
      "\n",
      "Training on fold [4/5]\n"
     ]
    },
    {
     "name": "stderr",
     "output_type": "stream",
     "text": [
      "\u001b[32m[I 2022-01-26 17:43:29,659]\u001b[0m Trial 12 finished with value: 0.8680021596352823 and parameters: {'iterations': 300, 'learning_rate': 0.21371183387618528, 'random_strength': 5, 'bagging_temperature': 0, 'max_bin': 10, 'grow_policy': 'SymmetricTree', 'max_depth': 4, 'l2_leaf_reg': 95.0310408809215, 'one_hot_max_size': 12, 'auto_class_weights': 'Balanced'}. Best is trial 6 with value: 0.86833548032738.\u001b[0m\n"
     ]
    },
    {
     "name": "stdout",
     "output_type": "stream",
     "text": [
      "\n",
      "bestTest = 0.4462684924\n",
      "bestIteration = 104\n",
      "\n"
     ]
    },
    {
     "data": {
      "application/vnd.jupyter.widget-view+json": {
       "model_id": "5d82940e5b6245068f06f71a630ae4d3",
       "version_major": 2,
       "version_minor": 0
      },
      "text/plain": [
       "MetricVisualizer(layout=Layout(align_self='stretch', height='500px'))"
      ]
     },
     "metadata": {},
     "output_type": "display_data"
    },
    {
     "name": "stdout",
     "output_type": "stream",
     "text": [
      "Training on fold [0/5]\n",
      "\n",
      "bestTest = 0.4633551629\n",
      "bestIteration = 36\n",
      "\n",
      "Training on fold [1/5]\n",
      "\n",
      "bestTest = 0.4738903918\n",
      "bestIteration = 56\n",
      "\n",
      "Training on fold [2/5]\n",
      "\n",
      "bestTest = 0.461675979\n",
      "bestIteration = 47\n",
      "\n",
      "Training on fold [3/5]\n",
      "\n",
      "bestTest = 0.4695266004\n",
      "bestIteration = 40\n",
      "\n",
      "Training on fold [4/5]\n"
     ]
    },
    {
     "name": "stderr",
     "output_type": "stream",
     "text": [
      "\u001b[32m[I 2022-01-26 17:43:53,059]\u001b[0m Trial 13 finished with value: 0.861533275577447 and parameters: {'iterations': 500, 'learning_rate': 0.19045086165750252, 'random_strength': 4, 'bagging_temperature': 2, 'max_bin': 10, 'grow_policy': 'SymmetricTree', 'max_depth': 8, 'l2_leaf_reg': 0.8236334555490133, 'one_hot_max_size': 5, 'auto_class_weights': 'Balanced'}. Best is trial 6 with value: 0.86833548032738.\u001b[0m\n"
     ]
    },
    {
     "name": "stdout",
     "output_type": "stream",
     "text": [
      "\n",
      "bestTest = 0.4544806938\n",
      "bestIteration = 52\n",
      "\n"
     ]
    },
    {
     "data": {
      "application/vnd.jupyter.widget-view+json": {
       "model_id": "0f4efc1fc20e474690cd3bb4a91a2bd5",
       "version_major": 2,
       "version_minor": 0
      },
      "text/plain": [
       "MetricVisualizer(layout=Layout(align_self='stretch', height='500px'))"
      ]
     },
     "metadata": {},
     "output_type": "display_data"
    },
    {
     "name": "stdout",
     "output_type": "stream",
     "text": [
      "Training on fold [0/5]\n",
      "\n",
      "bestTest = 0.4594321445\n",
      "bestIteration = 56\n",
      "\n",
      "Training on fold [1/5]\n",
      "\n",
      "bestTest = 0.4628819753\n",
      "bestIteration = 116\n",
      "\n",
      "Training on fold [2/5]\n",
      "\n",
      "bestTest = 0.4569692217\n",
      "bestIteration = 64\n",
      "\n",
      "Training on fold [3/5]\n",
      "\n",
      "bestTest = 0.4555857316\n",
      "bestIteration = 81\n",
      "\n",
      "Training on fold [4/5]\n"
     ]
    },
    {
     "name": "stderr",
     "output_type": "stream",
     "text": [
      "\u001b[32m[I 2022-01-26 17:44:08,406]\u001b[0m Trial 14 finished with value: 0.8663457429675621 and parameters: {'iterations': 300, 'learning_rate': 0.24917216994779037, 'random_strength': 4, 'bagging_temperature': 4, 'max_bin': 6, 'grow_policy': 'SymmetricTree', 'max_depth': 4, 'l2_leaf_reg': 0.7466656179671237, 'one_hot_max_size': 5, 'auto_class_weights': 'Balanced'}. Best is trial 6 with value: 0.86833548032738.\u001b[0m\n"
     ]
    },
    {
     "name": "stdout",
     "output_type": "stream",
     "text": [
      "\n",
      "bestTest = 0.4467341806\n",
      "bestIteration = 70\n",
      "\n"
     ]
    },
    {
     "data": {
      "application/vnd.jupyter.widget-view+json": {
       "model_id": "e056a50175244ba88f612e83596ec983",
       "version_major": 2,
       "version_minor": 0
      },
      "text/plain": [
       "MetricVisualizer(layout=Layout(align_self='stretch', height='500px'))"
      ]
     },
     "metadata": {},
     "output_type": "display_data"
    },
    {
     "name": "stdout",
     "output_type": "stream",
     "text": [
      "Training on fold [0/5]\n",
      "\n",
      "bestTest = 0.4612849473\n",
      "bestIteration = 62\n",
      "\n",
      "Training on fold [1/5]\n",
      "\n",
      "bestTest = 0.4678233458\n",
      "bestIteration = 72\n",
      "\n",
      "Training on fold [2/5]\n",
      "\n",
      "bestTest = 0.4572725541\n",
      "bestIteration = 81\n",
      "\n",
      "Training on fold [3/5]\n",
      "\n",
      "bestTest = 0.4603862167\n",
      "bestIteration = 61\n",
      "\n",
      "Training on fold [4/5]\n"
     ]
    },
    {
     "name": "stderr",
     "output_type": "stream",
     "text": [
      "\u001b[32m[I 2022-01-26 17:44:36,461]\u001b[0m Trial 15 finished with value: 0.865081408654486 and parameters: {'iterations': 300, 'learning_rate': 0.1739341400194549, 'random_strength': 6, 'bagging_temperature': 2, 'max_bin': 10, 'grow_policy': 'SymmetricTree', 'max_depth': 7, 'l2_leaf_reg': 0.8549315771643822, 'one_hot_max_size': 5, 'auto_class_weights': 'Balanced'}. Best is trial 6 with value: 0.86833548032738.\u001b[0m\n"
     ]
    },
    {
     "name": "stdout",
     "output_type": "stream",
     "text": [
      "\n",
      "bestTest = 0.4481103969\n",
      "bestIteration = 74\n",
      "\n"
     ]
    },
    {
     "data": {
      "application/vnd.jupyter.widget-view+json": {
       "model_id": "c7897d53e3ce44a585313e314be288b6",
       "version_major": 2,
       "version_minor": 0
      },
      "text/plain": [
       "MetricVisualizer(layout=Layout(align_self='stretch', height='500px'))"
      ]
     },
     "metadata": {},
     "output_type": "display_data"
    },
    {
     "name": "stdout",
     "output_type": "stream",
     "text": [
      "Training on fold [0/5]\n",
      "\n",
      "bestTest = 0.4556062509\n",
      "bestIteration = 62\n",
      "\n",
      "Training on fold [1/5]\n",
      "\n",
      "bestTest = 0.4622056764\n",
      "bestIteration = 62\n",
      "\n",
      "Training on fold [2/5]\n",
      "\n",
      "bestTest = 0.4579888095\n",
      "bestIteration = 54\n",
      "\n",
      "Training on fold [3/5]\n",
      "\n",
      "bestTest = 0.4554969837\n",
      "bestIteration = 51\n",
      "\n",
      "Training on fold [4/5]\n"
     ]
    },
    {
     "name": "stderr",
     "output_type": "stream",
     "text": [
      "\u001b[32m[I 2022-01-26 17:44:53,416]\u001b[0m Trial 16 finished with value: 0.8671270255327341 and parameters: {'iterations': 1200, 'learning_rate': 0.26053855113572677, 'random_strength': 3, 'bagging_temperature': 0, 'max_bin': 10, 'grow_policy': 'SymmetricTree', 'max_depth': 5, 'l2_leaf_reg': 6.429309779261425, 'one_hot_max_size': 12, 'auto_class_weights': 'Balanced'}. Best is trial 6 with value: 0.86833548032738.\u001b[0m\n"
     ]
    },
    {
     "name": "stdout",
     "output_type": "stream",
     "text": [
      "\n",
      "bestTest = 0.4462674534\n",
      "bestIteration = 65\n",
      "\n"
     ]
    },
    {
     "data": {
      "application/vnd.jupyter.widget-view+json": {
       "model_id": "8260d160ca2f4a96aaa7d934d268888e",
       "version_major": 2,
       "version_minor": 0
      },
      "text/plain": [
       "MetricVisualizer(layout=Layout(align_self='stretch', height='500px'))"
      ]
     },
     "metadata": {},
     "output_type": "display_data"
    },
    {
     "name": "stdout",
     "output_type": "stream",
     "text": [
      "Training on fold [0/5]\n",
      "\n",
      "bestTest = 0.4750217257\n",
      "bestIteration = 27\n",
      "\n",
      "Training on fold [1/5]\n",
      "\n",
      "bestTest = 0.4833010346\n",
      "bestIteration = 40\n",
      "\n",
      "Training on fold [2/5]\n",
      "\n",
      "bestTest = 0.4722182847\n",
      "bestIteration = 47\n",
      "\n",
      "Training on fold [3/5]\n",
      "\n",
      "bestTest = 0.4773769106\n",
      "bestIteration = 48\n",
      "\n",
      "Training on fold [4/5]\n"
     ]
    },
    {
     "name": "stderr",
     "output_type": "stream",
     "text": [
      "\u001b[32m[I 2022-01-26 17:45:13,941]\u001b[0m Trial 17 finished with value: 0.8542758128566789 and parameters: {'iterations': 500, 'learning_rate': 0.162290906081111, 'random_strength': 5, 'bagging_temperature': 5, 'max_bin': 10, 'grow_policy': 'SymmetricTree', 'max_depth': 8, 'l2_leaf_reg': 0.06306159710746394, 'one_hot_max_size': 10, 'auto_class_weights': 'Balanced'}. Best is trial 6 with value: 0.86833548032738.\u001b[0m\n"
     ]
    },
    {
     "name": "stdout",
     "output_type": "stream",
     "text": [
      "\n",
      "bestTest = 0.468587619\n",
      "bestIteration = 31\n",
      "\n"
     ]
    },
    {
     "data": {
      "application/vnd.jupyter.widget-view+json": {
       "model_id": "ea0a76de6a324d328a529a1e9366709b",
       "version_major": 2,
       "version_minor": 0
      },
      "text/plain": [
       "MetricVisualizer(layout=Layout(align_self='stretch', height='500px'))"
      ]
     },
     "metadata": {},
     "output_type": "display_data"
    },
    {
     "name": "stdout",
     "output_type": "stream",
     "text": [
      "Training on fold [0/5]\n",
      "\n",
      "bestTest = 0.4596113792\n",
      "bestIteration = 191\n",
      "\n",
      "Training on fold [1/5]\n",
      "\n",
      "bestTest = 0.4642100854\n",
      "bestIteration = 242\n",
      "\n",
      "Training on fold [2/5]\n",
      "\n",
      "bestTest = 0.4570876374\n",
      "bestIteration = 275\n",
      "\n",
      "Training on fold [3/5]\n",
      "\n",
      "bestTest = 0.4574158365\n",
      "bestIteration = 214\n",
      "\n",
      "Training on fold [4/5]\n"
     ]
    },
    {
     "name": "stderr",
     "output_type": "stream",
     "text": [
      "\u001b[32m[I 2022-01-26 17:45:20,612]\u001b[0m Trial 18 finished with value: 0.8659593007553548 and parameters: {'iterations': 300, 'learning_rate': 0.08253977991457023, 'random_strength': 7, 'bagging_temperature': 1, 'max_bin': 6, 'grow_policy': 'SymmetricTree', 'max_depth': 3, 'l2_leaf_reg': 2.8479737297402608e-05, 'one_hot_max_size': 1024, 'auto_class_weights': 'Balanced'}. Best is trial 6 with value: 0.86833548032738.\u001b[0m\n"
     ]
    },
    {
     "name": "stdout",
     "output_type": "stream",
     "text": [
      "\n",
      "bestTest = 0.4506592319\n",
      "bestIteration = 252\n",
      "\n"
     ]
    },
    {
     "data": {
      "application/vnd.jupyter.widget-view+json": {
       "model_id": "a91da3fd45e74e13a3b453d09ace6d8f",
       "version_major": 2,
       "version_minor": 0
      },
      "text/plain": [
       "MetricVisualizer(layout=Layout(align_self='stretch', height='500px'))"
      ]
     },
     "metadata": {},
     "output_type": "display_data"
    },
    {
     "name": "stdout",
     "output_type": "stream",
     "text": [
      "Training on fold [0/5]\n",
      "\n",
      "bestTest = 0.454352057\n",
      "bestIteration = 59\n",
      "\n",
      "Training on fold [1/5]\n",
      "\n",
      "bestTest = 0.4651791855\n",
      "bestIteration = 50\n",
      "\n",
      "Training on fold [2/5]\n",
      "\n",
      "bestTest = 0.4549420499\n",
      "bestIteration = 72\n",
      "\n",
      "Training on fold [3/5]\n",
      "\n",
      "bestTest = 0.4519337441\n",
      "bestIteration = 73\n",
      "\n",
      "Training on fold [4/5]\n"
     ]
    },
    {
     "name": "stderr",
     "output_type": "stream",
     "text": [
      "\u001b[32m[I 2022-01-26 17:45:39,494]\u001b[0m Trial 19 finished with value: 0.8671474793762928 and parameters: {'iterations': 300, 'learning_rate': 0.2621547368672365, 'random_strength': 3, 'bagging_temperature': 3, 'max_bin': 8, 'grow_policy': 'SymmetricTree', 'max_depth': 5, 'l2_leaf_reg': 10.225320123105696, 'one_hot_max_size': 5, 'auto_class_weights': 'Balanced'}. Best is trial 6 with value: 0.86833548032738.\u001b[0m\n"
     ]
    },
    {
     "name": "stdout",
     "output_type": "stream",
     "text": [
      "\n",
      "bestTest = 0.4465499557\n",
      "bestIteration = 81\n",
      "\n"
     ]
    },
    {
     "data": {
      "application/vnd.jupyter.widget-view+json": {
       "model_id": "d5a409cc2d7c48999bb2291f7d198b3f",
       "version_major": 2,
       "version_minor": 0
      },
      "text/plain": [
       "MetricVisualizer(layout=Layout(align_self='stretch', height='500px'))"
      ]
     },
     "metadata": {},
     "output_type": "display_data"
    },
    {
     "name": "stdout",
     "output_type": "stream",
     "text": [
      "Training on fold [0/5]\n",
      "\n",
      "bestTest = 0.4668955947\n",
      "bestIteration = 47\n",
      "\n",
      "Training on fold [1/5]\n",
      "\n",
      "bestTest = 0.4725374891\n",
      "bestIteration = 62\n",
      "\n",
      "Training on fold [2/5]\n",
      "\n",
      "bestTest = 0.4710617396\n",
      "bestIteration = 60\n",
      "\n",
      "Training on fold [3/5]\n",
      "\n",
      "bestTest = 0.466821774\n",
      "bestIteration = 56\n",
      "\n",
      "Training on fold [4/5]\n"
     ]
    },
    {
     "name": "stderr",
     "output_type": "stream",
     "text": [
      "\u001b[32m[I 2022-01-26 17:46:03,721]\u001b[0m Trial 20 finished with value: 0.859570490685557 and parameters: {'iterations': 300, 'learning_rate': 0.19280316585525661, 'random_strength': 7, 'bagging_temperature': 1, 'max_bin': 5, 'grow_policy': 'SymmetricTree', 'max_depth': 7, 'l2_leaf_reg': 0.06889212297158703, 'one_hot_max_size': 5, 'auto_class_weights': 'Balanced'}. Best is trial 6 with value: 0.86833548032738.\u001b[0m\n"
     ]
    },
    {
     "name": "stdout",
     "output_type": "stream",
     "text": [
      "\n",
      "bestTest = 0.4568255715\n",
      "bestIteration = 63\n",
      "\n"
     ]
    },
    {
     "data": {
      "application/vnd.jupyter.widget-view+json": {
       "model_id": "f8c31fa870a045d3a4b7d36b746c66f3",
       "version_major": 2,
       "version_minor": 0
      },
      "text/plain": [
       "MetricVisualizer(layout=Layout(align_self='stretch', height='500px'))"
      ]
     },
     "metadata": {},
     "output_type": "display_data"
    },
    {
     "name": "stdout",
     "output_type": "stream",
     "text": [
      "Training on fold [0/5]\n",
      "\n",
      "bestTest = 0.4560042616\n",
      "bestIteration = 94\n",
      "\n",
      "Training on fold [1/5]\n",
      "\n",
      "bestTest = 0.4615313839\n",
      "bestIteration = 107\n",
      "\n",
      "Training on fold [2/5]\n",
      "\n",
      "bestTest = 0.45191141\n",
      "bestIteration = 125\n",
      "\n",
      "Training on fold [3/5]\n",
      "\n",
      "bestTest = 0.4549006457\n",
      "bestIteration = 73\n",
      "\n",
      "Training on fold [4/5]\n"
     ]
    },
    {
     "name": "stderr",
     "output_type": "stream",
     "text": [
      "\u001b[32m[I 2022-01-26 17:46:24,414]\u001b[0m Trial 21 finished with value: 0.8681165045015546 and parameters: {'iterations': 300, 'learning_rate': 0.21082492056123503, 'random_strength': 4, 'bagging_temperature': 0, 'max_bin': 10, 'grow_policy': 'SymmetricTree', 'max_depth': 4, 'l2_leaf_reg': 64.54115703707609, 'one_hot_max_size': 5, 'auto_class_weights': 'Balanced'}. Best is trial 6 with value: 0.86833548032738.\u001b[0m\n"
     ]
    },
    {
     "name": "stdout",
     "output_type": "stream",
     "text": [
      "\n",
      "bestTest = 0.4452026642\n",
      "bestIteration = 119\n",
      "\n"
     ]
    },
    {
     "data": {
      "application/vnd.jupyter.widget-view+json": {
       "model_id": "a89e78bc853b4a4d8894cfe6e0a1abbb",
       "version_major": 2,
       "version_minor": 0
      },
      "text/plain": [
       "MetricVisualizer(layout=Layout(align_self='stretch', height='500px'))"
      ]
     },
     "metadata": {},
     "output_type": "display_data"
    },
    {
     "name": "stdout",
     "output_type": "stream",
     "text": [
      "Training on fold [0/5]\n",
      "\n",
      "bestTest = 0.4549004515\n",
      "bestIteration = 62\n",
      "\n",
      "Training on fold [1/5]\n",
      "\n",
      "bestTest = 0.4680499604\n",
      "bestIteration = 58\n",
      "\n",
      "Training on fold [2/5]\n",
      "\n",
      "bestTest = 0.4538510977\n",
      "bestIteration = 64\n",
      "\n",
      "Training on fold [3/5]\n",
      "\n",
      "bestTest = 0.4535899907\n",
      "bestIteration = 68\n",
      "\n",
      "Training on fold [4/5]\n"
     ]
    },
    {
     "name": "stderr",
     "output_type": "stream",
     "text": [
      "\u001b[32m[I 2022-01-26 17:46:44,043]\u001b[0m Trial 22 finished with value: 0.867188633358564 and parameters: {'iterations': 300, 'learning_rate': 0.23551124364277715, 'random_strength': 5, 'bagging_temperature': 0, 'max_bin': 10, 'grow_policy': 'SymmetricTree', 'max_depth': 5, 'l2_leaf_reg': 17.4112617465734, 'one_hot_max_size': 5, 'auto_class_weights': 'Balanced'}. Best is trial 6 with value: 0.86833548032738.\u001b[0m\n"
     ]
    },
    {
     "name": "stdout",
     "output_type": "stream",
     "text": [
      "\n",
      "bestTest = 0.4429296595\n",
      "bestIteration = 96\n",
      "\n"
     ]
    },
    {
     "data": {
      "application/vnd.jupyter.widget-view+json": {
       "model_id": "a5d723f6c648402e96c11e3f4b32a375",
       "version_major": 2,
       "version_minor": 0
      },
      "text/plain": [
       "MetricVisualizer(layout=Layout(align_self='stretch', height='500px'))"
      ]
     },
     "metadata": {},
     "output_type": "display_data"
    },
    {
     "name": "stdout",
     "output_type": "stream",
     "text": [
      "Training on fold [0/5]\n",
      "\n",
      "bestTest = 0.4537640962\n",
      "bestIteration = 137\n",
      "\n",
      "Training on fold [1/5]\n",
      "\n",
      "bestTest = 0.465720639\n",
      "bestIteration = 121\n",
      "\n",
      "Training on fold [2/5]\n",
      "\n",
      "bestTest = 0.4561693594\n",
      "bestIteration = 103\n",
      "\n",
      "Training on fold [3/5]\n",
      "\n",
      "bestTest = 0.4567465798\n",
      "bestIteration = 89\n",
      "\n",
      "Training on fold [4/5]\n"
     ]
    },
    {
     "name": "stderr",
     "output_type": "stream",
     "text": [
      "\u001b[32m[I 2022-01-26 17:47:00,573]\u001b[0m Trial 23 finished with value: 0.8670654235871327 and parameters: {'iterations': 300, 'learning_rate': 0.20644541534625796, 'random_strength': 3, 'bagging_temperature': 1, 'max_bin': 10, 'grow_policy': 'SymmetricTree', 'max_depth': 3, 'l2_leaf_reg': 3.7174919929890318, 'one_hot_max_size': 5, 'auto_class_weights': 'Balanced'}. Best is trial 6 with value: 0.86833548032738.\u001b[0m\n"
     ]
    },
    {
     "name": "stdout",
     "output_type": "stream",
     "text": [
      "\n",
      "bestTest = 0.4459062557\n",
      "bestIteration = 125\n",
      "\n"
     ]
    },
    {
     "data": {
      "application/vnd.jupyter.widget-view+json": {
       "model_id": "8b3e6842f50245c19803468ec208b1da",
       "version_major": 2,
       "version_minor": 0
      },
      "text/plain": [
       "MetricVisualizer(layout=Layout(align_self='stretch', height='500px'))"
      ]
     },
     "metadata": {},
     "output_type": "display_data"
    },
    {
     "name": "stdout",
     "output_type": "stream",
     "text": [
      "Training on fold [0/5]\n",
      "\n",
      "bestTest = 0.4577440893\n",
      "bestIteration = 58\n",
      "\n",
      "Training on fold [1/5]\n",
      "\n",
      "bestTest = 0.4699738318\n",
      "bestIteration = 62\n",
      "\n",
      "Training on fold [2/5]\n",
      "\n",
      "bestTest = 0.4581649119\n",
      "bestIteration = 69\n",
      "\n",
      "Training on fold [3/5]\n",
      "\n",
      "bestTest = 0.4559630557\n",
      "bestIteration = 81\n",
      "\n",
      "Training on fold [4/5]\n"
     ]
    },
    {
     "name": "stderr",
     "output_type": "stream",
     "text": [
      "\u001b[32m[I 2022-01-26 17:47:11,899]\u001b[0m Trial 24 finished with value: 0.8657928842815806 and parameters: {'iterations': 500, 'learning_rate': 0.2748235218781543, 'random_strength': 6, 'bagging_temperature': 3, 'max_bin': 10, 'grow_policy': 'SymmetricTree', 'max_depth': 3, 'l2_leaf_reg': 0.1444419042507601, 'one_hot_max_size': 5, 'auto_class_weights': 'Balanced'}. Best is trial 6 with value: 0.86833548032738.\u001b[0m\n"
     ]
    },
    {
     "name": "stdout",
     "output_type": "stream",
     "text": [
      "\n",
      "bestTest = 0.4443613163\n",
      "bestIteration = 133\n",
      "\n"
     ]
    },
    {
     "data": {
      "application/vnd.jupyter.widget-view+json": {
       "model_id": "2ffef22710954d57ad0908718e7ad97c",
       "version_major": 2,
       "version_minor": 0
      },
      "text/plain": [
       "MetricVisualizer(layout=Layout(align_self='stretch', height='500px'))"
      ]
     },
     "metadata": {},
     "output_type": "display_data"
    },
    {
     "name": "stdout",
     "output_type": "stream",
     "text": [
      "Training on fold [0/5]\n",
      "\n",
      "bestTest = 0.4548014019\n",
      "bestIteration = 102\n",
      "\n",
      "Training on fold [1/5]\n",
      "\n",
      "bestTest = 0.466194199\n",
      "bestIteration = 95\n",
      "\n",
      "Training on fold [2/5]\n",
      "\n",
      "bestTest = 0.4530714897\n",
      "bestIteration = 87\n",
      "\n",
      "Training on fold [3/5]\n",
      "\n",
      "bestTest = 0.4549644066\n",
      "bestIteration = 94\n",
      "\n",
      "Training on fold [4/5]\n"
     ]
    },
    {
     "name": "stderr",
     "output_type": "stream",
     "text": [
      "\u001b[32m[I 2022-01-26 17:47:37,135]\u001b[0m Trial 25 finished with value: 0.8674981979173493 and parameters: {'iterations': 1200, 'learning_rate': 0.22942372750746504, 'random_strength': 4, 'bagging_temperature': 2, 'max_bin': 4, 'grow_policy': 'SymmetricTree', 'max_depth': 5, 'l2_leaf_reg': 91.73489550576943, 'one_hot_max_size': 5, 'auto_class_weights': 'Balanced'}. Best is trial 6 with value: 0.86833548032738.\u001b[0m\n"
     ]
    },
    {
     "name": "stdout",
     "output_type": "stream",
     "text": [
      "\n",
      "bestTest = 0.4442731447\n",
      "bestIteration = 90\n",
      "\n"
     ]
    },
    {
     "data": {
      "application/vnd.jupyter.widget-view+json": {
       "model_id": "f6061f4502e74aa49a6797721343a4cf",
       "version_major": 2,
       "version_minor": 0
      },
      "text/plain": [
       "MetricVisualizer(layout=Layout(align_self='stretch', height='500px'))"
      ]
     },
     "metadata": {},
     "output_type": "display_data"
    },
    {
     "name": "stdout",
     "output_type": "stream",
     "text": [
      "Training on fold [0/5]\n",
      "\n",
      "bestTest = 0.4607686478\n",
      "bestIteration = 44\n",
      "\n",
      "Training on fold [1/5]\n",
      "\n",
      "bestTest = 0.4735672047\n",
      "bestIteration = 41\n",
      "\n",
      "Training on fold [2/5]\n",
      "\n",
      "bestTest = 0.456813536\n",
      "bestIteration = 60\n",
      "\n",
      "Training on fold [3/5]\n",
      "\n",
      "bestTest = 0.4600268117\n",
      "bestIteration = 39\n",
      "\n",
      "Training on fold [4/5]\n"
     ]
    },
    {
     "name": "stderr",
     "output_type": "stream",
     "text": [
      "\u001b[32m[I 2022-01-26 17:47:59,440]\u001b[0m Trial 26 finished with value: 0.8634044391769322 and parameters: {'iterations': 300, 'learning_rate': 0.17915933563789485, 'random_strength': 2, 'bagging_temperature': 0, 'max_bin': 10, 'grow_policy': 'SymmetricTree', 'max_depth': 7, 'l2_leaf_reg': 1.9974048457037377, 'one_hot_max_size': 10, 'auto_class_weights': 'Balanced'}. Best is trial 6 with value: 0.86833548032738.\u001b[0m\n"
     ]
    },
    {
     "name": "stdout",
     "output_type": "stream",
     "text": [
      "\n",
      "bestTest = 0.4532801501\n",
      "bestIteration = 62\n",
      "\n"
     ]
    },
    {
     "data": {
      "application/vnd.jupyter.widget-view+json": {
       "model_id": "9e18b495b2a74e07a87a602df4005b04",
       "version_major": 2,
       "version_minor": 0
      },
      "text/plain": [
       "MetricVisualizer(layout=Layout(align_self='stretch', height='500px'))"
      ]
     },
     "metadata": {},
     "output_type": "display_data"
    },
    {
     "name": "stdout",
     "output_type": "stream",
     "text": [
      "Training on fold [0/5]\n",
      "\n",
      "bestTest = 0.4564108104\n",
      "bestIteration = 103\n",
      "\n",
      "Training on fold [1/5]\n",
      "\n",
      "bestTest = 0.4611165447\n",
      "bestIteration = 115\n",
      "\n",
      "Training on fold [2/5]\n",
      "\n",
      "bestTest = 0.4532960358\n",
      "bestIteration = 97\n",
      "\n",
      "Training on fold [3/5]\n",
      "\n",
      "bestTest = 0.4534980435\n",
      "bestIteration = 91\n",
      "\n",
      "Training on fold [4/5]\n"
     ]
    },
    {
     "name": "stderr",
     "output_type": "stream",
     "text": [
      "\u001b[32m[I 2022-01-26 17:48:29,367]\u001b[0m Trial 27 finished with value: 0.8682983179173618 and parameters: {'iterations': 300, 'learning_rate': 0.1525974170025792, 'random_strength': 5, 'bagging_temperature': 1, 'max_bin': 10, 'grow_policy': 'SymmetricTree', 'max_depth': 6, 'l2_leaf_reg': 19.945758595783783, 'one_hot_max_size': 12, 'auto_class_weights': 'Balanced'}. Best is trial 6 with value: 0.86833548032738.\u001b[0m\n"
     ]
    },
    {
     "name": "stdout",
     "output_type": "stream",
     "text": [
      "\n",
      "bestTest = 0.4441361047\n",
      "bestIteration = 101\n",
      "\n"
     ]
    },
    {
     "data": {
      "application/vnd.jupyter.widget-view+json": {
       "model_id": "4884dfaf02e94c1cb26422eb2ee75a69",
       "version_major": 2,
       "version_minor": 0
      },
      "text/plain": [
       "MetricVisualizer(layout=Layout(align_self='stretch', height='500px'))"
      ]
     },
     "metadata": {},
     "output_type": "display_data"
    },
    {
     "name": "stdout",
     "output_type": "stream",
     "text": [
      "Training on fold [0/5]\n",
      "\n",
      "bestTest = 0.4856971419\n",
      "bestIteration = 34\n",
      "\n",
      "Training on fold [1/5]\n",
      "\n",
      "bestTest = 0.5009984742\n",
      "bestIteration = 41\n",
      "\n",
      "Training on fold [2/5]\n",
      "\n",
      "bestTest = 0.4884388434\n",
      "bestIteration = 36\n",
      "\n",
      "Training on fold [3/5]\n",
      "\n",
      "bestTest = 0.495553855\n",
      "bestIteration = 31\n",
      "\n",
      "Training on fold [4/5]\n"
     ]
    },
    {
     "name": "stderr",
     "output_type": "stream",
     "text": [
      "\u001b[32m[I 2022-01-26 17:48:48,140]\u001b[0m Trial 28 finished with value: 0.8470682777402434 and parameters: {'iterations': 300, 'learning_rate': 0.10886755228639378, 'random_strength': 5, 'bagging_temperature': 4, 'max_bin': 10, 'grow_policy': 'SymmetricTree', 'max_depth': 8, 'l2_leaf_reg': 1.0595003544247859e-08, 'one_hot_max_size': 12, 'auto_class_weights': 'Balanced'}. Best is trial 6 with value: 0.86833548032738.\u001b[0m\n"
     ]
    },
    {
     "name": "stdout",
     "output_type": "stream",
     "text": [
      "\n",
      "bestTest = 0.4864372751\n",
      "bestIteration = 19\n",
      "\n"
     ]
    },
    {
     "data": {
      "application/vnd.jupyter.widget-view+json": {
       "model_id": "bc59d3a0cfdc40d7a6833ecb55935650",
       "version_major": 2,
       "version_minor": 0
      },
      "text/plain": [
       "MetricVisualizer(layout=Layout(align_self='stretch', height='500px'))"
      ]
     },
     "metadata": {},
     "output_type": "display_data"
    },
    {
     "name": "stdout",
     "output_type": "stream",
     "text": [
      "Training on fold [0/5]\n",
      "\n",
      "bestTest = 0.4586023091\n",
      "bestIteration = 163\n",
      "\n",
      "Training on fold [1/5]\n",
      "\n",
      "bestTest = 0.4681910953\n",
      "bestIteration = 183\n",
      "\n",
      "Training on fold [2/5]\n",
      "\n",
      "bestTest = 0.4554000488\n",
      "bestIteration = 188\n",
      "\n",
      "Training on fold [3/5]\n",
      "\n",
      "bestTest = 0.4621193693\n",
      "bestIteration = 180\n",
      "\n",
      "Training on fold [4/5]\n"
     ]
    },
    {
     "name": "stderr",
     "output_type": "stream",
     "text": [
      "\u001b[32m[I 2022-01-26 17:49:43,086]\u001b[0m Trial 29 finished with value: 0.8654828486539197 and parameters: {'iterations': 1500, 'learning_rate': 0.07630394021032791, 'random_strength': 8, 'bagging_temperature': 1, 'max_bin': 10, 'grow_policy': 'SymmetricTree', 'max_depth': 6, 'l2_leaf_reg': 0.11165438757877619, 'one_hot_max_size': 12, 'auto_class_weights': 'Balanced'}. Best is trial 6 with value: 0.86833548032738.\u001b[0m\n"
     ]
    },
    {
     "name": "stdout",
     "output_type": "stream",
     "text": [
      "\n",
      "bestTest = 0.4486036027\n",
      "bestIteration = 213\n",
      "\n"
     ]
    },
    {
     "data": {
      "application/vnd.jupyter.widget-view+json": {
       "model_id": "ed3c5ef3af2941b68f3efa36668d6bdf",
       "version_major": 2,
       "version_minor": 0
      },
      "text/plain": [
       "MetricVisualizer(layout=Layout(align_self='stretch', height='500px'))"
      ]
     },
     "metadata": {},
     "output_type": "display_data"
    },
    {
     "name": "stdout",
     "output_type": "stream",
     "text": [
      "Training on fold [0/5]\n",
      "\n",
      "bestTest = 0.4552154764\n",
      "bestIteration = 72\n",
      "\n",
      "Training on fold [1/5]\n",
      "\n",
      "bestTest = 0.466595075\n",
      "bestIteration = 94\n",
      "\n",
      "Training on fold [2/5]\n",
      "\n",
      "bestTest = 0.4534960141\n",
      "bestIteration = 104\n",
      "\n",
      "Training on fold [3/5]\n",
      "\n",
      "bestTest = 0.4566691081\n",
      "bestIteration = 83\n",
      "\n",
      "Training on fold [4/5]\n"
     ]
    },
    {
     "name": "stderr",
     "output_type": "stream",
     "text": [
      "\u001b[32m[I 2022-01-26 17:50:11,446]\u001b[0m Trial 30 finished with value: 0.8670336711075939 and parameters: {'iterations': 300, 'learning_rate': 0.16384258263443902, 'random_strength': 6, 'bagging_temperature': 5, 'max_bin': 4, 'grow_policy': 'SymmetricTree', 'max_depth': 6, 'l2_leaf_reg': 21.517112181063595, 'one_hot_max_size': 12, 'auto_class_weights': 'Balanced'}. Best is trial 6 with value: 0.86833548032738.\u001b[0m\n"
     ]
    },
    {
     "name": "stdout",
     "output_type": "stream",
     "text": [
      "\n",
      "bestTest = 0.445178288\n",
      "bestIteration = 88\n",
      "\n"
     ]
    },
    {
     "data": {
      "application/vnd.jupyter.widget-view+json": {
       "model_id": "dc076b27639849fb97c4c5e4586a9c68",
       "version_major": 2,
       "version_minor": 0
      },
      "text/plain": [
       "MetricVisualizer(layout=Layout(align_self='stretch', height='500px'))"
      ]
     },
     "metadata": {},
     "output_type": "display_data"
    },
    {
     "name": "stdout",
     "output_type": "stream",
     "text": [
      "Training on fold [0/5]\n",
      "\n",
      "bestTest = 0.4527643904\n",
      "bestIteration = 98\n",
      "\n",
      "Training on fold [1/5]\n",
      "\n",
      "bestTest = 0.4654314989\n",
      "bestIteration = 98\n",
      "\n",
      "Training on fold [2/5]\n",
      "\n",
      "bestTest = 0.4519697864\n",
      "bestIteration = 139\n",
      "\n",
      "Training on fold [3/5]\n",
      "\n",
      "bestTest = 0.4533394224\n",
      "bestIteration = 114\n",
      "\n",
      "Training on fold [4/5]\n"
     ]
    },
    {
     "name": "stderr",
     "output_type": "stream",
     "text": [
      "\u001b[32m[I 2022-01-26 17:50:34,984]\u001b[0m Trial 31 finished with value: 0.868623387977953 and parameters: {'iterations': 300, 'learning_rate': 0.15327526907128053, 'random_strength': 4, 'bagging_temperature': 1, 'max_bin': 10, 'grow_policy': 'SymmetricTree', 'max_depth': 4, 'l2_leaf_reg': 18.829147866534395, 'one_hot_max_size': 5, 'auto_class_weights': 'Balanced'}. Best is trial 31 with value: 0.868623387977953.\u001b[0m\n"
     ]
    },
    {
     "name": "stdout",
     "output_type": "stream",
     "text": [
      "\n",
      "bestTest = 0.4430726967\n",
      "bestIteration = 145\n",
      "\n"
     ]
    },
    {
     "data": {
      "application/vnd.jupyter.widget-view+json": {
       "model_id": "67cf32e2f9e749c3a39daf97dc07b83b",
       "version_major": 2,
       "version_minor": 0
      },
      "text/plain": [
       "MetricVisualizer(layout=Layout(align_self='stretch', height='500px'))"
      ]
     },
     "metadata": {},
     "output_type": "display_data"
    },
    {
     "name": "stdout",
     "output_type": "stream",
     "text": [
      "Training on fold [0/5]\n",
      "\n",
      "bestTest = 0.4577466849\n",
      "bestIteration = 94\n",
      "\n",
      "Training on fold [1/5]\n",
      "\n",
      "bestTest = 0.4615679804\n",
      "bestIteration = 93\n",
      "\n",
      "Training on fold [2/5]\n",
      "\n",
      "bestTest = 0.4536579219\n",
      "bestIteration = 117\n",
      "\n",
      "Training on fold [3/5]\n",
      "\n",
      "bestTest = 0.4557918218\n",
      "bestIteration = 99\n",
      "\n",
      "Training on fold [4/5]\n"
     ]
    },
    {
     "name": "stderr",
     "output_type": "stream",
     "text": [
      "\u001b[32m[I 2022-01-26 17:50:39,686]\u001b[0m Trial 32 finished with value: 0.8678891954762836 and parameters: {'iterations': 300, 'learning_rate': 0.15047499795280334, 'random_strength': 5, 'bagging_temperature': 2, 'max_bin': 10, 'grow_policy': 'SymmetricTree', 'max_depth': 5, 'l2_leaf_reg': 17.237859843399594, 'one_hot_max_size': 1024, 'auto_class_weights': 'Balanced'}. Best is trial 31 with value: 0.868623387977953.\u001b[0m\n"
     ]
    },
    {
     "name": "stdout",
     "output_type": "stream",
     "text": [
      "\n",
      "bestTest = 0.4429327391\n",
      "bestIteration = 146\n",
      "\n"
     ]
    },
    {
     "data": {
      "application/vnd.jupyter.widget-view+json": {
       "model_id": "f45e7abbbf624bb3a88b1f83d6659ef0",
       "version_major": 2,
       "version_minor": 0
      },
      "text/plain": [
       "MetricVisualizer(layout=Layout(align_self='stretch', height='500px'))"
      ]
     },
     "metadata": {},
     "output_type": "display_data"
    },
    {
     "name": "stdout",
     "output_type": "stream",
     "text": [
      "Training on fold [0/5]\n",
      "\n",
      "bestTest = 0.4624645836\n",
      "bestIteration = 77\n",
      "\n",
      "Training on fold [1/5]\n",
      "\n",
      "bestTest = 0.4724219904\n",
      "bestIteration = 69\n",
      "\n",
      "Training on fold [2/5]\n",
      "\n",
      "bestTest = 0.4626517037\n",
      "bestIteration = 80\n",
      "\n",
      "Training on fold [3/5]\n",
      "\n",
      "bestTest = 0.4631117118\n",
      "bestIteration = 99\n",
      "\n",
      "Training on fold [4/5]\n"
     ]
    },
    {
     "name": "stderr",
     "output_type": "stream",
     "text": [
      "\u001b[32m[I 2022-01-26 17:51:14,975]\u001b[0m Trial 33 finished with value: 0.862549984085285 and parameters: {'iterations': 300, 'learning_rate': 0.11851248520978816, 'random_strength': 3, 'bagging_temperature': 1, 'max_bin': 8, 'grow_policy': 'SymmetricTree', 'max_depth': 7, 'l2_leaf_reg': 0.3545828548311504, 'one_hot_max_size': 12, 'auto_class_weights': 'Balanced'}. Best is trial 31 with value: 0.868623387977953.\u001b[0m\n"
     ]
    },
    {
     "name": "stdout",
     "output_type": "stream",
     "text": [
      "\n",
      "bestTest = 0.4564283853\n",
      "bestIteration = 82\n",
      "\n"
     ]
    },
    {
     "data": {
      "application/vnd.jupyter.widget-view+json": {
       "model_id": "0953eb26fd7c41eab1171a9a79dea625",
       "version_major": 2,
       "version_minor": 0
      },
      "text/plain": [
       "MetricVisualizer(layout=Layout(align_self='stretch', height='500px'))"
      ]
     },
     "metadata": {},
     "output_type": "display_data"
    },
    {
     "name": "stdout",
     "output_type": "stream",
     "text": [
      "Training on fold [0/5]\n",
      "\n",
      "bestTest = 0.4544873734\n",
      "bestIteration = 159\n",
      "\n",
      "Training on fold [1/5]\n",
      "\n",
      "bestTest = 0.4647863089\n",
      "bestIteration = 148\n",
      "\n",
      "Training on fold [2/5]\n",
      "\n",
      "bestTest = 0.4574013088\n",
      "bestIteration = 137\n",
      "\n",
      "Training on fold [3/5]\n",
      "\n",
      "bestTest = 0.4582451989\n",
      "bestIteration = 141\n",
      "\n",
      "Training on fold [4/5]\n"
     ]
    },
    {
     "name": "stderr",
     "output_type": "stream",
     "text": [
      "\u001b[32m[I 2022-01-26 17:51:22,019]\u001b[0m Trial 34 finished with value: 0.8668699208349899 and parameters: {'iterations': 1200, 'learning_rate': 0.10279586303682202, 'random_strength': 7, 'bagging_temperature': 3, 'max_bin': 10, 'grow_policy': 'SymmetricTree', 'max_depth': 6, 'l2_leaf_reg': 3.149837766613654, 'one_hot_max_size': 100, 'auto_class_weights': 'Balanced'}. Best is trial 31 with value: 0.868623387977953.\u001b[0m\n"
     ]
    },
    {
     "name": "stdout",
     "output_type": "stream",
     "text": [
      "\n",
      "bestTest = 0.4462076871\n",
      "bestIteration = 175\n",
      "\n"
     ]
    },
    {
     "data": {
      "application/vnd.jupyter.widget-view+json": {
       "model_id": "493d391ee95c4d4aba0cc469a5fa55ec",
       "version_major": 2,
       "version_minor": 0
      },
      "text/plain": [
       "MetricVisualizer(layout=Layout(align_self='stretch', height='500px'))"
      ]
     },
     "metadata": {},
     "output_type": "display_data"
    },
    {
     "name": "stdout",
     "output_type": "stream",
     "text": [
      "Training on fold [0/5]\n",
      "\n",
      "bestTest = 0.4588609533\n",
      "bestIteration = 119\n",
      "\n",
      "Training on fold [1/5]\n",
      "\n",
      "bestTest = 0.4650155187\n",
      "bestIteration = 147\n",
      "\n",
      "Training on fold [2/5]\n",
      "\n",
      "bestTest = 0.4604974702\n",
      "bestIteration = 127\n",
      "\n",
      "Training on fold [3/5]\n",
      "\n",
      "bestTest = 0.4563509413\n",
      "bestIteration = 138\n",
      "\n",
      "Training on fold [4/5]\n"
     ]
    },
    {
     "name": "stderr",
     "output_type": "stream",
     "text": [
      "\u001b[32m[I 2022-01-26 17:51:26,524]\u001b[0m Trial 35 finished with value: 0.8658023675547728 and parameters: {'iterations': 300, 'learning_rate': 0.1491570806594793, 'random_strength': 9, 'bagging_temperature': 1, 'max_bin': 6, 'grow_policy': 'SymmetricTree', 'max_depth': 3, 'l2_leaf_reg': 0.01471940580521533, 'one_hot_max_size': 500, 'auto_class_weights': 'Balanced'}. Best is trial 31 with value: 0.868623387977953.\u001b[0m\n"
     ]
    },
    {
     "name": "stdout",
     "output_type": "stream",
     "text": [
      "\n",
      "bestTest = 0.4485632728\n",
      "bestIteration = 149\n",
      "\n"
     ]
    },
    {
     "data": {
      "application/vnd.jupyter.widget-view+json": {
       "model_id": "996332f67a554430a5fbe5cdf450de2d",
       "version_major": 2,
       "version_minor": 0
      },
      "text/plain": [
       "MetricVisualizer(layout=Layout(align_self='stretch', height='500px'))"
      ]
     },
     "metadata": {},
     "output_type": "display_data"
    },
    {
     "name": "stdout",
     "output_type": "stream",
     "text": [
      "Training on fold [0/5]\n",
      "\n",
      "bestTest = 0.45576501\n",
      "bestIteration = 241\n",
      "\n",
      "Training on fold [1/5]\n",
      "\n",
      "bestTest = 0.4652309276\n",
      "bestIteration = 222\n",
      "\n",
      "Training on fold [2/5]\n",
      "\n",
      "bestTest = 0.4523320283\n",
      "bestIteration = 234\n",
      "\n",
      "Training on fold [3/5]\n",
      "\n",
      "bestTest = 0.4514290013\n",
      "bestIteration = 240\n",
      "\n",
      "Training on fold [4/5]\n"
     ]
    },
    {
     "name": "stderr",
     "output_type": "stream",
     "text": [
      "\u001b[32m[I 2022-01-26 17:53:17,666]\u001b[0m Trial 36 finished with value: 0.8691179999511197 and parameters: {'iterations': 1500, 'learning_rate': 0.05782509318844685, 'random_strength': 6, 'bagging_temperature': 6, 'max_bin': 8, 'grow_policy': 'SymmetricTree', 'max_depth': 9, 'l2_leaf_reg': 19.59519475239158, 'one_hot_max_size': 5, 'auto_class_weights': 'Balanced'}. Best is trial 36 with value: 0.8691179999511197.\u001b[0m\n"
     ]
    },
    {
     "name": "stdout",
     "output_type": "stream",
     "text": [
      "\n",
      "bestTest = 0.4432348434\n",
      "bestIteration = 252\n",
      "\n"
     ]
    },
    {
     "data": {
      "application/vnd.jupyter.widget-view+json": {
       "model_id": "bb6830e151ef49869562030a2fd62030",
       "version_major": 2,
       "version_minor": 0
      },
      "text/plain": [
       "MetricVisualizer(layout=Layout(align_self='stretch', height='500px'))"
      ]
     },
     "metadata": {},
     "output_type": "display_data"
    },
    {
     "name": "stdout",
     "output_type": "stream",
     "text": [
      "Training on fold [0/5]\n",
      "\n",
      "bestTest = 0.456756076\n",
      "bestIteration = 219\n",
      "\n",
      "Training on fold [1/5]\n",
      "\n",
      "bestTest = 0.4691437706\n",
      "bestIteration = 201\n",
      "\n",
      "Training on fold [2/5]\n",
      "\n",
      "bestTest = 0.4531525201\n",
      "bestIteration = 228\n",
      "\n",
      "Training on fold [3/5]\n",
      "\n",
      "bestTest = 0.4599414115\n",
      "bestIteration = 158\n",
      "\n",
      "Training on fold [4/5]\n"
     ]
    },
    {
     "name": "stderr",
     "output_type": "stream",
     "text": [
      "\u001b[32m[I 2022-01-26 17:55:02,727]\u001b[0m Trial 37 finished with value: 0.8664077366278718 and parameters: {'iterations': 1500, 'learning_rate': 0.049381272672382556, 'random_strength': 6, 'bagging_temperature': 7, 'max_bin': 8, 'grow_policy': 'SymmetricTree', 'max_depth': 9, 'l2_leaf_reg': 4.949898948021792, 'one_hot_max_size': 10, 'auto_class_weights': 'Balanced'}. Best is trial 36 with value: 0.8691179999511197.\u001b[0m\n"
     ]
    },
    {
     "name": "stdout",
     "output_type": "stream",
     "text": [
      "\n",
      "bestTest = 0.4520018394\n",
      "bestIteration = 174\n",
      "\n"
     ]
    },
    {
     "data": {
      "application/vnd.jupyter.widget-view+json": {
       "model_id": "139ce6dd9f8f4cd980ffe4fe908fe41a",
       "version_major": 2,
       "version_minor": 0
      },
      "text/plain": [
       "MetricVisualizer(layout=Layout(align_self='stretch', height='500px'))"
      ]
     },
     "metadata": {},
     "output_type": "display_data"
    },
    {
     "name": "stdout",
     "output_type": "stream",
     "text": [
      "Training on fold [0/5]\n",
      "\n",
      "bestTest = 0.4754187609\n",
      "bestIteration = 109\n",
      "\n",
      "Training on fold [1/5]\n",
      "\n",
      "bestTest = 0.4927614569\n",
      "bestIteration = 79\n",
      "\n",
      "Training on fold [2/5]\n",
      "\n",
      "bestTest = 0.4857874896\n",
      "bestIteration = 72\n",
      "\n",
      "Training on fold [3/5]\n",
      "\n",
      "bestTest = 0.489158783\n",
      "bestIteration = 58\n",
      "\n",
      "Training on fold [4/5]\n"
     ]
    },
    {
     "name": "stderr",
     "output_type": "stream",
     "text": [
      "\u001b[32m[I 2022-01-26 17:55:46,788]\u001b[0m Trial 38 finished with value: 0.8509611808821095 and parameters: {'iterations': 1500, 'learning_rate': 0.058746124286410926, 'random_strength': 8, 'bagging_temperature': 6, 'max_bin': 8, 'grow_policy': 'SymmetricTree', 'max_depth': 9, 'l2_leaf_reg': 0.00020837494437933067, 'one_hot_max_size': 5, 'auto_class_weights': 'Balanced'}. Best is trial 36 with value: 0.8691179999511197.\u001b[0m\n"
     ]
    },
    {
     "name": "stdout",
     "output_type": "stream",
     "text": [
      "\n",
      "bestTest = 0.4816807591\n",
      "bestIteration = 97\n",
      "\n"
     ]
    },
    {
     "data": {
      "application/vnd.jupyter.widget-view+json": {
       "model_id": "a07eb52eebe34d038c099a689d997a54",
       "version_major": 2,
       "version_minor": 0
      },
      "text/plain": [
       "MetricVisualizer(layout=Layout(align_self='stretch', height='500px'))"
      ]
     },
     "metadata": {},
     "output_type": "display_data"
    },
    {
     "name": "stdout",
     "output_type": "stream",
     "text": [
      "Training on fold [0/5]\n",
      "\n",
      "bestTest = 0.4799728533\n",
      "bestIteration = 27\n",
      "\n",
      "Training on fold [1/5]\n",
      "\n",
      "bestTest = 0.5021150283\n",
      "bestIteration = 28\n",
      "\n",
      "Training on fold [2/5]\n",
      "\n",
      "bestTest = 0.4886581964\n",
      "bestIteration = 35\n",
      "\n",
      "Training on fold [3/5]\n",
      "\n",
      "bestTest = 0.4915700797\n",
      "bestIteration = 36\n",
      "\n",
      "Training on fold [4/5]\n"
     ]
    },
    {
     "name": "stderr",
     "output_type": "stream",
     "text": [
      "\u001b[32m[I 2022-01-26 17:55:49,704]\u001b[0m Trial 39 finished with value: 0.8465715359891129 and parameters: {'iterations': 1500, 'learning_rate': 0.13681596355727818, 'random_strength': 7, 'bagging_temperature': 6, 'max_bin': 8, 'grow_policy': 'SymmetricTree', 'max_depth': 9, 'l2_leaf_reg': 0.01681741846683415, 'one_hot_max_size': 500, 'auto_class_weights': 'Balanced'}. Best is trial 36 with value: 0.8691179999511197.\u001b[0m\n"
     ]
    },
    {
     "name": "stdout",
     "output_type": "stream",
     "text": [
      "\n",
      "bestTest = 0.4794646898\n",
      "bestIteration = 42\n",
      "\n"
     ]
    },
    {
     "data": {
      "application/vnd.jupyter.widget-view+json": {
       "model_id": "cb050581f5894cf4b67ceebd2d6833bc",
       "version_major": 2,
       "version_minor": 0
      },
      "text/plain": [
       "MetricVisualizer(layout=Layout(align_self='stretch', height='500px'))"
      ]
     },
     "metadata": {},
     "output_type": "display_data"
    },
    {
     "name": "stdout",
     "output_type": "stream",
     "text": [
      "Training on fold [0/5]\n",
      "\n",
      "bestTest = 0.4602236612\n",
      "bestIteration = 944\n",
      "\n",
      "Training on fold [1/5]\n",
      "\n",
      "bestTest = 0.467833909\n",
      "bestIteration = 998\n",
      "\n",
      "Training on fold [2/5]\n",
      "\n",
      "bestTest = 0.4619646081\n",
      "bestIteration = 904\n",
      "\n",
      "Training on fold [3/5]\n",
      "\n",
      "bestTest = 0.4601061347\n",
      "bestIteration = 996\n",
      "\n",
      "Training on fold [4/5]\n",
      "\n",
      "bestTest = 0.4519712318\n",
      "bestIteration = 998\n",
      "\n"
     ]
    },
    {
     "name": "stderr",
     "output_type": "stream",
     "text": [
      "\u001b[32m[I 2022-01-26 17:56:14,301]\u001b[0m Trial 40 finished with value: 0.8649900842939479 and parameters: {'iterations': 1000, 'learning_rate': 0.025508535042355132, 'random_strength': 9, 'bagging_temperature': 10, 'max_bin': 5, 'grow_policy': 'SymmetricTree', 'max_depth': 2, 'l2_leaf_reg': 0.329955338437481, 'one_hot_max_size': 100, 'auto_class_weights': 'Balanced'}. Best is trial 36 with value: 0.8691179999511197.\u001b[0m\n"
     ]
    },
    {
     "data": {
      "application/vnd.jupyter.widget-view+json": {
       "model_id": "cefdd0630c8e45a4958d52827ca01e7a",
       "version_major": 2,
       "version_minor": 0
      },
      "text/plain": [
       "MetricVisualizer(layout=Layout(align_self='stretch', height='500px'))"
      ]
     },
     "metadata": {},
     "output_type": "display_data"
    },
    {
     "name": "stdout",
     "output_type": "stream",
     "text": [
      "Training on fold [0/5]\n",
      "\n",
      "bestTest = 0.4539199127\n",
      "bestIteration = 135\n",
      "\n",
      "Training on fold [1/5]\n",
      "\n",
      "bestTest = 0.4642611313\n",
      "bestIteration = 105\n",
      "\n",
      "Training on fold [2/5]\n",
      "\n",
      "bestTest = 0.451271339\n",
      "bestIteration = 114\n",
      "\n",
      "Training on fold [3/5]\n",
      "\n",
      "bestTest = 0.4517245683\n",
      "bestIteration = 123\n",
      "\n",
      "Training on fold [4/5]\n"
     ]
    },
    {
     "name": "stderr",
     "output_type": "stream",
     "text": [
      "\u001b[32m[I 2022-01-26 17:56:55,386]\u001b[0m Trial 41 finished with value: 0.8689625262349423 and parameters: {'iterations': 1500, 'learning_rate': 0.13124379928420676, 'random_strength': 5, 'bagging_temperature': 7, 'max_bin': 8, 'grow_policy': 'SymmetricTree', 'max_depth': 6, 'l2_leaf_reg': 21.460778100104363, 'one_hot_max_size': 5, 'auto_class_weights': 'Balanced'}. Best is trial 36 with value: 0.8691179999511197.\u001b[0m\n"
     ]
    },
    {
     "name": "stdout",
     "output_type": "stream",
     "text": [
      "\n",
      "bestTest = 0.4413975975\n",
      "bestIteration = 166\n",
      "\n"
     ]
    },
    {
     "data": {
      "application/vnd.jupyter.widget-view+json": {
       "model_id": "92de2b79d373414db934679f29dd0cbf",
       "version_major": 2,
       "version_minor": 0
      },
      "text/plain": [
       "MetricVisualizer(layout=Layout(align_self='stretch', height='500px'))"
      ]
     },
     "metadata": {},
     "output_type": "display_data"
    },
    {
     "name": "stdout",
     "output_type": "stream",
     "text": [
      "Training on fold [0/5]\n",
      "\n",
      "bestTest = 0.4550147302\n",
      "bestIteration = 135\n",
      "\n",
      "Training on fold [1/5]\n",
      "\n",
      "bestTest = 0.4632797129\n",
      "bestIteration = 152\n",
      "\n",
      "Training on fold [2/5]\n",
      "\n",
      "bestTest = 0.4529987218\n",
      "bestIteration = 189\n",
      "\n",
      "Training on fold [3/5]\n",
      "\n",
      "bestTest = 0.4533216015\n",
      "bestIteration = 159\n",
      "\n",
      "Training on fold [4/5]\n"
     ]
    },
    {
     "name": "stderr",
     "output_type": "stream",
     "text": [
      "\u001b[32m[I 2022-01-26 17:57:42,112]\u001b[0m Trial 42 finished with value: 0.8685208738740027 and parameters: {'iterations': 1500, 'learning_rate': 0.09369107780601738, 'random_strength': 6, 'bagging_temperature': 8, 'max_bin': 8, 'grow_policy': 'SymmetricTree', 'max_depth': 6, 'l2_leaf_reg': 1.6899148706207925, 'one_hot_max_size': 5, 'auto_class_weights': 'Balanced'}. Best is trial 36 with value: 0.8691179999511197.\u001b[0m\n"
     ]
    },
    {
     "name": "stdout",
     "output_type": "stream",
     "text": [
      "\n",
      "bestTest = 0.44336942\n",
      "bestIteration = 150\n",
      "\n"
     ]
    },
    {
     "data": {
      "application/vnd.jupyter.widget-view+json": {
       "model_id": "451be670f3eb41dab8ab5598eb92b964",
       "version_major": 2,
       "version_minor": 0
      },
      "text/plain": [
       "MetricVisualizer(layout=Layout(align_self='stretch', height='500px'))"
      ]
     },
     "metadata": {},
     "output_type": "display_data"
    },
    {
     "name": "stdout",
     "output_type": "stream",
     "text": [
      "Training on fold [0/5]\n",
      "\n",
      "bestTest = 0.4560444914\n",
      "bestIteration = 197\n",
      "\n",
      "Training on fold [1/5]\n",
      "\n",
      "bestTest = 0.468288747\n",
      "bestIteration = 199\n",
      "\n",
      "Training on fold [2/5]\n",
      "\n",
      "bestTest = 0.4539409115\n",
      "bestIteration = 220\n",
      "\n",
      "Training on fold [3/5]\n",
      "\n",
      "bestTest = 0.4587027564\n",
      "bestIteration = 189\n",
      "\n",
      "Training on fold [4/5]\n",
      "\n",
      "bestTest = 0.4455519214\n",
      "bestIteration = 210\n",
      "\n"
     ]
    },
    {
     "name": "stderr",
     "output_type": "stream",
     "text": [
      "\u001b[32m[I 2022-01-26 17:58:56,466]\u001b[0m Trial 43 finished with value: 0.8668700030967557 and parameters: {'iterations': 1500, 'learning_rate': 0.06331053727900046, 'random_strength': 6, 'bagging_temperature': 8, 'max_bin': 8, 'grow_policy': 'SymmetricTree', 'max_depth': 7, 'l2_leaf_reg': 1.900786593243464, 'one_hot_max_size': 5, 'auto_class_weights': 'Balanced'}. Best is trial 36 with value: 0.8691179999511197.\u001b[0m\n"
     ]
    },
    {
     "data": {
      "application/vnd.jupyter.widget-view+json": {
       "model_id": "8af229859be14890a65a7112d75f3254",
       "version_major": 2,
       "version_minor": 0
      },
      "text/plain": [
       "MetricVisualizer(layout=Layout(align_self='stretch', height='500px'))"
      ]
     },
     "metadata": {},
     "output_type": "display_data"
    },
    {
     "name": "stdout",
     "output_type": "stream",
     "text": [
      "Training on fold [0/5]\n",
      "\n",
      "bestTest = 0.4561156642\n",
      "bestIteration = 150\n",
      "\n",
      "Training on fold [1/5]\n",
      "\n",
      "bestTest = 0.4627068958\n",
      "bestIteration = 142\n",
      "\n",
      "Training on fold [2/5]\n",
      "\n",
      "bestTest = 0.4544523417\n",
      "bestIteration = 154\n",
      "\n",
      "Training on fold [3/5]\n",
      "\n",
      "bestTest = 0.4529164051\n",
      "bestIteration = 169\n",
      "\n",
      "Training on fold [4/5]\n"
     ]
    },
    {
     "name": "stderr",
     "output_type": "stream",
     "text": [
      "\u001b[32m[I 2022-01-26 17:59:42,557]\u001b[0m Trial 44 finished with value: 0.8682950536828071 and parameters: {'iterations': 1500, 'learning_rate': 0.09636096888970697, 'random_strength': 6, 'bagging_temperature': 7, 'max_bin': 8, 'grow_policy': 'SymmetricTree', 'max_depth': 6, 'l2_leaf_reg': 8.679226567154252, 'one_hot_max_size': 5, 'auto_class_weights': 'Balanced'}. Best is trial 36 with value: 0.8691179999511197.\u001b[0m\n"
     ]
    },
    {
     "name": "stdout",
     "output_type": "stream",
     "text": [
      "\n",
      "bestTest = 0.4437425227\n",
      "bestIteration = 174\n",
      "\n"
     ]
    },
    {
     "data": {
      "application/vnd.jupyter.widget-view+json": {
       "model_id": "3d4ee007248c436a941d84568e8f7f16",
       "version_major": 2,
       "version_minor": 0
      },
      "text/plain": [
       "MetricVisualizer(layout=Layout(align_self='stretch', height='500px'))"
      ]
     },
     "metadata": {},
     "output_type": "display_data"
    },
    {
     "name": "stdout",
     "output_type": "stream",
     "text": [
      "Training on fold [0/5]\n",
      "\n",
      "bestTest = 0.4516850731\n",
      "bestIteration = 354\n",
      "\n",
      "Training on fold [1/5]\n",
      "\n",
      "bestTest = 0.4677607241\n",
      "bestIteration = 321\n",
      "\n",
      "Training on fold [2/5]\n",
      "\n",
      "bestTest = 0.4522586981\n",
      "bestIteration = 319\n",
      "\n",
      "Training on fold [3/5]\n",
      "\n",
      "bestTest = 0.4534826906\n",
      "bestIteration = 364\n",
      "\n",
      "Training on fold [4/5]\n"
     ]
    },
    {
     "name": "stderr",
     "output_type": "stream",
     "text": [
      "\u001b[32m[I 2022-01-26 18:02:04,008]\u001b[0m Trial 45 finished with value: 0.8690915529098812 and parameters: {'iterations': 1500, 'learning_rate': 0.040137316359271646, 'random_strength': 8, 'bagging_temperature': 8, 'max_bin': 8, 'grow_policy': 'SymmetricTree', 'max_depth': 8, 'l2_leaf_reg': 31.863165241478427, 'one_hot_max_size': 5, 'auto_class_weights': 'Balanced'}. Best is trial 36 with value: 0.8691179999511197.\u001b[0m\n"
     ]
    },
    {
     "name": "stdout",
     "output_type": "stream",
     "text": [
      "\n",
      "bestTest = 0.4413194696\n",
      "bestIteration = 402\n",
      "\n"
     ]
    },
    {
     "data": {
      "application/vnd.jupyter.widget-view+json": {
       "model_id": "2dd69c97443e4e38b40a7272be355da4",
       "version_major": 2,
       "version_minor": 0
      },
      "text/plain": [
       "MetricVisualizer(layout=Layout(align_self='stretch', height='500px'))"
      ]
     },
     "metadata": {},
     "output_type": "display_data"
    },
    {
     "name": "stdout",
     "output_type": "stream",
     "text": [
      "Training on fold [0/5]\n",
      "\n",
      "bestTest = 0.4524000625\n",
      "bestIteration = 368\n",
      "\n",
      "Training on fold [1/5]\n",
      "\n",
      "bestTest = 0.4665751252\n",
      "bestIteration = 363\n",
      "\n",
      "Training on fold [2/5]\n",
      "\n",
      "bestTest = 0.4511078695\n",
      "bestIteration = 442\n",
      "\n",
      "Training on fold [3/5]\n",
      "\n",
      "bestTest = 0.4535432973\n",
      "bestIteration = 426\n",
      "\n",
      "Training on fold [4/5]\n"
     ]
    },
    {
     "name": "stderr",
     "output_type": "stream",
     "text": [
      "\u001b[32m[I 2022-01-26 18:05:05,347]\u001b[0m Trial 46 finished with value: 0.8688896879260024 and parameters: {'iterations': 1500, 'learning_rate': 0.03695669381593769, 'random_strength': 10, 'bagging_temperature': 9, 'max_bin': 8, 'grow_policy': 'SymmetricTree', 'max_depth': 9, 'l2_leaf_reg': 47.39666877667559, 'one_hot_max_size': 5, 'auto_class_weights': 'Balanced'}. Best is trial 36 with value: 0.8691179999511197.\u001b[0m\n"
     ]
    },
    {
     "name": "stdout",
     "output_type": "stream",
     "text": [
      "\n",
      "bestTest = 0.4439874736\n",
      "bestIteration = 395\n",
      "\n"
     ]
    },
    {
     "data": {
      "application/vnd.jupyter.widget-view+json": {
       "model_id": "741c08b5a4ef43f3b677ce80745af9e7",
       "version_major": 2,
       "version_minor": 0
      },
      "text/plain": [
       "MetricVisualizer(layout=Layout(align_self='stretch', height='500px'))"
      ]
     },
     "metadata": {},
     "output_type": "display_data"
    },
    {
     "name": "stdout",
     "output_type": "stream",
     "text": [
      "Training on fold [0/5]\n",
      "\n",
      "bestTest = 0.4513168211\n",
      "bestIteration = 530\n",
      "\n",
      "Training on fold [1/5]\n",
      "\n",
      "bestTest = 0.466604386\n",
      "bestIteration = 548\n",
      "\n",
      "Training on fold [2/5]\n",
      "\n",
      "bestTest = 0.4506277001\n",
      "bestIteration = 606\n",
      "\n",
      "Training on fold [3/5]\n",
      "\n",
      "bestTest = 0.4540052039\n",
      "bestIteration = 561\n",
      "\n",
      "Training on fold [4/5]\n"
     ]
    },
    {
     "name": "stderr",
     "output_type": "stream",
     "text": [
      "\u001b[32m[I 2022-01-26 18:09:21,837]\u001b[0m Trial 47 finished with value: 0.8694777014973075 and parameters: {'iterations': 1500, 'learning_rate': 0.02607672451652509, 'random_strength': 10, 'bagging_temperature': 9, 'max_bin': 8, 'grow_policy': 'SymmetricTree', 'max_depth': 9, 'l2_leaf_reg': 40.166476760488095, 'one_hot_max_size': 5, 'auto_class_weights': 'Balanced'}. Best is trial 47 with value: 0.8694777014973075.\u001b[0m\n"
     ]
    },
    {
     "name": "stdout",
     "output_type": "stream",
     "text": [
      "\n",
      "bestTest = 0.4424055802\n",
      "bestIteration = 570\n",
      "\n"
     ]
    },
    {
     "data": {
      "application/vnd.jupyter.widget-view+json": {
       "model_id": "7186e37dcf4f49a8ae50388d7662a44b",
       "version_major": 2,
       "version_minor": 0
      },
      "text/plain": [
       "MetricVisualizer(layout=Layout(align_self='stretch', height='500px'))"
      ]
     },
     "metadata": {},
     "output_type": "display_data"
    },
    {
     "name": "stdout",
     "output_type": "stream",
     "text": [
      "Training on fold [0/5]\n",
      "\n",
      "bestTest = 0.4530316565\n",
      "bestIteration = 502\n",
      "\n",
      "Training on fold [1/5]\n",
      "\n",
      "bestTest = 0.4665514104\n",
      "bestIteration = 465\n",
      "\n",
      "Training on fold [2/5]\n",
      "\n",
      "bestTest = 0.4500867164\n",
      "bestIteration = 575\n",
      "\n",
      "Training on fold [3/5]\n",
      "\n",
      "bestTest = 0.4538169794\n",
      "bestIteration = 508\n",
      "\n",
      "Training on fold [4/5]\n"
     ]
    },
    {
     "name": "stderr",
     "output_type": "stream",
     "text": [
      "\u001b[32m[I 2022-01-26 18:13:26,132]\u001b[0m Trial 48 finished with value: 0.8692699670704706 and parameters: {'iterations': 1500, 'learning_rate': 0.02903957348747238, 'random_strength': 10, 'bagging_temperature': 9, 'max_bin': 8, 'grow_policy': 'SymmetricTree', 'max_depth': 9, 'l2_leaf_reg': 48.63222906871405, 'one_hot_max_size': 5, 'auto_class_weights': 'Balanced'}. Best is trial 47 with value: 0.8694777014973075.\u001b[0m\n"
     ]
    },
    {
     "name": "stdout",
     "output_type": "stream",
     "text": [
      "\n",
      "bestTest = 0.4415887703\n",
      "bestIteration = 629\n",
      "\n"
     ]
    },
    {
     "data": {
      "application/vnd.jupyter.widget-view+json": {
       "model_id": "0813569c388b4164a14f4edd80e95456",
       "version_major": 2,
       "version_minor": 0
      },
      "text/plain": [
       "MetricVisualizer(layout=Layout(align_self='stretch', height='500px'))"
      ]
     },
     "metadata": {},
     "output_type": "display_data"
    },
    {
     "name": "stdout",
     "output_type": "stream",
     "text": [
      "Training on fold [0/5]\n",
      "\n",
      "bestTest = 0.4916215304\n",
      "bestIteration = 287\n",
      "\n",
      "Training on fold [1/5]\n",
      "\n",
      "bestTest = 0.5062865141\n",
      "bestIteration = 268\n",
      "\n",
      "Training on fold [2/5]\n",
      "\n",
      "bestTest = 0.4991387999\n",
      "bestIteration = 260\n",
      "\n",
      "Training on fold [3/5]\n",
      "\n",
      "bestTest = 0.4978463669\n",
      "bestIteration = 258\n",
      "\n",
      "Training on fold [4/5]\n"
     ]
    },
    {
     "name": "stderr",
     "output_type": "stream",
     "text": [
      "\u001b[32m[I 2022-01-26 18:13:49,803]\u001b[0m Trial 49 finished with value: 0.8471002556186364 and parameters: {'iterations': 1500, 'learning_rate': 0.009857061869506634, 'random_strength': 10, 'bagging_temperature': 9, 'max_bin': 8, 'grow_policy': 'SymmetricTree', 'max_depth': 10, 'l2_leaf_reg': 2.036223340140397e-06, 'one_hot_max_size': 1024, 'auto_class_weights': 'Balanced'}. Best is trial 47 with value: 0.8694777014973075.\u001b[0m\n"
     ]
    },
    {
     "name": "stdout",
     "output_type": "stream",
     "text": [
      "\n",
      "bestTest = 0.489511822\n",
      "bestIteration = 292\n",
      "\n"
     ]
    },
    {
     "data": {
      "application/vnd.jupyter.widget-view+json": {
       "model_id": "08f5e4b07eaa4962ba4e5e9ab462fadc",
       "version_major": 2,
       "version_minor": 0
      },
      "text/plain": [
       "MetricVisualizer(layout=Layout(align_self='stretch', height='500px'))"
      ]
     },
     "metadata": {},
     "output_type": "display_data"
    },
    {
     "name": "stdout",
     "output_type": "stream",
     "text": [
      "Training on fold [0/5]\n",
      "\n",
      "bestTest = 0.451609167\n",
      "bestIteration = 634\n",
      "\n",
      "Training on fold [1/5]\n",
      "\n",
      "bestTest = 0.4628415484\n",
      "bestIteration = 661\n",
      "\n",
      "Training on fold [2/5]\n",
      "\n",
      "bestTest = 0.4507780048\n",
      "bestIteration = 652\n",
      "\n",
      "Training on fold [3/5]\n",
      "\n",
      "bestTest = 0.4556166878\n",
      "bestIteration = 600\n",
      "\n",
      "Training on fold [4/5]\n",
      "\n",
      "bestTest = 0.4424841344\n",
      "bestIteration = 663\n",
      "\n"
     ]
    },
    {
     "name": "stderr",
     "output_type": "stream",
     "text": [
      "\u001b[32m[I 2022-01-26 18:18:15,892]\u001b[0m Trial 50 finished with value: 0.8696074773891876 and parameters: {'iterations': 1500, 'learning_rate': 0.022390550678127702, 'random_strength': 9, 'bagging_temperature': 9, 'max_bin': 8, 'grow_policy': 'SymmetricTree', 'max_depth': 8, 'l2_leaf_reg': 35.68473917744485, 'one_hot_max_size': 5, 'auto_class_weights': 'Balanced'}. Best is trial 50 with value: 0.8696074773891876.\u001b[0m\n"
     ]
    },
    {
     "data": {
      "application/vnd.jupyter.widget-view+json": {
       "model_id": "dad79af6825545f3adbdde5016457e17",
       "version_major": 2,
       "version_minor": 0
      },
      "text/plain": [
       "MetricVisualizer(layout=Layout(align_self='stretch', height='500px'))"
      ]
     },
     "metadata": {},
     "output_type": "display_data"
    },
    {
     "name": "stdout",
     "output_type": "stream",
     "text": [
      "Training on fold [0/5]\n",
      "\n",
      "bestTest = 0.4517706879\n",
      "bestIteration = 601\n",
      "\n",
      "Training on fold [1/5]\n",
      "\n",
      "bestTest = 0.4644822777\n",
      "bestIteration = 602\n",
      "\n",
      "Training on fold [2/5]\n",
      "\n",
      "bestTest = 0.4520425126\n",
      "bestIteration = 584\n",
      "\n",
      "Training on fold [3/5]\n",
      "\n",
      "bestTest = 0.452608932\n",
      "bestIteration = 636\n",
      "\n",
      "Training on fold [4/5]\n"
     ]
    },
    {
     "name": "stderr",
     "output_type": "stream",
     "text": [
      "\u001b[32m[I 2022-01-26 18:22:28,771]\u001b[0m Trial 51 finished with value: 0.8692368208807949 and parameters: {'iterations': 1500, 'learning_rate': 0.02437227321885385, 'random_strength': 9, 'bagging_temperature': 9, 'max_bin': 8, 'grow_policy': 'SymmetricTree', 'max_depth': 8, 'l2_leaf_reg': 39.571542648455164, 'one_hot_max_size': 5, 'auto_class_weights': 'Balanced'}. Best is trial 50 with value: 0.8696074773891876.\u001b[0m\n"
     ]
    },
    {
     "name": "stdout",
     "output_type": "stream",
     "text": [
      "\n",
      "bestTest = 0.4441296772\n",
      "bestIteration = 621\n",
      "\n"
     ]
    },
    {
     "data": {
      "application/vnd.jupyter.widget-view+json": {
       "model_id": "acc401811b2146859a5fd71bbe56236d",
       "version_major": 2,
       "version_minor": 0
      },
      "text/plain": [
       "MetricVisualizer(layout=Layout(align_self='stretch', height='500px'))"
      ]
     },
     "metadata": {},
     "output_type": "display_data"
    },
    {
     "name": "stdout",
     "output_type": "stream",
     "text": [
      "Training on fold [0/5]\n",
      "\n",
      "bestTest = 0.4517564692\n",
      "bestIteration = 518\n",
      "\n",
      "Training on fold [1/5]\n",
      "\n",
      "bestTest = 0.4649992874\n",
      "bestIteration = 551\n",
      "\n",
      "Training on fold [2/5]\n",
      "\n",
      "bestTest = 0.4518733411\n",
      "bestIteration = 701\n",
      "\n",
      "Training on fold [3/5]\n",
      "\n",
      "bestTest = 0.4532398826\n",
      "bestIteration = 602\n",
      "\n",
      "Training on fold [4/5]\n"
     ]
    },
    {
     "name": "stderr",
     "output_type": "stream",
     "text": [
      "\u001b[32m[I 2022-01-26 18:26:35,871]\u001b[0m Trial 52 finished with value: 0.8695940341518043 and parameters: {'iterations': 1500, 'learning_rate': 0.027169499177914887, 'random_strength': 9, 'bagging_temperature': 10, 'max_bin': 8, 'grow_policy': 'SymmetricTree', 'max_depth': 8, 'l2_leaf_reg': 90.71192378745138, 'one_hot_max_size': 5, 'auto_class_weights': 'Balanced'}. Best is trial 50 with value: 0.8696074773891876.\u001b[0m\n"
     ]
    },
    {
     "name": "stdout",
     "output_type": "stream",
     "text": [
      "\n",
      "bestTest = 0.4404675528\n",
      "bestIteration = 645\n",
      "\n"
     ]
    },
    {
     "data": {
      "application/vnd.jupyter.widget-view+json": {
       "model_id": "dd1a4631558f4a8b879b195361f3a239",
       "version_major": 2,
       "version_minor": 0
      },
      "text/plain": [
       "MetricVisualizer(layout=Layout(align_self='stretch', height='500px'))"
      ]
     },
     "metadata": {},
     "output_type": "display_data"
    },
    {
     "name": "stdout",
     "output_type": "stream",
     "text": [
      "Training on fold [0/5]\n",
      "\n",
      "bestTest = 0.4512486053\n",
      "bestIteration = 826\n",
      "\n",
      "Training on fold [1/5]\n",
      "\n",
      "bestTest = 0.4673026031\n",
      "bestIteration = 752\n",
      "\n",
      "Training on fold [2/5]\n",
      "\n",
      "bestTest = 0.4501290575\n",
      "bestIteration = 943\n",
      "\n",
      "Training on fold [3/5]\n",
      "\n",
      "bestTest = 0.4548917244\n",
      "bestIteration = 777\n",
      "\n",
      "Training on fold [4/5]\n",
      "\n",
      "bestTest = 0.4421721144\n",
      "bestIteration = 892\n",
      "\n"
     ]
    },
    {
     "name": "stderr",
     "output_type": "stream",
     "text": [
      "\u001b[32m[I 2022-01-26 18:32:59,776]\u001b[0m Trial 53 finished with value: 0.8692265086097217 and parameters: {'iterations': 1500, 'learning_rate': 0.018118184940708278, 'random_strength': 9, 'bagging_temperature': 10, 'max_bin': 8, 'grow_policy': 'SymmetricTree', 'max_depth': 9, 'l2_leaf_reg': 93.85459899821991, 'one_hot_max_size': 5, 'auto_class_weights': 'Balanced'}. Best is trial 50 with value: 0.8696074773891876.\u001b[0m\n"
     ]
    },
    {
     "data": {
      "application/vnd.jupyter.widget-view+json": {
       "model_id": "4f89d29c73ac475b845e0bb90f13c53d",
       "version_major": 2,
       "version_minor": 0
      },
      "text/plain": [
       "MetricVisualizer(layout=Layout(align_self='stretch', height='500px'))"
      ]
     },
     "metadata": {},
     "output_type": "display_data"
    },
    {
     "name": "stdout",
     "output_type": "stream",
     "text": [
      "Training on fold [0/5]\n",
      "\n",
      "bestTest = 0.4520772497\n",
      "bestIteration = 730\n",
      "\n",
      "Training on fold [1/5]\n",
      "\n",
      "bestTest = 0.4653221417\n",
      "bestIteration = 681\n",
      "\n",
      "Training on fold [2/5]\n",
      "\n",
      "bestTest = 0.4518740443\n",
      "bestIteration = 797\n",
      "\n",
      "Training on fold [3/5]\n",
      "\n",
      "bestTest = 0.4536606445\n",
      "bestIteration = 818\n",
      "\n",
      "Training on fold [4/5]\n",
      "\n",
      "bestTest = 0.4418987169\n",
      "bestIteration = 805\n",
      "\n"
     ]
    },
    {
     "name": "stderr",
     "output_type": "stream",
     "text": [
      "\u001b[32m[I 2022-01-26 18:38:17,818]\u001b[0m Trial 54 finished with value: 0.8693196951695985 and parameters: {'iterations': 1500, 'learning_rate': 0.02070592720800253, 'random_strength': 10, 'bagging_temperature': 10, 'max_bin': 8, 'grow_policy': 'SymmetricTree', 'max_depth': 8, 'l2_leaf_reg': 96.04979149895247, 'one_hot_max_size': 5, 'auto_class_weights': 'Balanced'}. Best is trial 50 with value: 0.8696074773891876.\u001b[0m\n"
     ]
    },
    {
     "data": {
      "application/vnd.jupyter.widget-view+json": {
       "model_id": "56953b8238d44cdeb76d8ba85e70fb2b",
       "version_major": 2,
       "version_minor": 0
      },
      "text/plain": [
       "MetricVisualizer(layout=Layout(align_self='stretch', height='500px'))"
      ]
     },
     "metadata": {},
     "output_type": "display_data"
    },
    {
     "name": "stdout",
     "output_type": "stream",
     "text": [
      "Training on fold [0/5]\n",
      "\n",
      "bestTest = 0.4529124947\n",
      "bestIteration = 404\n",
      "\n",
      "Training on fold [1/5]\n",
      "\n",
      "bestTest = 0.4654618463\n",
      "bestIteration = 419\n",
      "\n",
      "Training on fold [2/5]\n",
      "\n",
      "bestTest = 0.4536441105\n",
      "bestIteration = 419\n",
      "\n",
      "Training on fold [3/5]\n",
      "\n",
      "bestTest = 0.4549922019\n",
      "bestIteration = 405\n",
      "\n",
      "Training on fold [4/5]\n"
     ]
    },
    {
     "name": "stderr",
     "output_type": "stream",
     "text": [
      "\u001b[32m[I 2022-01-26 18:41:03,346]\u001b[0m Trial 55 finished with value: 0.8686962074598675 and parameters: {'iterations': 1500, 'learning_rate': 0.034281535343183345, 'random_strength': 10, 'bagging_temperature': 10, 'max_bin': 8, 'grow_policy': 'SymmetricTree', 'max_depth': 8, 'l2_leaf_reg': 7.861751896874512, 'one_hot_max_size': 5, 'auto_class_weights': 'Balanced'}. Best is trial 50 with value: 0.8696074773891876.\u001b[0m\n"
     ]
    },
    {
     "name": "stdout",
     "output_type": "stream",
     "text": [
      "\n",
      "bestTest = 0.4444776831\n",
      "bestIteration = 427\n",
      "\n"
     ]
    },
    {
     "data": {
      "application/vnd.jupyter.widget-view+json": {
       "model_id": "d7165c3dc0b64aed92780d802dfec005",
       "version_major": 2,
       "version_minor": 0
      },
      "text/plain": [
       "MetricVisualizer(layout=Layout(align_self='stretch', height='500px'))"
      ]
     },
     "metadata": {},
     "output_type": "display_data"
    },
    {
     "name": "stdout",
     "output_type": "stream",
     "text": [
      "Training on fold [0/5]\n",
      "\n",
      "bestTest = 0.4820977376\n",
      "bestIteration = 1499\n",
      "\n",
      "Training on fold [1/5]\n",
      "\n",
      "bestTest = 0.4944320586\n",
      "bestIteration = 1499\n",
      "\n",
      "Training on fold [2/5]\n",
      "\n",
      "bestTest = 0.4865144121\n",
      "bestIteration = 1499\n",
      "\n",
      "Training on fold [3/5]\n",
      "\n",
      "bestTest = 0.4874961786\n",
      "bestIteration = 1499\n",
      "\n",
      "Training on fold [4/5]\n",
      "\n",
      "bestTest = 0.4817637195\n",
      "bestIteration = 1499\n",
      "\n"
     ]
    },
    {
     "name": "stderr",
     "output_type": "stream",
     "text": [
      "\u001b[32m[I 2022-01-26 18:51:21,312]\u001b[0m Trial 56 finished with value: 0.8596820149749707 and parameters: {'iterations': 1500, 'learning_rate': 0.0024457771239027246, 'random_strength': 9, 'bagging_temperature': 9, 'max_bin': 8, 'grow_policy': 'SymmetricTree', 'max_depth': 8, 'l2_leaf_reg': 46.548044093728834, 'one_hot_max_size': 5, 'auto_class_weights': 'Balanced'}. Best is trial 50 with value: 0.8696074773891876.\u001b[0m\n"
     ]
    },
    {
     "data": {
      "application/vnd.jupyter.widget-view+json": {
       "model_id": "0d33840419074b4c899a9c5209689a59",
       "version_major": 2,
       "version_minor": 0
      },
      "text/plain": [
       "MetricVisualizer(layout=Layout(align_self='stretch', height='500px'))"
      ]
     },
     "metadata": {},
     "output_type": "display_data"
    },
    {
     "name": "stdout",
     "output_type": "stream",
     "text": [
      "Training on fold [0/5]\n",
      "\n",
      "bestTest = 0.4537205661\n",
      "bestIteration = 639\n",
      "\n",
      "Training on fold [1/5]\n",
      "\n",
      "bestTest = 0.4627896155\n",
      "bestIteration = 689\n",
      "\n",
      "Training on fold [2/5]\n",
      "\n",
      "bestTest = 0.454231622\n",
      "bestIteration = 706\n",
      "\n",
      "Training on fold [3/5]\n",
      "\n",
      "bestTest = 0.4579421715\n",
      "bestIteration = 606\n",
      "\n",
      "Training on fold [4/5]\n",
      "\n",
      "bestTest = 0.4453428638\n",
      "bestIteration = 649\n",
      "\n"
     ]
    },
    {
     "name": "stderr",
     "output_type": "stream",
     "text": [
      "\u001b[32m[I 2022-01-26 18:51:55,679]\u001b[0m Trial 57 finished with value: 0.8686434423522297 and parameters: {'iterations': 1500, 'learning_rate': 0.02033323814211424, 'random_strength': 10, 'bagging_temperature': 10, 'max_bin': 8, 'grow_policy': 'SymmetricTree', 'max_depth': 8, 'l2_leaf_reg': 7.360970579561716, 'one_hot_max_size': 500, 'auto_class_weights': 'Balanced'}. Best is trial 50 with value: 0.8696074773891876.\u001b[0m\n"
     ]
    },
    {
     "data": {
      "application/vnd.jupyter.widget-view+json": {
       "model_id": "6ebaafcee0fb4b8e940ac833a4b94ea8",
       "version_major": 2,
       "version_minor": 0
      },
      "text/plain": [
       "MetricVisualizer(layout=Layout(align_self='stretch', height='500px'))"
      ]
     },
     "metadata": {},
     "output_type": "display_data"
    },
    {
     "name": "stdout",
     "output_type": "stream",
     "text": [
      "Training on fold [0/5]\n",
      "\n",
      "bestTest = 0.4525365255\n",
      "bestIteration = 288\n",
      "\n",
      "Training on fold [1/5]\n",
      "\n",
      "bestTest = 0.4670586794\n",
      "bestIteration = 281\n",
      "\n",
      "Training on fold [2/5]\n",
      "\n",
      "bestTest = 0.4516229128\n",
      "bestIteration = 304\n",
      "\n",
      "Training on fold [3/5]\n",
      "\n",
      "bestTest = 0.453090184\n",
      "bestIteration = 302\n",
      "\n",
      "Training on fold [4/5]\n"
     ]
    },
    {
     "name": "stderr",
     "output_type": "stream",
     "text": [
      "\u001b[32m[I 2022-01-26 18:53:58,357]\u001b[0m Trial 58 finished with value: 0.8692945612233277 and parameters: {'iterations': 1000, 'learning_rate': 0.04831844243705542, 'random_strength': 9, 'bagging_temperature': 9, 'max_bin': 8, 'grow_policy': 'SymmetricTree', 'max_depth': 10, 'l2_leaf_reg': 56.412594382766954, 'one_hot_max_size': 5, 'auto_class_weights': 'Balanced'}. Best is trial 50 with value: 0.8696074773891876.\u001b[0m\n"
     ]
    },
    {
     "name": "stdout",
     "output_type": "stream",
     "text": [
      "\n",
      "bestTest = 0.4422749368\n",
      "bestIteration = 336\n",
      "\n"
     ]
    },
    {
     "data": {
      "application/vnd.jupyter.widget-view+json": {
       "model_id": "2f96f60343714181b3466600e9f48e59",
       "version_major": 2,
       "version_minor": 0
      },
      "text/plain": [
       "MetricVisualizer(layout=Layout(align_self='stretch', height='500px'))"
      ]
     },
     "metadata": {},
     "output_type": "display_data"
    },
    {
     "name": "stdout",
     "output_type": "stream",
     "text": [
      "Training on fold [0/5]\n",
      "\n",
      "bestTest = 0.4718592219\n",
      "bestIteration = 140\n",
      "\n",
      "Training on fold [1/5]\n",
      "\n",
      "bestTest = 0.4823025006\n",
      "bestIteration = 128\n",
      "\n",
      "Training on fold [2/5]\n",
      "\n",
      "bestTest = 0.4706182111\n",
      "bestIteration = 152\n",
      "\n",
      "Training on fold [3/5]\n",
      "\n",
      "bestTest = 0.4771785479\n",
      "bestIteration = 142\n",
      "\n",
      "Training on fold [4/5]\n"
     ]
    },
    {
     "name": "stderr",
     "output_type": "stream",
     "text": [
      "\u001b[32m[I 2022-01-26 18:54:11,861]\u001b[0m Trial 59 finished with value: 0.8582774008815282 and parameters: {'iterations': 1000, 'learning_rate': 0.04285057459168701, 'random_strength': 10, 'bagging_temperature': 9, 'max_bin': 8, 'grow_policy': 'SymmetricTree', 'max_depth': 10, 'l2_leaf_reg': 0.7502198649369821, 'one_hot_max_size': 100, 'auto_class_weights': 'Balanced'}. Best is trial 50 with value: 0.8696074773891876.\u001b[0m\n"
     ]
    },
    {
     "name": "stdout",
     "output_type": "stream",
     "text": [
      "\n",
      "bestTest = 0.4622810719\n",
      "bestIteration = 173\n",
      "\n"
     ]
    },
    {
     "data": {
      "application/vnd.jupyter.widget-view+json": {
       "model_id": "03ff1ebd852a43baa41a89fb6c14b506",
       "version_major": 2,
       "version_minor": 0
      },
      "text/plain": [
       "MetricVisualizer(layout=Layout(align_self='stretch', height='500px'))"
      ]
     },
     "metadata": {},
     "output_type": "display_data"
    },
    {
     "name": "stdout",
     "output_type": "stream",
     "text": [
      "Training on fold [0/5]\n",
      "\n",
      "bestTest = 0.45452513\n",
      "bestIteration = 200\n",
      "\n",
      "Training on fold [1/5]\n",
      "\n",
      "bestTest = 0.4663567926\n",
      "bestIteration = 185\n",
      "\n",
      "Training on fold [2/5]\n",
      "\n",
      "bestTest = 0.455391026\n",
      "bestIteration = 204\n",
      "\n",
      "Training on fold [3/5]\n",
      "\n",
      "bestTest = 0.4537771418\n",
      "bestIteration = 210\n",
      "\n",
      "Training on fold [4/5]\n"
     ]
    },
    {
     "name": "stderr",
     "output_type": "stream",
     "text": [
      "\u001b[32m[I 2022-01-26 18:55:41,489]\u001b[0m Trial 60 finished with value: 0.8682452715412546 and parameters: {'iterations': 1000, 'learning_rate': 0.0707684633019203, 'random_strength': 9, 'bagging_temperature': 10, 'max_bin': 5, 'grow_policy': 'SymmetricTree', 'max_depth': 10, 'l2_leaf_reg': 81.71227354286059, 'one_hot_max_size': 10, 'auto_class_weights': 'Balanced'}. Best is trial 50 with value: 0.8696074773891876.\u001b[0m\n"
     ]
    },
    {
     "name": "stdout",
     "output_type": "stream",
     "text": [
      "\n",
      "bestTest = 0.4413340608\n",
      "bestIteration = 242\n",
      "\n"
     ]
    },
    {
     "data": {
      "application/vnd.jupyter.widget-view+json": {
       "model_id": "5a4eddcf635d43b9b2b2ff0b58d99e0b",
       "version_major": 2,
       "version_minor": 0
      },
      "text/plain": [
       "MetricVisualizer(layout=Layout(align_self='stretch', height='500px'))"
      ]
     },
     "metadata": {},
     "output_type": "display_data"
    },
    {
     "name": "stdout",
     "output_type": "stream",
     "text": [
      "Training on fold [0/5]\n",
      "\n",
      "bestTest = 0.4535102248\n",
      "bestIteration = 997\n",
      "\n",
      "Training on fold [1/5]\n",
      "\n",
      "bestTest = 0.4670148256\n",
      "bestIteration = 999\n",
      "\n",
      "Training on fold [2/5]\n",
      "\n",
      "bestTest = 0.4551340511\n",
      "bestIteration = 999\n",
      "\n",
      "Training on fold [3/5]\n",
      "\n",
      "bestTest = 0.4568129845\n",
      "bestIteration = 999\n",
      "\n",
      "Training on fold [4/5]\n",
      "\n",
      "bestTest = 0.4480992203\n",
      "bestIteration = 999\n",
      "\n"
     ]
    },
    {
     "name": "stderr",
     "output_type": "stream",
     "text": [
      "\u001b[32m[I 2022-01-26 19:03:12,071]\u001b[0m Trial 61 finished with value: 0.8678612787295199 and parameters: {'iterations': 1000, 'learning_rate': 0.012258709799064875, 'random_strength': 9, 'bagging_temperature': 9, 'max_bin': 8, 'grow_policy': 'SymmetricTree', 'max_depth': 9, 'l2_leaf_reg': 37.737183713376254, 'one_hot_max_size': 5, 'auto_class_weights': 'Balanced'}. Best is trial 50 with value: 0.8696074773891876.\u001b[0m\n"
     ]
    },
    {
     "data": {
      "application/vnd.jupyter.widget-view+json": {
       "model_id": "13e790095d204c7f9943684b4559dc9b",
       "version_major": 2,
       "version_minor": 0
      },
      "text/plain": [
       "MetricVisualizer(layout=Layout(align_self='stretch', height='500px'))"
      ]
     },
     "metadata": {},
     "output_type": "display_data"
    },
    {
     "name": "stdout",
     "output_type": "stream",
     "text": [
      "Training on fold [0/5]\n",
      "\n",
      "bestTest = 0.4527445718\n",
      "bestIteration = 499\n",
      "\n",
      "Training on fold [1/5]\n",
      "\n",
      "bestTest = 0.4669377052\n",
      "bestIteration = 496\n",
      "\n",
      "Training on fold [2/5]\n",
      "\n",
      "bestTest = 0.4545144984\n",
      "bestIteration = 499\n",
      "\n",
      "Training on fold [3/5]\n",
      "\n",
      "bestTest = 0.4564086372\n",
      "bestIteration = 498\n",
      "\n",
      "Training on fold [4/5]\n"
     ]
    },
    {
     "name": "stderr",
     "output_type": "stream",
     "text": [
      "\u001b[32m[I 2022-01-26 19:06:48,915]\u001b[0m Trial 62 finished with value: 0.8682833137154313 and parameters: {'iterations': 500, 'learning_rate': 0.026842122656220057, 'random_strength': 10, 'bagging_temperature': 9, 'max_bin': 8, 'grow_policy': 'SymmetricTree', 'max_depth': 9, 'l2_leaf_reg': 93.59717508228827, 'one_hot_max_size': 5, 'auto_class_weights': 'Balanced'}. Best is trial 50 with value: 0.8696074773891876.\u001b[0m\n"
     ]
    },
    {
     "name": "stdout",
     "output_type": "stream",
     "text": [
      "\n",
      "bestTest = 0.4455137422\n",
      "bestIteration = 499\n",
      "\n"
     ]
    },
    {
     "data": {
      "application/vnd.jupyter.widget-view+json": {
       "model_id": "5a86ec2ade4d408db05be2576a6716a5",
       "version_major": 2,
       "version_minor": 0
      },
      "text/plain": [
       "MetricVisualizer(layout=Layout(align_self='stretch', height='500px'))"
      ]
     },
     "metadata": {},
     "output_type": "display_data"
    },
    {
     "name": "stdout",
     "output_type": "stream",
     "text": [
      "Training on fold [0/5]\n",
      "\n",
      "bestTest = 0.462399521\n",
      "bestIteration = 175\n",
      "\n",
      "Training on fold [1/5]\n",
      "\n",
      "bestTest = 0.47010587\n",
      "bestIteration = 230\n",
      "\n",
      "Training on fold [2/5]\n",
      "\n",
      "bestTest = 0.4623404158\n",
      "bestIteration = 196\n",
      "\n",
      "Training on fold [3/5]\n",
      "\n",
      "bestTest = 0.4589608151\n",
      "bestIteration = 286\n",
      "\n",
      "Training on fold [4/5]\n"
     ]
    },
    {
     "name": "stderr",
     "output_type": "stream",
     "text": [
      "\u001b[32m[I 2022-01-26 19:08:22,877]\u001b[0m Trial 63 finished with value: 0.8658304450946416 and parameters: {'iterations': 1500, 'learning_rate': 0.048630044425395876, 'random_strength': 9, 'bagging_temperature': 8, 'max_bin': 8, 'grow_policy': 'SymmetricTree', 'max_depth': 10, 'l2_leaf_reg': 10.220437656909871, 'one_hot_max_size': 5, 'auto_class_weights': 'Balanced'}. Best is trial 50 with value: 0.8696074773891876.\u001b[0m\n"
     ]
    },
    {
     "name": "stdout",
     "output_type": "stream",
     "text": [
      "\n",
      "bestTest = 0.4444824412\n",
      "bestIteration = 275\n",
      "\n"
     ]
    },
    {
     "data": {
      "application/vnd.jupyter.widget-view+json": {
       "model_id": "dac08550da1d48b59542d2b3a8e285f6",
       "version_major": 2,
       "version_minor": 0
      },
      "text/plain": [
       "MetricVisualizer(layout=Layout(align_self='stretch', height='500px'))"
      ]
     },
     "metadata": {},
     "output_type": "display_data"
    },
    {
     "name": "stdout",
     "output_type": "stream",
     "text": [
      "Training on fold [0/5]\n",
      "\n",
      "bestTest = 0.455800987\n",
      "bestIteration = 442\n",
      "\n",
      "Training on fold [1/5]\n",
      "\n",
      "bestTest = 0.4687804855\n",
      "bestIteration = 427\n",
      "\n",
      "Training on fold [2/5]\n",
      "\n",
      "bestTest = 0.4524089767\n",
      "bestIteration = 546\n",
      "\n",
      "Training on fold [3/5]\n",
      "\n",
      "bestTest = 0.4586884361\n",
      "bestIteration = 425\n",
      "\n",
      "Training on fold [4/5]\n"
     ]
    },
    {
     "name": "stderr",
     "output_type": "stream",
     "text": [
      "\u001b[32m[I 2022-01-26 19:11:39,652]\u001b[0m Trial 64 finished with value: 0.867932840307762 and parameters: {'iterations': 1500, 'learning_rate': 0.02735256426542132, 'random_strength': 8, 'bagging_temperature': 10, 'max_bin': 6, 'grow_policy': 'SymmetricTree', 'max_depth': 8, 'l2_leaf_reg': 2.9149112161454482, 'one_hot_max_size': 5, 'auto_class_weights': 'Balanced'}. Best is trial 50 with value: 0.8696074773891876.\u001b[0m\n"
     ]
    },
    {
     "name": "stdout",
     "output_type": "stream",
     "text": [
      "\n",
      "bestTest = 0.4439509891\n",
      "bestIteration = 542\n",
      "\n"
     ]
    },
    {
     "data": {
      "application/vnd.jupyter.widget-view+json": {
       "model_id": "decfb1ad40bf4d9fa03ff028d8eeb153",
       "version_major": 2,
       "version_minor": 0
      },
      "text/plain": [
       "MetricVisualizer(layout=Layout(align_self='stretch', height='500px'))"
      ]
     },
     "metadata": {},
     "output_type": "display_data"
    },
    {
     "name": "stdout",
     "output_type": "stream",
     "text": [
      "Training on fold [0/5]\n",
      "\n",
      "bestTest = 0.475861151\n",
      "bestIteration = 999\n",
      "\n",
      "Training on fold [1/5]\n",
      "\n",
      "bestTest = 0.4886341539\n",
      "bestIteration = 999\n",
      "\n",
      "Training on fold [2/5]\n",
      "\n",
      "bestTest = 0.4792025377\n",
      "bestIteration = 999\n",
      "\n",
      "Training on fold [3/5]\n",
      "\n",
      "bestTest = 0.479301429\n",
      "bestIteration = 999\n",
      "\n",
      "Training on fold [4/5]\n",
      "\n",
      "bestTest = 0.4743468285\n",
      "bestIteration = 999\n",
      "\n"
     ]
    },
    {
     "name": "stderr",
     "output_type": "stream",
     "text": [
      "\u001b[32m[I 2022-01-26 19:17:35,073]\u001b[0m Trial 65 finished with value: 0.8607406870385865 and parameters: {'iterations': 1000, 'learning_rate': 0.005316637645229853, 'random_strength': 10, 'bagging_temperature': 9, 'max_bin': 8, 'grow_policy': 'SymmetricTree', 'max_depth': 7, 'l2_leaf_reg': 38.90600218477495, 'one_hot_max_size': 5, 'auto_class_weights': 'Balanced'}. Best is trial 50 with value: 0.8696074773891876.\u001b[0m\n"
     ]
    },
    {
     "data": {
      "application/vnd.jupyter.widget-view+json": {
       "model_id": "c09b4261c97848e0ab037dfd157455a0",
       "version_major": 2,
       "version_minor": 0
      },
      "text/plain": [
       "MetricVisualizer(layout=Layout(align_self='stretch', height='500px'))"
      ]
     },
     "metadata": {},
     "output_type": "display_data"
    },
    {
     "name": "stdout",
     "output_type": "stream",
     "text": [
      "Training on fold [0/5]\n",
      "\n",
      "bestTest = 0.4541801087\n",
      "bestIteration = 722\n",
      "\n",
      "Training on fold [1/5]\n",
      "\n",
      "bestTest = 0.4681479096\n",
      "bestIteration = 678\n",
      "\n",
      "Training on fold [2/5]\n",
      "\n",
      "bestTest = 0.4515597406\n",
      "bestIteration = 884\n",
      "\n",
      "Training on fold [3/5]\n",
      "\n",
      "bestTest = 0.4575415499\n",
      "bestIteration = 757\n",
      "\n",
      "Training on fold [4/5]\n",
      "\n",
      "bestTest = 0.4452557056\n",
      "bestIteration = 857\n",
      "\n"
     ]
    },
    {
     "name": "stderr",
     "output_type": "stream",
     "text": [
      "\u001b[32m[I 2022-01-26 19:23:20,440]\u001b[0m Trial 66 finished with value: 0.8679689987962579 and parameters: {'iterations': 1500, 'learning_rate': 0.01689671201634786, 'random_strength': 10, 'bagging_temperature': 10, 'max_bin': 4, 'grow_policy': 'SymmetricTree', 'max_depth': 9, 'l2_leaf_reg': 10.99927339643926, 'one_hot_max_size': 5, 'auto_class_weights': 'Balanced'}. Best is trial 50 with value: 0.8696074773891876.\u001b[0m\n"
     ]
    },
    {
     "data": {
      "application/vnd.jupyter.widget-view+json": {
       "model_id": "bae5e5ed47f44f39bb242a62399e9904",
       "version_major": 2,
       "version_minor": 0
      },
      "text/plain": [
       "MetricVisualizer(layout=Layout(align_self='stretch', height='500px'))"
      ]
     },
     "metadata": {},
     "output_type": "display_data"
    },
    {
     "name": "stdout",
     "output_type": "stream",
     "text": [
      "Training on fold [0/5]\n",
      "\n",
      "bestTest = 0.4575772919\n",
      "bestIteration = 250\n",
      "\n",
      "Training on fold [1/5]\n",
      "\n",
      "bestTest = 0.4640143234\n",
      "bestIteration = 261\n",
      "\n",
      "Training on fold [2/5]\n",
      "\n",
      "bestTest = 0.4541584584\n",
      "bestIteration = 291\n",
      "\n",
      "Training on fold [3/5]\n",
      "\n",
      "bestTest = 0.4559088714\n",
      "bestIteration = 254\n",
      "\n",
      "Training on fold [4/5]\n"
     ]
    },
    {
     "name": "stderr",
     "output_type": "stream",
     "text": [
      "\u001b[32m[I 2022-01-26 19:23:34,481]\u001b[0m Trial 67 finished with value: 0.8678932118576276 and parameters: {'iterations': 1200, 'learning_rate': 0.05239079510413963, 'random_strength': 9, 'bagging_temperature': 8, 'max_bin': 8, 'grow_policy': 'SymmetricTree', 'max_depth': 8, 'l2_leaf_reg': 4.565894129561205, 'one_hot_max_size': 1024, 'auto_class_weights': 'Balanced'}. Best is trial 50 with value: 0.8696074773891876.\u001b[0m\n"
     ]
    },
    {
     "name": "stdout",
     "output_type": "stream",
     "text": [
      "\n",
      "bestTest = 0.4474323601\n",
      "bestIteration = 260\n",
      "\n"
     ]
    },
    {
     "data": {
      "application/vnd.jupyter.widget-view+json": {
       "model_id": "682319ae26b14dc78632228a10483b0d",
       "version_major": 2,
       "version_minor": 0
      },
      "text/plain": [
       "MetricVisualizer(layout=Layout(align_self='stretch', height='500px'))"
      ]
     },
     "metadata": {},
     "output_type": "display_data"
    },
    {
     "name": "stdout",
     "output_type": "stream",
     "text": [
      "Training on fold [0/5]\n",
      "\n",
      "bestTest = 0.4531028806\n",
      "bestIteration = 409\n",
      "\n",
      "Training on fold [1/5]\n",
      "\n",
      "bestTest = 0.467084805\n",
      "bestIteration = 424\n",
      "\n",
      "Training on fold [2/5]\n",
      "\n",
      "bestTest = 0.4536708879\n",
      "bestIteration = 441\n",
      "\n",
      "Training on fold [3/5]\n",
      "\n",
      "bestTest = 0.4536403851\n",
      "bestIteration = 415\n",
      "\n",
      "Training on fold [4/5]\n"
     ]
    },
    {
     "name": "stderr",
     "output_type": "stream",
     "text": [
      "\u001b[32m[I 2022-01-26 19:26:26,058]\u001b[0m Trial 68 finished with value: 0.8690227076587345 and parameters: {'iterations': 1500, 'learning_rate': 0.03244704166745377, 'random_strength': 8, 'bagging_temperature': 8, 'max_bin': 8, 'grow_policy': 'SymmetricTree', 'max_depth': 10, 'l2_leaf_reg': 34.58742148212441, 'one_hot_max_size': 5, 'auto_class_weights': 'Balanced'}. Best is trial 50 with value: 0.8696074773891876.\u001b[0m\n"
     ]
    },
    {
     "name": "stdout",
     "output_type": "stream",
     "text": [
      "\n",
      "bestTest = 0.4420079142\n",
      "bestIteration = 459\n",
      "\n"
     ]
    },
    {
     "data": {
      "application/vnd.jupyter.widget-view+json": {
       "model_id": "c75f0b69e9014bd880cadb55e10f67d9",
       "version_major": 2,
       "version_minor": 0
      },
      "text/plain": [
       "MetricVisualizer(layout=Layout(align_self='stretch', height='500px'))"
      ]
     },
     "metadata": {},
     "output_type": "display_data"
    },
    {
     "name": "stdout",
     "output_type": "stream",
     "text": [
      "Training on fold [0/5]\n",
      "\n",
      "bestTest = 0.5840655361\n",
      "bestIteration = 499\n",
      "\n",
      "Training on fold [1/5]\n",
      "\n",
      "bestTest = 0.5880710152\n",
      "bestIteration = 499\n",
      "\n",
      "Training on fold [2/5]\n",
      "\n",
      "bestTest = 0.5860599383\n",
      "bestIteration = 499\n",
      "\n",
      "Training on fold [3/5]\n",
      "\n",
      "bestTest = 0.5889430805\n",
      "bestIteration = 499\n",
      "\n",
      "Training on fold [4/5]\n"
     ]
    },
    {
     "name": "stderr",
     "output_type": "stream",
     "text": [
      "\u001b[32m[I 2022-01-26 19:29:36,667]\u001b[0m Trial 69 finished with value: 0.8479012720354577 and parameters: {'iterations': 500, 'learning_rate': 0.0011781072451653163, 'random_strength': 9, 'bagging_temperature': 9, 'max_bin': 8, 'grow_policy': 'SymmetricTree', 'max_depth': 8, 'l2_leaf_reg': 0.00041468289958679794, 'one_hot_max_size': 5, 'auto_class_weights': 'Balanced'}. Best is trial 50 with value: 0.8696074773891876.\u001b[0m\n"
     ]
    },
    {
     "name": "stdout",
     "output_type": "stream",
     "text": [
      "\n",
      "bestTest = 0.5831734922\n",
      "bestIteration = 499\n",
      "\n"
     ]
    },
    {
     "data": {
      "application/vnd.jupyter.widget-view+json": {
       "model_id": "57a4f739fa1e45e585bfaf9ef47b67b4",
       "version_major": 2,
       "version_minor": 0
      },
      "text/plain": [
       "MetricVisualizer(layout=Layout(align_self='stretch', height='500px'))"
      ]
     },
     "metadata": {},
     "output_type": "display_data"
    },
    {
     "name": "stdout",
     "output_type": "stream",
     "text": [
      "Training on fold [0/5]\n",
      "\n",
      "bestTest = 0.455692689\n",
      "bestIteration = 190\n",
      "\n",
      "Training on fold [1/5]\n",
      "\n",
      "bestTest = 0.466477355\n",
      "bestIteration = 205\n",
      "\n",
      "Training on fold [2/5]\n",
      "\n",
      "bestTest = 0.4553438386\n",
      "bestIteration = 207\n",
      "\n",
      "Training on fold [3/5]\n",
      "\n",
      "bestTest = 0.4563609641\n",
      "bestIteration = 192\n",
      "\n",
      "Training on fold [4/5]\n"
     ]
    },
    {
     "name": "stderr",
     "output_type": "stream",
     "text": [
      "\u001b[32m[I 2022-01-26 19:30:50,976]\u001b[0m Trial 70 finished with value: 0.8668786386977958 and parameters: {'iterations': 1500, 'learning_rate': 0.06900716008190771, 'random_strength': 10, 'bagging_temperature': 10, 'max_bin': 8, 'grow_policy': 'SymmetricTree', 'max_depth': 7, 'l2_leaf_reg': 1.5110344388769843, 'one_hot_max_size': 5, 'auto_class_weights': 'Balanced'}. Best is trial 50 with value: 0.8696074773891876.\u001b[0m\n"
     ]
    },
    {
     "name": "stdout",
     "output_type": "stream",
     "text": [
      "\n",
      "bestTest = 0.4476676928\n",
      "bestIteration = 221\n",
      "\n"
     ]
    },
    {
     "data": {
      "application/vnd.jupyter.widget-view+json": {
       "model_id": "5000241dcec04b6082aac945e5be6d5e",
       "version_major": 2,
       "version_minor": 0
      },
      "text/plain": [
       "MetricVisualizer(layout=Layout(align_self='stretch', height='500px'))"
      ]
     },
     "metadata": {},
     "output_type": "display_data"
    },
    {
     "name": "stdout",
     "output_type": "stream",
     "text": [
      "Training on fold [0/5]\n",
      "\n",
      "bestTest = 0.4512521661\n",
      "bestIteration = 745\n",
      "\n",
      "Training on fold [1/5]\n",
      "\n",
      "bestTest = 0.4667512679\n",
      "bestIteration = 745\n",
      "\n",
      "Training on fold [2/5]\n",
      "\n",
      "bestTest = 0.4520758061\n",
      "bestIteration = 821\n",
      "\n",
      "Training on fold [3/5]\n",
      "\n",
      "bestTest = 0.4530359554\n",
      "bestIteration = 841\n",
      "\n",
      "Training on fold [4/5]\n",
      "\n",
      "bestTest = 0.4427440972\n",
      "bestIteration = 887\n",
      "\n"
     ]
    },
    {
     "name": "stderr",
     "output_type": "stream",
     "text": [
      "\u001b[32m[I 2022-01-26 19:36:58,512]\u001b[0m Trial 71 finished with value: 0.8691966023598401 and parameters: {'iterations': 1500, 'learning_rate': 0.01901512466773215, 'random_strength': 9, 'bagging_temperature': 10, 'max_bin': 8, 'grow_policy': 'SymmetricTree', 'max_depth': 9, 'l2_leaf_reg': 89.95829694979462, 'one_hot_max_size': 5, 'auto_class_weights': 'Balanced'}. Best is trial 50 with value: 0.8696074773891876.\u001b[0m\n"
     ]
    },
    {
     "data": {
      "application/vnd.jupyter.widget-view+json": {
       "model_id": "050d957fc02445468276b1e11ef59e1a",
       "version_major": 2,
       "version_minor": 0
      },
      "text/plain": [
       "MetricVisualizer(layout=Layout(align_self='stretch', height='500px'))"
      ]
     },
     "metadata": {},
     "output_type": "display_data"
    },
    {
     "name": "stdout",
     "output_type": "stream",
     "text": [
      "Training on fold [0/5]\n",
      "\n",
      "bestTest = 0.4508833084\n",
      "bestIteration = 315\n",
      "\n",
      "Training on fold [1/5]\n",
      "\n",
      "bestTest = 0.4666367874\n",
      "bestIteration = 327\n",
      "\n",
      "Training on fold [2/5]\n",
      "\n",
      "bestTest = 0.450918289\n",
      "bestIteration = 356\n",
      "\n",
      "Training on fold [3/5]\n",
      "\n",
      "bestTest = 0.4521623077\n",
      "bestIteration = 379\n",
      "\n",
      "Training on fold [4/5]\n"
     ]
    },
    {
     "name": "stderr",
     "output_type": "stream",
     "text": [
      "\u001b[32m[I 2022-01-26 19:39:31,670]\u001b[0m Trial 72 finished with value: 0.869563535027941 and parameters: {'iterations': 1500, 'learning_rate': 0.043985330597282345, 'random_strength': 9, 'bagging_temperature': 10, 'max_bin': 8, 'grow_policy': 'SymmetricTree', 'max_depth': 9, 'l2_leaf_reg': 56.395540142485245, 'one_hot_max_size': 5, 'auto_class_weights': 'Balanced'}. Best is trial 50 with value: 0.8696074773891876.\u001b[0m\n"
     ]
    },
    {
     "name": "stdout",
     "output_type": "stream",
     "text": [
      "\n",
      "bestTest = 0.4427028571\n",
      "bestIteration = 326\n",
      "\n"
     ]
    },
    {
     "data": {
      "application/vnd.jupyter.widget-view+json": {
       "model_id": "a6c2802c18d74b918f7f28c4c4b50e08",
       "version_major": 2,
       "version_minor": 0
      },
      "text/plain": [
       "MetricVisualizer(layout=Layout(align_self='stretch', height='500px'))"
      ]
     },
     "metadata": {},
     "output_type": "display_data"
    },
    {
     "name": "stdout",
     "output_type": "stream",
     "text": [
      "Training on fold [0/5]\n",
      "\n",
      "bestTest = 0.4516941286\n",
      "bestIteration = 180\n",
      "\n",
      "Training on fold [1/5]\n",
      "\n",
      "bestTest = 0.4651113535\n",
      "bestIteration = 168\n",
      "\n",
      "Training on fold [2/5]\n",
      "\n",
      "bestTest = 0.4503806007\n",
      "bestIteration = 216\n",
      "\n",
      "Training on fold [3/5]\n",
      "\n",
      "bestTest = 0.4559996473\n",
      "bestIteration = 178\n",
      "\n",
      "Training on fold [4/5]\n"
     ]
    },
    {
     "name": "stderr",
     "output_type": "stream",
     "text": [
      "\u001b[32m[I 2022-01-26 19:40:44,113]\u001b[0m Trial 73 finished with value: 0.8686268646860945 and parameters: {'iterations': 1500, 'learning_rate': 0.08095927233896498, 'random_strength': 10, 'bagging_temperature': 9, 'max_bin': 8, 'grow_policy': 'SymmetricTree', 'max_depth': 8, 'l2_leaf_reg': 14.48278698934299, 'one_hot_max_size': 5, 'auto_class_weights': 'Balanced'}. Best is trial 50 with value: 0.8696074773891876.\u001b[0m\n"
     ]
    },
    {
     "name": "stdout",
     "output_type": "stream",
     "text": [
      "\n",
      "bestTest = 0.4456830333\n",
      "bestIteration = 175\n",
      "\n"
     ]
    },
    {
     "data": {
      "application/vnd.jupyter.widget-view+json": {
       "model_id": "1c0282c0f9b64339865e8f941abaec86",
       "version_major": 2,
       "version_minor": 0
      },
      "text/plain": [
       "MetricVisualizer(layout=Layout(align_self='stretch', height='500px'))"
      ]
     },
     "metadata": {},
     "output_type": "display_data"
    },
    {
     "name": "stdout",
     "output_type": "stream",
     "text": [
      "Training on fold [0/5]\n",
      "\n",
      "bestTest = 0.4521848305\n",
      "bestIteration = 308\n",
      "\n",
      "Training on fold [1/5]\n",
      "\n",
      "bestTest = 0.4653788424\n",
      "bestIteration = 280\n",
      "\n",
      "Training on fold [2/5]\n",
      "\n",
      "bestTest = 0.452222022\n",
      "bestIteration = 319\n",
      "\n",
      "Training on fold [3/5]\n",
      "\n",
      "bestTest = 0.4545512069\n",
      "bestIteration = 290\n",
      "\n",
      "Training on fold [4/5]\n"
     ]
    },
    {
     "name": "stderr",
     "output_type": "stream",
     "text": [
      "\u001b[32m[I 2022-01-26 19:42:46,876]\u001b[0m Trial 74 finished with value: 0.8689277753399441 and parameters: {'iterations': 1500, 'learning_rate': 0.047439968026008306, 'random_strength': 8, 'bagging_temperature': 9, 'max_bin': 8, 'grow_policy': 'SymmetricTree', 'max_depth': 10, 'l2_leaf_reg': 47.504364584804534, 'one_hot_max_size': 5, 'auto_class_weights': 'Balanced'}. Best is trial 50 with value: 0.8696074773891876.\u001b[0m\n"
     ]
    },
    {
     "name": "stdout",
     "output_type": "stream",
     "text": [
      "\n",
      "bestTest = 0.4445431497\n",
      "bestIteration = 326\n",
      "\n"
     ]
    },
    {
     "data": {
      "application/vnd.jupyter.widget-view+json": {
       "model_id": "fd72a191a4294de989ae8556330f178f",
       "version_major": 2,
       "version_minor": 0
      },
      "text/plain": [
       "MetricVisualizer(layout=Layout(align_self='stretch', height='500px'))"
      ]
     },
     "metadata": {},
     "output_type": "display_data"
    },
    {
     "name": "stdout",
     "output_type": "stream",
     "text": [
      "Training on fold [0/5]\n",
      "\n",
      "bestTest = 0.4548923137\n",
      "bestIteration = 402\n",
      "\n",
      "Training on fold [1/5]\n",
      "\n",
      "bestTest = 0.4655870936\n",
      "bestIteration = 431\n",
      "\n",
      "Training on fold [2/5]\n",
      "\n",
      "bestTest = 0.451188983\n",
      "bestIteration = 450\n",
      "\n",
      "Training on fold [3/5]\n",
      "\n",
      "bestTest = 0.455287204\n",
      "bestIteration = 445\n",
      "\n",
      "Training on fold [4/5]\n",
      "\n",
      "bestTest = 0.4429294754\n",
      "bestIteration = 484\n",
      "\n"
     ]
    },
    {
     "name": "stderr",
     "output_type": "stream",
     "text": [
      "\u001b[32m[I 2022-01-26 19:46:02,052]\u001b[0m Trial 75 finished with value: 0.8687532182388544 and parameters: {'iterations': 1000, 'learning_rate': 0.031032754104378592, 'random_strength': 10, 'bagging_temperature': 10, 'max_bin': 6, 'grow_policy': 'SymmetricTree', 'max_depth': 9, 'l2_leaf_reg': 27.677695140599454, 'one_hot_max_size': 5, 'auto_class_weights': 'Balanced'}. Best is trial 50 with value: 0.8696074773891876.\u001b[0m\n"
     ]
    },
    {
     "data": {
      "application/vnd.jupyter.widget-view+json": {
       "model_id": "d0c84ccd88cd4c74960155fcf99b85f6",
       "version_major": 2,
       "version_minor": 0
      },
      "text/plain": [
       "MetricVisualizer(layout=Layout(align_self='stretch', height='500px'))"
      ]
     },
     "metadata": {},
     "output_type": "display_data"
    },
    {
     "name": "stdout",
     "output_type": "stream",
     "text": [
      "Training on fold [0/5]\n",
      "\n",
      "bestTest = 0.454239187\n",
      "bestIteration = 277\n",
      "\n",
      "Training on fold [1/5]\n",
      "\n",
      "bestTest = 0.4706281585\n",
      "bestIteration = 267\n",
      "\n",
      "Training on fold [2/5]\n",
      "\n",
      "bestTest = 0.4546860119\n",
      "bestIteration = 290\n",
      "\n",
      "Training on fold [3/5]\n",
      "\n",
      "bestTest = 0.4604775504\n",
      "bestIteration = 265\n",
      "\n",
      "Training on fold [4/5]\n"
     ]
    },
    {
     "name": "stderr",
     "output_type": "stream",
     "text": [
      "\u001b[32m[I 2022-01-26 19:48:07,810]\u001b[0m Trial 76 finished with value: 0.8666180324744068 and parameters: {'iterations': 1500, 'learning_rate': 0.04300575866839145, 'random_strength': 9, 'bagging_temperature': 9, 'max_bin': 4, 'grow_policy': 'SymmetricTree', 'max_depth': 9, 'l2_leaf_reg': 4.943250301487569, 'one_hot_max_size': 5, 'auto_class_weights': 'Balanced'}. Best is trial 50 with value: 0.8696074773891876.\u001b[0m\n"
     ]
    },
    {
     "name": "stdout",
     "output_type": "stream",
     "text": [
      "\n",
      "bestTest = 0.4473765259\n",
      "bestIteration = 328\n",
      "\n"
     ]
    },
    {
     "data": {
      "application/vnd.jupyter.widget-view+json": {
       "model_id": "1ca47637302a4ddfb299cb9bd596d297",
       "version_major": 2,
       "version_minor": 0
      },
      "text/plain": [
       "MetricVisualizer(layout=Layout(align_self='stretch', height='500px'))"
      ]
     },
     "metadata": {},
     "output_type": "display_data"
    },
    {
     "name": "stdout",
     "output_type": "stream",
     "text": [
      "Training on fold [0/5]\n",
      "\n",
      "bestTest = 0.4529918682\n",
      "bestIteration = 225\n",
      "\n",
      "Training on fold [1/5]\n",
      "\n",
      "bestTest = 0.4658784752\n",
      "bestIteration = 240\n",
      "\n",
      "Training on fold [2/5]\n",
      "\n",
      "bestTest = 0.4508361249\n",
      "bestIteration = 246\n",
      "\n",
      "Training on fold [3/5]\n",
      "\n",
      "bestTest = 0.4547432501\n",
      "bestIteration = 234\n",
      "\n",
      "Training on fold [4/5]\n"
     ]
    },
    {
     "name": "stderr",
     "output_type": "stream",
     "text": [
      "\u001b[32m[I 2022-01-26 19:49:51,540]\u001b[0m Trial 77 finished with value: 0.8686921370439581 and parameters: {'iterations': 1500, 'learning_rate': 0.057200895556883645, 'random_strength': 9, 'bagging_temperature': 10, 'max_bin': 5, 'grow_policy': 'SymmetricTree', 'max_depth': 8, 'l2_leaf_reg': 12.39352517250405, 'one_hot_max_size': 10, 'auto_class_weights': 'Balanced'}. Best is trial 50 with value: 0.8696074773891876.\u001b[0m\n"
     ]
    },
    {
     "name": "stdout",
     "output_type": "stream",
     "text": [
      "\n",
      "bestTest = 0.4456645559\n",
      "bestIteration = 252\n",
      "\n"
     ]
    },
    {
     "data": {
      "application/vnd.jupyter.widget-view+json": {
       "model_id": "66ff8732946f4240bd3fd9407726519c",
       "version_major": 2,
       "version_minor": 0
      },
      "text/plain": [
       "MetricVisualizer(layout=Layout(align_self='stretch', height='500px'))"
      ]
     },
     "metadata": {},
     "output_type": "display_data"
    },
    {
     "name": "stdout",
     "output_type": "stream",
     "text": [
      "Training on fold [0/5]\n",
      "\n",
      "bestTest = 0.4533858541\n",
      "bestIteration = 1102\n",
      "\n",
      "Training on fold [1/5]\n",
      "\n",
      "bestTest = 0.4604176137\n",
      "bestIteration = 1198\n",
      "\n",
      "Training on fold [2/5]\n",
      "\n",
      "bestTest = 0.4529551169\n",
      "bestIteration = 1119\n",
      "\n",
      "Training on fold [3/5]\n",
      "\n",
      "bestTest = 0.4539551489\n",
      "bestIteration = 1144\n",
      "\n",
      "Training on fold [4/5]\n",
      "\n",
      "bestTest = 0.4434601827\n",
      "bestIteration = 1199\n",
      "\n"
     ]
    },
    {
     "name": "stderr",
     "output_type": "stream",
     "text": [
      "\u001b[32m[I 2022-01-26 19:50:46,155]\u001b[0m Trial 78 finished with value: 0.8693917698005904 and parameters: {'iterations': 1200, 'learning_rate': 0.0129951773537475, 'random_strength': 9, 'bagging_temperature': 8, 'max_bin': 8, 'grow_policy': 'SymmetricTree', 'max_depth': 7, 'l2_leaf_reg': 49.41548581369964, 'one_hot_max_size': 500, 'auto_class_weights': 'Balanced'}. Best is trial 50 with value: 0.8696074773891876.\u001b[0m\n"
     ]
    },
    {
     "data": {
      "application/vnd.jupyter.widget-view+json": {
       "model_id": "8036853384a94567b3146fcf4aa5164b",
       "version_major": 2,
       "version_minor": 0
      },
      "text/plain": [
       "MetricVisualizer(layout=Layout(align_self='stretch', height='500px'))"
      ]
     },
     "metadata": {},
     "output_type": "display_data"
    },
    {
     "name": "stdout",
     "output_type": "stream",
     "text": [
      "Training on fold [0/5]\n",
      "\n",
      "bestTest = 0.4712587663\n",
      "bestIteration = 419\n",
      "\n",
      "Training on fold [1/5]\n",
      "\n",
      "bestTest = 0.485764505\n",
      "bestIteration = 389\n",
      "\n",
      "Training on fold [2/5]\n",
      "\n",
      "bestTest = 0.4809165707\n",
      "bestIteration = 369\n",
      "\n",
      "Training on fold [3/5]\n",
      "\n",
      "bestTest = 0.4790506116\n",
      "bestIteration = 424\n",
      "\n",
      "Training on fold [4/5]\n"
     ]
    },
    {
     "name": "stderr",
     "output_type": "stream",
     "text": [
      "\u001b[32m[I 2022-01-26 19:51:04,383]\u001b[0m Trial 79 finished with value: 0.8563951559611456 and parameters: {'iterations': 1200, 'learning_rate': 0.014097888173987223, 'random_strength': 8, 'bagging_temperature': 8, 'max_bin': 8, 'grow_policy': 'SymmetricTree', 'max_depth': 7, 'l2_leaf_reg': 6.420693446980915e-05, 'one_hot_max_size': 500, 'auto_class_weights': 'Balanced'}. Best is trial 50 with value: 0.8696074773891876.\u001b[0m\n"
     ]
    },
    {
     "name": "stdout",
     "output_type": "stream",
     "text": [
      "\n",
      "bestTest = 0.4671397427\n",
      "bestIteration = 450\n",
      "\n"
     ]
    },
    {
     "data": {
      "application/vnd.jupyter.widget-view+json": {
       "model_id": "d814070af198442c840dc1461d977d2b",
       "version_major": 2,
       "version_minor": 0
      },
      "text/plain": [
       "MetricVisualizer(layout=Layout(align_self='stretch', height='500px'))"
      ]
     },
     "metadata": {},
     "output_type": "display_data"
    },
    {
     "name": "stdout",
     "output_type": "stream",
     "text": [
      "Training on fold [0/5]\n",
      "\n",
      "bestTest = 0.4551056304\n",
      "bestIteration = 1199\n",
      "\n",
      "Training on fold [1/5]\n",
      "\n",
      "bestTest = 0.465146177\n",
      "bestIteration = 1199\n",
      "\n",
      "Training on fold [2/5]\n",
      "\n",
      "bestTest = 0.4563498879\n",
      "bestIteration = 1199\n",
      "\n",
      "Training on fold [3/5]\n",
      "\n",
      "bestTest = 0.4570094206\n",
      "bestIteration = 1199\n",
      "\n",
      "Training on fold [4/5]\n",
      "\n",
      "bestTest = 0.4479565914\n",
      "bestIteration = 1199\n",
      "\n"
     ]
    },
    {
     "name": "stderr",
     "output_type": "stream",
     "text": [
      "\u001b[32m[I 2022-01-26 19:52:00,819]\u001b[0m Trial 80 finished with value: 0.8678407110192883 and parameters: {'iterations': 1200, 'learning_rate': 0.010664733844041693, 'random_strength': 10, 'bagging_temperature': 10, 'max_bin': 8, 'grow_policy': 'SymmetricTree', 'max_depth': 7, 'l2_leaf_reg': 62.65458264363936, 'one_hot_max_size': 500, 'auto_class_weights': 'Balanced'}. Best is trial 50 with value: 0.8696074773891876.\u001b[0m\n"
     ]
    },
    {
     "data": {
      "application/vnd.jupyter.widget-view+json": {
       "model_id": "e7f2c4661b394a4cbd6902f616743f30",
       "version_major": 2,
       "version_minor": 0
      },
      "text/plain": [
       "MetricVisualizer(layout=Layout(align_self='stretch', height='500px'))"
      ]
     },
     "metadata": {},
     "output_type": "display_data"
    },
    {
     "name": "stdout",
     "output_type": "stream",
     "text": [
      "Training on fold [0/5]\n",
      "\n",
      "bestTest = 0.4539737734\n",
      "bestIteration = 559\n",
      "\n",
      "Training on fold [1/5]\n",
      "\n",
      "bestTest = 0.4639945651\n",
      "bestIteration = 585\n",
      "\n",
      "Training on fold [2/5]\n",
      "\n",
      "bestTest = 0.4515210549\n",
      "bestIteration = 667\n",
      "\n",
      "Training on fold [3/5]\n",
      "\n",
      "bestTest = 0.4545080404\n",
      "bestIteration = 605\n",
      "\n",
      "Training on fold [4/5]\n"
     ]
    },
    {
     "name": "stderr",
     "output_type": "stream",
     "text": [
      "\u001b[32m[I 2022-01-26 19:52:32,782]\u001b[0m Trial 81 finished with value: 0.8689951955682738 and parameters: {'iterations': 1200, 'learning_rate': 0.023425430955652613, 'random_strength': 9, 'bagging_temperature': 9, 'max_bin': 8, 'grow_policy': 'SymmetricTree', 'max_depth': 8, 'l2_leaf_reg': 31.52425758832173, 'one_hot_max_size': 500, 'auto_class_weights': 'Balanced'}. Best is trial 50 with value: 0.8696074773891876.\u001b[0m\n"
     ]
    },
    {
     "name": "stdout",
     "output_type": "stream",
     "text": [
      "\n",
      "bestTest = 0.4440259728\n",
      "bestIteration = 586\n",
      "\n"
     ]
    },
    {
     "data": {
      "application/vnd.jupyter.widget-view+json": {
       "model_id": "749ef0f991174d90b39ddc16a3a66b06",
       "version_major": 2,
       "version_minor": 0
      },
      "text/plain": [
       "MetricVisualizer(layout=Layout(align_self='stretch', height='500px'))"
      ]
     },
     "metadata": {},
     "output_type": "display_data"
    },
    {
     "name": "stdout",
     "output_type": "stream",
     "text": [
      "Training on fold [0/5]\n",
      "\n",
      "bestTest = 0.4523073267\n",
      "bestIteration = 387\n",
      "\n",
      "Training on fold [1/5]\n",
      "\n",
      "bestTest = 0.4600845135\n",
      "bestIteration = 435\n",
      "\n",
      "Training on fold [2/5]\n",
      "\n",
      "bestTest = 0.4511793459\n",
      "bestIteration = 455\n",
      "\n",
      "Training on fold [3/5]\n",
      "\n",
      "bestTest = 0.4534709068\n",
      "bestIteration = 397\n",
      "\n",
      "Training on fold [4/5]\n"
     ]
    },
    {
     "name": "stderr",
     "output_type": "stream",
     "text": [
      "\u001b[32m[I 2022-01-26 19:52:55,330]\u001b[0m Trial 82 finished with value: 0.8700183743522392 and parameters: {'iterations': 1200, 'learning_rate': 0.037220657529181016, 'random_strength': 8, 'bagging_temperature': 9, 'max_bin': 8, 'grow_policy': 'SymmetricTree', 'max_depth': 8, 'l2_leaf_reg': 62.754825532816156, 'one_hot_max_size': 500, 'auto_class_weights': 'Balanced'}. Best is trial 82 with value: 0.8700183743522392.\u001b[0m\n"
     ]
    },
    {
     "name": "stdout",
     "output_type": "stream",
     "text": [
      "\n",
      "bestTest = 0.4425506717\n",
      "bestIteration = 437\n",
      "\n"
     ]
    },
    {
     "data": {
      "application/vnd.jupyter.widget-view+json": {
       "model_id": "5776e47426874164afd7d05c29c02e87",
       "version_major": 2,
       "version_minor": 0
      },
      "text/plain": [
       "MetricVisualizer(layout=Layout(align_self='stretch', height='500px'))"
      ]
     },
     "metadata": {},
     "output_type": "display_data"
    },
    {
     "name": "stdout",
     "output_type": "stream",
     "text": [
      "Training on fold [0/5]\n",
      "\n",
      "bestTest = 0.4578483876\n",
      "bestIteration = 229\n",
      "\n",
      "Training on fold [1/5]\n",
      "\n",
      "bestTest = 0.4627278099\n",
      "bestIteration = 334\n",
      "\n",
      "Training on fold [2/5]\n",
      "\n",
      "bestTest = 0.4547685435\n",
      "bestIteration = 345\n",
      "\n",
      "Training on fold [3/5]\n",
      "\n",
      "bestTest = 0.4547951634\n",
      "bestIteration = 343\n",
      "\n",
      "Training on fold [4/5]\n"
     ]
    },
    {
     "name": "stderr",
     "output_type": "stream",
     "text": [
      "\u001b[32m[I 2022-01-26 19:53:15,148]\u001b[0m Trial 83 finished with value: 0.8684303690085041 and parameters: {'iterations': 1200, 'learning_rate': 0.03902713688836003, 'random_strength': 8, 'bagging_temperature': 8, 'max_bin': 8, 'grow_policy': 'SymmetricTree', 'max_depth': 9, 'l2_leaf_reg': 16.46310070649067, 'one_hot_max_size': 500, 'auto_class_weights': 'Balanced'}. Best is trial 82 with value: 0.8700183743522392.\u001b[0m\n"
     ]
    },
    {
     "name": "stdout",
     "output_type": "stream",
     "text": [
      "\n",
      "bestTest = 0.4458011995\n",
      "bestIteration = 306\n",
      "\n"
     ]
    },
    {
     "data": {
      "application/vnd.jupyter.widget-view+json": {
       "model_id": "578dc65edc594044bbf86e02ab397d2d",
       "version_major": 2,
       "version_minor": 0
      },
      "text/plain": [
       "MetricVisualizer(layout=Layout(align_self='stretch', height='500px'))"
      ]
     },
     "metadata": {},
     "output_type": "display_data"
    },
    {
     "name": "stdout",
     "output_type": "stream",
     "text": [
      "Training on fold [0/5]\n",
      "\n",
      "bestTest = 0.4532971314\n",
      "bestIteration = 466\n",
      "\n",
      "Training on fold [1/5]\n",
      "\n",
      "bestTest = 0.4585768348\n",
      "bestIteration = 573\n",
      "\n",
      "Training on fold [2/5]\n",
      "\n",
      "bestTest = 0.45214446\n",
      "bestIteration = 519\n",
      "\n",
      "Training on fold [3/5]\n",
      "\n",
      "bestTest = 0.4536360058\n",
      "bestIteration = 518\n",
      "\n",
      "Training on fold [4/5]\n"
     ]
    },
    {
     "name": "stderr",
     "output_type": "stream",
     "text": [
      "\u001b[32m[I 2022-01-26 19:53:38,909]\u001b[0m Trial 84 finished with value: 0.8698256501392292 and parameters: {'iterations': 1200, 'learning_rate': 0.03123781068509615, 'random_strength': 10, 'bagging_temperature': 10, 'max_bin': 8, 'grow_policy': 'SymmetricTree', 'max_depth': 7, 'l2_leaf_reg': 55.438976753390506, 'one_hot_max_size': 500, 'auto_class_weights': 'Balanced'}. Best is trial 82 with value: 0.8700183743522392.\u001b[0m\n"
     ]
    },
    {
     "name": "stdout",
     "output_type": "stream",
     "text": [
      "\n",
      "bestTest = 0.4428740915\n",
      "bestIteration = 484\n",
      "\n"
     ]
    },
    {
     "data": {
      "application/vnd.jupyter.widget-view+json": {
       "model_id": "e0b34b7743254a6599a0f80696516cf0",
       "version_major": 2,
       "version_minor": 0
      },
      "text/plain": [
       "MetricVisualizer(layout=Layout(align_self='stretch', height='500px'))"
      ]
     },
     "metadata": {},
     "output_type": "display_data"
    },
    {
     "name": "stdout",
     "output_type": "stream",
     "text": [
      "Training on fold [0/5]\n",
      "\n",
      "bestTest = 0.4518583422\n",
      "bestIteration = 184\n",
      "\n",
      "Training on fold [1/5]\n",
      "\n",
      "bestTest = 0.4624357598\n",
      "bestIteration = 177\n",
      "\n",
      "Training on fold [2/5]\n",
      "\n",
      "bestTest = 0.4517749535\n",
      "bestIteration = 210\n",
      "\n",
      "Training on fold [3/5]\n",
      "\n",
      "bestTest = 0.4529999567\n",
      "bestIteration = 213\n",
      "\n",
      "Training on fold [4/5]\n"
     ]
    },
    {
     "name": "stderr",
     "output_type": "stream",
     "text": [
      "\u001b[32m[I 2022-01-26 19:53:48,380]\u001b[0m Trial 85 finished with value: 0.8697012195934425 and parameters: {'iterations': 1200, 'learning_rate': 0.0638116167665751, 'random_strength': 1, 'bagging_temperature': 10, 'max_bin': 8, 'grow_policy': 'SymmetricTree', 'max_depth': 7, 'l2_leaf_reg': 61.36033583609983, 'one_hot_max_size': 500, 'auto_class_weights': 'Balanced'}. Best is trial 82 with value: 0.8700183743522392.\u001b[0m\n"
     ]
    },
    {
     "name": "stdout",
     "output_type": "stream",
     "text": [
      "\n",
      "bestTest = 0.4412589404\n",
      "bestIteration = 203\n",
      "\n"
     ]
    },
    {
     "data": {
      "application/vnd.jupyter.widget-view+json": {
       "model_id": "78605eba860b4606b2e2765f6be240a2",
       "version_major": 2,
       "version_minor": 0
      },
      "text/plain": [
       "MetricVisualizer(layout=Layout(align_self='stretch', height='500px'))"
      ]
     },
     "metadata": {},
     "output_type": "display_data"
    },
    {
     "name": "stdout",
     "output_type": "stream",
     "text": [
      "Training on fold [0/5]\n",
      "\n",
      "bestTest = 0.4528660447\n",
      "bestIteration = 424\n",
      "\n",
      "Training on fold [1/5]\n",
      "\n",
      "bestTest = 0.4599551254\n",
      "bestIteration = 507\n",
      "\n",
      "Training on fold [2/5]\n",
      "\n",
      "bestTest = 0.4523354422\n",
      "bestIteration = 503\n",
      "\n",
      "Training on fold [3/5]\n",
      "\n",
      "bestTest = 0.454164043\n",
      "bestIteration = 443\n",
      "\n",
      "Training on fold [4/5]\n"
     ]
    },
    {
     "name": "stderr",
     "output_type": "stream",
     "text": [
      "\u001b[32m[I 2022-01-26 19:54:10,688]\u001b[0m Trial 86 finished with value: 0.8698150864852721 and parameters: {'iterations': 1200, 'learning_rate': 0.03416140490492777, 'random_strength': 7, 'bagging_temperature': 10, 'max_bin': 8, 'grow_policy': 'SymmetricTree', 'max_depth': 7, 'l2_leaf_reg': 94.8641858031453, 'one_hot_max_size': 500, 'auto_class_weights': 'Balanced'}. Best is trial 82 with value: 0.8700183743522392.\u001b[0m\n"
     ]
    },
    {
     "name": "stdout",
     "output_type": "stream",
     "text": [
      "\n",
      "bestTest = 0.4413765138\n",
      "bestIteration = 546\n",
      "\n"
     ]
    },
    {
     "data": {
      "application/vnd.jupyter.widget-view+json": {
       "model_id": "f03e4ed5c9db4dada2ca7136b684a24d",
       "version_major": 2,
       "version_minor": 0
      },
      "text/plain": [
       "MetricVisualizer(layout=Layout(align_self='stretch', height='500px'))"
      ]
     },
     "metadata": {},
     "output_type": "display_data"
    },
    {
     "name": "stdout",
     "output_type": "stream",
     "text": [
      "Training on fold [0/5]\n",
      "\n",
      "bestTest = 0.4541712709\n",
      "bestIteration = 149\n",
      "\n",
      "Training on fold [1/5]\n",
      "\n",
      "bestTest = 0.4611896276\n",
      "bestIteration = 162\n",
      "\n",
      "Training on fold [2/5]\n",
      "\n",
      "bestTest = 0.4536360189\n",
      "bestIteration = 146\n",
      "\n",
      "Training on fold [3/5]\n",
      "\n",
      "bestTest = 0.4543116553\n",
      "bestIteration = 155\n",
      "\n",
      "Training on fold [4/5]\n"
     ]
    },
    {
     "name": "stderr",
     "output_type": "stream",
     "text": [
      "\u001b[32m[I 2022-01-26 19:54:18,193]\u001b[0m Trial 87 finished with value: 0.8690843718204138 and parameters: {'iterations': 1200, 'learning_rate': 0.06817850103106474, 'random_strength': 1, 'bagging_temperature': 10, 'max_bin': 8, 'grow_policy': 'SymmetricTree', 'max_depth': 7, 'l2_leaf_reg': 21.978158419875523, 'one_hot_max_size': 500, 'auto_class_weights': 'Balanced'}. Best is trial 82 with value: 0.8700183743522392.\u001b[0m\n"
     ]
    },
    {
     "name": "stdout",
     "output_type": "stream",
     "text": [
      "\n",
      "bestTest = 0.443255763\n",
      "bestIteration = 149\n",
      "\n"
     ]
    },
    {
     "data": {
      "application/vnd.jupyter.widget-view+json": {
       "model_id": "7bec977bfdfe4796b210bee5fb44b6c5",
       "version_major": 2,
       "version_minor": 0
      },
      "text/plain": [
       "MetricVisualizer(layout=Layout(align_self='stretch', height='500px'))"
      ]
     },
     "metadata": {},
     "output_type": "display_data"
    },
    {
     "name": "stdout",
     "output_type": "stream",
     "text": [
      "Training on fold [0/5]\n",
      "\n",
      "bestTest = 0.4554757633\n",
      "bestIteration = 364\n",
      "\n",
      "Training on fold [1/5]\n",
      "\n",
      "bestTest = 0.4607283275\n",
      "bestIteration = 385\n",
      "\n",
      "Training on fold [2/5]\n",
      "\n",
      "bestTest = 0.4545213821\n",
      "bestIteration = 394\n",
      "\n",
      "Training on fold [3/5]\n",
      "\n",
      "bestTest = 0.4566497599\n",
      "bestIteration = 352\n",
      "\n",
      "Training on fold [4/5]\n"
     ]
    },
    {
     "name": "stderr",
     "output_type": "stream",
     "text": [
      "\u001b[32m[I 2022-01-26 19:54:35,351]\u001b[0m Trial 88 finished with value: 0.8680935849634597 and parameters: {'iterations': 1200, 'learning_rate': 0.0375445861828973, 'random_strength': 7, 'bagging_temperature': 10, 'max_bin': 8, 'grow_policy': 'SymmetricTree', 'max_depth': 7, 'l2_leaf_reg': 5.870751798140565, 'one_hot_max_size': 500, 'auto_class_weights': 'Balanced'}. Best is trial 82 with value: 0.8700183743522392.\u001b[0m\n"
     ]
    },
    {
     "name": "stdout",
     "output_type": "stream",
     "text": [
      "\n",
      "bestTest = 0.4468335615\n",
      "bestIteration = 386\n",
      "\n"
     ]
    },
    {
     "data": {
      "application/vnd.jupyter.widget-view+json": {
       "model_id": "05df6dcad6b144d6a5eb341bfac2672d",
       "version_major": 2,
       "version_minor": 0
      },
      "text/plain": [
       "MetricVisualizer(layout=Layout(align_self='stretch', height='500px'))"
      ]
     },
     "metadata": {},
     "output_type": "display_data"
    },
    {
     "name": "stdout",
     "output_type": "stream",
     "text": [
      "Training on fold [0/5]\n",
      "\n",
      "bestTest = 0.4568662413\n",
      "bestIteration = 118\n",
      "\n",
      "Training on fold [1/5]\n",
      "\n",
      "bestTest = 0.4641642443\n",
      "bestIteration = 125\n",
      "\n",
      "Training on fold [2/5]\n",
      "\n",
      "bestTest = 0.4559278929\n",
      "bestIteration = 140\n",
      "\n",
      "Training on fold [3/5]\n",
      "\n",
      "bestTest = 0.4548710712\n",
      "bestIteration = 196\n",
      "\n",
      "Training on fold [4/5]\n"
     ]
    },
    {
     "name": "stderr",
     "output_type": "stream",
     "text": [
      "\u001b[32m[I 2022-01-26 19:54:42,662]\u001b[0m Trial 89 finished with value: 0.8680955085529487 and parameters: {'iterations': 1200, 'learning_rate': 0.05595914108498808, 'random_strength': 1, 'bagging_temperature': 10, 'max_bin': 6, 'grow_policy': 'SymmetricTree', 'max_depth': 7, 'l2_leaf_reg': 3.0668509603768164, 'one_hot_max_size': 500, 'auto_class_weights': 'Balanced'}. Best is trial 82 with value: 0.8700183743522392.\u001b[0m\n"
     ]
    },
    {
     "name": "stdout",
     "output_type": "stream",
     "text": [
      "\n",
      "bestTest = 0.4437698422\n",
      "bestIteration = 146\n",
      "\n"
     ]
    },
    {
     "data": {
      "application/vnd.jupyter.widget-view+json": {
       "model_id": "2d393894bc8b4061802734bcf2e1d373",
       "version_major": 2,
       "version_minor": 0
      },
      "text/plain": [
       "MetricVisualizer(layout=Layout(align_self='stretch', height='500px'))"
      ]
     },
     "metadata": {},
     "output_type": "display_data"
    },
    {
     "name": "stdout",
     "output_type": "stream",
     "text": [
      "Training on fold [0/5]\n",
      "\n",
      "bestTest = 0.4700941214\n",
      "bestIteration = 700\n",
      "\n",
      "Training on fold [1/5]\n",
      "\n",
      "bestTest = 0.4816423197\n",
      "bestIteration = 684\n",
      "\n",
      "Training on fold [2/5]\n",
      "\n",
      "bestTest = 0.4755316936\n",
      "bestIteration = 653\n",
      "\n",
      "Training on fold [3/5]\n",
      "\n",
      "bestTest = 0.4714789972\n",
      "bestIteration = 852\n",
      "\n",
      "Training on fold [4/5]\n",
      "\n",
      "bestTest = 0.4641840559\n",
      "bestIteration = 824\n",
      "\n"
     ]
    },
    {
     "name": "stderr",
     "output_type": "stream",
     "text": [
      "\u001b[32m[I 2022-01-26 19:55:16,353]\u001b[0m Trial 90 finished with value: 0.8586783109763715 and parameters: {'iterations': 1200, 'learning_rate': 0.008215387769493428, 'random_strength': 8, 'bagging_temperature': 10, 'max_bin': 4, 'grow_policy': 'SymmetricTree', 'max_depth': 7, 'l2_leaf_reg': 0.005494109707906634, 'one_hot_max_size': 500, 'auto_class_weights': 'Balanced'}. Best is trial 82 with value: 0.8700183743522392.\u001b[0m\n"
     ]
    },
    {
     "data": {
      "application/vnd.jupyter.widget-view+json": {
       "model_id": "484f7fdcbe4e4a419059bfa4916d2511",
       "version_major": 2,
       "version_minor": 0
      },
      "text/plain": [
       "MetricVisualizer(layout=Layout(align_self='stretch', height='500px'))"
      ]
     },
     "metadata": {},
     "output_type": "display_data"
    },
    {
     "name": "stdout",
     "output_type": "stream",
     "text": [
      "Training on fold [0/5]\n",
      "\n",
      "bestTest = 0.4515637594\n",
      "bestIteration = 500\n",
      "\n",
      "Training on fold [1/5]\n",
      "\n",
      "bestTest = 0.4586056352\n",
      "bestIteration = 570\n",
      "\n",
      "Training on fold [2/5]\n",
      "\n",
      "bestTest = 0.4523628431\n",
      "bestIteration = 518\n",
      "\n",
      "Training on fold [3/5]\n",
      "\n",
      "bestTest = 0.4523220163\n",
      "bestIteration = 518\n",
      "\n",
      "Training on fold [4/5]\n"
     ]
    },
    {
     "name": "stderr",
     "output_type": "stream",
     "text": [
      "\u001b[32m[I 2022-01-26 19:55:40,812]\u001b[0m Trial 91 finished with value: 0.8704345800352724 and parameters: {'iterations': 1200, 'learning_rate': 0.032532364424905896, 'random_strength': 7, 'bagging_temperature': 10, 'max_bin': 8, 'grow_policy': 'SymmetricTree', 'max_depth': 7, 'l2_leaf_reg': 90.47412147528497, 'one_hot_max_size': 500, 'auto_class_weights': 'Balanced'}. Best is trial 91 with value: 0.8704345800352724.\u001b[0m\n"
     ]
    },
    {
     "name": "stdout",
     "output_type": "stream",
     "text": [
      "\n",
      "bestTest = 0.440423152\n",
      "bestIteration = 546\n",
      "\n"
     ]
    },
    {
     "data": {
      "application/vnd.jupyter.widget-view+json": {
       "model_id": "f5ec3d08f1e841c6a88791f16537299c",
       "version_major": 2,
       "version_minor": 0
      },
      "text/plain": [
       "MetricVisualizer(layout=Layout(align_self='stretch', height='500px'))"
      ]
     },
     "metadata": {},
     "output_type": "display_data"
    },
    {
     "name": "stdout",
     "output_type": "stream",
     "text": [
      "Training on fold [0/5]\n",
      "\n",
      "bestTest = 0.4539178336\n",
      "bestIteration = 408\n",
      "\n",
      "Training on fold [1/5]\n",
      "\n",
      "bestTest = 0.4625582057\n",
      "bestIteration = 452\n",
      "\n",
      "Training on fold [2/5]\n",
      "\n",
      "bestTest = 0.4507877124\n",
      "bestIteration = 500\n",
      "\n",
      "Training on fold [3/5]\n",
      "\n",
      "bestTest = 0.4531769368\n",
      "bestIteration = 413\n",
      "\n",
      "Training on fold [4/5]\n"
     ]
    },
    {
     "name": "stderr",
     "output_type": "stream",
     "text": [
      "\u001b[32m[I 2022-01-26 19:56:00,997]\u001b[0m Trial 92 finished with value: 0.8694847679540038 and parameters: {'iterations': 1200, 'learning_rate': 0.03308001665223882, 'random_strength': 7, 'bagging_temperature': 10, 'max_bin': 8, 'grow_policy': 'SymmetricTree', 'max_depth': 7, 'l2_leaf_reg': 25.554579585479043, 'one_hot_max_size': 500, 'auto_class_weights': 'Balanced'}. Best is trial 91 with value: 0.8704345800352724.\u001b[0m\n"
     ]
    },
    {
     "name": "stdout",
     "output_type": "stream",
     "text": [
      "\n",
      "bestTest = 0.4425631308\n",
      "bestIteration = 448\n",
      "\n"
     ]
    },
    {
     "data": {
      "application/vnd.jupyter.widget-view+json": {
       "model_id": "92740a64b0bb42f49c6cc6a6f64cc71a",
       "version_major": 2,
       "version_minor": 0
      },
      "text/plain": [
       "MetricVisualizer(layout=Layout(align_self='stretch', height='500px'))"
      ]
     },
     "metadata": {},
     "output_type": "display_data"
    },
    {
     "name": "stdout",
     "output_type": "stream",
     "text": [
      "Training on fold [0/5]\n",
      "\n",
      "bestTest = 0.4524922132\n",
      "bestIteration = 343\n",
      "\n",
      "Training on fold [1/5]\n",
      "\n",
      "bestTest = 0.4605181132\n",
      "bestIteration = 380\n",
      "\n",
      "Training on fold [2/5]\n",
      "\n",
      "bestTest = 0.452861299\n",
      "bestIteration = 369\n",
      "\n",
      "Training on fold [3/5]\n",
      "\n",
      "bestTest = 0.4543793214\n",
      "bestIteration = 364\n",
      "\n",
      "Training on fold [4/5]\n"
     ]
    },
    {
     "name": "stderr",
     "output_type": "stream",
     "text": [
      "\u001b[32m[I 2022-01-26 19:56:16,485]\u001b[0m Trial 93 finished with value: 0.8692459537463831 and parameters: {'iterations': 1200, 'learning_rate': 0.044029906668511, 'random_strength': 7, 'bagging_temperature': 10, 'max_bin': 8, 'grow_policy': 'SymmetricTree', 'max_depth': 6, 'l2_leaf_reg': 26.36604478577444, 'one_hot_max_size': 500, 'auto_class_weights': 'Balanced'}. Best is trial 91 with value: 0.8704345800352724.\u001b[0m\n"
     ]
    },
    {
     "name": "stdout",
     "output_type": "stream",
     "text": [
      "\n",
      "bestTest = 0.4436266493\n",
      "bestIteration = 378\n",
      "\n"
     ]
    },
    {
     "data": {
      "application/vnd.jupyter.widget-view+json": {
       "model_id": "5c0ce034d50c4a83b92d304dcf3c6b04",
       "version_major": 2,
       "version_minor": 0
      },
      "text/plain": [
       "MetricVisualizer(layout=Layout(align_self='stretch', height='500px'))"
      ]
     },
     "metadata": {},
     "output_type": "display_data"
    },
    {
     "name": "stdout",
     "output_type": "stream",
     "text": [
      "Training on fold [0/5]\n",
      "\n",
      "bestTest = 0.4545168027\n",
      "bestIteration = 216\n",
      "\n",
      "Training on fold [1/5]\n",
      "\n",
      "bestTest = 0.4641127077\n",
      "bestIteration = 249\n",
      "\n",
      "Training on fold [2/5]\n",
      "\n",
      "bestTest = 0.4505176263\n",
      "bestIteration = 295\n",
      "\n",
      "Training on fold [3/5]\n",
      "\n",
      "bestTest = 0.4545978738\n",
      "bestIteration = 217\n",
      "\n",
      "Training on fold [4/5]\n"
     ]
    },
    {
     "name": "stderr",
     "output_type": "stream",
     "text": [
      "\u001b[32m[I 2022-01-26 19:56:27,841]\u001b[0m Trial 94 finished with value: 0.8688980900241601 and parameters: {'iterations': 1200, 'learning_rate': 0.06209374759860688, 'random_strength': 7, 'bagging_temperature': 10, 'max_bin': 8, 'grow_policy': 'SymmetricTree', 'max_depth': 7, 'l2_leaf_reg': 13.07652550962233, 'one_hot_max_size': 500, 'auto_class_weights': 'Balanced'}. Best is trial 91 with value: 0.8704345800352724.\u001b[0m\n"
     ]
    },
    {
     "name": "stdout",
     "output_type": "stream",
     "text": [
      "\n",
      "bestTest = 0.4432205927\n",
      "bestIteration = 243\n",
      "\n"
     ]
    },
    {
     "data": {
      "application/vnd.jupyter.widget-view+json": {
       "model_id": "405a030ee8444be48a0d0ed503fa3b17",
       "version_major": 2,
       "version_minor": 0
      },
      "text/plain": [
       "MetricVisualizer(layout=Layout(align_self='stretch', height='500px'))"
      ]
     },
     "metadata": {},
     "output_type": "display_data"
    },
    {
     "name": "stdout",
     "output_type": "stream",
     "text": [
      "Training on fold [0/5]\n",
      "\n",
      "bestTest = 0.4529492334\n",
      "bestIteration = 431\n",
      "\n",
      "Training on fold [1/5]\n",
      "\n",
      "bestTest = 0.460699934\n",
      "bestIteration = 494\n",
      "\n",
      "Training on fold [2/5]\n",
      "\n",
      "bestTest = 0.4521861916\n",
      "bestIteration = 459\n",
      "\n",
      "Training on fold [3/5]\n",
      "\n",
      "bestTest = 0.4526599286\n",
      "bestIteration = 449\n",
      "\n",
      "Training on fold [4/5]\n"
     ]
    },
    {
     "name": "stderr",
     "output_type": "stream",
     "text": [
      "\u001b[32m[I 2022-01-26 19:56:48,551]\u001b[0m Trial 95 finished with value: 0.8695053708893198 and parameters: {'iterations': 1200, 'learning_rate': 0.034848494426571064, 'random_strength': 7, 'bagging_temperature': 10, 'max_bin': 8, 'grow_policy': 'SymmetricTree', 'max_depth': 7, 'l2_leaf_reg': 68.40985294285782, 'one_hot_max_size': 500, 'auto_class_weights': 'Balanced'}. Best is trial 91 with value: 0.8704345800352724.\u001b[0m\n"
     ]
    },
    {
     "name": "stdout",
     "output_type": "stream",
     "text": [
      "\n",
      "bestTest = 0.4437345431\n",
      "bestIteration = 424\n",
      "\n"
     ]
    },
    {
     "data": {
      "application/vnd.jupyter.widget-view+json": {
       "model_id": "c43e1baa1b3a4a1db44f952c2825b77a",
       "version_major": 2,
       "version_minor": 0
      },
      "text/plain": [
       "MetricVisualizer(layout=Layout(align_self='stretch', height='500px'))"
      ]
     },
     "metadata": {},
     "output_type": "display_data"
    },
    {
     "name": "stdout",
     "output_type": "stream",
     "text": [
      "Training on fold [0/5]\n",
      "\n",
      "bestTest = 0.4525681629\n",
      "bestIteration = 412\n",
      "\n",
      "Training on fold [1/5]\n",
      "\n",
      "bestTest = 0.4598514397\n",
      "bestIteration = 464\n",
      "\n",
      "Training on fold [2/5]\n",
      "\n",
      "bestTest = 0.4516444439\n",
      "bestIteration = 473\n",
      "\n",
      "Training on fold [3/5]\n",
      "\n",
      "bestTest = 0.4534785901\n",
      "bestIteration = 421\n",
      "\n",
      "Training on fold [4/5]\n"
     ]
    },
    {
     "name": "stderr",
     "output_type": "stream",
     "text": [
      "\u001b[32m[I 2022-01-26 19:57:09,040]\u001b[0m Trial 96 finished with value: 0.8697541691229131 and parameters: {'iterations': 1200, 'learning_rate': 0.03793066324235663, 'random_strength': 7, 'bagging_temperature': 10, 'max_bin': 5, 'grow_policy': 'SymmetricTree', 'max_depth': 7, 'l2_leaf_reg': 66.01742667719492, 'one_hot_max_size': 500, 'auto_class_weights': 'Balanced'}. Best is trial 91 with value: 0.8704345800352724.\u001b[0m\n"
     ]
    },
    {
     "name": "stdout",
     "output_type": "stream",
     "text": [
      "\n",
      "bestTest = 0.4422524076\n",
      "bestIteration = 457\n",
      "\n"
     ]
    },
    {
     "data": {
      "application/vnd.jupyter.widget-view+json": {
       "model_id": "12ac5061d4b14ed797970096dc383085",
       "version_major": 2,
       "version_minor": 0
      },
      "text/plain": [
       "MetricVisualizer(layout=Layout(align_self='stretch', height='500px'))"
      ]
     },
     "metadata": {},
     "output_type": "display_data"
    },
    {
     "name": "stdout",
     "output_type": "stream",
     "text": [
      "Training on fold [0/5]\n",
      "\n",
      "bestTest = 0.4618162728\n",
      "bestIteration = 222\n",
      "\n",
      "Training on fold [1/5]\n",
      "\n",
      "bestTest = 0.4776775902\n",
      "bestIteration = 233\n",
      "\n",
      "Training on fold [2/5]\n",
      "\n",
      "bestTest = 0.4754296362\n",
      "bestIteration = 125\n",
      "\n",
      "Training on fold [3/5]\n",
      "\n",
      "bestTest = 0.472270464\n",
      "bestIteration = 171\n",
      "\n",
      "Training on fold [4/5]\n"
     ]
    },
    {
     "name": "stderr",
     "output_type": "stream",
     "text": [
      "\u001b[32m[I 2022-01-26 19:57:17,647]\u001b[0m Trial 97 finished with value: 0.8598880635801031 and parameters: {'iterations': 1200, 'learning_rate': 0.052956482898884924, 'random_strength': 7, 'bagging_temperature': 10, 'max_bin': 5, 'grow_policy': 'SymmetricTree', 'max_depth': 6, 'l2_leaf_reg': 0.0020752124699714787, 'one_hot_max_size': 500, 'auto_class_weights': 'Balanced'}. Best is trial 91 with value: 0.8704345800352724.\u001b[0m\n"
     ]
    },
    {
     "name": "stdout",
     "output_type": "stream",
     "text": [
      "\n",
      "bestTest = 0.4558339824\n",
      "bestIteration = 257\n",
      "\n"
     ]
    },
    {
     "data": {
      "application/vnd.jupyter.widget-view+json": {
       "model_id": "15f01808f017496d938d090eae97dec0",
       "version_major": 2,
       "version_minor": 0
      },
      "text/plain": [
       "MetricVisualizer(layout=Layout(align_self='stretch', height='500px'))"
      ]
     },
     "metadata": {},
     "output_type": "display_data"
    },
    {
     "name": "stdout",
     "output_type": "stream",
     "text": [
      "Training on fold [0/5]\n",
      "\n",
      "bestTest = 0.4532451321\n",
      "bestIteration = 367\n",
      "\n",
      "Training on fold [1/5]\n",
      "\n",
      "bestTest = 0.4612227489\n",
      "bestIteration = 470\n",
      "\n",
      "Training on fold [2/5]\n",
      "\n",
      "bestTest = 0.4512155755\n",
      "bestIteration = 421\n",
      "\n",
      "Training on fold [3/5]\n",
      "\n",
      "bestTest = 0.4542924679\n",
      "bestIteration = 394\n",
      "\n",
      "Training on fold [4/5]\n"
     ]
    },
    {
     "name": "stderr",
     "output_type": "stream",
     "text": [
      "\u001b[32m[I 2022-01-26 19:57:37,075]\u001b[0m Trial 98 finished with value: 0.8696888605330567 and parameters: {'iterations': 1200, 'learning_rate': 0.03710013044921778, 'random_strength': 7, 'bagging_temperature': 10, 'max_bin': 5, 'grow_policy': 'SymmetricTree', 'max_depth': 7, 'l2_leaf_reg': 65.73743262580484, 'one_hot_max_size': 500, 'auto_class_weights': 'Balanced'}. Best is trial 91 with value: 0.8704345800352724.\u001b[0m\n"
     ]
    },
    {
     "name": "stdout",
     "output_type": "stream",
     "text": [
      "\n",
      "bestTest = 0.4414140681\n",
      "bestIteration = 490\n",
      "\n"
     ]
    },
    {
     "data": {
      "application/vnd.jupyter.widget-view+json": {
       "model_id": "2a19d7f8f7f047a3add51d0d29019aa5",
       "version_major": 2,
       "version_minor": 0
      },
      "text/plain": [
       "MetricVisualizer(layout=Layout(align_self='stretch', height='500px'))"
      ]
     },
     "metadata": {},
     "output_type": "display_data"
    },
    {
     "name": "stdout",
     "output_type": "stream",
     "text": [
      "Training on fold [0/5]\n",
      "\n",
      "bestTest = 0.4984909105\n",
      "bestIteration = 54\n",
      "\n",
      "Training on fold [1/5]\n",
      "\n",
      "bestTest = 0.5041752766\n",
      "bestIteration = 43\n",
      "\n",
      "Training on fold [2/5]\n",
      "\n",
      "bestTest = 0.4985493437\n",
      "bestIteration = 43\n",
      "\n",
      "Training on fold [3/5]\n",
      "\n",
      "bestTest = 0.5047506632\n",
      "bestIteration = 31\n",
      "\n",
      "Training on fold [4/5]\n"
     ]
    },
    {
     "name": "stderr",
     "output_type": "stream",
     "text": [
      "\u001b[32m[I 2022-01-26 19:57:40,017]\u001b[0m Trial 99 finished with value: 0.8401642240822543 and parameters: {'iterations': 1200, 'learning_rate': 0.08562847835370065, 'random_strength': 8, 'bagging_temperature': 10, 'max_bin': 5, 'grow_policy': 'SymmetricTree', 'max_depth': 8, 'l2_leaf_reg': 2.2732577795359755e-08, 'one_hot_max_size': 500, 'auto_class_weights': 'Balanced'}. Best is trial 91 with value: 0.8704345800352724.\u001b[0m\n"
     ]
    },
    {
     "name": "stdout",
     "output_type": "stream",
     "text": [
      "\n",
      "bestTest = 0.4976027044\n",
      "bestIteration = 46\n",
      "\n"
     ]
    }
   ],
   "source": [
    "sampler = optuna.samplers.TPESampler(seed=68)\n",
    "study2 = optuna.create_study(direction=\"maximize\", sampler=sampler)\n",
    "study2.optimize(objective2, n_trials=100)"
   ]
  },
  {
   "cell_type": "code",
   "execution_count": 77,
   "metadata": {},
   "outputs": [
    {
     "name": "stdout",
     "output_type": "stream",
     "text": [
      "Number of finished trials: 100\n",
      "Best trial:\n",
      "  Value: 0.8704345800352724\n",
      "  Params: \n",
      "    iterations=1200,\n",
      "    learning_rate=0.032532364424905896,\n",
      "    random_strength=7,\n",
      "    bagging_temperature=10,\n",
      "    max_bin=8,\n",
      "    grow_policy=SymmetricTree,\n",
      "    max_depth=7,\n",
      "    l2_leaf_reg=90.47412147528497,\n",
      "    one_hot_max_size=500,\n",
      "    auto_class_weights=Balanced,\n"
     ]
    }
   ],
   "source": [
    "print(\"Number of finished trials: {}\".format(len(study2.trials)))\n",
    "print(\"Best trial:\")\n",
    "trial2 = study2.best_trial\n",
    "print(\"  Value: {}\".format(trial2.value))\n",
    "print(\"  Params: \")\n",
    "for key, value in trial2.params.items():\n",
    "    print(\"    {}={},\".format(key, value))\n"
   ]
  },
  {
   "cell_type": "code",
   "execution_count": 120,
   "metadata": {},
   "outputs": [],
   "source": [
    "params2 = {'iterations':1200,\n",
    "         'learning_rate':0.032532364424905896,\n",
    "         'cat_features': categorical_features_indices,\n",
    "         'random_strength':7,\n",
    "         'depth':7,\n",
    "         'max_bin':8,\n",
    "         'grow_policy':'SymmetricTree',\n",
    "         'l2_leaf_reg':90.47412147528497,\n",
    "         'bagging_temperature':10,\n",
    "         'one_hot_max_size':500,\n",
    "         'eval_metric':'AUC',\n",
    "         'auto_class_weights':'Balanced',\n",
    "         'verbose':False,\n",
    "         }"
   ]
  },
  {
   "cell_type": "code",
   "execution_count": 121,
   "metadata": {},
   "outputs": [],
   "source": [
    "best_model_seasonal = CatBoostClassifier(**params2)"
   ]
  },
  {
   "cell_type": "code",
   "execution_count": 123,
   "metadata": {},
   "outputs": [
    {
     "data": {
      "application/vnd.jupyter.widget-view+json": {
       "model_id": "f2d6ed0f259b4563bd92bd3d36cfb0a3",
       "version_major": 2,
       "version_minor": 0
      },
      "text/plain": [
       "MetricVisualizer(layout=Layout(align_self='stretch', height='500px'))"
      ]
     },
     "metadata": {},
     "output_type": "display_data"
    }
   ],
   "source": [
    "best_model_seasonal.fit(X_train, y_train.seasonal_vaccine, eval_set=(X_test, y_test.seasonal_vaccine), use_best_model=True, plot=True);"
   ]
  },
  {
   "cell_type": "code",
   "execution_count": 124,
   "metadata": {},
   "outputs": [],
   "source": [
    "best_pred_seasonal = best_model_seasonal.predict_proba(X_test)"
   ]
  },
  {
   "cell_type": "code",
   "execution_count": 125,
   "metadata": {},
   "outputs": [],
   "source": [
    "best_pred_seasonal = best_pred_seasonal[:,1].reshape(-1,1)"
   ]
  },
  {
   "cell_type": "code",
   "execution_count": 126,
   "metadata": {},
   "outputs": [
    {
     "data": {
      "text/plain": [
       "0.8589579630039855"
      ]
     },
     "execution_count": 126,
     "metadata": {},
     "output_type": "execute_result"
    }
   ],
   "source": [
    "roc_auc_score(y_test.seasonal_vaccine, best_pred_seasonal)"
   ]
  },
  {
   "cell_type": "code",
   "execution_count": 78,
   "metadata": {},
   "outputs": [],
   "source": [
    "final_model_se = CatBoostClassifier(verbose=False,  cat_features=categorical_features_indices, **trial2.params)"
   ]
  },
  {
   "cell_type": "code",
   "execution_count": 79,
   "metadata": {},
   "outputs": [
    {
     "data": {
      "text/plain": [
       "<catboost.core.CatBoostClassifier at 0x1b89382a280>"
      ]
     },
     "execution_count": 79,
     "metadata": {},
     "output_type": "execute_result"
    }
   ],
   "source": [
    "final_model_se.fit(X_train, y_train.seasonal_vaccine)"
   ]
  },
  {
   "cell_type": "code",
   "execution_count": 80,
   "metadata": {},
   "outputs": [],
   "source": [
    "predictions_se = final_model_se.predict_proba(X_test)"
   ]
  },
  {
   "cell_type": "code",
   "execution_count": 81,
   "metadata": {},
   "outputs": [],
   "source": [
    "predictions_se = predictions_se[:,1].reshape(-1,1)"
   ]
  },
  {
   "cell_type": "code",
   "execution_count": 82,
   "metadata": {},
   "outputs": [
    {
     "data": {
      "text/plain": [
       "0.8584381961966614"
      ]
     },
     "execution_count": 82,
     "metadata": {},
     "output_type": "execute_result"
    }
   ],
   "source": [
    "roc_auc_score(y_test.seasonal_vaccine, predictions_se)"
   ]
  },
  {
   "cell_type": "code",
   "execution_count": 127,
   "metadata": {},
   "outputs": [
    {
     "data": {
      "image/png": "[encoded data removed]",
      "text/plain": [
       "<Figure size 432x288 with 2 Axes>"
      ]
     },
     "metadata": {
      "needs_background": "light"
     },
     "output_type": "display_data"
    }
   ],
   "source": [
    "plot_confusion_matrix(best_model_seasonal, X_test, y_test.seasonal_vaccine)  \n",
    "plt.show();"
   ]
  },
  {
   "cell_type": "code",
   "execution_count": 85,
   "metadata": {},
   "outputs": [],
   "source": [
    "def plot_roc(y_true, y_score, label_name, ax):\n",
    "    fpr, tpr, thresholds = roc_curve(y_true, y_score)\n",
    "    ax.plot(fpr, tpr)\n",
    "    ax.plot([0, 1], [0, 1], color='grey', linestyle='--')\n",
    "    ax.set_ylabel('TPR')\n",
    "    ax.set_xlabel('FPR')\n",
    "    ax.set_title(\n",
    "        f\"{label_name}: AUC = {roc_auc_score(y_true, y_score):.4f}\"\n",
    "    )"
   ]
  },
  {
   "cell_type": "code",
   "execution_count": 128,
   "metadata": {},
   "outputs": [
    {
     "data": {
      "image/png": "[encoded data removed]",
      "text/plain": [
       "<Figure size 720x576 with 1 Axes>"
      ]
     },
     "metadata": {
      "needs_background": "light"
     },
     "output_type": "display_data"
    }
   ],
   "source": [
    "fig, ax = plt.subplots(1, 1, figsize=(10, 8))\n",
    "plot_roc(\n",
    "    y_test['seasonal_vaccine'], \n",
    "    best_pred_seasonal, \n",
    "    'seasonal_vaccine',\n",
    "    ax=ax\n",
    ")"
   ]
  },
  {
   "cell_type": "markdown",
   "metadata": {},
   "source": [
    "# Combined Score"
   ]
  },
  {
   "cell_type": "code",
   "execution_count": 129,
   "metadata": {},
   "outputs": [
    {
     "data": {
      "text/plain": [
       "0.8646246832957118"
      ]
     },
     "execution_count": 129,
     "metadata": {},
     "output_type": "execute_result"
    }
   ],
   "source": [
    "roc_auc_score(y_test, np.hstack((best_pred_h1n1, best_pred_seasonal)))"
   ]
  },
  {
   "cell_type": "markdown",
   "metadata": {},
   "source": [
    "# Training on Full Dataset"
   ]
  },
  {
   "cell_type": "code",
   "execution_count": 131,
   "metadata": {},
   "outputs": [],
   "source": [
    "test = pd.read_csv('data/test_set_features.csv', index_col='respondent_id')"
   ]
  },
  {
   "cell_type": "markdown",
   "metadata": {},
   "source": [
    "### Seasonal Vaccine"
   ]
  },
  {
   "cell_type": "code",
   "execution_count": 158,
   "metadata": {},
   "outputs": [
    {
     "data": {
      "text/plain": [
       "<catboost.core.CatBoostClassifier at 0x1b89382a280>"
      ]
     },
     "execution_count": 158,
     "metadata": {},
     "output_type": "execute_result"
    }
   ],
   "source": [
    "final_model_se.fit(train, labels.seasonal_vaccine)"
   ]
  },
  {
   "cell_type": "code",
   "execution_count": 159,
   "metadata": {},
   "outputs": [],
   "source": [
    "final_se = final_model_se.predict_proba(test)"
   ]
  },
  {
   "cell_type": "code",
   "execution_count": 160,
   "metadata": {},
   "outputs": [],
   "source": [
    "final_se = final_se[:,1].reshape(-1,1)"
   ]
  },
  {
   "cell_type": "markdown",
   "metadata": {},
   "source": [
    "### H1N1 Vaccine"
   ]
  },
  {
   "cell_type": "code",
   "execution_count": 174,
   "metadata": {},
   "outputs": [
    {
     "data": {
      "text/plain": [
       "<catboost.core.CatBoostClassifier at 0x1b8aab3c040>"
      ]
     },
     "execution_count": 174,
     "metadata": {},
     "output_type": "execute_result"
    }
   ],
   "source": [
    "best_model_h1n1.fit(train, labels.h1n1_vaccine)"
   ]
  },
  {
   "cell_type": "code",
   "execution_count": 175,
   "metadata": {},
   "outputs": [],
   "source": [
    "final_h1 = best_model_h1n1.predict_proba(test)"
   ]
  },
  {
   "cell_type": "code",
   "execution_count": 176,
   "metadata": {},
   "outputs": [],
   "source": [
    "final_h1 = final_h1[:,1].reshape(-1,1)"
   ]
  },
  {
   "cell_type": "code",
   "execution_count": 177,
   "metadata": {},
   "outputs": [
    {
     "data": {
      "text/plain": [
       "array([[0.25053203],\n",
       "       [0.1142332 ],\n",
       "       [0.45748366],\n",
       "       ...,\n",
       "       [0.35376134],\n",
       "       [0.04398293],\n",
       "       [0.83337339]])"
      ]
     },
     "execution_count": 177,
     "metadata": {},
     "output_type": "execute_result"
    }
   ],
   "source": [
    "final_h1"
   ]
  },
  {
   "cell_type": "markdown",
   "metadata": {},
   "source": [
    "### For competition use"
   ]
  },
  {
   "cell_type": "code",
   "execution_count": 164,
   "metadata": {},
   "outputs": [],
   "source": [
    "submission_df = pd.read_csv('data/submission_format.csv', index_col='respondent_id')"
   ]
  },
  {
   "cell_type": "code",
   "execution_count": 165,
   "metadata": {},
   "outputs": [],
   "source": [
    "np.testing.assert_array_equal(test.index.values, submission_df.index.values)"
   ]
  },
  {
   "cell_type": "code",
   "execution_count": 166,
   "metadata": {},
   "outputs": [
    {
     "data": {
      "text/html": [
       "<div>\n",
       "<style scoped>\n",
       "    .dataframe tbody tr th:only-of-type {\n",
       "        vertical-align: middle;\n",
       "    }\n",
       "\n",
       "    .dataframe tbody tr th {\n",
       "        vertical-align: top;\n",
       "    }\n",
       "\n",
       "    .dataframe thead th {\n",
       "        text-align: right;\n",
       "    }\n",
       "</style>\n",
       "<table border=\"1\" class=\"dataframe\">\n",
       "  <thead>\n",
       "    <tr style=\"text-align: right;\">\n",
       "      <th></th>\n",
       "      <th>h1n1_vaccine</th>\n",
       "      <th>seasonal_vaccine</th>\n",
       "    </tr>\n",
       "    <tr>\n",
       "      <th>respondent_id</th>\n",
       "      <th></th>\n",
       "      <th></th>\n",
       "    </tr>\n",
       "  </thead>\n",
       "  <tbody>\n",
       "    <tr>\n",
       "      <th>26707</th>\n",
       "      <td>0.5</td>\n",
       "      <td>0.7</td>\n",
       "    </tr>\n",
       "    <tr>\n",
       "      <th>26708</th>\n",
       "      <td>0.5</td>\n",
       "      <td>0.7</td>\n",
       "    </tr>\n",
       "    <tr>\n",
       "      <th>26709</th>\n",
       "      <td>0.5</td>\n",
       "      <td>0.7</td>\n",
       "    </tr>\n",
       "    <tr>\n",
       "      <th>26710</th>\n",
       "      <td>0.5</td>\n",
       "      <td>0.7</td>\n",
       "    </tr>\n",
       "    <tr>\n",
       "      <th>26711</th>\n",
       "      <td>0.5</td>\n",
       "      <td>0.7</td>\n",
       "    </tr>\n",
       "    <tr>\n",
       "      <th>...</th>\n",
       "      <td>...</td>\n",
       "      <td>...</td>\n",
       "    </tr>\n",
       "    <tr>\n",
       "      <th>53410</th>\n",
       "      <td>0.5</td>\n",
       "      <td>0.7</td>\n",
       "    </tr>\n",
       "    <tr>\n",
       "      <th>53411</th>\n",
       "      <td>0.5</td>\n",
       "      <td>0.7</td>\n",
       "    </tr>\n",
       "    <tr>\n",
       "      <th>53412</th>\n",
       "      <td>0.5</td>\n",
       "      <td>0.7</td>\n",
       "    </tr>\n",
       "    <tr>\n",
       "      <th>53413</th>\n",
       "      <td>0.5</td>\n",
       "      <td>0.7</td>\n",
       "    </tr>\n",
       "    <tr>\n",
       "      <th>53414</th>\n",
       "      <td>0.5</td>\n",
       "      <td>0.7</td>\n",
       "    </tr>\n",
       "  </tbody>\n",
       "</table>\n",
       "<p>26708 rows × 2 columns</p>\n",
       "</div>"
      ],
      "text/plain": [
       "               h1n1_vaccine  seasonal_vaccine\n",
       "respondent_id                                \n",
       "26707                   0.5               0.7\n",
       "26708                   0.5               0.7\n",
       "26709                   0.5               0.7\n",
       "26710                   0.5               0.7\n",
       "26711                   0.5               0.7\n",
       "...                     ...               ...\n",
       "53410                   0.5               0.7\n",
       "53411                   0.5               0.7\n",
       "53412                   0.5               0.7\n",
       "53413                   0.5               0.7\n",
       "53414                   0.5               0.7\n",
       "\n",
       "[26708 rows x 2 columns]"
      ]
     },
     "execution_count": 166,
     "metadata": {},
     "output_type": "execute_result"
    }
   ],
   "source": [
    "submission_df"
   ]
  },
  {
   "cell_type": "code",
   "execution_count": 167,
   "metadata": {},
   "outputs": [
    {
     "data": {
      "text/html": [
       "<div>\n",
       "<style scoped>\n",
       "    .dataframe tbody tr th:only-of-type {\n",
       "        vertical-align: middle;\n",
       "    }\n",
       "\n",
       "    .dataframe tbody tr th {\n",
       "        vertical-align: top;\n",
       "    }\n",
       "\n",
       "    .dataframe thead th {\n",
       "        text-align: right;\n",
       "    }\n",
       "</style>\n",
       "<table border=\"1\" class=\"dataframe\">\n",
       "  <thead>\n",
       "    <tr style=\"text-align: right;\">\n",
       "      <th></th>\n",
       "      <th>h1n1_vaccine</th>\n",
       "      <th>seasonal_vaccine</th>\n",
       "    </tr>\n",
       "    <tr>\n",
       "      <th>respondent_id</th>\n",
       "      <th></th>\n",
       "      <th></th>\n",
       "    </tr>\n",
       "  </thead>\n",
       "  <tbody>\n",
       "    <tr>\n",
       "      <th>26707</th>\n",
       "      <td>0.250532</td>\n",
       "      <td>0.273941</td>\n",
       "    </tr>\n",
       "    <tr>\n",
       "      <th>26708</th>\n",
       "      <td>0.114233</td>\n",
       "      <td>0.035429</td>\n",
       "    </tr>\n",
       "    <tr>\n",
       "      <th>26709</th>\n",
       "      <td>0.457484</td>\n",
       "      <td>0.764687</td>\n",
       "    </tr>\n",
       "    <tr>\n",
       "      <th>26710</th>\n",
       "      <td>0.824761</td>\n",
       "      <td>0.902444</td>\n",
       "    </tr>\n",
       "    <tr>\n",
       "      <th>26711</th>\n",
       "      <td>0.524087</td>\n",
       "      <td>0.508311</td>\n",
       "    </tr>\n",
       "  </tbody>\n",
       "</table>\n",
       "</div>"
      ],
      "text/plain": [
       "               h1n1_vaccine  seasonal_vaccine\n",
       "respondent_id                                \n",
       "26707              0.250532          0.273941\n",
       "26708              0.114233          0.035429\n",
       "26709              0.457484          0.764687\n",
       "26710              0.824761          0.902444\n",
       "26711              0.524087          0.508311"
      ]
     },
     "execution_count": 167,
     "metadata": {},
     "output_type": "execute_result"
    }
   ],
   "source": [
    "submission_df[\"h1n1_vaccine\"] = final_h1\n",
    "submission_df[\"seasonal_vaccine\"] = final_se\n",
    "\n",
    "submission_df.head()"
   ]
  },
  {
   "cell_type": "code",
   "execution_count": 151,
   "metadata": {},
   "outputs": [],
   "source": [
    "date = pd.Timestamp.now().strftime(format='%Y-%m-%d_%H-%M_')\n",
    "submission_df.to_csv(f'./{date}submssion_catboost_optuna.csv', index=True)"
   ]
  },
  {
   "cell_type": "code",
   "execution_count": 156,
   "metadata": {},
   "outputs": [],
   "source": [
    "import pickle\n",
    "filepath = 'data/models/Catboost_Optuna/h1n1/model_1.pickl'\n",
    "pickle.dump(best_model_h1n1, open(filepath, 'wb'))"
   ]
  },
  {
   "cell_type": "code",
   "execution_count": 157,
   "metadata": {},
   "outputs": [],
   "source": [
    "filepath = 'data/models/Catboost_Optuna/seasonal/model_1.pickl'\n",
    "pickle.dump(best_model_seasonal, open(filepath, 'wb'))"
   ]
  },
  {
   "cell_type": "code",
   "execution_count": null,
   "metadata": {},
   "outputs": [],
   "source": []
  }
 ],
 "metadata": {
  "kernelspec": {
   "display_name": "Python (learn-env)",
   "language": "python",
   "name": "learn-env"
  },
  "language_info": {
   "codemirror_mode": {
    "name": "ipython",
    "version": 3
   },
   "file_extension": ".py",
   "mimetype": "text/x-python",
   "name": "python",
   "nbconvert_exporter": "python",
   "pygments_lexer": "ipython3",
   "version": "3.8.5"
  }
 },
 "nbformat": 4,
 "nbformat_minor": 4
}
